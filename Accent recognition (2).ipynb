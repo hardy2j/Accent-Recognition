{
 "cells": [
  {
   "cell_type": "code",
   "execution_count": 2,
   "metadata": {},
   "outputs": [],
   "source": [
    "import numpy as np\n",
    "import pandas as pd\n",
    "import matplotlib.pyplot as plt\n",
    "%matplotlib inline\n",
    "import os\n",
    "import librosa\n",
    "from scipy.io import wavfile\n",
    "import wave\n",
    "from python_speech_features import mfcc,get_filterbanks,logfbank\n",
    "import keras\n",
    "from keras.utils import to_categorical\n",
    "from pydub import AudioSegment\n",
    "from tqdm import tqdm\n",
    "import IPython.display as ipd\n",
    "import librosa.display\n",
    "from keras.preprocessing.sequence import pad_sequences\n",
    "import random\n",
    "from keras.models import Model,Sequential\n",
    "from keras.layers import Conv2D,MaxPool2D,Flatten,Dense,Dropout"
   ]
  },
  {
   "cell_type": "code",
   "execution_count": 3,
   "metadata": {},
   "outputs": [],
   "source": [
    "path=r\"C:\\Users\\Hard Parikh\\Desktop\\speech-accent-archive\"\n",
    "sound_files=[]\n",
    "for root,dirs,files in os.walk(path):\n",
    "    for file in files:\n",
    "        x=root+'\\\\'+file\n",
    "        sound_files.append(x)"
   ]
  },
  {
   "cell_type": "code",
   "execution_count": 4,
   "metadata": {},
   "outputs": [],
   "source": [
    "sound_files=sound_files[2:]"
   ]
  },
  {
   "cell_type": "code",
   "execution_count": 5,
   "metadata": {},
   "outputs": [
    {
     "data": {
      "text/plain": [
       "2137"
      ]
     },
     "execution_count": 5,
     "metadata": {},
     "output_type": "execute_result"
    }
   ],
   "source": [
    "len(sound_files)"
   ]
  },
  {
   "cell_type": "code",
   "execution_count": 6,
   "metadata": {},
   "outputs": [],
   "source": [
    "labels=[]\n",
    "for i in range(len(sound_files)):\n",
    "    labels.append(sound_files[i].replace('C:\\\\Users\\\\Hard Parikh\\\\Desktop\\\\speech-accent-archive\\\\recordings\\\\recordings\\\\','').split('.')[0])"
   ]
  },
  {
   "cell_type": "code",
   "execution_count": 7,
   "metadata": {},
   "outputs": [],
   "source": [
    "cleaned_labels=[]\n",
    "for x in range(len(labels)):\n",
    "    cleaned=''.join([i for i in labels[x] if not i.isdigit()])\n",
    "    cleaned_labels.append(cleaned)"
   ]
  },
  {
   "cell_type": "code",
   "execution_count": 8,
   "metadata": {},
   "outputs": [],
   "source": [
    "counts={}\n",
    "numbers=[]\n",
    "for i in np.unique(cleaned_labels):\n",
    "    count=cleaned_labels.count(i)\n",
    "    counts[i]=count\n",
    "    numbers.append((count,i))"
   ]
  },
  {
   "cell_type": "code",
   "execution_count": 9,
   "metadata": {},
   "outputs": [],
   "source": [
    "numbers.sort()"
   ]
  },
  {
   "cell_type": "code",
   "execution_count": 10,
   "metadata": {},
   "outputs": [
    {
     "data": {
      "text/plain": [
       "[(52, 'korean'),\n",
       " (63, 'french'),\n",
       " (65, 'mandarin'),\n",
       " (102, 'arabic'),\n",
       " (162, 'spanish'),\n",
       " (579, 'english')]"
      ]
     },
     "execution_count": 10,
     "metadata": {},
     "output_type": "execute_result"
    }
   ],
   "source": [
    "numbers[-6:]"
   ]
  },
  {
   "cell_type": "code",
   "execution_count": 65,
   "metadata": {},
   "outputs": [],
   "source": [
    "korean=[]\n",
    "french=[]\n",
    "mandarin=[]\n",
    "arabic=[]\n",
    "spanish=[]\n",
    "english=[]\n",
    "for i in sound_files:\n",
    "    if(i.find('korean')!=-1):\n",
    "        if(len(korean)<50):\n",
    "            korean.append((i,'korean'))\n",
    "    elif(i.find('french')!=-1):\n",
    "        if(len(french)<50):\n",
    "            french.append((i,'french'))\n",
    "    elif(i.find('mandarin')!=-1):\n",
    "        if(len(mandarin)<50):\n",
    "            mandarin.append((i,'mandarin'))\n",
    "    elif(i.find('arabic')!=-1):\n",
    "        if(len(arabic)<50):\n",
    "            arabic.append((i,'arabic'))\n",
    "    elif(i.find('spanish')!=-1):\n",
    "        if(len(spanish)<50):\n",
    "            spanish.append((i,'spanish'))\n",
    "    elif(i.find('english')!=-1):\n",
    "        if(len(english)<50):\n",
    "            english.append((i,'english'))"
   ]
  },
  {
   "cell_type": "code",
   "execution_count": 66,
   "metadata": {},
   "outputs": [],
   "source": [
    "combo=korean+french+mandarin+arabic+spanish+english"
   ]
  },
  {
   "cell_type": "code",
   "execution_count": 67,
   "metadata": {},
   "outputs": [
    {
     "data": {
      "text/plain": [
       "'C:\\\\Users\\\\Hard Parikh\\\\Desktop\\\\speech-accent-archive\\\\recordings\\\\recordings\\\\korean1.mp3'"
      ]
     },
     "execution_count": 67,
     "metadata": {},
     "output_type": "execute_result"
    }
   ],
   "source": [
    "combo[0][0]"
   ]
  },
  {
   "cell_type": "code",
   "execution_count": 68,
   "metadata": {},
   "outputs": [],
   "source": [
    "x=[]\n",
    "y=[]\n",
    "for i in combo:\n",
    "    x.append(i[0])\n",
    "    y.append(i[1])"
   ]
  },
  {
   "cell_type": "code",
   "execution_count": 69,
   "metadata": {},
   "outputs": [],
   "source": [
    "encoded_y=[]\n",
    "for i in y:\n",
    "    if(i=='korean'):\n",
    "        encoded_y.append(0)\n",
    "    elif(i=='french'):\n",
    "        encoded_y.append(1)\n",
    "    elif(i=='mandarin'):\n",
    "        encoded_y.append(2)\n",
    "    elif(i=='arabic'):\n",
    "        encoded_y.append(3)\n",
    "    elif(i=='spanish'):\n",
    "        encoded_y.append(4)\n",
    "    elif(i=='english'):\n",
    "        encoded_y.append(5)"
   ]
  },
  {
   "cell_type": "code",
   "execution_count": 70,
   "metadata": {},
   "outputs": [
    {
     "data": {
      "text/plain": [
       "300"
      ]
     },
     "execution_count": 70,
     "metadata": {},
     "output_type": "execute_result"
    }
   ],
   "source": [
    "len(encoded_y)"
   ]
  },
  {
   "cell_type": "code",
   "execution_count": 71,
   "metadata": {},
   "outputs": [],
   "source": [
    "Y=to_categorical(encoded_y)"
   ]
  },
  {
   "cell_type": "code",
   "execution_count": 18,
   "metadata": {},
   "outputs": [
    {
     "name": "stderr",
     "output_type": "stream",
     "text": [
      "  0%|          | 0/300 [00:00<?, ?it/s]"
     ]
    },
    {
     "name": "stdout",
     "output_type": "stream",
     "text": [
      "C:\\Users\\Hard Parikh\\Desktop\\speech-accent-archive\\recordings\\recordings\\korean1.mp3\n"
     ]
    },
    {
     "name": "stderr",
     "output_type": "stream",
     "text": [
      "  0%|          | 1/300 [00:00<00:55,  5.38it/s]"
     ]
    },
    {
     "name": "stdout",
     "output_type": "stream",
     "text": [
      "C:\\Users\\Hard Parikh\\Desktop\\speech-accent-archive\\recordings\\recordings\\korean10.mp3\n"
     ]
    },
    {
     "name": "stderr",
     "output_type": "stream",
     "text": [
      "  1%|          | 2/300 [00:00<00:52,  5.67it/s]"
     ]
    },
    {
     "name": "stdout",
     "output_type": "stream",
     "text": [
      "C:\\Users\\Hard Parikh\\Desktop\\speech-accent-archive\\recordings\\recordings\\korean11.mp3\n"
     ]
    },
    {
     "name": "stderr",
     "output_type": "stream",
     "text": [
      "  1%|          | 3/300 [00:00<00:47,  6.25it/s]"
     ]
    },
    {
     "name": "stdout",
     "output_type": "stream",
     "text": [
      "C:\\Users\\Hard Parikh\\Desktop\\speech-accent-archive\\recordings\\recordings\\korean12.mp3\n"
     ]
    },
    {
     "name": "stderr",
     "output_type": "stream",
     "text": [
      "  1%|▏         | 4/300 [00:00<00:45,  6.50it/s]"
     ]
    },
    {
     "name": "stdout",
     "output_type": "stream",
     "text": [
      "C:\\Users\\Hard Parikh\\Desktop\\speech-accent-archive\\recordings\\recordings\\korean13.mp3\n"
     ]
    },
    {
     "name": "stderr",
     "output_type": "stream",
     "text": [
      "  2%|▏         | 5/300 [00:00<00:45,  6.53it/s]"
     ]
    },
    {
     "name": "stdout",
     "output_type": "stream",
     "text": [
      "C:\\Users\\Hard Parikh\\Desktop\\speech-accent-archive\\recordings\\recordings\\korean14.mp3\n"
     ]
    },
    {
     "name": "stderr",
     "output_type": "stream",
     "text": [
      "  2%|▏         | 6/300 [00:00<00:41,  7.15it/s]"
     ]
    },
    {
     "name": "stdout",
     "output_type": "stream",
     "text": [
      "C:\\Users\\Hard Parikh\\Desktop\\speech-accent-archive\\recordings\\recordings\\korean15.mp3\n"
     ]
    },
    {
     "name": "stderr",
     "output_type": "stream",
     "text": [
      "  2%|▏         | 7/300 [00:01<00:42,  6.82it/s]"
     ]
    },
    {
     "name": "stdout",
     "output_type": "stream",
     "text": [
      "C:\\Users\\Hard Parikh\\Desktop\\speech-accent-archive\\recordings\\recordings\\korean16.mp3\n"
     ]
    },
    {
     "name": "stderr",
     "output_type": "stream",
     "text": [
      "  3%|▎         | 8/300 [00:01<00:42,  6.93it/s]"
     ]
    },
    {
     "name": "stdout",
     "output_type": "stream",
     "text": [
      "C:\\Users\\Hard Parikh\\Desktop\\speech-accent-archive\\recordings\\recordings\\korean17.mp3\n"
     ]
    },
    {
     "name": "stderr",
     "output_type": "stream",
     "text": [
      "  3%|▎         | 9/300 [00:01<00:42,  6.80it/s]"
     ]
    },
    {
     "name": "stdout",
     "output_type": "stream",
     "text": [
      "C:\\Users\\Hard Parikh\\Desktop\\speech-accent-archive\\recordings\\recordings\\korean18.mp3\n"
     ]
    },
    {
     "name": "stderr",
     "output_type": "stream",
     "text": [
      "  3%|▎         | 10/300 [00:01<00:41,  6.95it/s]"
     ]
    },
    {
     "name": "stdout",
     "output_type": "stream",
     "text": [
      "C:\\Users\\Hard Parikh\\Desktop\\speech-accent-archive\\recordings\\recordings\\korean19.mp3\n"
     ]
    },
    {
     "name": "stderr",
     "output_type": "stream",
     "text": [
      "  4%|▎         | 11/300 [00:01<00:42,  6.88it/s]"
     ]
    },
    {
     "name": "stdout",
     "output_type": "stream",
     "text": [
      "C:\\Users\\Hard Parikh\\Desktop\\speech-accent-archive\\recordings\\recordings\\korean2.mp3\n"
     ]
    },
    {
     "name": "stderr",
     "output_type": "stream",
     "text": [
      "  4%|▍         | 12/300 [00:01<00:40,  7.12it/s]"
     ]
    },
    {
     "name": "stdout",
     "output_type": "stream",
     "text": [
      "C:\\Users\\Hard Parikh\\Desktop\\speech-accent-archive\\recordings\\recordings\\korean20.mp3\n"
     ]
    },
    {
     "name": "stderr",
     "output_type": "stream",
     "text": [
      "  4%|▍         | 13/300 [00:01<00:38,  7.42it/s]"
     ]
    },
    {
     "name": "stdout",
     "output_type": "stream",
     "text": [
      "C:\\Users\\Hard Parikh\\Desktop\\speech-accent-archive\\recordings\\recordings\\korean21.mp3\n"
     ]
    },
    {
     "name": "stderr",
     "output_type": "stream",
     "text": [
      "  5%|▍         | 14/300 [00:01<00:38,  7.51it/s]"
     ]
    },
    {
     "name": "stdout",
     "output_type": "stream",
     "text": [
      "C:\\Users\\Hard Parikh\\Desktop\\speech-accent-archive\\recordings\\recordings\\korean22.mp3\n"
     ]
    },
    {
     "name": "stderr",
     "output_type": "stream",
     "text": [
      "  5%|▌         | 15/300 [00:02<00:36,  7.90it/s]"
     ]
    },
    {
     "name": "stdout",
     "output_type": "stream",
     "text": [
      "C:\\Users\\Hard Parikh\\Desktop\\speech-accent-archive\\recordings\\recordings\\korean23.mp3\n"
     ]
    },
    {
     "name": "stderr",
     "output_type": "stream",
     "text": [
      "  5%|▌         | 16/300 [00:02<00:37,  7.51it/s]"
     ]
    },
    {
     "name": "stdout",
     "output_type": "stream",
     "text": [
      "C:\\Users\\Hard Parikh\\Desktop\\speech-accent-archive\\recordings\\recordings\\korean24.mp3\n"
     ]
    },
    {
     "name": "stderr",
     "output_type": "stream",
     "text": [
      "  6%|▌         | 17/300 [00:02<00:37,  7.56it/s]"
     ]
    },
    {
     "name": "stdout",
     "output_type": "stream",
     "text": [
      "C:\\Users\\Hard Parikh\\Desktop\\speech-accent-archive\\recordings\\recordings\\korean25.mp3\n"
     ]
    },
    {
     "name": "stderr",
     "output_type": "stream",
     "text": [
      "  6%|▌         | 18/300 [00:02<00:39,  7.18it/s]"
     ]
    },
    {
     "name": "stdout",
     "output_type": "stream",
     "text": [
      "C:\\Users\\Hard Parikh\\Desktop\\speech-accent-archive\\recordings\\recordings\\korean26.mp3\n"
     ]
    },
    {
     "name": "stderr",
     "output_type": "stream",
     "text": [
      "  6%|▋         | 19/300 [00:02<00:37,  7.41it/s]"
     ]
    },
    {
     "name": "stdout",
     "output_type": "stream",
     "text": [
      "C:\\Users\\Hard Parikh\\Desktop\\speech-accent-archive\\recordings\\recordings\\korean27.mp3\n"
     ]
    },
    {
     "name": "stderr",
     "output_type": "stream",
     "text": [
      "  7%|▋         | 20/300 [00:02<00:39,  7.16it/s]"
     ]
    },
    {
     "name": "stdout",
     "output_type": "stream",
     "text": [
      "C:\\Users\\Hard Parikh\\Desktop\\speech-accent-archive\\recordings\\recordings\\korean28.mp3\n"
     ]
    },
    {
     "name": "stderr",
     "output_type": "stream",
     "text": [
      "  7%|▋         | 21/300 [00:02<00:43,  6.46it/s]"
     ]
    },
    {
     "name": "stdout",
     "output_type": "stream",
     "text": [
      "C:\\Users\\Hard Parikh\\Desktop\\speech-accent-archive\\recordings\\recordings\\korean29.mp3\n"
     ]
    },
    {
     "name": "stderr",
     "output_type": "stream",
     "text": [
      "  7%|▋         | 22/300 [00:03<00:39,  7.08it/s]"
     ]
    },
    {
     "name": "stdout",
     "output_type": "stream",
     "text": [
      "C:\\Users\\Hard Parikh\\Desktop\\speech-accent-archive\\recordings\\recordings\\korean3.mp3\n"
     ]
    },
    {
     "name": "stderr",
     "output_type": "stream",
     "text": [
      "  8%|▊         | 23/300 [00:03<00:38,  7.22it/s]"
     ]
    },
    {
     "name": "stdout",
     "output_type": "stream",
     "text": [
      "C:\\Users\\Hard Parikh\\Desktop\\speech-accent-archive\\recordings\\recordings\\korean30.mp3\n"
     ]
    },
    {
     "name": "stderr",
     "output_type": "stream",
     "text": [
      "  8%|▊         | 24/300 [00:03<00:39,  7.08it/s]"
     ]
    },
    {
     "name": "stdout",
     "output_type": "stream",
     "text": [
      "C:\\Users\\Hard Parikh\\Desktop\\speech-accent-archive\\recordings\\recordings\\korean31.mp3\n"
     ]
    },
    {
     "name": "stderr",
     "output_type": "stream",
     "text": [
      "  8%|▊         | 25/300 [00:03<00:37,  7.25it/s]"
     ]
    },
    {
     "name": "stdout",
     "output_type": "stream",
     "text": [
      "C:\\Users\\Hard Parikh\\Desktop\\speech-accent-archive\\recordings\\recordings\\korean32.mp3\n"
     ]
    },
    {
     "name": "stderr",
     "output_type": "stream",
     "text": [
      "  9%|▊         | 26/300 [00:03<00:39,  6.92it/s]"
     ]
    },
    {
     "name": "stdout",
     "output_type": "stream",
     "text": [
      "C:\\Users\\Hard Parikh\\Desktop\\speech-accent-archive\\recordings\\recordings\\korean33.mp3\n"
     ]
    },
    {
     "name": "stderr",
     "output_type": "stream",
     "text": [
      "  9%|▉         | 27/300 [00:03<00:37,  7.29it/s]"
     ]
    },
    {
     "name": "stdout",
     "output_type": "stream",
     "text": [
      "C:\\Users\\Hard Parikh\\Desktop\\speech-accent-archive\\recordings\\recordings\\korean34.mp3\n"
     ]
    },
    {
     "name": "stderr",
     "output_type": "stream",
     "text": [
      "  9%|▉         | 28/300 [00:03<00:39,  6.95it/s]"
     ]
    },
    {
     "name": "stdout",
     "output_type": "stream",
     "text": [
      "C:\\Users\\Hard Parikh\\Desktop\\speech-accent-archive\\recordings\\recordings\\korean35.mp3\n"
     ]
    },
    {
     "name": "stderr",
     "output_type": "stream",
     "text": [
      " 10%|▉         | 29/300 [00:04<00:39,  6.87it/s]"
     ]
    },
    {
     "name": "stdout",
     "output_type": "stream",
     "text": [
      "C:\\Users\\Hard Parikh\\Desktop\\speech-accent-archive\\recordings\\recordings\\korean36.mp3\n"
     ]
    },
    {
     "name": "stderr",
     "output_type": "stream",
     "text": [
      " 10%|█         | 30/300 [00:04<00:38,  7.10it/s]"
     ]
    },
    {
     "name": "stdout",
     "output_type": "stream",
     "text": [
      "C:\\Users\\Hard Parikh\\Desktop\\speech-accent-archive\\recordings\\recordings\\korean37.mp3\n"
     ]
    },
    {
     "name": "stderr",
     "output_type": "stream",
     "text": [
      " 10%|█         | 31/300 [00:04<00:37,  7.27it/s]"
     ]
    },
    {
     "name": "stdout",
     "output_type": "stream",
     "text": [
      "C:\\Users\\Hard Parikh\\Desktop\\speech-accent-archive\\recordings\\recordings\\korean38.mp3\n"
     ]
    },
    {
     "name": "stderr",
     "output_type": "stream",
     "text": [
      " 11%|█         | 32/300 [00:04<00:36,  7.40it/s]"
     ]
    },
    {
     "name": "stdout",
     "output_type": "stream",
     "text": [
      "C:\\Users\\Hard Parikh\\Desktop\\speech-accent-archive\\recordings\\recordings\\korean39.mp3\n"
     ]
    },
    {
     "name": "stderr",
     "output_type": "stream",
     "text": [
      " 11%|█         | 33/300 [00:04<00:35,  7.44it/s]"
     ]
    },
    {
     "name": "stdout",
     "output_type": "stream",
     "text": [
      "C:\\Users\\Hard Parikh\\Desktop\\speech-accent-archive\\recordings\\recordings\\korean4.mp3\n"
     ]
    },
    {
     "name": "stderr",
     "output_type": "stream",
     "text": [
      " 11%|█▏        | 34/300 [00:04<00:36,  7.32it/s]"
     ]
    },
    {
     "name": "stdout",
     "output_type": "stream",
     "text": [
      "C:\\Users\\Hard Parikh\\Desktop\\speech-accent-archive\\recordings\\recordings\\korean40.mp3\n"
     ]
    },
    {
     "name": "stderr",
     "output_type": "stream",
     "text": [
      " 12%|█▏        | 35/300 [00:04<00:34,  7.72it/s]"
     ]
    },
    {
     "name": "stdout",
     "output_type": "stream",
     "text": [
      "C:\\Users\\Hard Parikh\\Desktop\\speech-accent-archive\\recordings\\recordings\\korean41.mp3\n"
     ]
    },
    {
     "name": "stderr",
     "output_type": "stream",
     "text": [
      " 12%|█▏        | 36/300 [00:05<00:34,  7.75it/s]"
     ]
    },
    {
     "name": "stdout",
     "output_type": "stream",
     "text": [
      "C:\\Users\\Hard Parikh\\Desktop\\speech-accent-archive\\recordings\\recordings\\korean42.mp3\n"
     ]
    },
    {
     "name": "stderr",
     "output_type": "stream",
     "text": [
      " 12%|█▏        | 37/300 [00:05<00:33,  7.75it/s]"
     ]
    },
    {
     "name": "stdout",
     "output_type": "stream",
     "text": [
      "C:\\Users\\Hard Parikh\\Desktop\\speech-accent-archive\\recordings\\recordings\\korean43.mp3\n"
     ]
    },
    {
     "name": "stderr",
     "output_type": "stream",
     "text": [
      " 13%|█▎        | 38/300 [00:05<00:32,  7.98it/s]"
     ]
    },
    {
     "name": "stdout",
     "output_type": "stream",
     "text": [
      "C:\\Users\\Hard Parikh\\Desktop\\speech-accent-archive\\recordings\\recordings\\korean44.mp3\n"
     ]
    },
    {
     "name": "stderr",
     "output_type": "stream",
     "text": [
      " 13%|█▎        | 39/300 [00:05<00:33,  7.83it/s]"
     ]
    },
    {
     "name": "stdout",
     "output_type": "stream",
     "text": [
      "C:\\Users\\Hard Parikh\\Desktop\\speech-accent-archive\\recordings\\recordings\\korean45.mp3\n"
     ]
    },
    {
     "name": "stderr",
     "output_type": "stream",
     "text": [
      " 13%|█▎        | 40/300 [00:05<00:32,  8.00it/s]"
     ]
    },
    {
     "name": "stdout",
     "output_type": "stream",
     "text": [
      "C:\\Users\\Hard Parikh\\Desktop\\speech-accent-archive\\recordings\\recordings\\korean46.mp3\n"
     ]
    },
    {
     "name": "stderr",
     "output_type": "stream",
     "text": [
      " 14%|█▎        | 41/300 [00:05<00:31,  8.14it/s]"
     ]
    },
    {
     "name": "stdout",
     "output_type": "stream",
     "text": [
      "C:\\Users\\Hard Parikh\\Desktop\\speech-accent-archive\\recordings\\recordings\\korean47.mp3\n"
     ]
    },
    {
     "name": "stderr",
     "output_type": "stream",
     "text": [
      " 14%|█▍        | 42/300 [00:05<00:32,  8.00it/s]"
     ]
    },
    {
     "name": "stdout",
     "output_type": "stream",
     "text": [
      "C:\\Users\\Hard Parikh\\Desktop\\speech-accent-archive\\recordings\\recordings\\korean48.mp3\n"
     ]
    },
    {
     "name": "stderr",
     "output_type": "stream",
     "text": [
      " 14%|█▍        | 43/300 [00:05<00:32,  7.91it/s]"
     ]
    },
    {
     "name": "stdout",
     "output_type": "stream",
     "text": [
      "C:\\Users\\Hard Parikh\\Desktop\\speech-accent-archive\\recordings\\recordings\\korean49.mp3\n"
     ]
    },
    {
     "name": "stderr",
     "output_type": "stream",
     "text": [
      " 15%|█▍        | 44/300 [00:06<00:33,  7.66it/s]"
     ]
    },
    {
     "name": "stdout",
     "output_type": "stream",
     "text": [
      "C:\\Users\\Hard Parikh\\Desktop\\speech-accent-archive\\recordings\\recordings\\korean5.mp3\n"
     ]
    },
    {
     "name": "stderr",
     "output_type": "stream",
     "text": [
      " 15%|█▌        | 45/300 [00:06<00:33,  7.66it/s]"
     ]
    },
    {
     "name": "stdout",
     "output_type": "stream",
     "text": [
      "C:\\Users\\Hard Parikh\\Desktop\\speech-accent-archive\\recordings\\recordings\\korean50.mp3\n"
     ]
    },
    {
     "name": "stderr",
     "output_type": "stream",
     "text": [
      " 15%|█▌        | 46/300 [00:06<00:33,  7.52it/s]"
     ]
    },
    {
     "name": "stdout",
     "output_type": "stream",
     "text": [
      "C:\\Users\\Hard Parikh\\Desktop\\speech-accent-archive\\recordings\\recordings\\korean51.mp3\n"
     ]
    },
    {
     "name": "stderr",
     "output_type": "stream",
     "text": [
      " 16%|█▌        | 47/300 [00:06<00:32,  7.90it/s]"
     ]
    },
    {
     "name": "stdout",
     "output_type": "stream",
     "text": [
      "C:\\Users\\Hard Parikh\\Desktop\\speech-accent-archive\\recordings\\recordings\\korean52.mp3\n"
     ]
    },
    {
     "name": "stderr",
     "output_type": "stream",
     "text": [
      " 16%|█▌        | 48/300 [00:06<00:31,  8.05it/s]"
     ]
    },
    {
     "name": "stdout",
     "output_type": "stream",
     "text": [
      "C:\\Users\\Hard Parikh\\Desktop\\speech-accent-archive\\recordings\\recordings\\korean6.mp3\n"
     ]
    },
    {
     "name": "stderr",
     "output_type": "stream",
     "text": [
      " 16%|█▋        | 49/300 [00:06<00:30,  8.11it/s]"
     ]
    },
    {
     "name": "stdout",
     "output_type": "stream",
     "text": [
      "C:\\Users\\Hard Parikh\\Desktop\\speech-accent-archive\\recordings\\recordings\\korean7.mp3\n"
     ]
    },
    {
     "name": "stderr",
     "output_type": "stream",
     "text": [
      " 17%|█▋        | 50/300 [00:06<00:30,  8.18it/s]"
     ]
    },
    {
     "name": "stdout",
     "output_type": "stream",
     "text": [
      "C:\\Users\\Hard Parikh\\Desktop\\speech-accent-archive\\recordings\\recordings\\french1.mp3\n"
     ]
    },
    {
     "name": "stderr",
     "output_type": "stream",
     "text": [
      " 17%|█▋        | 51/300 [00:06<00:31,  8.02it/s]"
     ]
    },
    {
     "name": "stdout",
     "output_type": "stream",
     "text": [
      "C:\\Users\\Hard Parikh\\Desktop\\speech-accent-archive\\recordings\\recordings\\french10.mp3\n"
     ]
    },
    {
     "name": "stderr",
     "output_type": "stream",
     "text": [
      " 17%|█▋        | 52/300 [00:07<00:29,  8.34it/s]"
     ]
    },
    {
     "name": "stdout",
     "output_type": "stream",
     "text": [
      "C:\\Users\\Hard Parikh\\Desktop\\speech-accent-archive\\recordings\\recordings\\french11.mp3\n"
     ]
    },
    {
     "name": "stderr",
     "output_type": "stream",
     "text": [
      " 18%|█▊        | 53/300 [00:07<00:29,  8.32it/s]"
     ]
    },
    {
     "name": "stdout",
     "output_type": "stream",
     "text": [
      "C:\\Users\\Hard Parikh\\Desktop\\speech-accent-archive\\recordings\\recordings\\french12.mp3\n"
     ]
    },
    {
     "name": "stderr",
     "output_type": "stream",
     "text": [
      " 18%|█▊        | 54/300 [00:07<00:28,  8.48it/s]"
     ]
    },
    {
     "name": "stdout",
     "output_type": "stream",
     "text": [
      "C:\\Users\\Hard Parikh\\Desktop\\speech-accent-archive\\recordings\\recordings\\french13.mp3\n"
     ]
    },
    {
     "name": "stderr",
     "output_type": "stream",
     "text": [
      " 18%|█▊        | 55/300 [00:07<00:28,  8.51it/s]"
     ]
    },
    {
     "name": "stdout",
     "output_type": "stream",
     "text": [
      "C:\\Users\\Hard Parikh\\Desktop\\speech-accent-archive\\recordings\\recordings\\french14.mp3\n"
     ]
    },
    {
     "name": "stderr",
     "output_type": "stream",
     "text": [
      " 19%|█▊        | 56/300 [00:07<00:28,  8.43it/s]"
     ]
    },
    {
     "name": "stdout",
     "output_type": "stream",
     "text": [
      "C:\\Users\\Hard Parikh\\Desktop\\speech-accent-archive\\recordings\\recordings\\french15.mp3\n"
     ]
    },
    {
     "name": "stderr",
     "output_type": "stream",
     "text": [
      " 19%|█▉        | 57/300 [00:07<00:28,  8.42it/s]"
     ]
    },
    {
     "name": "stdout",
     "output_type": "stream",
     "text": [
      "C:\\Users\\Hard Parikh\\Desktop\\speech-accent-archive\\recordings\\recordings\\french16.mp3\n"
     ]
    },
    {
     "name": "stderr",
     "output_type": "stream",
     "text": [
      " 19%|█▉        | 58/300 [00:07<00:28,  8.63it/s]"
     ]
    },
    {
     "name": "stdout",
     "output_type": "stream",
     "text": [
      "C:\\Users\\Hard Parikh\\Desktop\\speech-accent-archive\\recordings\\recordings\\french17.mp3\n"
     ]
    },
    {
     "name": "stderr",
     "output_type": "stream",
     "text": [
      " 20%|█▉        | 59/300 [00:07<00:28,  8.51it/s]"
     ]
    },
    {
     "name": "stdout",
     "output_type": "stream",
     "text": [
      "C:\\Users\\Hard Parikh\\Desktop\\speech-accent-archive\\recordings\\recordings\\french18.mp3\n"
     ]
    },
    {
     "name": "stderr",
     "output_type": "stream",
     "text": [
      " 20%|██        | 60/300 [00:07<00:28,  8.28it/s]"
     ]
    },
    {
     "name": "stdout",
     "output_type": "stream",
     "text": [
      "C:\\Users\\Hard Parikh\\Desktop\\speech-accent-archive\\recordings\\recordings\\french19.mp3\n"
     ]
    },
    {
     "name": "stderr",
     "output_type": "stream",
     "text": [
      " 20%|██        | 61/300 [00:08<00:29,  8.05it/s]"
     ]
    },
    {
     "name": "stdout",
     "output_type": "stream",
     "text": [
      "C:\\Users\\Hard Parikh\\Desktop\\speech-accent-archive\\recordings\\recordings\\french2.mp3\n"
     ]
    },
    {
     "name": "stderr",
     "output_type": "stream",
     "text": [
      " 21%|██        | 62/300 [00:08<00:32,  7.42it/s]"
     ]
    },
    {
     "name": "stdout",
     "output_type": "stream",
     "text": [
      "C:\\Users\\Hard Parikh\\Desktop\\speech-accent-archive\\recordings\\recordings\\french20.mp3\n"
     ]
    },
    {
     "name": "stderr",
     "output_type": "stream",
     "text": [
      " 21%|██        | 63/300 [00:08<00:30,  7.69it/s]"
     ]
    },
    {
     "name": "stdout",
     "output_type": "stream",
     "text": [
      "C:\\Users\\Hard Parikh\\Desktop\\speech-accent-archive\\recordings\\recordings\\french21.mp3\n"
     ]
    },
    {
     "name": "stderr",
     "output_type": "stream",
     "text": [
      " 21%|██▏       | 64/300 [00:08<00:29,  7.89it/s]"
     ]
    },
    {
     "name": "stdout",
     "output_type": "stream",
     "text": [
      "C:\\Users\\Hard Parikh\\Desktop\\speech-accent-archive\\recordings\\recordings\\french22.mp3\n"
     ]
    },
    {
     "name": "stderr",
     "output_type": "stream",
     "text": [
      " 22%|██▏       | 65/300 [00:08<00:27,  8.40it/s]"
     ]
    },
    {
     "name": "stdout",
     "output_type": "stream",
     "text": [
      "C:\\Users\\Hard Parikh\\Desktop\\speech-accent-archive\\recordings\\recordings\\french23.mp3\n"
     ]
    },
    {
     "name": "stderr",
     "output_type": "stream",
     "text": [
      " 22%|██▏       | 66/300 [00:08<00:27,  8.57it/s]"
     ]
    },
    {
     "name": "stdout",
     "output_type": "stream",
     "text": [
      "C:\\Users\\Hard Parikh\\Desktop\\speech-accent-archive\\recordings\\recordings\\french24.mp3\n"
     ]
    },
    {
     "name": "stderr",
     "output_type": "stream",
     "text": [
      " 22%|██▏       | 67/300 [00:08<00:28,  8.29it/s]"
     ]
    },
    {
     "name": "stdout",
     "output_type": "stream",
     "text": [
      "C:\\Users\\Hard Parikh\\Desktop\\speech-accent-archive\\recordings\\recordings\\french25.mp3\n"
     ]
    },
    {
     "name": "stderr",
     "output_type": "stream",
     "text": [
      " 23%|██▎       | 68/300 [00:08<00:27,  8.31it/s]"
     ]
    },
    {
     "name": "stdout",
     "output_type": "stream",
     "text": [
      "C:\\Users\\Hard Parikh\\Desktop\\speech-accent-archive\\recordings\\recordings\\french26.mp3\n"
     ]
    },
    {
     "name": "stderr",
     "output_type": "stream",
     "text": [
      " 23%|██▎       | 69/300 [00:09<00:27,  8.33it/s]"
     ]
    },
    {
     "name": "stdout",
     "output_type": "stream",
     "text": [
      "C:\\Users\\Hard Parikh\\Desktop\\speech-accent-archive\\recordings\\recordings\\french27.mp3\n"
     ]
    },
    {
     "name": "stderr",
     "output_type": "stream",
     "text": [
      " 23%|██▎       | 70/300 [00:09<00:27,  8.32it/s]"
     ]
    },
    {
     "name": "stdout",
     "output_type": "stream",
     "text": [
      "C:\\Users\\Hard Parikh\\Desktop\\speech-accent-archive\\recordings\\recordings\\french28.mp3\n"
     ]
    },
    {
     "name": "stderr",
     "output_type": "stream",
     "text": [
      " 24%|██▎       | 71/300 [00:09<00:28,  8.11it/s]"
     ]
    },
    {
     "name": "stdout",
     "output_type": "stream",
     "text": [
      "C:\\Users\\Hard Parikh\\Desktop\\speech-accent-archive\\recordings\\recordings\\french29.mp3\n"
     ]
    },
    {
     "name": "stderr",
     "output_type": "stream",
     "text": [
      " 24%|██▍       | 72/300 [00:09<00:29,  7.74it/s]"
     ]
    },
    {
     "name": "stdout",
     "output_type": "stream",
     "text": [
      "C:\\Users\\Hard Parikh\\Desktop\\speech-accent-archive\\recordings\\recordings\\french3.mp3\n"
     ]
    },
    {
     "name": "stderr",
     "output_type": "stream",
     "text": [
      " 24%|██▍       | 73/300 [00:09<00:29,  7.78it/s]"
     ]
    },
    {
     "name": "stdout",
     "output_type": "stream",
     "text": [
      "C:\\Users\\Hard Parikh\\Desktop\\speech-accent-archive\\recordings\\recordings\\french30.mp3\n"
     ]
    },
    {
     "name": "stderr",
     "output_type": "stream",
     "text": [
      " 25%|██▍       | 74/300 [00:09<00:27,  8.14it/s]"
     ]
    },
    {
     "name": "stdout",
     "output_type": "stream",
     "text": [
      "C:\\Users\\Hard Parikh\\Desktop\\speech-accent-archive\\recordings\\recordings\\french31.mp3\n"
     ]
    },
    {
     "name": "stderr",
     "output_type": "stream",
     "text": [
      " 25%|██▌       | 75/300 [00:09<00:28,  8.00it/s]"
     ]
    },
    {
     "name": "stdout",
     "output_type": "stream",
     "text": [
      "C:\\Users\\Hard Parikh\\Desktop\\speech-accent-archive\\recordings\\recordings\\french32.mp3\n"
     ]
    },
    {
     "name": "stderr",
     "output_type": "stream",
     "text": [
      " 25%|██▌       | 76/300 [00:09<00:30,  7.38it/s]"
     ]
    },
    {
     "name": "stdout",
     "output_type": "stream",
     "text": [
      "C:\\Users\\Hard Parikh\\Desktop\\speech-accent-archive\\recordings\\recordings\\french33.mp3\n"
     ]
    },
    {
     "name": "stderr",
     "output_type": "stream",
     "text": [
      " 26%|██▌       | 77/300 [00:10<00:29,  7.47it/s]"
     ]
    },
    {
     "name": "stdout",
     "output_type": "stream",
     "text": [
      "C:\\Users\\Hard Parikh\\Desktop\\speech-accent-archive\\recordings\\recordings\\french34.mp3\n"
     ]
    },
    {
     "name": "stderr",
     "output_type": "stream",
     "text": [
      " 26%|██▌       | 78/300 [00:10<00:30,  7.21it/s]"
     ]
    },
    {
     "name": "stdout",
     "output_type": "stream",
     "text": [
      "C:\\Users\\Hard Parikh\\Desktop\\speech-accent-archive\\recordings\\recordings\\french35.mp3\n"
     ]
    },
    {
     "name": "stderr",
     "output_type": "stream",
     "text": [
      " 26%|██▋       | 79/300 [00:10<00:29,  7.53it/s]"
     ]
    },
    {
     "name": "stdout",
     "output_type": "stream",
     "text": [
      "C:\\Users\\Hard Parikh\\Desktop\\speech-accent-archive\\recordings\\recordings\\french36.mp3\n"
     ]
    },
    {
     "name": "stderr",
     "output_type": "stream",
     "text": [
      " 27%|██▋       | 80/300 [00:10<00:27,  7.92it/s]"
     ]
    },
    {
     "name": "stdout",
     "output_type": "stream",
     "text": [
      "C:\\Users\\Hard Parikh\\Desktop\\speech-accent-archive\\recordings\\recordings\\french37.mp3\n"
     ]
    },
    {
     "name": "stderr",
     "output_type": "stream",
     "text": [
      " 27%|██▋       | 81/300 [00:10<00:27,  8.06it/s]"
     ]
    },
    {
     "name": "stdout",
     "output_type": "stream",
     "text": [
      "C:\\Users\\Hard Parikh\\Desktop\\speech-accent-archive\\recordings\\recordings\\french38.mp3\n"
     ]
    },
    {
     "name": "stderr",
     "output_type": "stream",
     "text": [
      " 27%|██▋       | 82/300 [00:10<00:26,  8.11it/s]"
     ]
    },
    {
     "name": "stdout",
     "output_type": "stream",
     "text": [
      "C:\\Users\\Hard Parikh\\Desktop\\speech-accent-archive\\recordings\\recordings\\french39.mp3\n"
     ]
    },
    {
     "name": "stderr",
     "output_type": "stream",
     "text": [
      " 28%|██▊       | 83/300 [00:10<00:27,  7.99it/s]"
     ]
    },
    {
     "name": "stdout",
     "output_type": "stream",
     "text": [
      "C:\\Users\\Hard Parikh\\Desktop\\speech-accent-archive\\recordings\\recordings\\french4.mp3\n"
     ]
    },
    {
     "name": "stderr",
     "output_type": "stream",
     "text": [
      " 28%|██▊       | 84/300 [00:11<00:29,  7.39it/s]"
     ]
    },
    {
     "name": "stdout",
     "output_type": "stream",
     "text": [
      "C:\\Users\\Hard Parikh\\Desktop\\speech-accent-archive\\recordings\\recordings\\french40.mp3\n"
     ]
    },
    {
     "name": "stderr",
     "output_type": "stream",
     "text": [
      " 28%|██▊       | 85/300 [00:11<00:28,  7.62it/s]"
     ]
    },
    {
     "name": "stdout",
     "output_type": "stream",
     "text": [
      "C:\\Users\\Hard Parikh\\Desktop\\speech-accent-archive\\recordings\\recordings\\french41.mp3\n"
     ]
    },
    {
     "name": "stderr",
     "output_type": "stream",
     "text": [
      " 29%|██▊       | 86/300 [00:11<00:26,  7.98it/s]"
     ]
    },
    {
     "name": "stdout",
     "output_type": "stream",
     "text": [
      "C:\\Users\\Hard Parikh\\Desktop\\speech-accent-archive\\recordings\\recordings\\french42.mp3\n"
     ]
    },
    {
     "name": "stderr",
     "output_type": "stream",
     "text": [
      " 29%|██▉       | 87/300 [00:11<00:28,  7.42it/s]"
     ]
    },
    {
     "name": "stdout",
     "output_type": "stream",
     "text": [
      "C:\\Users\\Hard Parikh\\Desktop\\speech-accent-archive\\recordings\\recordings\\french43.mp3\n"
     ]
    },
    {
     "name": "stderr",
     "output_type": "stream",
     "text": [
      " 29%|██▉       | 88/300 [00:11<00:29,  7.22it/s]"
     ]
    },
    {
     "name": "stdout",
     "output_type": "stream",
     "text": [
      "C:\\Users\\Hard Parikh\\Desktop\\speech-accent-archive\\recordings\\recordings\\french44.mp3\n"
     ]
    },
    {
     "name": "stderr",
     "output_type": "stream",
     "text": [
      " 30%|██▉       | 89/300 [00:11<00:28,  7.51it/s]"
     ]
    },
    {
     "name": "stdout",
     "output_type": "stream",
     "text": [
      "C:\\Users\\Hard Parikh\\Desktop\\speech-accent-archive\\recordings\\recordings\\french45.mp3\n"
     ]
    },
    {
     "name": "stderr",
     "output_type": "stream",
     "text": [
      " 30%|███       | 90/300 [00:11<00:28,  7.44it/s]"
     ]
    },
    {
     "name": "stdout",
     "output_type": "stream",
     "text": [
      "C:\\Users\\Hard Parikh\\Desktop\\speech-accent-archive\\recordings\\recordings\\french46.mp3\n"
     ]
    },
    {
     "name": "stderr",
     "output_type": "stream",
     "text": [
      " 30%|███       | 91/300 [00:11<00:27,  7.47it/s]"
     ]
    },
    {
     "name": "stdout",
     "output_type": "stream",
     "text": [
      "C:\\Users\\Hard Parikh\\Desktop\\speech-accent-archive\\recordings\\recordings\\french47.mp3\n"
     ]
    },
    {
     "name": "stderr",
     "output_type": "stream",
     "text": [
      " 31%|███       | 92/300 [00:12<00:28,  7.41it/s]"
     ]
    },
    {
     "name": "stdout",
     "output_type": "stream",
     "text": [
      "C:\\Users\\Hard Parikh\\Desktop\\speech-accent-archive\\recordings\\recordings\\french48.mp3\n"
     ]
    },
    {
     "name": "stderr",
     "output_type": "stream",
     "text": [
      " 31%|███       | 93/300 [00:12<00:27,  7.57it/s]"
     ]
    },
    {
     "name": "stdout",
     "output_type": "stream",
     "text": [
      "C:\\Users\\Hard Parikh\\Desktop\\speech-accent-archive\\recordings\\recordings\\french49.mp3\n"
     ]
    },
    {
     "name": "stderr",
     "output_type": "stream",
     "text": [
      " 31%|███▏      | 94/300 [00:12<00:27,  7.59it/s]"
     ]
    },
    {
     "name": "stdout",
     "output_type": "stream",
     "text": [
      "C:\\Users\\Hard Parikh\\Desktop\\speech-accent-archive\\recordings\\recordings\\french5.mp3\n"
     ]
    },
    {
     "name": "stderr",
     "output_type": "stream",
     "text": [
      " 32%|███▏      | 95/300 [00:12<00:28,  7.15it/s]"
     ]
    },
    {
     "name": "stdout",
     "output_type": "stream",
     "text": [
      "C:\\Users\\Hard Parikh\\Desktop\\speech-accent-archive\\recordings\\recordings\\french50.mp3\n"
     ]
    },
    {
     "name": "stderr",
     "output_type": "stream",
     "text": [
      " 32%|███▏      | 96/300 [00:12<00:29,  6.98it/s]"
     ]
    },
    {
     "name": "stdout",
     "output_type": "stream",
     "text": [
      "C:\\Users\\Hard Parikh\\Desktop\\speech-accent-archive\\recordings\\recordings\\french51.mp3\n"
     ]
    },
    {
     "name": "stderr",
     "output_type": "stream",
     "text": [
      " 32%|███▏      | 97/300 [00:12<00:28,  7.21it/s]"
     ]
    },
    {
     "name": "stdout",
     "output_type": "stream",
     "text": [
      "C:\\Users\\Hard Parikh\\Desktop\\speech-accent-archive\\recordings\\recordings\\french52.mp3\n"
     ]
    },
    {
     "name": "stderr",
     "output_type": "stream",
     "text": [
      " 33%|███▎      | 98/300 [00:12<00:27,  7.32it/s]"
     ]
    },
    {
     "name": "stdout",
     "output_type": "stream",
     "text": [
      "C:\\Users\\Hard Parikh\\Desktop\\speech-accent-archive\\recordings\\recordings\\french53.mp3\n"
     ]
    },
    {
     "name": "stderr",
     "output_type": "stream",
     "text": [
      " 33%|███▎      | 99/300 [00:13<00:27,  7.30it/s]"
     ]
    },
    {
     "name": "stdout",
     "output_type": "stream",
     "text": [
      "C:\\Users\\Hard Parikh\\Desktop\\speech-accent-archive\\recordings\\recordings\\french54.mp3\n"
     ]
    },
    {
     "name": "stderr",
     "output_type": "stream",
     "text": [
      " 33%|███▎      | 100/300 [00:13<00:26,  7.59it/s]"
     ]
    },
    {
     "name": "stdout",
     "output_type": "stream",
     "text": [
      "C:\\Users\\Hard Parikh\\Desktop\\speech-accent-archive\\recordings\\recordings\\mandarin1.mp3\n"
     ]
    },
    {
     "name": "stderr",
     "output_type": "stream",
     "text": [
      " 34%|███▎      | 101/300 [00:13<00:26,  7.43it/s]"
     ]
    },
    {
     "name": "stdout",
     "output_type": "stream",
     "text": [
      "C:\\Users\\Hard Parikh\\Desktop\\speech-accent-archive\\recordings\\recordings\\mandarin10.mp3\n"
     ]
    },
    {
     "name": "stderr",
     "output_type": "stream",
     "text": [
      " 34%|███▍      | 102/300 [00:13<00:25,  7.84it/s]"
     ]
    },
    {
     "name": "stdout",
     "output_type": "stream",
     "text": [
      "C:\\Users\\Hard Parikh\\Desktop\\speech-accent-archive\\recordings\\recordings\\mandarin11.mp3\n"
     ]
    },
    {
     "name": "stderr",
     "output_type": "stream",
     "text": [
      " 34%|███▍      | 103/300 [00:13<00:26,  7.42it/s]"
     ]
    },
    {
     "name": "stdout",
     "output_type": "stream",
     "text": [
      "C:\\Users\\Hard Parikh\\Desktop\\speech-accent-archive\\recordings\\recordings\\mandarin12.mp3\n"
     ]
    },
    {
     "name": "stderr",
     "output_type": "stream",
     "text": [
      " 35%|███▍      | 104/300 [00:13<00:25,  7.56it/s]"
     ]
    },
    {
     "name": "stdout",
     "output_type": "stream",
     "text": [
      "C:\\Users\\Hard Parikh\\Desktop\\speech-accent-archive\\recordings\\recordings\\mandarin13.mp3\n"
     ]
    },
    {
     "name": "stderr",
     "output_type": "stream",
     "text": [
      " 35%|███▌      | 105/300 [00:13<00:25,  7.78it/s]"
     ]
    },
    {
     "name": "stdout",
     "output_type": "stream",
     "text": [
      "C:\\Users\\Hard Parikh\\Desktop\\speech-accent-archive\\recordings\\recordings\\mandarin14.mp3\n"
     ]
    },
    {
     "name": "stderr",
     "output_type": "stream",
     "text": [
      " 35%|███▌      | 106/300 [00:13<00:25,  7.51it/s]"
     ]
    },
    {
     "name": "stdout",
     "output_type": "stream",
     "text": [
      "C:\\Users\\Hard Parikh\\Desktop\\speech-accent-archive\\recordings\\recordings\\mandarin15.mp3\n"
     ]
    },
    {
     "name": "stderr",
     "output_type": "stream",
     "text": [
      " 36%|███▌      | 107/300 [00:14<00:25,  7.58it/s]"
     ]
    },
    {
     "name": "stdout",
     "output_type": "stream",
     "text": [
      "C:\\Users\\Hard Parikh\\Desktop\\speech-accent-archive\\recordings\\recordings\\mandarin16.mp3\n"
     ]
    },
    {
     "name": "stderr",
     "output_type": "stream",
     "text": [
      " 36%|███▌      | 108/300 [00:14<00:24,  7.92it/s]"
     ]
    },
    {
     "name": "stdout",
     "output_type": "stream",
     "text": [
      "C:\\Users\\Hard Parikh\\Desktop\\speech-accent-archive\\recordings\\recordings\\mandarin17.mp3\n"
     ]
    },
    {
     "name": "stderr",
     "output_type": "stream",
     "text": [
      " 36%|███▋      | 109/300 [00:14<00:23,  7.98it/s]"
     ]
    },
    {
     "name": "stdout",
     "output_type": "stream",
     "text": [
      "C:\\Users\\Hard Parikh\\Desktop\\speech-accent-archive\\recordings\\recordings\\mandarin18.mp3\n"
     ]
    },
    {
     "name": "stderr",
     "output_type": "stream",
     "text": [
      " 37%|███▋      | 110/300 [00:14<00:24,  7.68it/s]"
     ]
    },
    {
     "name": "stdout",
     "output_type": "stream",
     "text": [
      "C:\\Users\\Hard Parikh\\Desktop\\speech-accent-archive\\recordings\\recordings\\mandarin19.mp3\n"
     ]
    },
    {
     "name": "stderr",
     "output_type": "stream",
     "text": [
      " 37%|███▋      | 111/300 [00:14<00:25,  7.34it/s]"
     ]
    },
    {
     "name": "stdout",
     "output_type": "stream",
     "text": [
      "C:\\Users\\Hard Parikh\\Desktop\\speech-accent-archive\\recordings\\recordings\\mandarin2.mp3\n"
     ]
    },
    {
     "name": "stderr",
     "output_type": "stream",
     "text": [
      " 37%|███▋      | 112/300 [00:14<00:26,  7.12it/s]"
     ]
    },
    {
     "name": "stdout",
     "output_type": "stream",
     "text": [
      "C:\\Users\\Hard Parikh\\Desktop\\speech-accent-archive\\recordings\\recordings\\mandarin20.mp3\n"
     ]
    },
    {
     "name": "stderr",
     "output_type": "stream",
     "text": [
      " 38%|███▊      | 113/300 [00:14<00:25,  7.46it/s]"
     ]
    },
    {
     "name": "stdout",
     "output_type": "stream",
     "text": [
      "C:\\Users\\Hard Parikh\\Desktop\\speech-accent-archive\\recordings\\recordings\\mandarin21.mp3\n"
     ]
    },
    {
     "name": "stderr",
     "output_type": "stream",
     "text": [
      " 38%|███▊      | 114/300 [00:15<00:25,  7.19it/s]"
     ]
    },
    {
     "name": "stdout",
     "output_type": "stream",
     "text": [
      "C:\\Users\\Hard Parikh\\Desktop\\speech-accent-archive\\recordings\\recordings\\mandarin22.mp3\n"
     ]
    },
    {
     "name": "stderr",
     "output_type": "stream",
     "text": [
      " 38%|███▊      | 115/300 [00:15<00:24,  7.49it/s]"
     ]
    },
    {
     "name": "stdout",
     "output_type": "stream",
     "text": [
      "C:\\Users\\Hard Parikh\\Desktop\\speech-accent-archive\\recordings\\recordings\\mandarin23.mp3\n"
     ]
    },
    {
     "name": "stderr",
     "output_type": "stream",
     "text": [
      " 39%|███▊      | 116/300 [00:15<00:27,  6.79it/s]"
     ]
    },
    {
     "name": "stdout",
     "output_type": "stream",
     "text": [
      "C:\\Users\\Hard Parikh\\Desktop\\speech-accent-archive\\recordings\\recordings\\mandarin24.mp3\n"
     ]
    },
    {
     "name": "stderr",
     "output_type": "stream",
     "text": [
      " 39%|███▉      | 117/300 [00:15<00:25,  7.19it/s]"
     ]
    },
    {
     "name": "stdout",
     "output_type": "stream",
     "text": [
      "C:\\Users\\Hard Parikh\\Desktop\\speech-accent-archive\\recordings\\recordings\\mandarin25.mp3\n"
     ]
    },
    {
     "name": "stderr",
     "output_type": "stream",
     "text": [
      " 39%|███▉      | 118/300 [00:15<00:24,  7.40it/s]"
     ]
    },
    {
     "name": "stdout",
     "output_type": "stream",
     "text": [
      "C:\\Users\\Hard Parikh\\Desktop\\speech-accent-archive\\recordings\\recordings\\mandarin26.mp3\n"
     ]
    },
    {
     "name": "stderr",
     "output_type": "stream",
     "text": [
      " 40%|███▉      | 119/300 [00:15<00:24,  7.46it/s]"
     ]
    },
    {
     "name": "stdout",
     "output_type": "stream",
     "text": [
      "C:\\Users\\Hard Parikh\\Desktop\\speech-accent-archive\\recordings\\recordings\\mandarin27.mp3\n"
     ]
    },
    {
     "name": "stderr",
     "output_type": "stream",
     "text": [
      " 40%|████      | 120/300 [00:15<00:23,  7.76it/s]"
     ]
    },
    {
     "name": "stdout",
     "output_type": "stream",
     "text": [
      "C:\\Users\\Hard Parikh\\Desktop\\speech-accent-archive\\recordings\\recordings\\mandarin28.mp3\n"
     ]
    },
    {
     "name": "stderr",
     "output_type": "stream",
     "text": [
      " 40%|████      | 121/300 [00:15<00:23,  7.73it/s]"
     ]
    },
    {
     "name": "stdout",
     "output_type": "stream",
     "text": [
      "C:\\Users\\Hard Parikh\\Desktop\\speech-accent-archive\\recordings\\recordings\\mandarin29.mp3\n"
     ]
    },
    {
     "name": "stderr",
     "output_type": "stream",
     "text": [
      " 41%|████      | 122/300 [00:16<00:21,  8.14it/s]"
     ]
    },
    {
     "name": "stdout",
     "output_type": "stream",
     "text": [
      "C:\\Users\\Hard Parikh\\Desktop\\speech-accent-archive\\recordings\\recordings\\mandarin3.mp3\n"
     ]
    },
    {
     "name": "stderr",
     "output_type": "stream",
     "text": [
      " 41%|████      | 123/300 [00:16<00:23,  7.48it/s]"
     ]
    },
    {
     "name": "stdout",
     "output_type": "stream",
     "text": [
      "C:\\Users\\Hard Parikh\\Desktop\\speech-accent-archive\\recordings\\recordings\\mandarin30.mp3\n"
     ]
    },
    {
     "name": "stderr",
     "output_type": "stream",
     "text": [
      " 41%|████▏     | 124/300 [00:16<00:24,  7.27it/s]"
     ]
    },
    {
     "name": "stdout",
     "output_type": "stream",
     "text": [
      "C:\\Users\\Hard Parikh\\Desktop\\speech-accent-archive\\recordings\\recordings\\mandarin31.mp3\n"
     ]
    },
    {
     "name": "stderr",
     "output_type": "stream",
     "text": [
      " 42%|████▏     | 125/300 [00:16<00:22,  7.62it/s]"
     ]
    },
    {
     "name": "stdout",
     "output_type": "stream",
     "text": [
      "C:\\Users\\Hard Parikh\\Desktop\\speech-accent-archive\\recordings\\recordings\\mandarin32.mp3\n"
     ]
    },
    {
     "name": "stderr",
     "output_type": "stream",
     "text": [
      " 42%|████▏     | 126/300 [00:16<00:22,  7.73it/s]"
     ]
    },
    {
     "name": "stdout",
     "output_type": "stream",
     "text": [
      "C:\\Users\\Hard Parikh\\Desktop\\speech-accent-archive\\recordings\\recordings\\mandarin33.mp3\n"
     ]
    },
    {
     "name": "stderr",
     "output_type": "stream",
     "text": [
      " 42%|████▏     | 127/300 [00:16<00:21,  7.88it/s]"
     ]
    },
    {
     "name": "stdout",
     "output_type": "stream",
     "text": [
      "C:\\Users\\Hard Parikh\\Desktop\\speech-accent-archive\\recordings\\recordings\\mandarin34.mp3\n"
     ]
    },
    {
     "name": "stderr",
     "output_type": "stream",
     "text": [
      " 43%|████▎     | 128/300 [00:16<00:21,  8.00it/s]"
     ]
    },
    {
     "name": "stdout",
     "output_type": "stream",
     "text": [
      "C:\\Users\\Hard Parikh\\Desktop\\speech-accent-archive\\recordings\\recordings\\mandarin35.mp3\n"
     ]
    },
    {
     "name": "stderr",
     "output_type": "stream",
     "text": [
      " 43%|████▎     | 129/300 [00:17<00:22,  7.75it/s]"
     ]
    },
    {
     "name": "stdout",
     "output_type": "stream",
     "text": [
      "C:\\Users\\Hard Parikh\\Desktop\\speech-accent-archive\\recordings\\recordings\\mandarin36.mp3\n"
     ]
    },
    {
     "name": "stderr",
     "output_type": "stream",
     "text": [
      " 43%|████▎     | 130/300 [00:17<00:22,  7.66it/s]"
     ]
    },
    {
     "name": "stdout",
     "output_type": "stream",
     "text": [
      "C:\\Users\\Hard Parikh\\Desktop\\speech-accent-archive\\recordings\\recordings\\mandarin37.mp3\n"
     ]
    },
    {
     "name": "stderr",
     "output_type": "stream",
     "text": [
      " 44%|████▎     | 131/300 [00:17<00:23,  7.24it/s]"
     ]
    },
    {
     "name": "stdout",
     "output_type": "stream",
     "text": [
      "C:\\Users\\Hard Parikh\\Desktop\\speech-accent-archive\\recordings\\recordings\\mandarin38.mp3\n"
     ]
    },
    {
     "name": "stderr",
     "output_type": "stream",
     "text": [
      " 44%|████▍     | 132/300 [00:17<00:23,  7.04it/s]"
     ]
    },
    {
     "name": "stdout",
     "output_type": "stream",
     "text": [
      "C:\\Users\\Hard Parikh\\Desktop\\speech-accent-archive\\recordings\\recordings\\mandarin39.mp3\n"
     ]
    },
    {
     "name": "stderr",
     "output_type": "stream",
     "text": [
      " 44%|████▍     | 133/300 [00:17<00:23,  6.99it/s]"
     ]
    },
    {
     "name": "stdout",
     "output_type": "stream",
     "text": [
      "C:\\Users\\Hard Parikh\\Desktop\\speech-accent-archive\\recordings\\recordings\\mandarin4.mp3\n"
     ]
    },
    {
     "name": "stderr",
     "output_type": "stream",
     "text": [
      " 45%|████▍     | 134/300 [00:17<00:23,  7.17it/s]"
     ]
    },
    {
     "name": "stdout",
     "output_type": "stream",
     "text": [
      "C:\\Users\\Hard Parikh\\Desktop\\speech-accent-archive\\recordings\\recordings\\mandarin40.mp3\n"
     ]
    },
    {
     "name": "stderr",
     "output_type": "stream",
     "text": [
      " 45%|████▌     | 135/300 [00:17<00:22,  7.49it/s]"
     ]
    },
    {
     "name": "stdout",
     "output_type": "stream",
     "text": [
      "C:\\Users\\Hard Parikh\\Desktop\\speech-accent-archive\\recordings\\recordings\\mandarin41.mp3\n"
     ]
    },
    {
     "name": "stderr",
     "output_type": "stream",
     "text": [
      " 45%|████▌     | 136/300 [00:17<00:22,  7.34it/s]"
     ]
    },
    {
     "name": "stdout",
     "output_type": "stream",
     "text": [
      "C:\\Users\\Hard Parikh\\Desktop\\speech-accent-archive\\recordings\\recordings\\mandarin42.mp3\n"
     ]
    },
    {
     "name": "stderr",
     "output_type": "stream",
     "text": [
      " 46%|████▌     | 137/300 [00:18<00:24,  6.63it/s]"
     ]
    },
    {
     "name": "stdout",
     "output_type": "stream",
     "text": [
      "C:\\Users\\Hard Parikh\\Desktop\\speech-accent-archive\\recordings\\recordings\\mandarin43.mp3\n"
     ]
    },
    {
     "name": "stderr",
     "output_type": "stream",
     "text": [
      " 46%|████▌     | 138/300 [00:18<00:25,  6.41it/s]"
     ]
    },
    {
     "name": "stdout",
     "output_type": "stream",
     "text": [
      "C:\\Users\\Hard Parikh\\Desktop\\speech-accent-archive\\recordings\\recordings\\mandarin44.mp3\n"
     ]
    },
    {
     "name": "stderr",
     "output_type": "stream",
     "text": [
      " 46%|████▋     | 139/300 [00:18<00:24,  6.54it/s]"
     ]
    },
    {
     "name": "stdout",
     "output_type": "stream",
     "text": [
      "C:\\Users\\Hard Parikh\\Desktop\\speech-accent-archive\\recordings\\recordings\\mandarin45.mp3\n"
     ]
    },
    {
     "name": "stderr",
     "output_type": "stream",
     "text": [
      " 47%|████▋     | 140/300 [00:18<00:25,  6.31it/s]"
     ]
    },
    {
     "name": "stdout",
     "output_type": "stream",
     "text": [
      "C:\\Users\\Hard Parikh\\Desktop\\speech-accent-archive\\recordings\\recordings\\mandarin46.mp3\n"
     ]
    },
    {
     "name": "stderr",
     "output_type": "stream",
     "text": [
      " 47%|████▋     | 141/300 [00:18<00:24,  6.42it/s]"
     ]
    },
    {
     "name": "stdout",
     "output_type": "stream",
     "text": [
      "C:\\Users\\Hard Parikh\\Desktop\\speech-accent-archive\\recordings\\recordings\\mandarin47.mp3\n"
     ]
    },
    {
     "name": "stderr",
     "output_type": "stream",
     "text": [
      " 47%|████▋     | 142/300 [00:18<00:23,  6.61it/s]"
     ]
    },
    {
     "name": "stdout",
     "output_type": "stream",
     "text": [
      "C:\\Users\\Hard Parikh\\Desktop\\speech-accent-archive\\recordings\\recordings\\mandarin48.mp3\n"
     ]
    },
    {
     "name": "stderr",
     "output_type": "stream",
     "text": [
      " 48%|████▊     | 143/300 [00:19<00:23,  6.63it/s]"
     ]
    },
    {
     "name": "stdout",
     "output_type": "stream",
     "text": [
      "C:\\Users\\Hard Parikh\\Desktop\\speech-accent-archive\\recordings\\recordings\\mandarin49.mp3\n"
     ]
    },
    {
     "name": "stderr",
     "output_type": "stream",
     "text": [
      " 48%|████▊     | 144/300 [00:19<00:22,  7.05it/s]"
     ]
    },
    {
     "name": "stdout",
     "output_type": "stream",
     "text": [
      "C:\\Users\\Hard Parikh\\Desktop\\speech-accent-archive\\recordings\\recordings\\mandarin5.mp3\n"
     ]
    },
    {
     "name": "stderr",
     "output_type": "stream",
     "text": [
      " 48%|████▊     | 145/300 [00:19<00:21,  7.09it/s]"
     ]
    },
    {
     "name": "stdout",
     "output_type": "stream",
     "text": [
      "C:\\Users\\Hard Parikh\\Desktop\\speech-accent-archive\\recordings\\recordings\\mandarin50.mp3\n"
     ]
    },
    {
     "name": "stderr",
     "output_type": "stream",
     "text": [
      " 49%|████▊     | 146/300 [00:19<00:22,  6.95it/s]"
     ]
    },
    {
     "name": "stdout",
     "output_type": "stream",
     "text": [
      "C:\\Users\\Hard Parikh\\Desktop\\speech-accent-archive\\recordings\\recordings\\mandarin51.mp3\n"
     ]
    },
    {
     "name": "stderr",
     "output_type": "stream",
     "text": [
      " 49%|████▉     | 147/300 [00:19<00:21,  7.15it/s]"
     ]
    },
    {
     "name": "stdout",
     "output_type": "stream",
     "text": [
      "C:\\Users\\Hard Parikh\\Desktop\\speech-accent-archive\\recordings\\recordings\\mandarin52.mp3\n"
     ]
    },
    {
     "name": "stderr",
     "output_type": "stream",
     "text": [
      " 49%|████▉     | 148/300 [00:19<00:20,  7.31it/s]"
     ]
    },
    {
     "name": "stdout",
     "output_type": "stream",
     "text": [
      "C:\\Users\\Hard Parikh\\Desktop\\speech-accent-archive\\recordings\\recordings\\mandarin53.mp3\n"
     ]
    },
    {
     "name": "stderr",
     "output_type": "stream",
     "text": [
      " 50%|████▉     | 149/300 [00:19<00:20,  7.42it/s]"
     ]
    },
    {
     "name": "stdout",
     "output_type": "stream",
     "text": [
      "C:\\Users\\Hard Parikh\\Desktop\\speech-accent-archive\\recordings\\recordings\\mandarin54.mp3\n"
     ]
    },
    {
     "name": "stderr",
     "output_type": "stream",
     "text": [
      " 50%|█████     | 150/300 [00:20<00:19,  7.70it/s]"
     ]
    },
    {
     "name": "stdout",
     "output_type": "stream",
     "text": [
      "C:\\Users\\Hard Parikh\\Desktop\\speech-accent-archive\\recordings\\recordings\\arabic1.mp3\n"
     ]
    },
    {
     "name": "stderr",
     "output_type": "stream",
     "text": [
      " 50%|█████     | 151/300 [00:20<00:20,  7.33it/s]"
     ]
    },
    {
     "name": "stdout",
     "output_type": "stream",
     "text": [
      "C:\\Users\\Hard Parikh\\Desktop\\speech-accent-archive\\recordings\\recordings\\arabic10.mp3\n"
     ]
    },
    {
     "name": "stderr",
     "output_type": "stream",
     "text": [
      " 51%|█████     | 152/300 [00:20<00:20,  7.12it/s]"
     ]
    },
    {
     "name": "stdout",
     "output_type": "stream",
     "text": [
      "C:\\Users\\Hard Parikh\\Desktop\\speech-accent-archive\\recordings\\recordings\\arabic100.mp3\n"
     ]
    },
    {
     "name": "stderr",
     "output_type": "stream",
     "text": [
      " 51%|█████     | 153/300 [00:20<00:20,  7.15it/s]"
     ]
    },
    {
     "name": "stdout",
     "output_type": "stream",
     "text": [
      "C:\\Users\\Hard Parikh\\Desktop\\speech-accent-archive\\recordings\\recordings\\arabic101.mp3\n"
     ]
    },
    {
     "name": "stderr",
     "output_type": "stream",
     "text": [
      " 51%|█████▏    | 154/300 [00:20<00:20,  7.04it/s]"
     ]
    },
    {
     "name": "stdout",
     "output_type": "stream",
     "text": [
      "C:\\Users\\Hard Parikh\\Desktop\\speech-accent-archive\\recordings\\recordings\\arabic102.mp3\n"
     ]
    },
    {
     "name": "stderr",
     "output_type": "stream",
     "text": [
      " 52%|█████▏    | 155/300 [00:20<00:19,  7.41it/s]"
     ]
    },
    {
     "name": "stdout",
     "output_type": "stream",
     "text": [
      "C:\\Users\\Hard Parikh\\Desktop\\speech-accent-archive\\recordings\\recordings\\arabic11.mp3\n"
     ]
    },
    {
     "name": "stderr",
     "output_type": "stream",
     "text": [
      " 52%|█████▏    | 156/300 [00:20<00:19,  7.41it/s]"
     ]
    },
    {
     "name": "stdout",
     "output_type": "stream",
     "text": [
      "C:\\Users\\Hard Parikh\\Desktop\\speech-accent-archive\\recordings\\recordings\\arabic12.mp3\n"
     ]
    },
    {
     "name": "stderr",
     "output_type": "stream",
     "text": [
      " 52%|█████▏    | 157/300 [00:21<00:19,  7.19it/s]"
     ]
    },
    {
     "name": "stdout",
     "output_type": "stream",
     "text": [
      "C:\\Users\\Hard Parikh\\Desktop\\speech-accent-archive\\recordings\\recordings\\arabic13.mp3\n"
     ]
    },
    {
     "name": "stderr",
     "output_type": "stream",
     "text": [
      " 53%|█████▎    | 158/300 [00:21<00:19,  7.35it/s]"
     ]
    },
    {
     "name": "stdout",
     "output_type": "stream",
     "text": [
      "C:\\Users\\Hard Parikh\\Desktop\\speech-accent-archive\\recordings\\recordings\\arabic14.mp3\n"
     ]
    },
    {
     "name": "stderr",
     "output_type": "stream",
     "text": [
      " 53%|█████▎    | 159/300 [00:21<00:20,  6.93it/s]"
     ]
    },
    {
     "name": "stdout",
     "output_type": "stream",
     "text": [
      "C:\\Users\\Hard Parikh\\Desktop\\speech-accent-archive\\recordings\\recordings\\arabic15.mp3\n"
     ]
    },
    {
     "name": "stderr",
     "output_type": "stream",
     "text": [
      " 53%|█████▎    | 160/300 [00:21<00:20,  6.74it/s]"
     ]
    },
    {
     "name": "stdout",
     "output_type": "stream",
     "text": [
      "C:\\Users\\Hard Parikh\\Desktop\\speech-accent-archive\\recordings\\recordings\\arabic16.mp3\n"
     ]
    },
    {
     "name": "stderr",
     "output_type": "stream",
     "text": [
      " 54%|█████▎    | 161/300 [00:21<00:18,  7.32it/s]"
     ]
    },
    {
     "name": "stdout",
     "output_type": "stream",
     "text": [
      "C:\\Users\\Hard Parikh\\Desktop\\speech-accent-archive\\recordings\\recordings\\arabic17.mp3\n"
     ]
    },
    {
     "name": "stderr",
     "output_type": "stream",
     "text": [
      " 54%|█████▍    | 162/300 [00:21<00:18,  7.66it/s]"
     ]
    },
    {
     "name": "stdout",
     "output_type": "stream",
     "text": [
      "C:\\Users\\Hard Parikh\\Desktop\\speech-accent-archive\\recordings\\recordings\\arabic18.mp3\n"
     ]
    },
    {
     "name": "stderr",
     "output_type": "stream",
     "text": [
      " 54%|█████▍    | 163/300 [00:21<00:17,  7.76it/s]"
     ]
    },
    {
     "name": "stdout",
     "output_type": "stream",
     "text": [
      "C:\\Users\\Hard Parikh\\Desktop\\speech-accent-archive\\recordings\\recordings\\arabic19.mp3\n"
     ]
    },
    {
     "name": "stderr",
     "output_type": "stream",
     "text": [
      " 55%|█████▍    | 164/300 [00:21<00:18,  7.44it/s]"
     ]
    },
    {
     "name": "stdout",
     "output_type": "stream",
     "text": [
      "C:\\Users\\Hard Parikh\\Desktop\\speech-accent-archive\\recordings\\recordings\\arabic2.mp3\n"
     ]
    },
    {
     "name": "stderr",
     "output_type": "stream",
     "text": [
      " 55%|█████▌    | 165/300 [00:22<00:18,  7.40it/s]"
     ]
    },
    {
     "name": "stdout",
     "output_type": "stream",
     "text": [
      "C:\\Users\\Hard Parikh\\Desktop\\speech-accent-archive\\recordings\\recordings\\arabic20.mp3\n"
     ]
    },
    {
     "name": "stderr",
     "output_type": "stream",
     "text": [
      " 55%|█████▌    | 166/300 [00:22<00:17,  7.60it/s]"
     ]
    },
    {
     "name": "stdout",
     "output_type": "stream",
     "text": [
      "C:\\Users\\Hard Parikh\\Desktop\\speech-accent-archive\\recordings\\recordings\\arabic21.mp3\n"
     ]
    },
    {
     "name": "stderr",
     "output_type": "stream",
     "text": [
      " 56%|█████▌    | 167/300 [00:22<00:17,  7.72it/s]"
     ]
    },
    {
     "name": "stdout",
     "output_type": "stream",
     "text": [
      "C:\\Users\\Hard Parikh\\Desktop\\speech-accent-archive\\recordings\\recordings\\arabic22.mp3\n"
     ]
    },
    {
     "name": "stderr",
     "output_type": "stream",
     "text": [
      " 56%|█████▌    | 168/300 [00:22<00:17,  7.71it/s]"
     ]
    },
    {
     "name": "stdout",
     "output_type": "stream",
     "text": [
      "C:\\Users\\Hard Parikh\\Desktop\\speech-accent-archive\\recordings\\recordings\\arabic23.mp3\n"
     ]
    },
    {
     "name": "stderr",
     "output_type": "stream",
     "text": [
      " 56%|█████▋    | 169/300 [00:22<00:16,  7.74it/s]"
     ]
    },
    {
     "name": "stdout",
     "output_type": "stream",
     "text": [
      "C:\\Users\\Hard Parikh\\Desktop\\speech-accent-archive\\recordings\\recordings\\arabic24.mp3\n"
     ]
    },
    {
     "name": "stderr",
     "output_type": "stream",
     "text": [
      " 57%|█████▋    | 170/300 [00:22<00:17,  7.39it/s]"
     ]
    },
    {
     "name": "stdout",
     "output_type": "stream",
     "text": [
      "C:\\Users\\Hard Parikh\\Desktop\\speech-accent-archive\\recordings\\recordings\\arabic25.mp3\n"
     ]
    },
    {
     "name": "stderr",
     "output_type": "stream",
     "text": [
      " 57%|█████▋    | 171/300 [00:22<00:17,  7.45it/s]"
     ]
    },
    {
     "name": "stdout",
     "output_type": "stream",
     "text": [
      "C:\\Users\\Hard Parikh\\Desktop\\speech-accent-archive\\recordings\\recordings\\arabic26.mp3\n"
     ]
    },
    {
     "name": "stderr",
     "output_type": "stream",
     "text": [
      " 57%|█████▋    | 172/300 [00:23<00:17,  7.21it/s]"
     ]
    },
    {
     "name": "stdout",
     "output_type": "stream",
     "text": [
      "C:\\Users\\Hard Parikh\\Desktop\\speech-accent-archive\\recordings\\recordings\\arabic27.mp3\n"
     ]
    },
    {
     "name": "stderr",
     "output_type": "stream",
     "text": [
      " 58%|█████▊    | 173/300 [00:23<00:19,  6.36it/s]"
     ]
    },
    {
     "name": "stdout",
     "output_type": "stream",
     "text": [
      "C:\\Users\\Hard Parikh\\Desktop\\speech-accent-archive\\recordings\\recordings\\arabic28.mp3\n"
     ]
    },
    {
     "name": "stderr",
     "output_type": "stream",
     "text": [
      " 58%|█████▊    | 174/300 [00:23<00:22,  5.49it/s]"
     ]
    },
    {
     "name": "stdout",
     "output_type": "stream",
     "text": [
      "C:\\Users\\Hard Parikh\\Desktop\\speech-accent-archive\\recordings\\recordings\\arabic29.mp3\n"
     ]
    },
    {
     "name": "stderr",
     "output_type": "stream",
     "text": [
      " 58%|█████▊    | 175/300 [00:23<00:21,  5.91it/s]"
     ]
    },
    {
     "name": "stdout",
     "output_type": "stream",
     "text": [
      "C:\\Users\\Hard Parikh\\Desktop\\speech-accent-archive\\recordings\\recordings\\arabic3.mp3\n"
     ]
    },
    {
     "name": "stderr",
     "output_type": "stream",
     "text": [
      " 59%|█████▊    | 176/300 [00:23<00:20,  5.97it/s]"
     ]
    },
    {
     "name": "stdout",
     "output_type": "stream",
     "text": [
      "C:\\Users\\Hard Parikh\\Desktop\\speech-accent-archive\\recordings\\recordings\\arabic30.mp3\n"
     ]
    },
    {
     "name": "stderr",
     "output_type": "stream",
     "text": [
      " 59%|█████▉    | 177/300 [00:23<00:18,  6.56it/s]"
     ]
    },
    {
     "name": "stdout",
     "output_type": "stream",
     "text": [
      "C:\\Users\\Hard Parikh\\Desktop\\speech-accent-archive\\recordings\\recordings\\arabic31.mp3\n"
     ]
    },
    {
     "name": "stderr",
     "output_type": "stream",
     "text": [
      " 59%|█████▉    | 178/300 [00:24<00:19,  6.30it/s]"
     ]
    },
    {
     "name": "stdout",
     "output_type": "stream",
     "text": [
      "C:\\Users\\Hard Parikh\\Desktop\\speech-accent-archive\\recordings\\recordings\\arabic32.mp3\n"
     ]
    },
    {
     "name": "stderr",
     "output_type": "stream",
     "text": [
      " 60%|█████▉    | 179/300 [00:24<00:18,  6.71it/s]"
     ]
    },
    {
     "name": "stdout",
     "output_type": "stream",
     "text": [
      "C:\\Users\\Hard Parikh\\Desktop\\speech-accent-archive\\recordings\\recordings\\arabic33.mp3\n"
     ]
    },
    {
     "name": "stderr",
     "output_type": "stream",
     "text": [
      " 60%|██████    | 180/300 [00:24<00:18,  6.43it/s]"
     ]
    },
    {
     "name": "stdout",
     "output_type": "stream",
     "text": [
      "C:\\Users\\Hard Parikh\\Desktop\\speech-accent-archive\\recordings\\recordings\\arabic34.mp3\n"
     ]
    },
    {
     "name": "stderr",
     "output_type": "stream",
     "text": [
      " 60%|██████    | 181/300 [00:24<00:17,  6.92it/s]"
     ]
    },
    {
     "name": "stdout",
     "output_type": "stream",
     "text": [
      "C:\\Users\\Hard Parikh\\Desktop\\speech-accent-archive\\recordings\\recordings\\arabic35.mp3\n"
     ]
    },
    {
     "name": "stderr",
     "output_type": "stream",
     "text": [
      " 61%|██████    | 182/300 [00:24<00:16,  7.13it/s]"
     ]
    },
    {
     "name": "stdout",
     "output_type": "stream",
     "text": [
      "C:\\Users\\Hard Parikh\\Desktop\\speech-accent-archive\\recordings\\recordings\\arabic36.mp3\n"
     ]
    },
    {
     "name": "stderr",
     "output_type": "stream",
     "text": [
      " 61%|██████    | 183/300 [00:24<00:17,  6.83it/s]"
     ]
    },
    {
     "name": "stdout",
     "output_type": "stream",
     "text": [
      "C:\\Users\\Hard Parikh\\Desktop\\speech-accent-archive\\recordings\\recordings\\arabic37.mp3\n"
     ]
    },
    {
     "name": "stderr",
     "output_type": "stream",
     "text": [
      " 61%|██████▏   | 184/300 [00:24<00:16,  7.24it/s]"
     ]
    },
    {
     "name": "stdout",
     "output_type": "stream",
     "text": [
      "C:\\Users\\Hard Parikh\\Desktop\\speech-accent-archive\\recordings\\recordings\\arabic38.mp3\n"
     ]
    },
    {
     "name": "stderr",
     "output_type": "stream",
     "text": [
      " 62%|██████▏   | 185/300 [00:25<00:16,  7.03it/s]"
     ]
    },
    {
     "name": "stdout",
     "output_type": "stream",
     "text": [
      "C:\\Users\\Hard Parikh\\Desktop\\speech-accent-archive\\recordings\\recordings\\arabic39.mp3\n"
     ]
    },
    {
     "name": "stderr",
     "output_type": "stream",
     "text": [
      " 62%|██████▏   | 186/300 [00:25<00:16,  6.83it/s]"
     ]
    },
    {
     "name": "stdout",
     "output_type": "stream",
     "text": [
      "C:\\Users\\Hard Parikh\\Desktop\\speech-accent-archive\\recordings\\recordings\\arabic4.mp3\n"
     ]
    },
    {
     "name": "stderr",
     "output_type": "stream",
     "text": [
      " 62%|██████▏   | 187/300 [00:25<00:15,  7.19it/s]"
     ]
    },
    {
     "name": "stdout",
     "output_type": "stream",
     "text": [
      "C:\\Users\\Hard Parikh\\Desktop\\speech-accent-archive\\recordings\\recordings\\arabic40.mp3\n"
     ]
    },
    {
     "name": "stderr",
     "output_type": "stream",
     "text": [
      " 63%|██████▎   | 188/300 [00:25<00:16,  6.91it/s]"
     ]
    },
    {
     "name": "stdout",
     "output_type": "stream",
     "text": [
      "C:\\Users\\Hard Parikh\\Desktop\\speech-accent-archive\\recordings\\recordings\\arabic41.mp3\n"
     ]
    },
    {
     "name": "stderr",
     "output_type": "stream",
     "text": [
      " 63%|██████▎   | 189/300 [00:25<00:16,  6.65it/s]"
     ]
    },
    {
     "name": "stdout",
     "output_type": "stream",
     "text": [
      "C:\\Users\\Hard Parikh\\Desktop\\speech-accent-archive\\recordings\\recordings\\arabic42.mp3\n"
     ]
    },
    {
     "name": "stderr",
     "output_type": "stream",
     "text": [
      " 63%|██████▎   | 190/300 [00:25<00:18,  6.06it/s]"
     ]
    },
    {
     "name": "stdout",
     "output_type": "stream",
     "text": [
      "C:\\Users\\Hard Parikh\\Desktop\\speech-accent-archive\\recordings\\recordings\\arabic43.mp3\n"
     ]
    },
    {
     "name": "stderr",
     "output_type": "stream",
     "text": [
      " 64%|██████▎   | 191/300 [00:25<00:17,  6.31it/s]"
     ]
    },
    {
     "name": "stdout",
     "output_type": "stream",
     "text": [
      "C:\\Users\\Hard Parikh\\Desktop\\speech-accent-archive\\recordings\\recordings\\arabic44.mp3\n"
     ]
    },
    {
     "name": "stderr",
     "output_type": "stream",
     "text": [
      " 64%|██████▍   | 192/300 [00:26<00:16,  6.47it/s]"
     ]
    },
    {
     "name": "stdout",
     "output_type": "stream",
     "text": [
      "C:\\Users\\Hard Parikh\\Desktop\\speech-accent-archive\\recordings\\recordings\\arabic45.mp3\n"
     ]
    },
    {
     "name": "stderr",
     "output_type": "stream",
     "text": [
      " 64%|██████▍   | 193/300 [00:26<00:16,  6.47it/s]"
     ]
    },
    {
     "name": "stdout",
     "output_type": "stream",
     "text": [
      "C:\\Users\\Hard Parikh\\Desktop\\speech-accent-archive\\recordings\\recordings\\arabic46.mp3\n"
     ]
    },
    {
     "name": "stderr",
     "output_type": "stream",
     "text": [
      " 65%|██████▍   | 194/300 [00:26<00:16,  6.46it/s]"
     ]
    },
    {
     "name": "stdout",
     "output_type": "stream",
     "text": [
      "C:\\Users\\Hard Parikh\\Desktop\\speech-accent-archive\\recordings\\recordings\\arabic47.mp3\n"
     ]
    },
    {
     "name": "stderr",
     "output_type": "stream",
     "text": [
      " 65%|██████▌   | 195/300 [00:26<00:17,  5.86it/s]"
     ]
    },
    {
     "name": "stdout",
     "output_type": "stream",
     "text": [
      "C:\\Users\\Hard Parikh\\Desktop\\speech-accent-archive\\recordings\\recordings\\arabic48.mp3\n"
     ]
    },
    {
     "name": "stderr",
     "output_type": "stream",
     "text": [
      " 65%|██████▌   | 196/300 [00:26<00:16,  6.21it/s]"
     ]
    },
    {
     "name": "stdout",
     "output_type": "stream",
     "text": [
      "C:\\Users\\Hard Parikh\\Desktop\\speech-accent-archive\\recordings\\recordings\\arabic49.mp3\n"
     ]
    },
    {
     "name": "stderr",
     "output_type": "stream",
     "text": [
      " 66%|██████▌   | 197/300 [00:26<00:16,  6.42it/s]"
     ]
    },
    {
     "name": "stdout",
     "output_type": "stream",
     "text": [
      "C:\\Users\\Hard Parikh\\Desktop\\speech-accent-archive\\recordings\\recordings\\arabic5.mp3\n"
     ]
    },
    {
     "name": "stderr",
     "output_type": "stream",
     "text": [
      " 66%|██████▌   | 198/300 [00:27<00:15,  6.72it/s]"
     ]
    },
    {
     "name": "stdout",
     "output_type": "stream",
     "text": [
      "C:\\Users\\Hard Parikh\\Desktop\\speech-accent-archive\\recordings\\recordings\\arabic50.mp3\n"
     ]
    },
    {
     "name": "stderr",
     "output_type": "stream",
     "text": [
      " 66%|██████▋   | 199/300 [00:27<00:14,  6.77it/s]"
     ]
    },
    {
     "name": "stdout",
     "output_type": "stream",
     "text": [
      "C:\\Users\\Hard Parikh\\Desktop\\speech-accent-archive\\recordings\\recordings\\arabic51.mp3\n"
     ]
    },
    {
     "name": "stderr",
     "output_type": "stream",
     "text": [
      " 67%|██████▋   | 200/300 [00:27<00:13,  7.20it/s]"
     ]
    },
    {
     "name": "stdout",
     "output_type": "stream",
     "text": [
      "C:\\Users\\Hard Parikh\\Desktop\\speech-accent-archive\\recordings\\recordings\\spanish1.mp3\n"
     ]
    },
    {
     "name": "stderr",
     "output_type": "stream",
     "text": [
      " 67%|██████▋   | 201/300 [00:27<00:13,  7.22it/s]"
     ]
    },
    {
     "name": "stdout",
     "output_type": "stream",
     "text": [
      "C:\\Users\\Hard Parikh\\Desktop\\speech-accent-archive\\recordings\\recordings\\spanish10.mp3\n"
     ]
    },
    {
     "name": "stderr",
     "output_type": "stream",
     "text": [
      " 67%|██████▋   | 202/300 [00:27<00:13,  7.22it/s]"
     ]
    },
    {
     "name": "stdout",
     "output_type": "stream",
     "text": [
      "C:\\Users\\Hard Parikh\\Desktop\\speech-accent-archive\\recordings\\recordings\\spanish100.mp3\n"
     ]
    },
    {
     "name": "stderr",
     "output_type": "stream",
     "text": [
      " 68%|██████▊   | 203/300 [00:27<00:13,  7.07it/s]"
     ]
    },
    {
     "name": "stdout",
     "output_type": "stream",
     "text": [
      "C:\\Users\\Hard Parikh\\Desktop\\speech-accent-archive\\recordings\\recordings\\spanish101.mp3\n"
     ]
    },
    {
     "name": "stderr",
     "output_type": "stream",
     "text": [
      " 68%|██████▊   | 204/300 [00:27<00:14,  6.51it/s]"
     ]
    },
    {
     "name": "stdout",
     "output_type": "stream",
     "text": [
      "C:\\Users\\Hard Parikh\\Desktop\\speech-accent-archive\\recordings\\recordings\\spanish102.mp3\n"
     ]
    },
    {
     "name": "stderr",
     "output_type": "stream",
     "text": [
      " 68%|██████▊   | 205/300 [00:28<00:14,  6.69it/s]"
     ]
    },
    {
     "name": "stdout",
     "output_type": "stream",
     "text": [
      "C:\\Users\\Hard Parikh\\Desktop\\speech-accent-archive\\recordings\\recordings\\spanish103.mp3\n"
     ]
    },
    {
     "name": "stderr",
     "output_type": "stream",
     "text": [
      " 69%|██████▊   | 206/300 [00:28<00:14,  6.55it/s]"
     ]
    },
    {
     "name": "stdout",
     "output_type": "stream",
     "text": [
      "C:\\Users\\Hard Parikh\\Desktop\\speech-accent-archive\\recordings\\recordings\\spanish104.mp3\n"
     ]
    },
    {
     "name": "stderr",
     "output_type": "stream",
     "text": [
      " 69%|██████▉   | 207/300 [00:28<00:14,  6.45it/s]"
     ]
    },
    {
     "name": "stdout",
     "output_type": "stream",
     "text": [
      "C:\\Users\\Hard Parikh\\Desktop\\speech-accent-archive\\recordings\\recordings\\spanish105.mp3\n"
     ]
    },
    {
     "name": "stderr",
     "output_type": "stream",
     "text": [
      " 69%|██████▉   | 208/300 [00:28<00:13,  6.79it/s]"
     ]
    },
    {
     "name": "stdout",
     "output_type": "stream",
     "text": [
      "C:\\Users\\Hard Parikh\\Desktop\\speech-accent-archive\\recordings\\recordings\\spanish106.mp3\n"
     ]
    },
    {
     "name": "stderr",
     "output_type": "stream",
     "text": [
      " 70%|██████▉   | 209/300 [00:28<00:12,  7.22it/s]"
     ]
    },
    {
     "name": "stdout",
     "output_type": "stream",
     "text": [
      "C:\\Users\\Hard Parikh\\Desktop\\speech-accent-archive\\recordings\\recordings\\spanish107.mp3\n"
     ]
    },
    {
     "name": "stderr",
     "output_type": "stream",
     "text": [
      " 70%|███████   | 210/300 [00:28<00:12,  7.08it/s]"
     ]
    },
    {
     "name": "stdout",
     "output_type": "stream",
     "text": [
      "C:\\Users\\Hard Parikh\\Desktop\\speech-accent-archive\\recordings\\recordings\\spanish108.mp3\n"
     ]
    },
    {
     "name": "stderr",
     "output_type": "stream",
     "text": [
      " 70%|███████   | 211/300 [00:28<00:11,  7.61it/s]"
     ]
    },
    {
     "name": "stdout",
     "output_type": "stream",
     "text": [
      "C:\\Users\\Hard Parikh\\Desktop\\speech-accent-archive\\recordings\\recordings\\spanish109.mp3\n"
     ]
    },
    {
     "name": "stderr",
     "output_type": "stream",
     "text": [
      " 71%|███████   | 212/300 [00:29<00:11,  7.90it/s]"
     ]
    },
    {
     "name": "stdout",
     "output_type": "stream",
     "text": [
      "C:\\Users\\Hard Parikh\\Desktop\\speech-accent-archive\\recordings\\recordings\\spanish11.mp3\n"
     ]
    },
    {
     "name": "stderr",
     "output_type": "stream",
     "text": [
      " 71%|███████   | 213/300 [00:29<00:11,  7.49it/s]"
     ]
    },
    {
     "name": "stdout",
     "output_type": "stream",
     "text": [
      "C:\\Users\\Hard Parikh\\Desktop\\speech-accent-archive\\recordings\\recordings\\spanish110.mp3\n"
     ]
    },
    {
     "name": "stderr",
     "output_type": "stream",
     "text": [
      " 71%|███████▏  | 214/300 [00:29<00:11,  7.50it/s]"
     ]
    },
    {
     "name": "stdout",
     "output_type": "stream",
     "text": [
      "C:\\Users\\Hard Parikh\\Desktop\\speech-accent-archive\\recordings\\recordings\\spanish111.mp3\n"
     ]
    },
    {
     "name": "stderr",
     "output_type": "stream",
     "text": [
      " 72%|███████▏  | 215/300 [00:29<00:11,  7.50it/s]"
     ]
    },
    {
     "name": "stdout",
     "output_type": "stream",
     "text": [
      "C:\\Users\\Hard Parikh\\Desktop\\speech-accent-archive\\recordings\\recordings\\spanish112.mp3\n"
     ]
    },
    {
     "name": "stderr",
     "output_type": "stream",
     "text": [
      " 72%|███████▏  | 216/300 [00:29<00:11,  7.31it/s]"
     ]
    },
    {
     "name": "stdout",
     "output_type": "stream",
     "text": [
      "C:\\Users\\Hard Parikh\\Desktop\\speech-accent-archive\\recordings\\recordings\\spanish113.mp3\n"
     ]
    },
    {
     "name": "stderr",
     "output_type": "stream",
     "text": [
      " 72%|███████▏  | 217/300 [00:29<00:11,  7.27it/s]"
     ]
    },
    {
     "name": "stdout",
     "output_type": "stream",
     "text": [
      "C:\\Users\\Hard Parikh\\Desktop\\speech-accent-archive\\recordings\\recordings\\spanish114.mp3\n"
     ]
    },
    {
     "name": "stderr",
     "output_type": "stream",
     "text": [
      " 73%|███████▎  | 218/300 [00:29<00:10,  7.72it/s]"
     ]
    },
    {
     "name": "stdout",
     "output_type": "stream",
     "text": [
      "C:\\Users\\Hard Parikh\\Desktop\\speech-accent-archive\\recordings\\recordings\\spanish115.mp3\n"
     ]
    },
    {
     "name": "stderr",
     "output_type": "stream",
     "text": [
      " 73%|███████▎  | 219/300 [00:29<00:10,  7.72it/s]"
     ]
    },
    {
     "name": "stdout",
     "output_type": "stream",
     "text": [
      "C:\\Users\\Hard Parikh\\Desktop\\speech-accent-archive\\recordings\\recordings\\spanish116.mp3\n"
     ]
    },
    {
     "name": "stderr",
     "output_type": "stream",
     "text": [
      " 73%|███████▎  | 220/300 [00:30<00:10,  7.54it/s]"
     ]
    },
    {
     "name": "stdout",
     "output_type": "stream",
     "text": [
      "C:\\Users\\Hard Parikh\\Desktop\\speech-accent-archive\\recordings\\recordings\\spanish117.mp3\n"
     ]
    },
    {
     "name": "stderr",
     "output_type": "stream",
     "text": [
      " 74%|███████▎  | 221/300 [00:30<00:10,  7.25it/s]"
     ]
    },
    {
     "name": "stdout",
     "output_type": "stream",
     "text": [
      "C:\\Users\\Hard Parikh\\Desktop\\speech-accent-archive\\recordings\\recordings\\spanish118.mp3\n"
     ]
    },
    {
     "name": "stderr",
     "output_type": "stream",
     "text": [
      " 74%|███████▍  | 222/300 [00:30<00:10,  7.22it/s]"
     ]
    },
    {
     "name": "stdout",
     "output_type": "stream",
     "text": [
      "C:\\Users\\Hard Parikh\\Desktop\\speech-accent-archive\\recordings\\recordings\\spanish119.mp3\n"
     ]
    },
    {
     "name": "stderr",
     "output_type": "stream",
     "text": [
      " 74%|███████▍  | 223/300 [00:30<00:10,  7.04it/s]"
     ]
    },
    {
     "name": "stdout",
     "output_type": "stream",
     "text": [
      "C:\\Users\\Hard Parikh\\Desktop\\speech-accent-archive\\recordings\\recordings\\spanish12.mp3\n"
     ]
    },
    {
     "name": "stderr",
     "output_type": "stream",
     "text": [
      " 75%|███████▍  | 224/300 [00:30<00:12,  6.01it/s]"
     ]
    },
    {
     "name": "stdout",
     "output_type": "stream",
     "text": [
      "C:\\Users\\Hard Parikh\\Desktop\\speech-accent-archive\\recordings\\recordings\\spanish120.mp3\n"
     ]
    },
    {
     "name": "stderr",
     "output_type": "stream",
     "text": [
      " 75%|███████▌  | 225/300 [00:30<00:11,  6.25it/s]"
     ]
    },
    {
     "name": "stdout",
     "output_type": "stream",
     "text": [
      "C:\\Users\\Hard Parikh\\Desktop\\speech-accent-archive\\recordings\\recordings\\spanish121.mp3\n"
     ]
    },
    {
     "name": "stderr",
     "output_type": "stream",
     "text": [
      " 75%|███████▌  | 226/300 [00:31<00:12,  6.13it/s]"
     ]
    },
    {
     "name": "stdout",
     "output_type": "stream",
     "text": [
      "C:\\Users\\Hard Parikh\\Desktop\\speech-accent-archive\\recordings\\recordings\\spanish122.mp3\n"
     ]
    },
    {
     "name": "stderr",
     "output_type": "stream",
     "text": [
      " 76%|███████▌  | 227/300 [00:31<00:11,  6.53it/s]"
     ]
    },
    {
     "name": "stdout",
     "output_type": "stream",
     "text": [
      "C:\\Users\\Hard Parikh\\Desktop\\speech-accent-archive\\recordings\\recordings\\spanish123.mp3\n"
     ]
    },
    {
     "name": "stderr",
     "output_type": "stream",
     "text": [
      " 76%|███████▌  | 228/300 [00:31<00:11,  6.30it/s]"
     ]
    },
    {
     "name": "stdout",
     "output_type": "stream",
     "text": [
      "C:\\Users\\Hard Parikh\\Desktop\\speech-accent-archive\\recordings\\recordings\\spanish124.mp3\n"
     ]
    },
    {
     "name": "stderr",
     "output_type": "stream",
     "text": [
      " 76%|███████▋  | 229/300 [00:31<00:10,  6.51it/s]"
     ]
    },
    {
     "name": "stdout",
     "output_type": "stream",
     "text": [
      "C:\\Users\\Hard Parikh\\Desktop\\speech-accent-archive\\recordings\\recordings\\spanish125.mp3\n"
     ]
    },
    {
     "name": "stderr",
     "output_type": "stream",
     "text": [
      " 77%|███████▋  | 230/300 [00:31<00:10,  6.85it/s]"
     ]
    },
    {
     "name": "stdout",
     "output_type": "stream",
     "text": [
      "C:\\Users\\Hard Parikh\\Desktop\\speech-accent-archive\\recordings\\recordings\\spanish126.mp3\n"
     ]
    },
    {
     "name": "stderr",
     "output_type": "stream",
     "text": [
      " 77%|███████▋  | 231/300 [00:31<00:10,  6.80it/s]"
     ]
    },
    {
     "name": "stdout",
     "output_type": "stream",
     "text": [
      "C:\\Users\\Hard Parikh\\Desktop\\speech-accent-archive\\recordings\\recordings\\spanish127.mp3\n"
     ]
    },
    {
     "name": "stderr",
     "output_type": "stream",
     "text": [
      " 77%|███████▋  | 232/300 [00:31<00:10,  6.49it/s]"
     ]
    },
    {
     "name": "stdout",
     "output_type": "stream",
     "text": [
      "C:\\Users\\Hard Parikh\\Desktop\\speech-accent-archive\\recordings\\recordings\\spanish128.mp3\n"
     ]
    },
    {
     "name": "stderr",
     "output_type": "stream",
     "text": [
      " 78%|███████▊  | 233/300 [00:32<00:10,  6.69it/s]"
     ]
    },
    {
     "name": "stdout",
     "output_type": "stream",
     "text": [
      "C:\\Users\\Hard Parikh\\Desktop\\speech-accent-archive\\recordings\\recordings\\spanish129.mp3\n"
     ]
    },
    {
     "name": "stderr",
     "output_type": "stream",
     "text": [
      " 78%|███████▊  | 234/300 [00:32<00:09,  6.81it/s]"
     ]
    },
    {
     "name": "stdout",
     "output_type": "stream",
     "text": [
      "C:\\Users\\Hard Parikh\\Desktop\\speech-accent-archive\\recordings\\recordings\\spanish13.mp3\n"
     ]
    },
    {
     "name": "stderr",
     "output_type": "stream",
     "text": [
      " 78%|███████▊  | 235/300 [00:32<00:09,  6.92it/s]"
     ]
    },
    {
     "name": "stdout",
     "output_type": "stream",
     "text": [
      "C:\\Users\\Hard Parikh\\Desktop\\speech-accent-archive\\recordings\\recordings\\spanish130.mp3\n"
     ]
    },
    {
     "name": "stderr",
     "output_type": "stream",
     "text": [
      " 79%|███████▊  | 236/300 [00:32<00:08,  7.43it/s]"
     ]
    },
    {
     "name": "stdout",
     "output_type": "stream",
     "text": [
      "C:\\Users\\Hard Parikh\\Desktop\\speech-accent-archive\\recordings\\recordings\\spanish131.mp3\n"
     ]
    },
    {
     "name": "stderr",
     "output_type": "stream",
     "text": [
      " 79%|███████▉  | 237/300 [00:32<00:09,  6.58it/s]"
     ]
    },
    {
     "name": "stdout",
     "output_type": "stream",
     "text": [
      "C:\\Users\\Hard Parikh\\Desktop\\speech-accent-archive\\recordings\\recordings\\spanish132.mp3\n"
     ]
    },
    {
     "name": "stderr",
     "output_type": "stream",
     "text": [
      " 79%|███████▉  | 238/300 [00:32<00:08,  7.09it/s]"
     ]
    },
    {
     "name": "stdout",
     "output_type": "stream",
     "text": [
      "C:\\Users\\Hard Parikh\\Desktop\\speech-accent-archive\\recordings\\recordings\\spanish133.mp3\n"
     ]
    },
    {
     "name": "stderr",
     "output_type": "stream",
     "text": [
      " 80%|███████▉  | 239/300 [00:32<00:08,  7.32it/s]"
     ]
    },
    {
     "name": "stdout",
     "output_type": "stream",
     "text": [
      "C:\\Users\\Hard Parikh\\Desktop\\speech-accent-archive\\recordings\\recordings\\spanish134.mp3\n"
     ]
    },
    {
     "name": "stderr",
     "output_type": "stream",
     "text": [
      " 80%|████████  | 240/300 [00:33<00:08,  7.30it/s]"
     ]
    },
    {
     "name": "stdout",
     "output_type": "stream",
     "text": [
      "C:\\Users\\Hard Parikh\\Desktop\\speech-accent-archive\\recordings\\recordings\\spanish135.mp3\n"
     ]
    },
    {
     "name": "stderr",
     "output_type": "stream",
     "text": [
      " 80%|████████  | 241/300 [00:33<00:07,  7.57it/s]"
     ]
    },
    {
     "name": "stdout",
     "output_type": "stream",
     "text": [
      "C:\\Users\\Hard Parikh\\Desktop\\speech-accent-archive\\recordings\\recordings\\spanish136.mp3\n"
     ]
    },
    {
     "name": "stderr",
     "output_type": "stream",
     "text": [
      " 81%|████████  | 242/300 [00:33<00:07,  7.89it/s]"
     ]
    },
    {
     "name": "stdout",
     "output_type": "stream",
     "text": [
      "C:\\Users\\Hard Parikh\\Desktop\\speech-accent-archive\\recordings\\recordings\\spanish137.mp3\n"
     ]
    },
    {
     "name": "stderr",
     "output_type": "stream",
     "text": [
      " 81%|████████  | 243/300 [00:33<00:07,  7.76it/s]"
     ]
    },
    {
     "name": "stdout",
     "output_type": "stream",
     "text": [
      "C:\\Users\\Hard Parikh\\Desktop\\speech-accent-archive\\recordings\\recordings\\spanish138.mp3\n"
     ]
    },
    {
     "name": "stderr",
     "output_type": "stream",
     "text": [
      " 81%|████████▏ | 244/300 [00:33<00:07,  7.94it/s]"
     ]
    },
    {
     "name": "stdout",
     "output_type": "stream",
     "text": [
      "C:\\Users\\Hard Parikh\\Desktop\\speech-accent-archive\\recordings\\recordings\\spanish139.mp3\n"
     ]
    },
    {
     "name": "stderr",
     "output_type": "stream",
     "text": [
      " 82%|████████▏ | 245/300 [00:33<00:06,  7.87it/s]"
     ]
    },
    {
     "name": "stdout",
     "output_type": "stream",
     "text": [
      "C:\\Users\\Hard Parikh\\Desktop\\speech-accent-archive\\recordings\\recordings\\spanish14.mp3\n"
     ]
    },
    {
     "name": "stderr",
     "output_type": "stream",
     "text": [
      " 82%|████████▏ | 246/300 [00:33<00:06,  8.02it/s]"
     ]
    },
    {
     "name": "stdout",
     "output_type": "stream",
     "text": [
      "C:\\Users\\Hard Parikh\\Desktop\\speech-accent-archive\\recordings\\recordings\\spanish140.mp3\n"
     ]
    },
    {
     "name": "stderr",
     "output_type": "stream",
     "text": [
      " 82%|████████▏ | 247/300 [00:33<00:06,  7.72it/s]"
     ]
    },
    {
     "name": "stdout",
     "output_type": "stream",
     "text": [
      "C:\\Users\\Hard Parikh\\Desktop\\speech-accent-archive\\recordings\\recordings\\spanish141.mp3\n"
     ]
    },
    {
     "name": "stderr",
     "output_type": "stream",
     "text": [
      " 83%|████████▎ | 248/300 [00:34<00:06,  7.71it/s]"
     ]
    },
    {
     "name": "stdout",
     "output_type": "stream",
     "text": [
      "C:\\Users\\Hard Parikh\\Desktop\\speech-accent-archive\\recordings\\recordings\\spanish142.mp3\n"
     ]
    },
    {
     "name": "stderr",
     "output_type": "stream",
     "text": [
      " 83%|████████▎ | 249/300 [00:34<00:06,  7.90it/s]"
     ]
    },
    {
     "name": "stdout",
     "output_type": "stream",
     "text": [
      "C:\\Users\\Hard Parikh\\Desktop\\speech-accent-archive\\recordings\\recordings\\spanish143.mp3\n"
     ]
    },
    {
     "name": "stderr",
     "output_type": "stream",
     "text": [
      " 83%|████████▎ | 250/300 [00:34<00:06,  7.64it/s]"
     ]
    },
    {
     "name": "stdout",
     "output_type": "stream",
     "text": [
      "C:\\Users\\Hard Parikh\\Desktop\\speech-accent-archive\\recordings\\recordings\\english1.mp3\n"
     ]
    },
    {
     "name": "stderr",
     "output_type": "stream",
     "text": [
      " 84%|████████▎ | 251/300 [00:34<00:06,  7.67it/s]"
     ]
    },
    {
     "name": "stdout",
     "output_type": "stream",
     "text": [
      "C:\\Users\\Hard Parikh\\Desktop\\speech-accent-archive\\recordings\\recordings\\english10.mp3\n"
     ]
    },
    {
     "name": "stderr",
     "output_type": "stream",
     "text": [
      " 84%|████████▍ | 252/300 [00:34<00:06,  7.69it/s]"
     ]
    },
    {
     "name": "stdout",
     "output_type": "stream",
     "text": [
      "C:\\Users\\Hard Parikh\\Desktop\\speech-accent-archive\\recordings\\recordings\\english100.mp3\n"
     ]
    },
    {
     "name": "stderr",
     "output_type": "stream",
     "text": [
      " 84%|████████▍ | 253/300 [00:34<00:05,  8.07it/s]"
     ]
    },
    {
     "name": "stdout",
     "output_type": "stream",
     "text": [
      "C:\\Users\\Hard Parikh\\Desktop\\speech-accent-archive\\recordings\\recordings\\english101.mp3\n"
     ]
    },
    {
     "name": "stderr",
     "output_type": "stream",
     "text": [
      " 85%|████████▍ | 254/300 [00:34<00:05,  8.54it/s]"
     ]
    },
    {
     "name": "stdout",
     "output_type": "stream",
     "text": [
      "C:\\Users\\Hard Parikh\\Desktop\\speech-accent-archive\\recordings\\recordings\\english102.mp3\n"
     ]
    },
    {
     "name": "stderr",
     "output_type": "stream",
     "text": [
      " 85%|████████▌ | 255/300 [00:34<00:05,  8.66it/s]"
     ]
    },
    {
     "name": "stdout",
     "output_type": "stream",
     "text": [
      "C:\\Users\\Hard Parikh\\Desktop\\speech-accent-archive\\recordings\\recordings\\english103.mp3\n"
     ]
    },
    {
     "name": "stderr",
     "output_type": "stream",
     "text": [
      " 85%|████████▌ | 256/300 [00:35<00:04,  8.83it/s]"
     ]
    },
    {
     "name": "stdout",
     "output_type": "stream",
     "text": [
      "C:\\Users\\Hard Parikh\\Desktop\\speech-accent-archive\\recordings\\recordings\\english104.mp3\n"
     ]
    },
    {
     "name": "stderr",
     "output_type": "stream",
     "text": [
      " 86%|████████▌ | 257/300 [00:35<00:04,  8.89it/s]"
     ]
    },
    {
     "name": "stdout",
     "output_type": "stream",
     "text": [
      "C:\\Users\\Hard Parikh\\Desktop\\speech-accent-archive\\recordings\\recordings\\english105.mp3\n"
     ]
    },
    {
     "name": "stderr",
     "output_type": "stream",
     "text": [
      " 86%|████████▌ | 258/300 [00:35<00:04,  8.96it/s]"
     ]
    },
    {
     "name": "stdout",
     "output_type": "stream",
     "text": [
      "C:\\Users\\Hard Parikh\\Desktop\\speech-accent-archive\\recordings\\recordings\\english106.mp3\n"
     ]
    },
    {
     "name": "stderr",
     "output_type": "stream",
     "text": [
      " 86%|████████▋ | 259/300 [00:35<00:04,  8.99it/s]"
     ]
    },
    {
     "name": "stdout",
     "output_type": "stream",
     "text": [
      "C:\\Users\\Hard Parikh\\Desktop\\speech-accent-archive\\recordings\\recordings\\english107.mp3\n"
     ]
    },
    {
     "name": "stderr",
     "output_type": "stream",
     "text": [
      " 87%|████████▋ | 260/300 [00:35<00:04,  8.71it/s]"
     ]
    },
    {
     "name": "stdout",
     "output_type": "stream",
     "text": [
      "C:\\Users\\Hard Parikh\\Desktop\\speech-accent-archive\\recordings\\recordings\\english108.mp3\n"
     ]
    },
    {
     "name": "stderr",
     "output_type": "stream",
     "text": [
      " 87%|████████▋ | 261/300 [00:35<00:04,  8.71it/s]"
     ]
    },
    {
     "name": "stdout",
     "output_type": "stream",
     "text": [
      "C:\\Users\\Hard Parikh\\Desktop\\speech-accent-archive\\recordings\\recordings\\english109.mp3\n"
     ]
    },
    {
     "name": "stderr",
     "output_type": "stream",
     "text": [
      " 87%|████████▋ | 262/300 [00:35<00:04,  8.70it/s]"
     ]
    },
    {
     "name": "stdout",
     "output_type": "stream",
     "text": [
      "C:\\Users\\Hard Parikh\\Desktop\\speech-accent-archive\\recordings\\recordings\\english11.mp3\n"
     ]
    },
    {
     "name": "stderr",
     "output_type": "stream",
     "text": [
      " 88%|████████▊ | 263/300 [00:35<00:04,  8.33it/s]"
     ]
    },
    {
     "name": "stdout",
     "output_type": "stream",
     "text": [
      "C:\\Users\\Hard Parikh\\Desktop\\speech-accent-archive\\recordings\\recordings\\english110.mp3\n"
     ]
    },
    {
     "name": "stderr",
     "output_type": "stream",
     "text": [
      " 88%|████████▊ | 264/300 [00:35<00:04,  7.91it/s]"
     ]
    },
    {
     "name": "stdout",
     "output_type": "stream",
     "text": [
      "C:\\Users\\Hard Parikh\\Desktop\\speech-accent-archive\\recordings\\recordings\\english111.mp3\n"
     ]
    },
    {
     "name": "stderr",
     "output_type": "stream",
     "text": [
      " 88%|████████▊ | 265/300 [00:36<00:04,  7.97it/s]"
     ]
    },
    {
     "name": "stdout",
     "output_type": "stream",
     "text": [
      "C:\\Users\\Hard Parikh\\Desktop\\speech-accent-archive\\recordings\\recordings\\english112.mp3\n"
     ]
    },
    {
     "name": "stderr",
     "output_type": "stream",
     "text": [
      " 89%|████████▊ | 266/300 [00:36<00:04,  7.75it/s]"
     ]
    },
    {
     "name": "stdout",
     "output_type": "stream",
     "text": [
      "C:\\Users\\Hard Parikh\\Desktop\\speech-accent-archive\\recordings\\recordings\\english113.mp3\n"
     ]
    },
    {
     "name": "stderr",
     "output_type": "stream",
     "text": [
      " 89%|████████▉ | 267/300 [00:36<00:04,  7.90it/s]"
     ]
    },
    {
     "name": "stdout",
     "output_type": "stream",
     "text": [
      "C:\\Users\\Hard Parikh\\Desktop\\speech-accent-archive\\recordings\\recordings\\english114.mp3\n"
     ]
    },
    {
     "name": "stderr",
     "output_type": "stream",
     "text": [
      " 89%|████████▉ | 268/300 [00:36<00:03,  8.04it/s]"
     ]
    },
    {
     "name": "stdout",
     "output_type": "stream",
     "text": [
      "C:\\Users\\Hard Parikh\\Desktop\\speech-accent-archive\\recordings\\recordings\\english115.mp3\n"
     ]
    },
    {
     "name": "stderr",
     "output_type": "stream",
     "text": [
      " 90%|████████▉ | 269/300 [00:36<00:03,  8.27it/s]"
     ]
    },
    {
     "name": "stdout",
     "output_type": "stream",
     "text": [
      "C:\\Users\\Hard Parikh\\Desktop\\speech-accent-archive\\recordings\\recordings\\english116.mp3\n"
     ]
    },
    {
     "name": "stderr",
     "output_type": "stream",
     "text": [
      " 90%|█████████ | 270/300 [00:36<00:03,  8.29it/s]"
     ]
    },
    {
     "name": "stdout",
     "output_type": "stream",
     "text": [
      "C:\\Users\\Hard Parikh\\Desktop\\speech-accent-archive\\recordings\\recordings\\english117.mp3\n"
     ]
    },
    {
     "name": "stderr",
     "output_type": "stream",
     "text": [
      " 90%|█████████ | 271/300 [00:36<00:03,  8.33it/s]"
     ]
    },
    {
     "name": "stdout",
     "output_type": "stream",
     "text": [
      "C:\\Users\\Hard Parikh\\Desktop\\speech-accent-archive\\recordings\\recordings\\english118.mp3\n"
     ]
    },
    {
     "name": "stderr",
     "output_type": "stream",
     "text": [
      " 91%|█████████ | 272/300 [00:36<00:03,  8.51it/s]"
     ]
    },
    {
     "name": "stdout",
     "output_type": "stream",
     "text": [
      "C:\\Users\\Hard Parikh\\Desktop\\speech-accent-archive\\recordings\\recordings\\english119.mp3\n"
     ]
    },
    {
     "name": "stderr",
     "output_type": "stream",
     "text": [
      " 91%|█████████ | 273/300 [00:37<00:03,  8.26it/s]"
     ]
    },
    {
     "name": "stdout",
     "output_type": "stream",
     "text": [
      "C:\\Users\\Hard Parikh\\Desktop\\speech-accent-archive\\recordings\\recordings\\english12.mp3\n"
     ]
    },
    {
     "name": "stderr",
     "output_type": "stream",
     "text": [
      " 91%|█████████▏| 274/300 [00:37<00:03,  8.08it/s]"
     ]
    },
    {
     "name": "stdout",
     "output_type": "stream",
     "text": [
      "C:\\Users\\Hard Parikh\\Desktop\\speech-accent-archive\\recordings\\recordings\\english120.mp3\n"
     ]
    },
    {
     "name": "stderr",
     "output_type": "stream",
     "text": [
      " 92%|█████████▏| 275/300 [00:37<00:03,  7.57it/s]"
     ]
    },
    {
     "name": "stdout",
     "output_type": "stream",
     "text": [
      "C:\\Users\\Hard Parikh\\Desktop\\speech-accent-archive\\recordings\\recordings\\english121.mp3\n"
     ]
    },
    {
     "name": "stderr",
     "output_type": "stream",
     "text": [
      " 92%|█████████▏| 276/300 [00:37<00:03,  7.25it/s]"
     ]
    },
    {
     "name": "stdout",
     "output_type": "stream",
     "text": [
      "C:\\Users\\Hard Parikh\\Desktop\\speech-accent-archive\\recordings\\recordings\\english122.mp3\n"
     ]
    },
    {
     "name": "stderr",
     "output_type": "stream",
     "text": [
      " 92%|█████████▏| 277/300 [00:37<00:03,  7.15it/s]"
     ]
    },
    {
     "name": "stdout",
     "output_type": "stream",
     "text": [
      "C:\\Users\\Hard Parikh\\Desktop\\speech-accent-archive\\recordings\\recordings\\english123.mp3\n"
     ]
    },
    {
     "name": "stderr",
     "output_type": "stream",
     "text": [
      " 93%|█████████▎| 278/300 [00:37<00:02,  7.54it/s]"
     ]
    },
    {
     "name": "stdout",
     "output_type": "stream",
     "text": [
      "C:\\Users\\Hard Parikh\\Desktop\\speech-accent-archive\\recordings\\recordings\\english124.mp3\n"
     ]
    },
    {
     "name": "stderr",
     "output_type": "stream",
     "text": [
      " 93%|█████████▎| 279/300 [00:37<00:02,  7.52it/s]"
     ]
    },
    {
     "name": "stdout",
     "output_type": "stream",
     "text": [
      "C:\\Users\\Hard Parikh\\Desktop\\speech-accent-archive\\recordings\\recordings\\english125.mp3\n"
     ]
    },
    {
     "name": "stderr",
     "output_type": "stream",
     "text": [
      " 93%|█████████▎| 280/300 [00:38<00:02,  7.88it/s]"
     ]
    },
    {
     "name": "stdout",
     "output_type": "stream",
     "text": [
      "C:\\Users\\Hard Parikh\\Desktop\\speech-accent-archive\\recordings\\recordings\\english126.mp3\n"
     ]
    },
    {
     "name": "stderr",
     "output_type": "stream",
     "text": [
      " 94%|█████████▎| 281/300 [00:38<00:02,  7.99it/s]"
     ]
    },
    {
     "name": "stdout",
     "output_type": "stream",
     "text": [
      "C:\\Users\\Hard Parikh\\Desktop\\speech-accent-archive\\recordings\\recordings\\english127.mp3\n"
     ]
    },
    {
     "name": "stderr",
     "output_type": "stream",
     "text": [
      " 94%|█████████▍| 282/300 [00:38<00:02,  7.66it/s]"
     ]
    },
    {
     "name": "stdout",
     "output_type": "stream",
     "text": [
      "C:\\Users\\Hard Parikh\\Desktop\\speech-accent-archive\\recordings\\recordings\\english128.mp3\n"
     ]
    },
    {
     "name": "stderr",
     "output_type": "stream",
     "text": [
      " 94%|█████████▍| 283/300 [00:38<00:02,  7.55it/s]"
     ]
    },
    {
     "name": "stdout",
     "output_type": "stream",
     "text": [
      "C:\\Users\\Hard Parikh\\Desktop\\speech-accent-archive\\recordings\\recordings\\english129.mp3\n"
     ]
    },
    {
     "name": "stderr",
     "output_type": "stream",
     "text": [
      " 95%|█████████▍| 284/300 [00:38<00:02,  7.88it/s]"
     ]
    },
    {
     "name": "stdout",
     "output_type": "stream",
     "text": [
      "C:\\Users\\Hard Parikh\\Desktop\\speech-accent-archive\\recordings\\recordings\\english13.mp3\n"
     ]
    },
    {
     "name": "stderr",
     "output_type": "stream",
     "text": [
      " 95%|█████████▌| 285/300 [00:38<00:01,  7.90it/s]"
     ]
    },
    {
     "name": "stdout",
     "output_type": "stream",
     "text": [
      "C:\\Users\\Hard Parikh\\Desktop\\speech-accent-archive\\recordings\\recordings\\english130.mp3\n"
     ]
    },
    {
     "name": "stderr",
     "output_type": "stream",
     "text": [
      " 95%|█████████▌| 286/300 [00:38<00:01,  7.83it/s]"
     ]
    },
    {
     "name": "stdout",
     "output_type": "stream",
     "text": [
      "C:\\Users\\Hard Parikh\\Desktop\\speech-accent-archive\\recordings\\recordings\\english131.mp3\n"
     ]
    },
    {
     "name": "stderr",
     "output_type": "stream",
     "text": [
      " 96%|█████████▌| 287/300 [00:38<00:01,  7.83it/s]"
     ]
    },
    {
     "name": "stdout",
     "output_type": "stream",
     "text": [
      "C:\\Users\\Hard Parikh\\Desktop\\speech-accent-archive\\recordings\\recordings\\english132.mp3\n"
     ]
    },
    {
     "name": "stderr",
     "output_type": "stream",
     "text": [
      " 96%|█████████▌| 288/300 [00:39<00:01,  7.77it/s]"
     ]
    },
    {
     "name": "stdout",
     "output_type": "stream",
     "text": [
      "C:\\Users\\Hard Parikh\\Desktop\\speech-accent-archive\\recordings\\recordings\\english133.mp3\n"
     ]
    },
    {
     "name": "stderr",
     "output_type": "stream",
     "text": [
      " 96%|█████████▋| 289/300 [00:39<00:01,  7.74it/s]"
     ]
    },
    {
     "name": "stdout",
     "output_type": "stream",
     "text": [
      "C:\\Users\\Hard Parikh\\Desktop\\speech-accent-archive\\recordings\\recordings\\english134.mp3\n"
     ]
    },
    {
     "name": "stderr",
     "output_type": "stream",
     "text": [
      " 97%|█████████▋| 290/300 [00:39<00:01,  7.45it/s]"
     ]
    },
    {
     "name": "stdout",
     "output_type": "stream",
     "text": [
      "C:\\Users\\Hard Parikh\\Desktop\\speech-accent-archive\\recordings\\recordings\\english135.mp3\n"
     ]
    },
    {
     "name": "stderr",
     "output_type": "stream",
     "text": [
      " 97%|█████████▋| 291/300 [00:39<00:01,  7.53it/s]"
     ]
    },
    {
     "name": "stdout",
     "output_type": "stream",
     "text": [
      "C:\\Users\\Hard Parikh\\Desktop\\speech-accent-archive\\recordings\\recordings\\english136.mp3\n"
     ]
    },
    {
     "name": "stderr",
     "output_type": "stream",
     "text": [
      " 97%|█████████▋| 292/300 [00:39<00:01,  7.59it/s]"
     ]
    },
    {
     "name": "stdout",
     "output_type": "stream",
     "text": [
      "C:\\Users\\Hard Parikh\\Desktop\\speech-accent-archive\\recordings\\recordings\\english137.mp3\n"
     ]
    },
    {
     "name": "stderr",
     "output_type": "stream",
     "text": [
      " 98%|█████████▊| 293/300 [00:39<00:00,  7.52it/s]"
     ]
    },
    {
     "name": "stdout",
     "output_type": "stream",
     "text": [
      "C:\\Users\\Hard Parikh\\Desktop\\speech-accent-archive\\recordings\\recordings\\english138.mp3\n"
     ]
    },
    {
     "name": "stderr",
     "output_type": "stream",
     "text": [
      " 98%|█████████▊| 294/300 [00:39<00:00,  7.57it/s]"
     ]
    },
    {
     "name": "stdout",
     "output_type": "stream",
     "text": [
      "C:\\Users\\Hard Parikh\\Desktop\\speech-accent-archive\\recordings\\recordings\\english139.mp3\n"
     ]
    },
    {
     "name": "stderr",
     "output_type": "stream",
     "text": [
      " 98%|█████████▊| 295/300 [00:39<00:00,  7.55it/s]"
     ]
    },
    {
     "name": "stdout",
     "output_type": "stream",
     "text": [
      "C:\\Users\\Hard Parikh\\Desktop\\speech-accent-archive\\recordings\\recordings\\english14.mp3\n"
     ]
    },
    {
     "name": "stderr",
     "output_type": "stream",
     "text": [
      " 99%|█████████▊| 296/300 [00:40<00:00,  7.60it/s]"
     ]
    },
    {
     "name": "stdout",
     "output_type": "stream",
     "text": [
      "C:\\Users\\Hard Parikh\\Desktop\\speech-accent-archive\\recordings\\recordings\\english140.mp3\n"
     ]
    },
    {
     "name": "stderr",
     "output_type": "stream",
     "text": [
      " 99%|█████████▉| 297/300 [00:40<00:00,  7.54it/s]"
     ]
    },
    {
     "name": "stdout",
     "output_type": "stream",
     "text": [
      "C:\\Users\\Hard Parikh\\Desktop\\speech-accent-archive\\recordings\\recordings\\english141.mp3\n"
     ]
    },
    {
     "name": "stderr",
     "output_type": "stream",
     "text": [
      " 99%|█████████▉| 298/300 [00:40<00:00,  7.52it/s]"
     ]
    },
    {
     "name": "stdout",
     "output_type": "stream",
     "text": [
      "C:\\Users\\Hard Parikh\\Desktop\\speech-accent-archive\\recordings\\recordings\\english142.mp3\n"
     ]
    },
    {
     "name": "stderr",
     "output_type": "stream",
     "text": [
      "100%|█████████▉| 299/300 [00:40<00:00,  7.65it/s]"
     ]
    },
    {
     "name": "stdout",
     "output_type": "stream",
     "text": [
      "C:\\Users\\Hard Parikh\\Desktop\\speech-accent-archive\\recordings\\recordings\\english143.mp3\n"
     ]
    },
    {
     "name": "stderr",
     "output_type": "stream",
     "text": [
      "100%|██████████| 300/300 [00:40<00:00,  7.46it/s]\n"
     ]
    }
   ],
   "source": [
    "for i in tqdm(x):\n",
    "    print(i)\n",
    "    sound=AudioSegment.from_mp3(i)\n",
    "    name=i.replace('C:\\\\Users\\\\Hard Parikh\\\\Desktop\\\\speech-accent-archive\\\\recordings\\\\recordings\\\\','').split('.')[0]\n",
    "    sound.export(r\"C:\\Users\\Hard Parikh\\Desktop\\Cov_audio\\\\\"+name+\".wav\",format=\"wav\")"
   ]
  },
  {
   "cell_type": "code",
   "execution_count": 21,
   "metadata": {},
   "outputs": [
    {
     "name": "stderr",
     "output_type": "stream",
     "text": [
      "100%|██████████| 300/300 [00:02<00:00, 115.39it/s]\n"
     ]
    }
   ],
   "source": [
    "converted_file_path=r\"C:\\Users\\Hard Parikh\\Desktop\\Cov_audio\"\n",
    "converted_files=[]\n",
    "for root,dirs,files in os.walk(converted_file_path):\n",
    "    for file in files:\n",
    "        path=root+'\\\\'+file\n",
    "        converted_files.append(path)\n",
    "for i in tqdm(converted_files):\n",
    "    path=i\n",
    "    name=path.replace('C:\\\\Users\\\\Hard Parikh\\\\Desktop\\\\','')\n",
    "    name=name.replace('.wav','')\n",
    "    name=name.replace('Cov_audio\\\\','')\n",
    "    newAudio=AudioSegment.from_wav(path)\n",
    "    length=int(np.floor(len(newAudio)/1000))\n",
    "    segments=[]\n",
    "    for i in range(int(np.floor(length/5))+1):\n",
    "        segments.append(i*5)\n",
    "    for i in range(len(segments)-1):\n",
    "        new=newAudio[segments[i]*1000:segments[i+1]*1000]\n",
    "        new.export(r\"C:\\Users\\Hard Parikh\\Desktop\\Split_audio\\\\\"+name+'-'+str(i)+'.wav',format='wav')"
   ]
  },
  {
   "cell_type": "code",
   "execution_count": 25,
   "metadata": {},
   "outputs": [
    {
     "data": {
      "text/plain": [
       "1631"
      ]
     },
     "execution_count": 25,
     "metadata": {},
     "output_type": "execute_result"
    }
   ],
   "source": [
    "split_conv_files=[]\n",
    "for root,dirs,files in os.walk(r\"C:\\Users\\Hard Parikh\\Desktop\\Split_audio\"):\n",
    "    for file in files:\n",
    "        path=root+'\\\\'+file\n",
    "        split_conv_files.append(path)\n",
    "len(split_conv_files)\n",
    "converted_files=split_conv_files\n",
    "len(converted_files)"
   ]
  },
  {
   "cell_type": "code",
   "execution_count": 26,
   "metadata": {},
   "outputs": [
    {
     "name": "stderr",
     "output_type": "stream",
     "text": [
      "100%|██████████| 1631/1631 [03:45<00:00,  7.12it/s]\n"
     ]
    }
   ],
   "source": [
    "audios=[]\n",
    "rates=[]\n",
    "for i in tqdm(range(len(converted_files))):\n",
    "    audio,rate=librosa.load(converted_files[i])\n",
    "    audios.append(audio)\n",
    "    rates.append(rate)"
   ]
  },
  {
   "cell_type": "code",
   "execution_count": 27,
   "metadata": {},
   "outputs": [
    {
     "data": {
      "text/html": [
       "\n",
       "                <audio  controls=\"controls\" >\n",
       "                    <source src=\"data:audio/wav;base64,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\" type=\"audio/wav\" />\n",
       "                    Your browser does not support the audio element.\n",
       "                </audio>\n",
       "              "
      ],
      "text/plain": [
       "<IPython.lib.display.Audio object>"
      ]
     },
     "execution_count": 27,
     "metadata": {},
     "output_type": "execute_result"
    }
   ],
   "source": [
    "ipd.Audio(converted_files[100])"
   ]
  },
  {
   "cell_type": "code",
   "execution_count": 28,
   "metadata": {},
   "outputs": [
    {
     "data": {
      "text/plain": [
       "1631"
      ]
     },
     "execution_count": 28,
     "metadata": {},
     "output_type": "execute_result"
    }
   ],
   "source": [
    "len(rates)"
   ]
  },
  {
   "cell_type": "code",
   "execution_count": 29,
   "metadata": {},
   "outputs": [
    {
     "name": "stderr",
     "output_type": "stream",
     "text": [
      "100%|██████████| 1631/1631 [00:25<00:00, 64.20it/s]\n"
     ]
    }
   ],
   "source": [
    "features=[]\n",
    "for i in tqdm(range(len(audios))):\n",
    "    mfccs=librosa.feature.mfcc(audios[i],sr=rates[i])\n",
    "    mfccs=mfccs[:13]\n",
    "    features.append(mfccs)"
   ]
  },
  {
   "cell_type": "code",
   "execution_count": 30,
   "metadata": {},
   "outputs": [],
   "source": [
    "shapes=[]\n",
    "for i in range(len(features)):\n",
    "    shapes.append(features[i].shape[1])"
   ]
  },
  {
   "cell_type": "code",
   "execution_count": 31,
   "metadata": {},
   "outputs": [
    {
     "data": {
      "text/plain": [
       "216"
      ]
     },
     "execution_count": 31,
     "metadata": {},
     "output_type": "execute_result"
    }
   ],
   "source": [
    "maximum_sequence_length=np.max(shapes)\n",
    "maximum_sequence_length"
   ]
  },
  {
   "cell_type": "code",
   "execution_count": 32,
   "metadata": {},
   "outputs": [],
   "source": [
    "padded_features=[]\n",
    "for i in range(len(features)):\n",
    "    padded_features.append(np.array(pad_sequences(features[i],maxlen=maximum_sequence_length,padding='post')))"
   ]
  },
  {
   "cell_type": "code",
   "execution_count": 33,
   "metadata": {},
   "outputs": [],
   "source": [
    "padded_features=np.array(padded_features)"
   ]
  },
  {
   "cell_type": "code",
   "execution_count": 34,
   "metadata": {},
   "outputs": [
    {
     "data": {
      "text/plain": [
       "(1631, 13, 216)"
      ]
     },
     "execution_count": 34,
     "metadata": {},
     "output_type": "execute_result"
    }
   ],
   "source": [
    "padded_features.shape"
   ]
  },
  {
   "cell_type": "code",
   "execution_count": 35,
   "metadata": {},
   "outputs": [
    {
     "data": {
      "text/plain": [
       "(1631, 13, 216, 1)"
      ]
     },
     "execution_count": 35,
     "metadata": {},
     "output_type": "execute_result"
    }
   ],
   "source": [
    "padded_features=padded_features.reshape(padded_features.shape[0],padded_features.shape[1],padded_features.shape[2],1)\n",
    "padded_features.shape"
   ]
  },
  {
   "cell_type": "code",
   "execution_count": 36,
   "metadata": {},
   "outputs": [
    {
     "data": {
      "text/plain": [
       "array([[1., 0., 0., 0., 0., 0.],\n",
       "       [1., 0., 0., 0., 0., 0.],\n",
       "       [1., 0., 0., 0., 0., 0.],\n",
       "       ...,\n",
       "       [0., 0., 0., 0., 0., 1.],\n",
       "       [0., 0., 0., 0., 0., 1.],\n",
       "       [0., 0., 0., 0., 0., 1.]], dtype=float32)"
      ]
     },
     "execution_count": 36,
     "metadata": {},
     "output_type": "execute_result"
    }
   ],
   "source": [
    "Y"
   ]
  },
  {
   "cell_type": "code",
   "execution_count": 37,
   "metadata": {},
   "outputs": [
    {
     "name": "stdout",
     "output_type": "stream",
     "text": [
      "WARNING:tensorflow:From C:\\Users\\Hard Parikh\\Anaconda3\\envs\\tf_gpu\\lib\\site-packages\\keras\\backend\\tensorflow_backend.py:4070: The name tf.nn.max_pool is deprecated. Please use tf.nn.max_pool2d instead.\n",
      "\n"
     ]
    }
   ],
   "source": [
    "input_shape=(padded_features.shape[1],padded_features.shape[2],1)\n",
    "def get_conv_model():\n",
    "    model=Sequential()\n",
    "    model.add(Conv2D(16,(3,3),activation='relu',strides=(1,1),padding='same',input_shape=input_shape))\n",
    "    model.add(Conv2D(32,(3,3),activation='relu',strides=(1,1),padding='same'))\n",
    "    model.add(Conv2D(64,(3,3),activation='relu',strides=(1,1),padding='same'))\n",
    "#     model.add(Conv2D(128,(3,3),activation='relu',strides=(1,1),padding='same'))\n",
    "    model.add(MaxPool2D((2,2)))\n",
    "    model.add(Dropout(0.5))\n",
    "    model.add(Flatten())\n",
    "#     model.add(Dense(128,activation='relu'))\n",
    "    model.add(Dense(64,activation='relu'))\n",
    "    model.add(Dense(32,activation='relu'))\n",
    "    model.add(Dense(6,activation='softmax'))\n",
    "    model.compile(loss='categorical_crossentropy',optimizer='adam',metrics=['accuracy'])\n",
    "    return model\n",
    "model=get_conv_model()"
   ]
  },
  {
   "cell_type": "code",
   "execution_count": null,
   "metadata": {},
   "outputs": [],
   "source": []
  },
  {
   "cell_type": "code",
   "execution_count": 97,
   "metadata": {},
   "outputs": [],
   "source": [
    "feat_labels=[]\n",
    "for i in range(len(padded_features)):\n",
    "    feat_labels.append((padded_features[i],new_Y[i]))"
   ]
  },
  {
   "cell_type": "code",
   "execution_count": 100,
   "metadata": {},
   "outputs": [
    {
     "data": {
      "text/plain": [
       "(array([[[-226],\n",
       "         [-181],\n",
       "         [-132],\n",
       "         ...,\n",
       "         [-148],\n",
       "         [-159],\n",
       "         [-168]],\n",
       " \n",
       "        [[ 167],\n",
       "         [ 152],\n",
       "         [  99],\n",
       "         ...,\n",
       "         [ 194],\n",
       "         [ 210],\n",
       "         [ 208]],\n",
       " \n",
       "        [[ -22],\n",
       "         [ -30],\n",
       "         [   4],\n",
       "         ...,\n",
       "         [ -43],\n",
       "         [ -27],\n",
       "         [  -6]],\n",
       " \n",
       "        ...,\n",
       " \n",
       "        [[ -17],\n",
       "         [  -6],\n",
       "         [  -9],\n",
       "         ...,\n",
       "         [  -6],\n",
       "         [   0],\n",
       "         [  -4]],\n",
       " \n",
       "        [[   3],\n",
       "         [   5],\n",
       "         [  14],\n",
       "         ...,\n",
       "         [ -13],\n",
       "         [ -20],\n",
       "         [ -15]],\n",
       " \n",
       "        [[   4],\n",
       "         [  -3],\n",
       "         [ -15],\n",
       "         ...,\n",
       "         [  18],\n",
       "         [  12],\n",
       "         [   5]]]),\n",
       " array([0., 0., 0., 1., 0., 0.], dtype=float32))"
      ]
     },
     "execution_count": 100,
     "metadata": {},
     "output_type": "execute_result"
    }
   ],
   "source": [
    "random.shuffle(feat_labels)\n",
    "feat_labels[500]"
   ]
  },
  {
   "cell_type": "code",
   "execution_count": 101,
   "metadata": {},
   "outputs": [],
   "source": [
    "final_features=[]\n",
    "final_labels=[]\n",
    "for i in feat_labels:\n",
    "    final_features.append(i[0])\n",
    "    final_labels.append(i[1])"
   ]
  },
  {
   "cell_type": "code",
   "execution_count": 102,
   "metadata": {},
   "outputs": [],
   "source": [
    "final_features=(final_features-np.min(final_features))/(np.max(final_features)-np.min(final_features))"
   ]
  },
  {
   "cell_type": "code",
   "execution_count": 103,
   "metadata": {},
   "outputs": [],
   "source": [
    "final_features.shape\n",
    "final_labels=np.array(final_labels)"
   ]
  },
  {
   "cell_type": "code",
   "execution_count": 104,
   "metadata": {},
   "outputs": [],
   "source": [
    "input_shape=(final_features.shape[1],final_features.shape[2],1)\n",
    "def get_conv_model():\n",
    "    model=Sequential()\n",
    "    model.add(Conv2D(16,(3,3),activation='relu',strides=(1,1),padding='same',input_shape=input_shape))\n",
    "    model.add(Conv2D(32,(3,3),activation='relu',strides=(1,1),padding='same'))\n",
    "    model.add(Conv2D(64,(3,3),activation='relu',strides=(1,1),padding='same'))\n",
    "    model.add(Conv2D(128,(3,3),activation='relu',strides=(1,1),padding='same'))\n",
    "    model.add(MaxPool2D((2,2)))\n",
    "    model.add(Dropout(0.5))\n",
    "    model.add(Flatten())\n",
    "    model.add(Dense(128,activation='relu'))\n",
    "    model.add(Dense(64,activation='relu'))\n",
    "    model.add(Dense(32,activation='relu'))\n",
    "    model.add(Dense(6,activation='softmax'))\n",
    "    model.compile(loss='categorical_crossentropy',optimizer='adam',metrics=['accuracy'])\n",
    "    return model\n",
    "model=get_conv_model()"
   ]
  },
  {
   "cell_type": "code",
   "execution_count": 147,
   "metadata": {},
   "outputs": [
    {
     "name": "stdout",
     "output_type": "stream",
     "text": [
      "Train on 1304 samples, validate on 327 samples\n",
      "Epoch 1/100\n",
      "1304/1304 [==============================] - ETA: 14s - loss: 0.0880 - accuracy: 0.968 - ETA: 14s - loss: 0.1095 - accuracy: 0.953 - ETA: 13s - loss: 0.0809 - accuracy: 0.968 - ETA: 13s - loss: 0.0674 - accuracy: 0.976 - ETA: 13s - loss: 0.0576 - accuracy: 0.981 - ETA: 12s - loss: 0.0532 - accuracy: 0.984 - ETA: 12s - loss: 0.0475 - accuracy: 0.986 - ETA: 12s - loss: 0.0433 - accuracy: 0.988 - ETA: 11s - loss: 0.0457 - accuracy: 0.986 - ETA: 11s - loss: 0.0421 - accuracy: 0.987 - ETA: 11s - loss: 0.0396 - accuracy: 0.988 - ETA: 10s - loss: 0.0377 - accuracy: 0.989 - ETA: 10s - loss: 0.0406 - accuracy: 0.988 - ETA: 9s - loss: 0.0474 - accuracy: 0.984 - ETA: 9s - loss: 0.0471 - accuracy: 0.98 - ETA: 9s - loss: 0.0452 - accuracy: 0.98 - ETA: 8s - loss: 0.0441 - accuracy: 0.98 - ETA: 8s - loss: 0.0425 - accuracy: 0.98 - ETA: 8s - loss: 0.0453 - accuracy: 0.98 - ETA: 7s - loss: 0.0461 - accuracy: 0.98 - ETA: 7s - loss: 0.0445 - accuracy: 0.98 - ETA: 6s - loss: 0.0450 - accuracy: 0.98 - ETA: 6s - loss: 0.0554 - accuracy: 0.98 - ETA: 6s - loss: 0.0558 - accuracy: 0.98 - ETA: 5s - loss: 0.0544 - accuracy: 0.98 - ETA: 5s - loss: 0.0538 - accuracy: 0.98 - ETA: 5s - loss: 0.0520 - accuracy: 0.98 - ETA: 4s - loss: 0.0555 - accuracy: 0.98 - ETA: 4s - loss: 0.0543 - accuracy: 0.98 - ETA: 3s - loss: 0.0569 - accuracy: 0.98 - ETA: 3s - loss: 0.0573 - accuracy: 0.98 - ETA: 3s - loss: 0.0573 - accuracy: 0.98 - ETA: 2s - loss: 0.0563 - accuracy: 0.98 - ETA: 2s - loss: 0.0557 - accuracy: 0.98 - ETA: 2s - loss: 0.0568 - accuracy: 0.98 - ETA: 1s - loss: 0.0560 - accuracy: 0.98 - ETA: 1s - loss: 0.0634 - accuracy: 0.98 - ETA: 1s - loss: 0.0658 - accuracy: 0.98 - ETA: 0s - loss: 0.0646 - accuracy: 0.98 - ETA: 0s - loss: 0.0638 - accuracy: 0.98 - 16s 12ms/step - loss: 0.0636 - accuracy: 0.9816 - val_loss: 5.6421 - val_accuracy: 0.2661\n",
      "Epoch 2/100\n",
      "1304/1304 [==============================] - ETA: 14s - loss: 0.1498 - accuracy: 0.906 - ETA: 14s - loss: 0.1125 - accuracy: 0.937 - ETA: 13s - loss: 0.0909 - accuracy: 0.947 - ETA: 13s - loss: 0.1406 - accuracy: 0.945 - ETA: 13s - loss: 0.1171 - accuracy: 0.956 - ETA: 13s - loss: 0.1014 - accuracy: 0.963 - ETA: 12s - loss: 0.0936 - accuracy: 0.968 - ETA: 12s - loss: 0.0837 - accuracy: 0.972 - ETA: 11s - loss: 0.0837 - accuracy: 0.968 - ETA: 11s - loss: 0.0800 - accuracy: 0.971 - ETA: 11s - loss: 0.1168 - accuracy: 0.965 - ETA: 10s - loss: 0.1082 - accuracy: 0.968 - ETA: 10s - loss: 0.1073 - accuracy: 0.966 - ETA: 9s - loss: 0.1051 - accuracy: 0.966 - ETA: 9s - loss: 0.1010 - accuracy: 0.96 - ETA: 9s - loss: 0.0958 - accuracy: 0.97 - ETA: 8s - loss: 0.1038 - accuracy: 0.96 - ETA: 8s - loss: 0.1146 - accuracy: 0.96 - ETA: 8s - loss: 0.1296 - accuracy: 0.96 - ETA: 7s - loss: 0.1234 - accuracy: 0.96 - ETA: 7s - loss: 0.1206 - accuracy: 0.96 - ETA: 6s - loss: 0.1168 - accuracy: 0.96 - ETA: 6s - loss: 0.1150 - accuracy: 0.96 - ETA: 6s - loss: 0.1135 - accuracy: 0.96 - ETA: 5s - loss: 0.1224 - accuracy: 0.96 - ETA: 5s - loss: 0.1205 - accuracy: 0.96 - ETA: 5s - loss: 0.1168 - accuracy: 0.96 - ETA: 4s - loss: 0.1163 - accuracy: 0.96 - ETA: 4s - loss: 0.1166 - accuracy: 0.96 - ETA: 3s - loss: 0.1197 - accuracy: 0.96 - ETA: 3s - loss: 0.1188 - accuracy: 0.96 - ETA: 3s - loss: 0.1153 - accuracy: 0.96 - ETA: 2s - loss: 0.1155 - accuracy: 0.96 - ETA: 2s - loss: 0.1177 - accuracy: 0.96 - ETA: 2s - loss: 0.1194 - accuracy: 0.96 - ETA: 1s - loss: 0.1186 - accuracy: 0.96 - ETA: 1s - loss: 0.1166 - accuracy: 0.96 - ETA: 1s - loss: 0.1137 - accuracy: 0.96 - ETA: 0s - loss: 0.1136 - accuracy: 0.96 - ETA: 0s - loss: 0.1116 - accuracy: 0.96 - 16s 12ms/step - loss: 0.1098 - accuracy: 0.9670 - val_loss: 5.5698 - val_accuracy: 0.2997\n",
      "Epoch 3/100\n",
      "1304/1304 [==============================] - ETA: 14s - loss: 0.1493 - accuracy: 0.937 - ETA: 14s - loss: 0.0890 - accuracy: 0.968 - ETA: 13s - loss: 0.0647 - accuracy: 0.979 - ETA: 13s - loss: 0.0503 - accuracy: 0.984 - ETA: 13s - loss: 0.0497 - accuracy: 0.981 - ETA: 13s - loss: 0.0522 - accuracy: 0.979 - ETA: 12s - loss: 0.0598 - accuracy: 0.977 - ETA: 12s - loss: 0.0562 - accuracy: 0.980 - ETA: 11s - loss: 0.0510 - accuracy: 0.982 - ETA: 11s - loss: 0.0466 - accuracy: 0.984 - ETA: 11s - loss: 0.0478 - accuracy: 0.985 - ETA: 10s - loss: 0.0470 - accuracy: 0.987 - ETA: 10s - loss: 0.0440 - accuracy: 0.988 - ETA: 10s - loss: 0.0428 - accuracy: 0.988 - ETA: 9s - loss: 0.0472 - accuracy: 0.987 - ETA: 9s - loss: 0.0474 - accuracy: 0.98 - ETA: 8s - loss: 0.0522 - accuracy: 0.98 - ETA: 8s - loss: 0.0521 - accuracy: 0.98 - ETA: 8s - loss: 0.0551 - accuracy: 0.98 - ETA: 7s - loss: 0.0535 - accuracy: 0.98 - ETA: 7s - loss: 0.0525 - accuracy: 0.98 - ETA: 7s - loss: 0.0506 - accuracy: 0.98 - ETA: 6s - loss: 0.0486 - accuracy: 0.98 - ETA: 6s - loss: 0.0551 - accuracy: 0.98 - ETA: 5s - loss: 0.0534 - accuracy: 0.98 - ETA: 5s - loss: 0.0515 - accuracy: 0.98 - ETA: 5s - loss: 0.0508 - accuracy: 0.98 - ETA: 4s - loss: 0.0497 - accuracy: 0.98 - ETA: 4s - loss: 0.0481 - accuracy: 0.98 - ETA: 4s - loss: 0.0515 - accuracy: 0.98 - ETA: 3s - loss: 0.0506 - accuracy: 0.98 - ETA: 3s - loss: 0.0496 - accuracy: 0.98 - ETA: 2s - loss: 0.0538 - accuracy: 0.98 - ETA: 2s - loss: 0.0530 - accuracy: 0.98 - ETA: 2s - loss: 0.0573 - accuracy: 0.98 - ETA: 1s - loss: 0.0577 - accuracy: 0.98 - ETA: 1s - loss: 0.0586 - accuracy: 0.98 - ETA: 1s - loss: 0.0573 - accuracy: 0.98 - ETA: 0s - loss: 0.0570 - accuracy: 0.98 - ETA: 0s - loss: 0.0562 - accuracy: 0.98 - 16s 12ms/step - loss: 0.0560 - accuracy: 0.9847 - val_loss: 6.1410 - val_accuracy: 0.3028\n",
      "Epoch 4/100\n",
      "1304/1304 [==============================] - ETA: 14s - loss: 0.0976 - accuracy: 0.968 - ETA: 14s - loss: 0.0570 - accuracy: 0.984 - ETA: 14s - loss: 0.0427 - accuracy: 0.989 - ETA: 13s - loss: 0.0635 - accuracy: 0.968 - ETA: 13s - loss: 0.0523 - accuracy: 0.975 - ETA: 13s - loss: 0.0440 - accuracy: 0.979 - ETA: 12s - loss: 0.0431 - accuracy: 0.982 - ETA: 12s - loss: 0.0470 - accuracy: 0.980 - ETA: 11s - loss: 0.0498 - accuracy: 0.979 - ETA: 11s - loss: 0.0565 - accuracy: 0.978 - ETA: 11s - loss: 0.0518 - accuracy: 0.980 - ETA: 10s - loss: 0.0654 - accuracy: 0.979 - ETA: 10s - loss: 0.0634 - accuracy: 0.978 - ETA: 10s - loss: 0.0619 - accuracy: 0.977 - ETA: 9s - loss: 0.0584 - accuracy: 0.979 - ETA: 9s - loss: 0.0590 - accuracy: 0.97 - ETA: 8s - loss: 0.0605 - accuracy: 0.97 - ETA: 8s - loss: 0.0577 - accuracy: 0.97 - ETA: 8s - loss: 0.0557 - accuracy: 0.98 - ETA: 7s - loss: 0.0574 - accuracy: 0.97 - ETA: 7s - loss: 0.0576 - accuracy: 0.97 - ETA: 7s - loss: 0.0560 - accuracy: 0.97 - ETA: 6s - loss: 0.0574 - accuracy: 0.97 - ETA: 6s - loss: 0.0560 - accuracy: 0.97 - ETA: 5s - loss: 0.0571 - accuracy: 0.97 - ETA: 5s - loss: 0.0565 - accuracy: 0.97 - ETA: 5s - loss: 0.0549 - accuracy: 0.97 - ETA: 4s - loss: 0.0535 - accuracy: 0.97 - ETA: 4s - loss: 0.0523 - accuracy: 0.98 - ETA: 4s - loss: 0.0515 - accuracy: 0.98 - ETA: 3s - loss: 0.0505 - accuracy: 0.98 - ETA: 3s - loss: 0.0524 - accuracy: 0.97 - ETA: 2s - loss: 0.0510 - accuracy: 0.98 - ETA: 2s - loss: 0.0496 - accuracy: 0.98 - ETA: 2s - loss: 0.0483 - accuracy: 0.98 - ETA: 1s - loss: 0.0471 - accuracy: 0.98 - ETA: 1s - loss: 0.0460 - accuracy: 0.98 - ETA: 1s - loss: 0.0463 - accuracy: 0.98 - ETA: 0s - loss: 0.0461 - accuracy: 0.98 - ETA: 0s - loss: 0.0460 - accuracy: 0.98 - 16s 12ms/step - loss: 0.0456 - accuracy: 0.9816 - val_loss: 6.2085 - val_accuracy: 0.3028\n",
      "Epoch 5/100\n",
      "1304/1304 [==============================] - ETA: 14s - loss: 0.0158 - accuracy: 1.000 - ETA: 14s - loss: 0.0559 - accuracy: 0.984 - ETA: 14s - loss: 0.0428 - accuracy: 0.989 - ETA: 13s - loss: 0.0420 - accuracy: 0.984 - ETA: 13s - loss: 0.0403 - accuracy: 0.981 - ETA: 13s - loss: 0.0352 - accuracy: 0.984 - ETA: 12s - loss: 0.0325 - accuracy: 0.986 - ETA: 12s - loss: 0.0298 - accuracy: 0.988 - ETA: 11s - loss: 0.0279 - accuracy: 0.989 - ETA: 11s - loss: 0.0253 - accuracy: 0.990 - ETA: 11s - loss: 0.0265 - accuracy: 0.991 - ETA: 10s - loss: 0.0254 - accuracy: 0.992 - ETA: 10s - loss: 0.0266 - accuracy: 0.990 - ETA: 10s - loss: 0.0251 - accuracy: 0.991 - ETA: 9s - loss: 0.0284 - accuracy: 0.989 - ETA: 9s - loss: 0.0270 - accuracy: 0.99 - ETA: 8s - loss: 0.0258 - accuracy: 0.99 - ETA: 8s - loss: 0.0249 - accuracy: 0.99 - ETA: 8s - loss: 0.0241 - accuracy: 0.99 - ETA: 7s - loss: 0.0230 - accuracy: 0.99 - ETA: 7s - loss: 0.0226 - accuracy: 0.99 - ETA: 7s - loss: 0.0229 - accuracy: 0.99 - ETA: 6s - loss: 0.0220 - accuracy: 0.99 - ETA: 6s - loss: 0.0214 - accuracy: 0.99 - ETA: 5s - loss: 0.0211 - accuracy: 0.99 - ETA: 5s - loss: 0.0218 - accuracy: 0.99 - ETA: 5s - loss: 0.0248 - accuracy: 0.99 - ETA: 4s - loss: 0.0245 - accuracy: 0.99 - ETA: 4s - loss: 0.0256 - accuracy: 0.99 - ETA: 4s - loss: 0.0249 - accuracy: 0.99 - ETA: 3s - loss: 0.0255 - accuracy: 0.99 - ETA: 3s - loss: 0.0252 - accuracy: 0.99 - ETA: 2s - loss: 0.0247 - accuracy: 0.99 - ETA: 2s - loss: 0.0296 - accuracy: 0.99 - ETA: 2s - loss: 0.0295 - accuracy: 0.99 - ETA: 1s - loss: 0.0288 - accuracy: 0.99 - ETA: 1s - loss: 0.0280 - accuracy: 0.99 - ETA: 1s - loss: 0.0274 - accuracy: 0.99 - ETA: 0s - loss: 0.0275 - accuracy: 0.99 - ETA: 0s - loss: 0.0269 - accuracy: 0.99 - 16s 12ms/step - loss: 0.0278 - accuracy: 0.9908 - val_loss: 6.4398 - val_accuracy: 0.3089\n",
      "Epoch 6/100\n",
      "1304/1304 [==============================] - ETA: 14s - loss: 0.0879 - accuracy: 0.968 - ETA: 13s - loss: 0.1236 - accuracy: 0.953 - ETA: 13s - loss: 0.0872 - accuracy: 0.968 - ETA: 13s - loss: 0.0678 - accuracy: 0.976 - ETA: 13s - loss: 0.0596 - accuracy: 0.981 - ETA: 13s - loss: 0.0567 - accuracy: 0.984 - ETA: 12s - loss: 0.0615 - accuracy: 0.982 - ETA: 12s - loss: 0.0555 - accuracy: 0.984 - ETA: 11s - loss: 0.0717 - accuracy: 0.979 - ETA: 11s - loss: 0.0666 - accuracy: 0.981 - ETA: 11s - loss: 0.0655 - accuracy: 0.980 - ETA: 10s - loss: 0.0610 - accuracy: 0.981 - ETA: 10s - loss: 0.0592 - accuracy: 0.983 - ETA: 9s - loss: 0.0622 - accuracy: 0.979 - ETA: 9s - loss: 0.0588 - accuracy: 0.98 - ETA: 9s - loss: 0.0585 - accuracy: 0.98 - ETA: 8s - loss: 0.0644 - accuracy: 0.97 - ETA: 8s - loss: 0.0723 - accuracy: 0.97 - ETA: 8s - loss: 0.0690 - accuracy: 0.98 - ETA: 7s - loss: 0.0666 - accuracy: 0.98 - ETA: 7s - loss: 0.0645 - accuracy: 0.98 - ETA: 6s - loss: 0.0634 - accuracy: 0.98 - ETA: 6s - loss: 0.0620 - accuracy: 0.98 - ETA: 6s - loss: 0.0619 - accuracy: 0.98 - ETA: 5s - loss: 0.0602 - accuracy: 0.98 - ETA: 5s - loss: 0.0585 - accuracy: 0.98 - ETA: 5s - loss: 0.0566 - accuracy: 0.98 - ETA: 4s - loss: 0.0548 - accuracy: 0.98 - ETA: 4s - loss: 0.0538 - accuracy: 0.98 - ETA: 3s - loss: 0.0538 - accuracy: 0.98 - ETA: 3s - loss: 0.0524 - accuracy: 0.98 - ETA: 3s - loss: 0.0555 - accuracy: 0.98 - ETA: 2s - loss: 0.0543 - accuracy: 0.98 - ETA: 2s - loss: 0.0550 - accuracy: 0.98 - ETA: 2s - loss: 0.0543 - accuracy: 0.98 - ETA: 1s - loss: 0.0531 - accuracy: 0.98 - ETA: 1s - loss: 0.0525 - accuracy: 0.98 - ETA: 1s - loss: 0.0517 - accuracy: 0.98 - ETA: 0s - loss: 0.0638 - accuracy: 0.98 - ETA: 0s - loss: 0.0630 - accuracy: 0.98 - 16s 12ms/step - loss: 0.0621 - accuracy: 0.9854 - val_loss: 6.0080 - val_accuracy: 0.2997\n",
      "Epoch 7/100\n",
      "1304/1304 [==============================] - ETA: 13s - loss: 0.0688 - accuracy: 0.937 - ETA: 14s - loss: 0.0927 - accuracy: 0.953 - ETA: 13s - loss: 0.0657 - accuracy: 0.968 - ETA: 13s - loss: 0.0557 - accuracy: 0.976 - ETA: 13s - loss: 0.0458 - accuracy: 0.981 - ETA: 13s - loss: 0.0410 - accuracy: 0.984 - ETA: 12s - loss: 0.0367 - accuracy: 0.986 - ETA: 12s - loss: 0.0330 - accuracy: 0.988 - ETA: 11s - loss: 0.0298 - accuracy: 0.989 - ETA: 11s - loss: 0.0594 - accuracy: 0.984 - ETA: 11s - loss: 0.0594 - accuracy: 0.980 - ETA: 10s - loss: 0.0623 - accuracy: 0.976 - ETA: 10s - loss: 0.0586 - accuracy: 0.978 - ETA: 9s - loss: 0.0580 - accuracy: 0.977 - ETA: 9s - loss: 0.0562 - accuracy: 0.97 - ETA: 9s - loss: 0.0561 - accuracy: 0.97 - ETA: 8s - loss: 0.0560 - accuracy: 0.97 - ETA: 8s - loss: 0.0714 - accuracy: 0.97 - ETA: 8s - loss: 0.0711 - accuracy: 0.97 - ETA: 7s - loss: 0.0916 - accuracy: 0.96 - ETA: 7s - loss: 0.0878 - accuracy: 0.96 - ETA: 6s - loss: 0.0841 - accuracy: 0.97 - ETA: 6s - loss: 0.0815 - accuracy: 0.97 - ETA: 6s - loss: 0.0834 - accuracy: 0.97 - ETA: 5s - loss: 0.0848 - accuracy: 0.97 - ETA: 5s - loss: 0.0970 - accuracy: 0.96 - ETA: 5s - loss: 0.1047 - accuracy: 0.96 - ETA: 4s - loss: 0.1018 - accuracy: 0.96 - ETA: 4s - loss: 0.1016 - accuracy: 0.96 - ETA: 3s - loss: 0.1098 - accuracy: 0.96 - ETA: 3s - loss: 0.1108 - accuracy: 0.96 - ETA: 3s - loss: 0.1108 - accuracy: 0.96 - ETA: 2s - loss: 0.1112 - accuracy: 0.96 - ETA: 2s - loss: 0.1113 - accuracy: 0.96 - ETA: 2s - loss: 0.1090 - accuracy: 0.96 - ETA: 1s - loss: 0.1106 - accuracy: 0.96 - ETA: 1s - loss: 0.1081 - accuracy: 0.96 - ETA: 1s - loss: 0.1117 - accuracy: 0.96 - ETA: 0s - loss: 0.1092 - accuracy: 0.96 - ETA: 0s - loss: 0.1115 - accuracy: 0.96 - 16s 12ms/step - loss: 0.1118 - accuracy: 0.9609 - val_loss: 6.0857 - val_accuracy: 0.2936\n",
      "Epoch 8/100\n",
      "1304/1304 [==============================] - ETA: 14s - loss: 0.0401 - accuracy: 0.968 - ETA: 14s - loss: 0.0323 - accuracy: 0.984 - ETA: 13s - loss: 0.0260 - accuracy: 0.989 - ETA: 13s - loss: 0.0481 - accuracy: 0.984 - ETA: 13s - loss: 0.0479 - accuracy: 0.987 - ETA: 13s - loss: 0.0522 - accuracy: 0.984 - ETA: 12s - loss: 0.1105 - accuracy: 0.982 - ETA: 12s - loss: 0.1021 - accuracy: 0.984 - ETA: 11s - loss: 0.0917 - accuracy: 0.986 - ETA: 11s - loss: 0.0966 - accuracy: 0.984 - ETA: 11s - loss: 0.0910 - accuracy: 0.985 - ETA: 10s - loss: 0.0854 - accuracy: 0.987 - ETA: 10s - loss: 0.0805 - accuracy: 0.988 - ETA: 9s - loss: 0.0815 - accuracy: 0.984 - ETA: 9s - loss: 0.0782 - accuracy: 0.98 - ETA: 9s - loss: 0.0802 - accuracy: 0.98 - ETA: 8s - loss: 0.0897 - accuracy: 0.97 - ETA: 8s - loss: 0.0856 - accuracy: 0.97 - ETA: 8s - loss: 0.0828 - accuracy: 0.98 - ETA: 7s - loss: 0.0795 - accuracy: 0.98 - ETA: 7s - loss: 0.0829 - accuracy: 0.98 - ETA: 6s - loss: 0.0799 - accuracy: 0.98 - ETA: 6s - loss: 0.0887 - accuracy: 0.97 - ETA: 6s - loss: 0.0897 - accuracy: 0.97 - ETA: 5s - loss: 0.0880 - accuracy: 0.98 - ETA: 5s - loss: 0.0928 - accuracy: 0.97 - ETA: 5s - loss: 0.0897 - accuracy: 0.97 - ETA: 4s - loss: 0.0868 - accuracy: 0.97 - ETA: 4s - loss: 0.0849 - accuracy: 0.98 - ETA: 3s - loss: 0.0838 - accuracy: 0.98 - ETA: 3s - loss: 0.0846 - accuracy: 0.97 - ETA: 3s - loss: 0.0821 - accuracy: 0.97 - ETA: 2s - loss: 0.0833 - accuracy: 0.97 - ETA: 2s - loss: 0.0819 - accuracy: 0.97 - ETA: 2s - loss: 0.0801 - accuracy: 0.97 - ETA: 1s - loss: 0.0784 - accuracy: 0.98 - ETA: 1s - loss: 0.0796 - accuracy: 0.97 - ETA: 1s - loss: 0.0785 - accuracy: 0.97 - ETA: 0s - loss: 0.0775 - accuracy: 0.97 - ETA: 0s - loss: 0.0761 - accuracy: 0.97 - 16s 12ms/step - loss: 0.0765 - accuracy: 0.9793 - val_loss: 4.9774 - val_accuracy: 0.3242\n",
      "Epoch 9/100\n",
      "1304/1304 [==============================] - ETA: 13s - loss: 0.0101 - accuracy: 1.000 - ETA: 13s - loss: 0.0097 - accuracy: 1.000 - ETA: 13s - loss: 0.0192 - accuracy: 1.000 - ETA: 13s - loss: 0.0697 - accuracy: 0.976 - ETA: 13s - loss: 0.0588 - accuracy: 0.981 - ETA: 12s - loss: 0.0492 - accuracy: 0.984 - ETA: 12s - loss: 0.0434 - accuracy: 0.986 - ETA: 12s - loss: 0.0387 - accuracy: 0.988 - ETA: 11s - loss: 0.0603 - accuracy: 0.982 - ETA: 11s - loss: 0.0549 - accuracy: 0.984 - ETA: 11s - loss: 0.0505 - accuracy: 0.985 - ETA: 10s - loss: 0.0529 - accuracy: 0.984 - ETA: 10s - loss: 0.0502 - accuracy: 0.985 - ETA: 9s - loss: 0.0588 - accuracy: 0.982 - ETA: 9s - loss: 0.0557 - accuracy: 0.98 - ETA: 9s - loss: 0.0526 - accuracy: 0.98 - ETA: 8s - loss: 0.0517 - accuracy: 0.98 - ETA: 8s - loss: 0.0509 - accuracy: 0.98 - ETA: 8s - loss: 0.0552 - accuracy: 0.98 - ETA: 7s - loss: 0.0876 - accuracy: 0.98 - ETA: 7s - loss: 0.0863 - accuracy: 0.98 - ETA: 6s - loss: 0.0827 - accuracy: 0.98 - ETA: 6s - loss: 0.0823 - accuracy: 0.98 - ETA: 6s - loss: 0.0807 - accuracy: 0.98 - ETA: 5s - loss: 0.0788 - accuracy: 0.98 - ETA: 5s - loss: 0.0825 - accuracy: 0.97 - ETA: 5s - loss: 0.0801 - accuracy: 0.98 - ETA: 4s - loss: 0.0796 - accuracy: 0.97 - ETA: 4s - loss: 0.0812 - accuracy: 0.97 - ETA: 3s - loss: 0.0786 - accuracy: 0.98 - ETA: 3s - loss: 0.0766 - accuracy: 0.98 - ETA: 3s - loss: 0.0748 - accuracy: 0.98 - ETA: 2s - loss: 0.0737 - accuracy: 0.98 - ETA: 2s - loss: 0.0750 - accuracy: 0.98 - ETA: 2s - loss: 0.0731 - accuracy: 0.98 - ETA: 1s - loss: 0.0716 - accuracy: 0.98 - ETA: 1s - loss: 0.0699 - accuracy: 0.98 - ETA: 1s - loss: 0.0702 - accuracy: 0.98 - ETA: 0s - loss: 0.0691 - accuracy: 0.98 - ETA: 0s - loss: 0.0677 - accuracy: 0.98 - 16s 12ms/step - loss: 0.0668 - accuracy: 0.9824 - val_loss: 5.7919 - val_accuracy: 0.2997\n",
      "Epoch 10/100\n",
      "1304/1304 [==============================] - ETA: 14s - loss: 0.0665 - accuracy: 0.968 - ETA: 14s - loss: 0.0371 - accuracy: 0.984 - ETA: 13s - loss: 0.0320 - accuracy: 0.989 - ETA: 13s - loss: 0.0257 - accuracy: 0.992 - ETA: 13s - loss: 0.0276 - accuracy: 0.987 - ETA: 12s - loss: 0.0258 - accuracy: 0.989 - ETA: 12s - loss: 0.0232 - accuracy: 0.991 - ETA: 12s - loss: 0.0252 - accuracy: 0.988 - ETA: 11s - loss: 0.0339 - accuracy: 0.986 - ETA: 11s - loss: 0.0506 - accuracy: 0.978 - ETA: 11s - loss: 0.0566 - accuracy: 0.974 - ETA: 10s - loss: 0.0541 - accuracy: 0.976 - ETA: 10s - loss: 0.0504 - accuracy: 0.978 - ETA: 9s - loss: 0.0482 - accuracy: 0.979 - ETA: 9s - loss: 0.0512 - accuracy: 0.97 - ETA: 9s - loss: 0.0497 - accuracy: 0.98 - ETA: 8s - loss: 0.0474 - accuracy: 0.98 - ETA: 8s - loss: 0.0548 - accuracy: 0.97 - ETA: 8s - loss: 0.0612 - accuracy: 0.97 - ETA: 7s - loss: 0.0629 - accuracy: 0.97 - ETA: 7s - loss: 0.0676 - accuracy: 0.97 - ETA: 6s - loss: 0.0655 - accuracy: 0.97 - ETA: 6s - loss: 0.0689 - accuracy: 0.97 - ETA: 6s - loss: 0.0666 - accuracy: 0.97 - ETA: 5s - loss: 0.0653 - accuracy: 0.97 - ETA: 5s - loss: 0.0634 - accuracy: 0.97 - ETA: 5s - loss: 0.0654 - accuracy: 0.97 - ETA: 4s - loss: 0.0700 - accuracy: 0.97 - ETA: 4s - loss: 0.0708 - accuracy: 0.97 - ETA: 3s - loss: 0.0704 - accuracy: 0.97 - ETA: 3s - loss: 0.0697 - accuracy: 0.97 - ETA: 3s - loss: 0.0679 - accuracy: 0.97 - ETA: 2s - loss: 0.0666 - accuracy: 0.97 - ETA: 2s - loss: 0.0654 - accuracy: 0.97 - ETA: 2s - loss: 0.0640 - accuracy: 0.97 - ETA: 1s - loss: 0.0650 - accuracy: 0.97 - ETA: 1s - loss: 0.0657 - accuracy: 0.97 - ETA: 1s - loss: 0.0662 - accuracy: 0.97 - ETA: 0s - loss: 0.0651 - accuracy: 0.97 - ETA: 0s - loss: 0.0641 - accuracy: 0.97 - 16s 12ms/step - loss: 0.0638 - accuracy: 0.9785 - val_loss: 5.1077 - val_accuracy: 0.2813\n",
      "Epoch 11/100\n",
      "1304/1304 [==============================] - ETA: 14s - loss: 0.0202 - accuracy: 1.000 - ETA: 14s - loss: 0.0876 - accuracy: 0.984 - ETA: 13s - loss: 0.0617 - accuracy: 0.989 - ETA: 13s - loss: 0.0474 - accuracy: 0.992 - ETA: 13s - loss: 0.0663 - accuracy: 0.987 - ETA: 12s - loss: 0.0645 - accuracy: 0.984 - ETA: 12s - loss: 0.0682 - accuracy: 0.977 - ETA: 12s - loss: 0.0606 - accuracy: 0.980 - ETA: 11s - loss: 0.0592 - accuracy: 0.979 - ETA: 11s - loss: 0.0539 - accuracy: 0.981 - ETA: 11s - loss: 0.0506 - accuracy: 0.983 - ETA: 10s - loss: 0.0487 - accuracy: 0.984 - ETA: 10s - loss: 0.0469 - accuracy: 0.985 - ETA: 9s - loss: 0.0477 - accuracy: 0.984 - ETA: 9s - loss: 0.0462 - accuracy: 0.98 - ETA: 9s - loss: 0.0604 - accuracy: 0.98 - ETA: 8s - loss: 0.0643 - accuracy: 0.98 - ETA: 8s - loss: 0.0640 - accuracy: 0.98 - ETA: 8s - loss: 0.0612 - accuracy: 0.98 - ETA: 7s - loss: 0.0607 - accuracy: 0.98 - ETA: 7s - loss: 0.0580 - accuracy: 0.98 - ETA: 6s - loss: 0.0557 - accuracy: 0.98 - ETA: 6s - loss: 0.0544 - accuracy: 0.98 - ETA: 6s - loss: 0.0527 - accuracy: 0.98 - ETA: 5s - loss: 0.0507 - accuracy: 0.98 - ETA: 5s - loss: 0.0497 - accuracy: 0.98 - ETA: 5s - loss: 0.0483 - accuracy: 0.98 - ETA: 4s - loss: 0.0467 - accuracy: 0.98 - ETA: 4s - loss: 0.0465 - accuracy: 0.98 - ETA: 3s - loss: 0.0453 - accuracy: 0.98 - ETA: 3s - loss: 0.0484 - accuracy: 0.98 - ETA: 3s - loss: 0.0469 - accuracy: 0.98 - ETA: 2s - loss: 0.0466 - accuracy: 0.98 - ETA: 2s - loss: 0.0467 - accuracy: 0.98 - ETA: 2s - loss: 0.0455 - accuracy: 0.98 - ETA: 1s - loss: 0.0444 - accuracy: 0.98 - ETA: 1s - loss: 0.0439 - accuracy: 0.98 - ETA: 1s - loss: 0.0462 - accuracy: 0.98 - ETA: 0s - loss: 0.0457 - accuracy: 0.98 - ETA: 0s - loss: 0.0447 - accuracy: 0.98 - 16s 12ms/step - loss: 0.0443 - accuracy: 0.9877 - val_loss: 5.2281 - val_accuracy: 0.3028\n",
      "Epoch 12/100\n",
      "1304/1304 [==============================] - ETA: 14s - loss: 0.1072 - accuracy: 0.968 - ETA: 14s - loss: 0.1606 - accuracy: 0.937 - ETA: 14s - loss: 0.1189 - accuracy: 0.958 - ETA: 13s - loss: 0.0899 - accuracy: 0.968 - ETA: 13s - loss: 0.0949 - accuracy: 0.962 - ETA: 13s - loss: 0.0835 - accuracy: 0.963 - ETA: 12s - loss: 0.0728 - accuracy: 0.968 - ETA: 12s - loss: 0.0665 - accuracy: 0.968 - ETA: 12s - loss: 0.0597 - accuracy: 0.972 - ETA: 11s - loss: 0.0569 - accuracy: 0.975 - ETA: 11s - loss: 0.0636 - accuracy: 0.974 - ETA: 10s - loss: 0.0792 - accuracy: 0.971 - ETA: 10s - loss: 0.0734 - accuracy: 0.973 - ETA: 10s - loss: 0.0699 - accuracy: 0.975 - ETA: 9s - loss: 0.0804 - accuracy: 0.972 - ETA: 9s - loss: 0.0758 - accuracy: 0.97 - ETA: 9s - loss: 0.0902 - accuracy: 0.97 - ETA: 8s - loss: 0.0865 - accuracy: 0.97 - ETA: 8s - loss: 0.0838 - accuracy: 0.97 - ETA: 7s - loss: 0.0811 - accuracy: 0.97 - ETA: 7s - loss: 0.0777 - accuracy: 0.97 - ETA: 7s - loss: 0.0766 - accuracy: 0.97 - ETA: 6s - loss: 0.0800 - accuracy: 0.97 - ETA: 6s - loss: 0.0796 - accuracy: 0.97 - ETA: 6s - loss: 0.0773 - accuracy: 0.97 - ETA: 5s - loss: 0.0772 - accuracy: 0.97 - ETA: 5s - loss: 0.0768 - accuracy: 0.97 - ETA: 4s - loss: 0.0762 - accuracy: 0.97 - ETA: 4s - loss: 0.0740 - accuracy: 0.97 - ETA: 4s - loss: 0.0719 - accuracy: 0.97 - ETA: 3s - loss: 0.0713 - accuracy: 0.97 - ETA: 3s - loss: 0.0695 - accuracy: 0.97 - ETA: 2s - loss: 0.0680 - accuracy: 0.97 - ETA: 2s - loss: 0.0663 - accuracy: 0.97 - ETA: 2s - loss: 0.0650 - accuracy: 0.98 - ETA: 1s - loss: 0.0638 - accuracy: 0.98 - ETA: 1s - loss: 0.0623 - accuracy: 0.98 - ETA: 1s - loss: 0.0608 - accuracy: 0.98 - ETA: 0s - loss: 0.0594 - accuracy: 0.98 - ETA: 0s - loss: 0.0584 - accuracy: 0.98 - 16s 13ms/step - loss: 0.0576 - accuracy: 0.9831 - val_loss: 6.1316 - val_accuracy: 0.2905\n",
      "Epoch 13/100\n",
      "1304/1304 [==============================] - ETA: 14s - loss: 0.0265 - accuracy: 1.000 - ETA: 14s - loss: 0.0182 - accuracy: 1.000 - ETA: 14s - loss: 0.0157 - accuracy: 1.000 - ETA: 13s - loss: 0.0135 - accuracy: 1.000 - ETA: 13s - loss: 0.0120 - accuracy: 1.000 - ETA: 13s - loss: 0.0257 - accuracy: 0.989 - ETA: 12s - loss: 0.0224 - accuracy: 0.991 - ETA: 12s - loss: 0.0278 - accuracy: 0.988 - ETA: 12s - loss: 0.0248 - accuracy: 0.989 - ETA: 11s - loss: 0.0227 - accuracy: 0.990 - ETA: 11s - loss: 0.0236 - accuracy: 0.988 - ETA: 11s - loss: 0.0312 - accuracy: 0.987 - ETA: 10s - loss: 0.0319 - accuracy: 0.985 - ETA: 10s - loss: 0.0344 - accuracy: 0.984 - ETA: 9s - loss: 0.0323 - accuracy: 0.985 - ETA: 9s - loss: 0.0341 - accuracy: 0.98 - ETA: 9s - loss: 0.0326 - accuracy: 0.98 - ETA: 8s - loss: 0.0350 - accuracy: 0.98 - ETA: 8s - loss: 0.0371 - accuracy: 0.98 - ETA: 8s - loss: 0.0353 - accuracy: 0.98 - ETA: 7s - loss: 0.0338 - accuracy: 0.98 - ETA: 7s - loss: 0.0341 - accuracy: 0.98 - ETA: 6s - loss: 0.0333 - accuracy: 0.98 - ETA: 6s - loss: 0.0322 - accuracy: 0.98 - ETA: 6s - loss: 0.0314 - accuracy: 0.98 - ETA: 5s - loss: 0.0306 - accuracy: 0.98 - ETA: 5s - loss: 0.0299 - accuracy: 0.98 - ETA: 4s - loss: 0.0289 - accuracy: 0.98 - ETA: 4s - loss: 0.0293 - accuracy: 0.98 - ETA: 4s - loss: 0.0288 - accuracy: 0.98 - ETA: 3s - loss: 0.0279 - accuracy: 0.98 - ETA: 3s - loss: 0.0271 - accuracy: 0.98 - ETA: 2s - loss: 0.0263 - accuracy: 0.98 - ETA: 2s - loss: 0.0261 - accuracy: 0.98 - ETA: 2s - loss: 0.0260 - accuracy: 0.98 - ETA: 1s - loss: 0.0260 - accuracy: 0.98 - ETA: 1s - loss: 0.0253 - accuracy: 0.98 - ETA: 1s - loss: 0.0251 - accuracy: 0.99 - ETA: 0s - loss: 0.0257 - accuracy: 0.98 - ETA: 0s - loss: 0.0252 - accuracy: 0.98 - 16s 13ms/step - loss: 0.0270 - accuracy: 0.9893 - val_loss: 6.7427 - val_accuracy: 0.3272\n",
      "Epoch 14/100\n",
      "1304/1304 [==============================] - ETA: 14s - loss: 0.0073 - accuracy: 1.000 - ETA: 14s - loss: 0.0263 - accuracy: 0.984 - ETA: 14s - loss: 0.0179 - accuracy: 0.989 - ETA: 14s - loss: 0.0474 - accuracy: 0.984 - ETA: 13s - loss: 0.0399 - accuracy: 0.987 - ETA: 13s - loss: 0.0353 - accuracy: 0.989 - ETA: 13s - loss: 0.0319 - accuracy: 0.991 - ETA: 12s - loss: 0.0320 - accuracy: 0.992 - ETA: 12s - loss: 0.0289 - accuracy: 0.993 - ETA: 11s - loss: 0.0268 - accuracy: 0.993 - ETA: 11s - loss: 0.0279 - accuracy: 0.991 - ETA: 11s - loss: 0.0257 - accuracy: 0.992 - ETA: 10s - loss: 0.0279 - accuracy: 0.990 - ETA: 10s - loss: 0.0323 - accuracy: 0.988 - ETA: 9s - loss: 0.0306 - accuracy: 0.989 - ETA: 9s - loss: 0.0297 - accuracy: 0.99 - ETA: 9s - loss: 0.0288 - accuracy: 0.99 - ETA: 8s - loss: 0.0306 - accuracy: 0.98 - ETA: 8s - loss: 0.0294 - accuracy: 0.99 - ETA: 7s - loss: 0.0280 - accuracy: 0.99 - ETA: 7s - loss: 0.0267 - accuracy: 0.99 - ETA: 7s - loss: 0.0265 - accuracy: 0.99 - ETA: 6s - loss: 0.0256 - accuracy: 0.99 - ETA: 6s - loss: 0.0247 - accuracy: 0.99 - ETA: 6s - loss: 0.0247 - accuracy: 0.99 - ETA: 5s - loss: 0.0261 - accuracy: 0.99 - ETA: 5s - loss: 0.0253 - accuracy: 0.99 - ETA: 4s - loss: 0.0308 - accuracy: 0.99 - ETA: 4s - loss: 0.0325 - accuracy: 0.98 - ETA: 4s - loss: 0.0315 - accuracy: 0.98 - ETA: 3s - loss: 0.0320 - accuracy: 0.98 - ETA: 3s - loss: 0.0315 - accuracy: 0.98 - ETA: 2s - loss: 0.0310 - accuracy: 0.98 - ETA: 2s - loss: 0.0309 - accuracy: 0.98 - ETA: 2s - loss: 0.0324 - accuracy: 0.98 - ETA: 1s - loss: 0.0340 - accuracy: 0.98 - ETA: 1s - loss: 0.0338 - accuracy: 0.98 - ETA: 1s - loss: 0.0331 - accuracy: 0.98 - ETA: 0s - loss: 0.0333 - accuracy: 0.98 - ETA: 0s - loss: 0.0326 - accuracy: 0.98 - 16s 13ms/step - loss: 0.0321 - accuracy: 0.9893 - val_loss: 6.4201 - val_accuracy: 0.3242\n",
      "Epoch 15/100\n",
      "1304/1304 [==============================] - ETA: 14s - loss: 0.0585 - accuracy: 0.968 - ETA: 14s - loss: 0.1197 - accuracy: 0.953 - ETA: 14s - loss: 0.0847 - accuracy: 0.968 - ETA: 14s - loss: 0.0665 - accuracy: 0.976 - ETA: 13s - loss: 0.0543 - accuracy: 0.981 - ETA: 13s - loss: 0.0478 - accuracy: 0.984 - ETA: 13s - loss: 0.0430 - accuracy: 0.986 - ETA: 12s - loss: 0.0385 - accuracy: 0.988 - ETA: 12s - loss: 0.0506 - accuracy: 0.982 - ETA: 11s - loss: 0.0461 - accuracy: 0.984 - ETA: 11s - loss: 0.0444 - accuracy: 0.983 - ETA: 11s - loss: 0.0505 - accuracy: 0.981 - ETA: 10s - loss: 0.0479 - accuracy: 0.983 - ETA: 10s - loss: 0.0453 - accuracy: 0.984 - ETA: 9s - loss: 0.0485 - accuracy: 0.983 - ETA: 9s - loss: 0.0476 - accuracy: 0.98 - ETA: 9s - loss: 0.0451 - accuracy: 0.98 - ETA: 8s - loss: 0.0432 - accuracy: 0.98 - ETA: 8s - loss: 0.0420 - accuracy: 0.98 - ETA: 7s - loss: 0.0411 - accuracy: 0.98 - ETA: 7s - loss: 0.0392 - accuracy: 0.98 - ETA: 7s - loss: 0.0420 - accuracy: 0.98 - ETA: 6s - loss: 0.0418 - accuracy: 0.98 - ETA: 6s - loss: 0.0421 - accuracy: 0.98 - ETA: 6s - loss: 0.0405 - accuracy: 0.98 - ETA: 5s - loss: 0.0391 - accuracy: 0.98 - ETA: 5s - loss: 0.0377 - accuracy: 0.98 - ETA: 4s - loss: 0.0367 - accuracy: 0.98 - ETA: 4s - loss: 0.0356 - accuracy: 0.98 - ETA: 4s - loss: 0.0379 - accuracy: 0.98 - ETA: 3s - loss: 0.0371 - accuracy: 0.98 - ETA: 3s - loss: 0.0359 - accuracy: 0.98 - ETA: 2s - loss: 0.0349 - accuracy: 0.98 - ETA: 2s - loss: 0.0351 - accuracy: 0.98 - ETA: 2s - loss: 0.0343 - accuracy: 0.98 - ETA: 1s - loss: 0.0335 - accuracy: 0.98 - ETA: 1s - loss: 0.0333 - accuracy: 0.98 - ETA: 1s - loss: 0.0331 - accuracy: 0.98 - ETA: 0s - loss: 0.0323 - accuracy: 0.98 - ETA: 0s - loss: 0.0316 - accuracy: 0.98 - 16s 12ms/step - loss: 0.0312 - accuracy: 0.9900 - val_loss: 6.5735 - val_accuracy: 0.3303\n",
      "Epoch 16/100\n",
      "1304/1304 [==============================] - ETA: 15s - loss: 0.0482 - accuracy: 0.968 - ETA: 14s - loss: 0.0317 - accuracy: 0.984 - ETA: 14s - loss: 0.0228 - accuracy: 0.989 - ETA: 14s - loss: 0.0189 - accuracy: 0.992 - ETA: 14s - loss: 0.0162 - accuracy: 0.993 - ETA: 13s - loss: 0.0144 - accuracy: 0.994 - ETA: 13s - loss: 0.0191 - accuracy: 0.991 - ETA: 12s - loss: 0.0168 - accuracy: 0.992 - ETA: 12s - loss: 0.0154 - accuracy: 0.993 - ETA: 12s - loss: 0.0142 - accuracy: 0.993 - ETA: 11s - loss: 0.0130 - accuracy: 0.994 - ETA: 11s - loss: 0.0142 - accuracy: 0.994 - ETA: 10s - loss: 0.0135 - accuracy: 0.995 - ETA: 10s - loss: 0.0126 - accuracy: 0.995 - ETA: 10s - loss: 0.0144 - accuracy: 0.993 - ETA: 9s - loss: 0.0153 - accuracy: 0.994 - ETA: 9s - loss: 0.0170 - accuracy: 0.99 - ETA: 8s - loss: 0.0162 - accuracy: 0.99 - ETA: 8s - loss: 0.0170 - accuracy: 0.99 - ETA: 8s - loss: 0.0163 - accuracy: 0.99 - ETA: 7s - loss: 0.0156 - accuracy: 0.99 - ETA: 7s - loss: 0.0251 - accuracy: 0.99 - ETA: 6s - loss: 0.0255 - accuracy: 0.98 - ETA: 6s - loss: 0.0250 - accuracy: 0.98 - ETA: 6s - loss: 0.0243 - accuracy: 0.99 - ETA: 5s - loss: 0.0235 - accuracy: 0.99 - ETA: 5s - loss: 0.0230 - accuracy: 0.99 - ETA: 4s - loss: 0.0227 - accuracy: 0.99 - ETA: 4s - loss: 0.0244 - accuracy: 0.99 - ETA: 4s - loss: 0.0257 - accuracy: 0.98 - ETA: 3s - loss: 0.0250 - accuracy: 0.98 - ETA: 3s - loss: 0.0259 - accuracy: 0.98 - ETA: 2s - loss: 0.0258 - accuracy: 0.98 - ETA: 2s - loss: 0.0254 - accuracy: 0.98 - ETA: 2s - loss: 0.0250 - accuracy: 0.98 - ETA: 1s - loss: 0.0245 - accuracy: 0.98 - ETA: 1s - loss: 0.0241 - accuracy: 0.98 - ETA: 1s - loss: 0.0251 - accuracy: 0.98 - ETA: 0s - loss: 0.0250 - accuracy: 0.98 - ETA: 0s - loss: 0.0248 - accuracy: 0.98 - 16s 13ms/step - loss: 0.0245 - accuracy: 0.9900 - val_loss: 6.4921 - val_accuracy: 0.3028\n",
      "Epoch 17/100\n",
      "1304/1304 [==============================] - ETA: 15s - loss: 0.2207 - accuracy: 0.906 - ETA: 15s - loss: 0.1157 - accuracy: 0.953 - ETA: 14s - loss: 0.0790 - accuracy: 0.968 - ETA: 14s - loss: 0.0612 - accuracy: 0.976 - ETA: 14s - loss: 0.0495 - accuracy: 0.981 - ETA: 13s - loss: 0.0438 - accuracy: 0.984 - ETA: 13s - loss: 0.0392 - accuracy: 0.986 - ETA: 12s - loss: 0.0359 - accuracy: 0.988 - ETA: 12s - loss: 0.0402 - accuracy: 0.986 - ETA: 11s - loss: 0.0485 - accuracy: 0.984 - ETA: 11s - loss: 0.0448 - accuracy: 0.985 - ETA: 11s - loss: 0.0414 - accuracy: 0.987 - ETA: 10s - loss: 0.0434 - accuracy: 0.985 - ETA: 10s - loss: 0.0413 - accuracy: 0.986 - ETA: 9s - loss: 0.0389 - accuracy: 0.987 - ETA: 9s - loss: 0.0374 - accuracy: 0.98 - ETA: 9s - loss: 0.0358 - accuracy: 0.98 - ETA: 8s - loss: 0.0346 - accuracy: 0.98 - ETA: 8s - loss: 0.0331 - accuracy: 0.99 - ETA: 7s - loss: 0.0328 - accuracy: 0.98 - ETA: 7s - loss: 0.0320 - accuracy: 0.98 - ETA: 7s - loss: 0.0423 - accuracy: 0.98 - ETA: 6s - loss: 0.0419 - accuracy: 0.98 - ETA: 6s - loss: 0.0408 - accuracy: 0.98 - ETA: 6s - loss: 0.0393 - accuracy: 0.99 - ETA: 5s - loss: 0.0384 - accuracy: 0.99 - ETA: 5s - loss: 0.0393 - accuracy: 0.98 - ETA: 4s - loss: 0.0380 - accuracy: 0.99 - ETA: 4s - loss: 0.0369 - accuracy: 0.99 - ETA: 4s - loss: 0.0359 - accuracy: 0.99 - ETA: 3s - loss: 0.0350 - accuracy: 0.99 - ETA: 3s - loss: 0.0351 - accuracy: 0.99 - ETA: 2s - loss: 0.0346 - accuracy: 0.99 - ETA: 2s - loss: 0.0345 - accuracy: 0.99 - ETA: 2s - loss: 0.0380 - accuracy: 0.99 - ETA: 1s - loss: 0.0379 - accuracy: 0.98 - ETA: 1s - loss: 0.0369 - accuracy: 0.98 - ETA: 1s - loss: 0.0360 - accuracy: 0.99 - ETA: 0s - loss: 0.0356 - accuracy: 0.99 - ETA: 0s - loss: 0.0349 - accuracy: 0.99 - 16s 13ms/step - loss: 0.0343 - accuracy: 0.9908 - val_loss: 6.8266 - val_accuracy: 0.2997\n",
      "Epoch 18/100\n",
      "1304/1304 [==============================] - ETA: 15s - loss: 0.2103 - accuracy: 0.937 - ETA: 15s - loss: 0.1077 - accuracy: 0.968 - ETA: 14s - loss: 0.0819 - accuracy: 0.979 - ETA: 14s - loss: 0.0619 - accuracy: 0.984 - ETA: 13s - loss: 0.0569 - accuracy: 0.981 - ETA: 13s - loss: 0.0479 - accuracy: 0.984 - ETA: 13s - loss: 0.0413 - accuracy: 0.986 - ETA: 12s - loss: 0.0421 - accuracy: 0.984 - ETA: 12s - loss: 0.0378 - accuracy: 0.986 - ETA: 11s - loss: 0.0343 - accuracy: 0.987 - ETA: 11s - loss: 0.0320 - accuracy: 0.988 - ETA: 11s - loss: 0.0402 - accuracy: 0.987 - ETA: 10s - loss: 0.0376 - accuracy: 0.988 - ETA: 10s - loss: 0.0350 - accuracy: 0.988 - ETA: 9s - loss: 0.0334 - accuracy: 0.989 - ETA: 9s - loss: 0.0314 - accuracy: 0.99 - ETA: 9s - loss: 0.0297 - accuracy: 0.99 - ETA: 8s - loss: 0.0296 - accuracy: 0.99 - ETA: 8s - loss: 0.0281 - accuracy: 0.99 - ETA: 7s - loss: 0.0267 - accuracy: 0.99 - ETA: 7s - loss: 0.0259 - accuracy: 0.99 - ETA: 7s - loss: 0.0273 - accuracy: 0.99 - ETA: 6s - loss: 0.0271 - accuracy: 0.99 - ETA: 6s - loss: 0.0265 - accuracy: 0.99 - ETA: 6s - loss: 0.0272 - accuracy: 0.99 - ETA: 5s - loss: 0.0330 - accuracy: 0.99 - ETA: 5s - loss: 0.0420 - accuracy: 0.98 - ETA: 4s - loss: 0.0409 - accuracy: 0.98 - ETA: 4s - loss: 0.0397 - accuracy: 0.98 - ETA: 4s - loss: 0.0384 - accuracy: 0.98 - ETA: 3s - loss: 0.0386 - accuracy: 0.98 - ETA: 3s - loss: 0.0378 - accuracy: 0.98 - ETA: 2s - loss: 0.0378 - accuracy: 0.98 - ETA: 2s - loss: 0.0394 - accuracy: 0.98 - ETA: 2s - loss: 0.0386 - accuracy: 0.98 - ETA: 1s - loss: 0.0386 - accuracy: 0.98 - ETA: 1s - loss: 0.0384 - accuracy: 0.98 - ETA: 1s - loss: 0.0378 - accuracy: 0.98 - ETA: 0s - loss: 0.0378 - accuracy: 0.98 - ETA: 0s - loss: 0.0369 - accuracy: 0.98 - 16s 13ms/step - loss: 0.0365 - accuracy: 0.9900 - val_loss: 5.9196 - val_accuracy: 0.3089\n",
      "Epoch 19/100\n",
      "1304/1304 [==============================] - ETA: 15s - loss: 0.0625 - accuracy: 0.968 - ETA: 15s - loss: 0.0333 - accuracy: 0.984 - ETA: 14s - loss: 0.0288 - accuracy: 0.989 - ETA: 14s - loss: 0.0235 - accuracy: 0.992 - ETA: 13s - loss: 0.0198 - accuracy: 0.993 - ETA: 13s - loss: 0.0170 - accuracy: 0.994 - ETA: 12s - loss: 0.0160 - accuracy: 0.995 - ETA: 12s - loss: 0.0225 - accuracy: 0.992 - ETA: 12s - loss: 0.0209 - accuracy: 0.993 - ETA: 11s - loss: 0.0222 - accuracy: 0.990 - ETA: 11s - loss: 0.0210 - accuracy: 0.991 - ETA: 11s - loss: 0.0195 - accuracy: 0.992 - ETA: 10s - loss: 0.0187 - accuracy: 0.992 - ETA: 10s - loss: 0.0260 - accuracy: 0.988 - ETA: 9s - loss: 0.0244 - accuracy: 0.989 - ETA: 9s - loss: 0.0316 - accuracy: 0.98 - ETA: 9s - loss: 0.0379 - accuracy: 0.98 - ETA: 8s - loss: 0.0367 - accuracy: 0.98 - ETA: 8s - loss: 0.0349 - accuracy: 0.98 - ETA: 7s - loss: 0.0333 - accuracy: 0.98 - ETA: 7s - loss: 0.0337 - accuracy: 0.98 - ETA: 7s - loss: 0.0338 - accuracy: 0.98 - ETA: 6s - loss: 0.0354 - accuracy: 0.98 - ETA: 6s - loss: 0.0342 - accuracy: 0.98 - ETA: 6s - loss: 0.0333 - accuracy: 0.98 - ETA: 5s - loss: 0.0353 - accuracy: 0.98 - ETA: 5s - loss: 0.0351 - accuracy: 0.98 - ETA: 4s - loss: 0.0428 - accuracy: 0.98 - ETA: 4s - loss: 0.0516 - accuracy: 0.98 - ETA: 4s - loss: 0.0499 - accuracy: 0.98 - ETA: 3s - loss: 0.0488 - accuracy: 0.98 - ETA: 3s - loss: 0.0492 - accuracy: 0.98 - ETA: 2s - loss: 0.0479 - accuracy: 0.98 - ETA: 2s - loss: 0.0476 - accuracy: 0.98 - ETA: 2s - loss: 0.0484 - accuracy: 0.98 - ETA: 1s - loss: 0.0557 - accuracy: 0.98 - ETA: 1s - loss: 0.0588 - accuracy: 0.98 - ETA: 1s - loss: 0.0599 - accuracy: 0.98 - ETA: 0s - loss: 0.0593 - accuracy: 0.98 - ETA: 0s - loss: 0.0579 - accuracy: 0.98 - 16s 13ms/step - loss: 0.0570 - accuracy: 0.9824 - val_loss: 6.7035 - val_accuracy: 0.3089\n",
      "Epoch 20/100\n",
      "1304/1304 [==============================] - ETA: 15s - loss: 0.0724 - accuracy: 1.000 - ETA: 14s - loss: 0.1331 - accuracy: 0.968 - ETA: 14s - loss: 0.1026 - accuracy: 0.968 - ETA: 13s - loss: 0.1166 - accuracy: 0.953 - ETA: 13s - loss: 0.1100 - accuracy: 0.950 - ETA: 13s - loss: 0.0919 - accuracy: 0.958 - ETA: 12s - loss: 0.0792 - accuracy: 0.964 - ETA: 12s - loss: 0.0711 - accuracy: 0.968 - ETA: 12s - loss: 0.0633 - accuracy: 0.972 - ETA: 11s - loss: 0.0592 - accuracy: 0.975 - ETA: 11s - loss: 0.0652 - accuracy: 0.974 - ETA: 10s - loss: 0.0630 - accuracy: 0.974 - ETA: 10s - loss: 0.0589 - accuracy: 0.976 - ETA: 10s - loss: 0.0558 - accuracy: 0.977 - ETA: 9s - loss: 0.0522 - accuracy: 0.979 - ETA: 9s - loss: 0.0492 - accuracy: 0.98 - ETA: 9s - loss: 0.0466 - accuracy: 0.98 - ETA: 8s - loss: 0.0544 - accuracy: 0.98 - ETA: 8s - loss: 0.0516 - accuracy: 0.98 - ETA: 7s - loss: 0.0495 - accuracy: 0.98 - ETA: 7s - loss: 0.0522 - accuracy: 0.98 - ETA: 7s - loss: 0.0508 - accuracy: 0.98 - ETA: 6s - loss: 0.0487 - accuracy: 0.98 - ETA: 6s - loss: 0.0469 - accuracy: 0.98 - ETA: 6s - loss: 0.0456 - accuracy: 0.98 - ETA: 5s - loss: 0.0446 - accuracy: 0.98 - ETA: 5s - loss: 0.0449 - accuracy: 0.98 - ETA: 4s - loss: 0.0440 - accuracy: 0.98 - ETA: 4s - loss: 0.0425 - accuracy: 0.98 - ETA: 4s - loss: 0.0413 - accuracy: 0.98 - ETA: 3s - loss: 0.0451 - accuracy: 0.98 - ETA: 3s - loss: 0.0437 - accuracy: 0.98 - ETA: 2s - loss: 0.0432 - accuracy: 0.98 - ETA: 2s - loss: 0.0421 - accuracy: 0.98 - ETA: 2s - loss: 0.0420 - accuracy: 0.98 - ETA: 1s - loss: 0.0411 - accuracy: 0.98 - ETA: 1s - loss: 0.0401 - accuracy: 0.98 - ETA: 1s - loss: 0.0392 - accuracy: 0.98 - ETA: 0s - loss: 0.0385 - accuracy: 0.98 - ETA: 0s - loss: 0.0377 - accuracy: 0.98 - 17s 13ms/step - loss: 0.0375 - accuracy: 0.9885 - val_loss: 6.8921 - val_accuracy: 0.2997\n",
      "Epoch 21/100\n",
      "1304/1304 [==============================] - ETA: 14s - loss: 0.1675 - accuracy: 0.937 - ETA: 14s - loss: 0.0893 - accuracy: 0.968 - ETA: 14s - loss: 0.0764 - accuracy: 0.968 - ETA: 13s - loss: 0.0590 - accuracy: 0.976 - ETA: 13s - loss: 0.0475 - accuracy: 0.981 - ETA: 13s - loss: 0.0401 - accuracy: 0.984 - ETA: 12s - loss: 0.0351 - accuracy: 0.986 - ETA: 12s - loss: 0.0324 - accuracy: 0.988 - ETA: 12s - loss: 0.0297 - accuracy: 0.989 - ETA: 11s - loss: 0.0279 - accuracy: 0.990 - ETA: 11s - loss: 0.0275 - accuracy: 0.991 - ETA: 10s - loss: 0.0262 - accuracy: 0.992 - ETA: 10s - loss: 0.0437 - accuracy: 0.988 - ETA: 10s - loss: 0.0412 - accuracy: 0.988 - ETA: 9s - loss: 0.0385 - accuracy: 0.989 - ETA: 9s - loss: 0.0403 - accuracy: 0.98 - ETA: 9s - loss: 0.0380 - accuracy: 0.98 - ETA: 8s - loss: 0.0383 - accuracy: 0.98 - ETA: 8s - loss: 0.0365 - accuracy: 0.98 - ETA: 7s - loss: 0.0370 - accuracy: 0.98 - ETA: 7s - loss: 0.0360 - accuracy: 0.98 - ETA: 7s - loss: 0.0361 - accuracy: 0.98 - ETA: 6s - loss: 0.0352 - accuracy: 0.98 - ETA: 6s - loss: 0.0388 - accuracy: 0.98 - ETA: 5s - loss: 0.0373 - accuracy: 0.98 - ETA: 5s - loss: 0.0364 - accuracy: 0.98 - ETA: 5s - loss: 0.0356 - accuracy: 0.98 - ETA: 4s - loss: 0.0345 - accuracy: 0.98 - ETA: 4s - loss: 0.0335 - accuracy: 0.98 - ETA: 4s - loss: 0.0324 - accuracy: 0.98 - ETA: 3s - loss: 0.0314 - accuracy: 0.98 - ETA: 3s - loss: 0.0314 - accuracy: 0.98 - ETA: 2s - loss: 0.0306 - accuracy: 0.98 - ETA: 2s - loss: 0.0300 - accuracy: 0.98 - ETA: 2s - loss: 0.0301 - accuracy: 0.98 - ETA: 1s - loss: 0.0294 - accuracy: 0.98 - ETA: 1s - loss: 0.0287 - accuracy: 0.98 - ETA: 1s - loss: 0.0280 - accuracy: 0.99 - ETA: 0s - loss: 0.0273 - accuracy: 0.99 - ETA: 0s - loss: 0.0281 - accuracy: 0.98 - 16s 13ms/step - loss: 0.0277 - accuracy: 0.9900 - val_loss: 6.9778 - val_accuracy: 0.2997\n",
      "Epoch 22/100\n",
      "1304/1304 [==============================] - ETA: 14s - loss: 0.1000 - accuracy: 0.968 - ETA: 14s - loss: 0.0600 - accuracy: 0.984 - ETA: 14s - loss: 0.0424 - accuracy: 0.989 - ETA: 13s - loss: 0.0328 - accuracy: 0.992 - ETA: 13s - loss: 0.0498 - accuracy: 0.987 - ETA: 13s - loss: 0.0533 - accuracy: 0.984 - ETA: 12s - loss: 0.0458 - accuracy: 0.986 - ETA: 12s - loss: 0.0441 - accuracy: 0.984 - ETA: 12s - loss: 0.0507 - accuracy: 0.982 - ETA: 11s - loss: 0.0461 - accuracy: 0.984 - ETA: 11s - loss: 0.0464 - accuracy: 0.983 - ETA: 10s - loss: 0.0433 - accuracy: 0.984 - ETA: 10s - loss: 0.0402 - accuracy: 0.985 - ETA: 10s - loss: 0.0381 - accuracy: 0.986 - ETA: 9s - loss: 0.0387 - accuracy: 0.985 - ETA: 9s - loss: 0.0368 - accuracy: 0.98 - ETA: 9s - loss: 0.0352 - accuracy: 0.98 - ETA: 8s - loss: 0.0335 - accuracy: 0.98 - ETA: 8s - loss: 0.0342 - accuracy: 0.98 - ETA: 7s - loss: 0.0333 - accuracy: 0.98 - ETA: 7s - loss: 0.0318 - accuracy: 0.98 - ETA: 7s - loss: 0.0306 - accuracy: 0.98 - ETA: 6s - loss: 0.0294 - accuracy: 0.98 - ETA: 6s - loss: 0.0292 - accuracy: 0.98 - ETA: 5s - loss: 0.0286 - accuracy: 0.99 - ETA: 5s - loss: 0.0377 - accuracy: 0.98 - ETA: 5s - loss: 0.0365 - accuracy: 0.98 - ETA: 4s - loss: 0.0358 - accuracy: 0.98 - ETA: 4s - loss: 0.0346 - accuracy: 0.98 - ETA: 4s - loss: 0.0337 - accuracy: 0.98 - ETA: 3s - loss: 0.0327 - accuracy: 0.98 - ETA: 3s - loss: 0.0317 - accuracy: 0.99 - ETA: 2s - loss: 0.0309 - accuracy: 0.99 - ETA: 2s - loss: 0.0348 - accuracy: 0.98 - ETA: 2s - loss: 0.0411 - accuracy: 0.98 - ETA: 1s - loss: 0.0401 - accuracy: 0.98 - ETA: 1s - loss: 0.0392 - accuracy: 0.98 - ETA: 1s - loss: 0.0387 - accuracy: 0.99 - ETA: 0s - loss: 0.0380 - accuracy: 0.99 - ETA: 0s - loss: 0.0372 - accuracy: 0.99 - 16s 13ms/step - loss: 0.0366 - accuracy: 0.9908 - val_loss: 7.1173 - val_accuracy: 0.2966\n",
      "Epoch 23/100\n",
      "1304/1304 [==============================] - ETA: 15s - loss: 0.0380 - accuracy: 0.968 - ETA: 14s - loss: 0.0413 - accuracy: 0.968 - ETA: 14s - loss: 0.0319 - accuracy: 0.979 - ETA: 14s - loss: 0.0808 - accuracy: 0.976 - ETA: 13s - loss: 0.0889 - accuracy: 0.968 - ETA: 13s - loss: 0.0813 - accuracy: 0.974 - ETA: 12s - loss: 0.0706 - accuracy: 0.977 - ETA: 12s - loss: 0.0618 - accuracy: 0.980 - ETA: 12s - loss: 0.0556 - accuracy: 0.982 - ETA: 11s - loss: 0.0549 - accuracy: 0.984 - ETA: 11s - loss: 0.0543 - accuracy: 0.983 - ETA: 11s - loss: 0.0501 - accuracy: 0.984 - ETA: 10s - loss: 0.0465 - accuracy: 0.985 - ETA: 10s - loss: 0.0486 - accuracy: 0.984 - ETA: 9s - loss: 0.0462 - accuracy: 0.985 - ETA: 9s - loss: 0.0437 - accuracy: 0.98 - ETA: 9s - loss: 0.0415 - accuracy: 0.98 - ETA: 8s - loss: 0.0404 - accuracy: 0.98 - ETA: 8s - loss: 0.0384 - accuracy: 0.98 - ETA: 7s - loss: 0.0365 - accuracy: 0.98 - ETA: 7s - loss: 0.0349 - accuracy: 0.98 - ETA: 7s - loss: 0.0335 - accuracy: 0.99 - ETA: 6s - loss: 0.0322 - accuracy: 0.99 - ETA: 6s - loss: 0.0390 - accuracy: 0.98 - ETA: 6s - loss: 0.0377 - accuracy: 0.99 - ETA: 5s - loss: 0.0364 - accuracy: 0.99 - ETA: 5s - loss: 0.0367 - accuracy: 0.99 - ETA: 4s - loss: 0.0391 - accuracy: 0.99 - ETA: 4s - loss: 0.0422 - accuracy: 0.98 - ETA: 4s - loss: 0.0410 - accuracy: 0.98 - ETA: 3s - loss: 0.0401 - accuracy: 0.98 - ETA: 3s - loss: 0.0418 - accuracy: 0.98 - ETA: 2s - loss: 0.0409 - accuracy: 0.98 - ETA: 2s - loss: 0.0399 - accuracy: 0.98 - ETA: 2s - loss: 0.0394 - accuracy: 0.99 - ETA: 1s - loss: 0.0387 - accuracy: 0.99 - ETA: 1s - loss: 0.0451 - accuracy: 0.98 - ETA: 1s - loss: 0.0440 - accuracy: 0.99 - ETA: 0s - loss: 0.0438 - accuracy: 0.98 - ETA: 0s - loss: 0.0428 - accuracy: 0.98 - 16s 13ms/step - loss: 0.0434 - accuracy: 0.9893 - val_loss: 6.1255 - val_accuracy: 0.2966\n",
      "Epoch 24/100\n",
      "1304/1304 [==============================] - ETA: 15s - loss: 0.0352 - accuracy: 0.968 - ETA: 14s - loss: 0.0305 - accuracy: 0.984 - ETA: 14s - loss: 0.0235 - accuracy: 0.989 - ETA: 14s - loss: 0.0206 - accuracy: 0.992 - ETA: 13s - loss: 0.0165 - accuracy: 0.993 - ETA: 13s - loss: 0.0174 - accuracy: 0.994 - ETA: 12s - loss: 0.0157 - accuracy: 0.995 - ETA: 12s - loss: 0.0145 - accuracy: 0.996 - ETA: 12s - loss: 0.0131 - accuracy: 0.996 - ETA: 11s - loss: 0.0125 - accuracy: 0.996 - ETA: 11s - loss: 0.0120 - accuracy: 0.997 - ETA: 11s - loss: 0.0111 - accuracy: 0.997 - ETA: 10s - loss: 0.0104 - accuracy: 0.997 - ETA: 10s - loss: 0.0099 - accuracy: 0.997 - ETA: 9s - loss: 0.0094 - accuracy: 0.997 - ETA: 9s - loss: 0.0089 - accuracy: 0.99 - ETA: 9s - loss: 0.0121 - accuracy: 0.99 - ETA: 8s - loss: 0.0125 - accuracy: 0.99 - ETA: 8s - loss: 0.0185 - accuracy: 0.99 - ETA: 7s - loss: 0.0186 - accuracy: 0.99 - ETA: 7s - loss: 0.0179 - accuracy: 0.99 - ETA: 7s - loss: 0.0233 - accuracy: 0.99 - ETA: 6s - loss: 0.0224 - accuracy: 0.99 - ETA: 6s - loss: 0.0226 - accuracy: 0.99 - ETA: 6s - loss: 0.0222 - accuracy: 0.99 - ETA: 5s - loss: 0.0215 - accuracy: 0.99 - ETA: 5s - loss: 0.0219 - accuracy: 0.99 - ETA: 4s - loss: 0.0212 - accuracy: 0.99 - ETA: 4s - loss: 0.0205 - accuracy: 0.99 - ETA: 4s - loss: 0.0202 - accuracy: 0.99 - ETA: 3s - loss: 0.0210 - accuracy: 0.99 - ETA: 3s - loss: 0.0209 - accuracy: 0.99 - ETA: 2s - loss: 0.0209 - accuracy: 0.99 - ETA: 2s - loss: 0.0229 - accuracy: 0.99 - ETA: 2s - loss: 0.0223 - accuracy: 0.99 - ETA: 1s - loss: 0.0227 - accuracy: 0.99 - ETA: 1s - loss: 0.0224 - accuracy: 0.99 - ETA: 1s - loss: 0.0218 - accuracy: 0.99 - ETA: 0s - loss: 0.0216 - accuracy: 0.99 - ETA: 0s - loss: 0.0211 - accuracy: 0.99 - 16s 13ms/step - loss: 0.0210 - accuracy: 0.9939 - val_loss: 6.4231 - val_accuracy: 0.2966\n",
      "Epoch 25/100\n",
      "1304/1304 [==============================] - ETA: 14s - loss: 0.2528 - accuracy: 0.968 - ETA: 14s - loss: 0.1276 - accuracy: 0.984 - ETA: 14s - loss: 0.0878 - accuracy: 0.989 - ETA: 14s - loss: 0.0850 - accuracy: 0.984 - ETA: 13s - loss: 0.0703 - accuracy: 0.987 - ETA: 13s - loss: 0.0590 - accuracy: 0.989 - ETA: 12s - loss: 0.0508 - accuracy: 0.991 - ETA: 12s - loss: 0.0448 - accuracy: 0.992 - ETA: 12s - loss: 0.0403 - accuracy: 0.993 - ETA: 11s - loss: 0.0374 - accuracy: 0.993 - ETA: 11s - loss: 0.0344 - accuracy: 0.994 - ETA: 11s - loss: 0.0319 - accuracy: 0.994 - ETA: 10s - loss: 0.0296 - accuracy: 0.995 - ETA: 10s - loss: 0.0299 - accuracy: 0.993 - ETA: 9s - loss: 0.0283 - accuracy: 0.993 - ETA: 9s - loss: 0.0268 - accuracy: 0.99 - ETA: 9s - loss: 0.0253 - accuracy: 0.99 - ETA: 8s - loss: 0.0326 - accuracy: 0.99 - ETA: 8s - loss: 0.0344 - accuracy: 0.99 - ETA: 7s - loss: 0.0329 - accuracy: 0.99 - ETA: 7s - loss: 0.0315 - accuracy: 0.99 - ETA: 7s - loss: 0.0301 - accuracy: 0.99 - ETA: 6s - loss: 0.0289 - accuracy: 0.99 - ETA: 6s - loss: 0.0293 - accuracy: 0.99 - ETA: 6s - loss: 0.0287 - accuracy: 0.99 - ETA: 5s - loss: 0.0285 - accuracy: 0.99 - ETA: 5s - loss: 0.0280 - accuracy: 0.99 - ETA: 4s - loss: 0.0438 - accuracy: 0.98 - ETA: 4s - loss: 0.0423 - accuracy: 0.98 - ETA: 4s - loss: 0.0411 - accuracy: 0.98 - ETA: 3s - loss: 0.0404 - accuracy: 0.98 - ETA: 3s - loss: 0.0396 - accuracy: 0.99 - ETA: 2s - loss: 0.0396 - accuracy: 0.99 - ETA: 2s - loss: 0.0391 - accuracy: 0.98 - ETA: 2s - loss: 0.0390 - accuracy: 0.98 - ETA: 1s - loss: 0.0383 - accuracy: 0.98 - ETA: 1s - loss: 0.0379 - accuracy: 0.98 - ETA: 1s - loss: 0.0374 - accuracy: 0.99 - ETA: 0s - loss: 0.0376 - accuracy: 0.98 - ETA: 0s - loss: 0.0372 - accuracy: 0.98 - 16s 13ms/step - loss: 0.0367 - accuracy: 0.9900 - val_loss: 5.9503 - val_accuracy: 0.3180\n",
      "Epoch 26/100\n",
      "1304/1304 [==============================] - ETA: 15s - loss: 0.0224 - accuracy: 1.000 - ETA: 14s - loss: 0.0184 - accuracy: 1.000 - ETA: 14s - loss: 0.0502 - accuracy: 0.989 - ETA: 14s - loss: 0.0438 - accuracy: 0.992 - ETA: 13s - loss: 0.0535 - accuracy: 0.987 - ETA: 13s - loss: 0.0455 - accuracy: 0.989 - ETA: 12s - loss: 0.0395 - accuracy: 0.991 - ETA: 12s - loss: 0.0364 - accuracy: 0.992 - ETA: 12s - loss: 0.0377 - accuracy: 0.989 - ETA: 11s - loss: 0.0343 - accuracy: 0.990 - ETA: 11s - loss: 0.0321 - accuracy: 0.991 - ETA: 11s - loss: 0.0311 - accuracy: 0.992 - ETA: 10s - loss: 0.0332 - accuracy: 0.990 - ETA: 10s - loss: 0.0309 - accuracy: 0.991 - ETA: 9s - loss: 0.0348 - accuracy: 0.989 - ETA: 9s - loss: 0.0366 - accuracy: 0.98 - ETA: 9s - loss: 0.0345 - accuracy: 0.98 - ETA: 8s - loss: 0.0335 - accuracy: 0.98 - ETA: 8s - loss: 0.0323 - accuracy: 0.99 - ETA: 7s - loss: 0.0307 - accuracy: 0.99 - ETA: 7s - loss: 0.0311 - accuracy: 0.98 - ETA: 7s - loss: 0.0298 - accuracy: 0.99 - ETA: 6s - loss: 0.0285 - accuracy: 0.99 - ETA: 6s - loss: 0.0286 - accuracy: 0.99 - ETA: 6s - loss: 0.0278 - accuracy: 0.99 - ETA: 5s - loss: 0.0268 - accuracy: 0.99 - ETA: 5s - loss: 0.0258 - accuracy: 0.99 - ETA: 4s - loss: 0.0263 - accuracy: 0.99 - ETA: 4s - loss: 0.0257 - accuracy: 0.99 - ETA: 4s - loss: 0.0249 - accuracy: 0.99 - ETA: 3s - loss: 0.0242 - accuracy: 0.99 - ETA: 3s - loss: 0.0236 - accuracy: 0.99 - ETA: 2s - loss: 0.0233 - accuracy: 0.99 - ETA: 2s - loss: 0.0227 - accuracy: 0.99 - ETA: 2s - loss: 0.0242 - accuracy: 0.99 - ETA: 1s - loss: 0.0259 - accuracy: 0.99 - ETA: 1s - loss: 0.0299 - accuracy: 0.98 - ETA: 1s - loss: 0.0308 - accuracy: 0.98 - ETA: 0s - loss: 0.0301 - accuracy: 0.98 - ETA: 0s - loss: 0.0295 - accuracy: 0.98 - 17s 13ms/step - loss: 0.0289 - accuracy: 0.9900 - val_loss: 7.2505 - val_accuracy: 0.3150\n",
      "Epoch 27/100\n",
      "1304/1304 [==============================] - ETA: 14s - loss: 0.0039 - accuracy: 1.000 - ETA: 14s - loss: 0.0278 - accuracy: 0.984 - ETA: 14s - loss: 0.0391 - accuracy: 0.968 - ETA: 14s - loss: 0.0303 - accuracy: 0.976 - ETA: 13s - loss: 0.0274 - accuracy: 0.981 - ETA: 13s - loss: 0.0231 - accuracy: 0.984 - ETA: 13s - loss: 0.0245 - accuracy: 0.986 - ETA: 12s - loss: 0.0428 - accuracy: 0.984 - ETA: 12s - loss: 0.0390 - accuracy: 0.986 - ETA: 11s - loss: 0.0360 - accuracy: 0.987 - ETA: 11s - loss: 0.0341 - accuracy: 0.988 - ETA: 11s - loss: 0.0386 - accuracy: 0.987 - ETA: 10s - loss: 0.0377 - accuracy: 0.988 - ETA: 10s - loss: 0.0353 - accuracy: 0.988 - ETA: 9s - loss: 0.0330 - accuracy: 0.989 - ETA: 9s - loss: 0.0313 - accuracy: 0.99 - ETA: 9s - loss: 0.0296 - accuracy: 0.99 - ETA: 8s - loss: 0.0282 - accuracy: 0.99 - ETA: 8s - loss: 0.0290 - accuracy: 0.99 - ETA: 8s - loss: 0.0424 - accuracy: 0.98 - ETA: 7s - loss: 0.0404 - accuracy: 0.98 - ETA: 7s - loss: 0.0432 - accuracy: 0.98 - ETA: 6s - loss: 0.0427 - accuracy: 0.98 - ETA: 6s - loss: 0.0412 - accuracy: 0.98 - ETA: 6s - loss: 0.0419 - accuracy: 0.98 - ETA: 5s - loss: 0.0407 - accuracy: 0.98 - ETA: 5s - loss: 0.0400 - accuracy: 0.98 - ETA: 4s - loss: 0.0393 - accuracy: 0.98 - ETA: 4s - loss: 0.0447 - accuracy: 0.98 - ETA: 4s - loss: 0.0436 - accuracy: 0.98 - ETA: 3s - loss: 0.0425 - accuracy: 0.98 - ETA: 3s - loss: 0.0413 - accuracy: 0.98 - ETA: 3s - loss: 0.0431 - accuracy: 0.98 - ETA: 2s - loss: 0.0425 - accuracy: 0.98 - ETA: 2s - loss: 0.0414 - accuracy: 0.98 - ETA: 1s - loss: 0.0413 - accuracy: 0.98 - ETA: 1s - loss: 0.0402 - accuracy: 0.98 - ETA: 1s - loss: 0.0394 - accuracy: 0.98 - ETA: 0s - loss: 0.0399 - accuracy: 0.98 - ETA: 0s - loss: 0.0390 - accuracy: 0.98 - 17s 13ms/step - loss: 0.0383 - accuracy: 0.9877 - val_loss: 6.8570 - val_accuracy: 0.3180\n",
      "Epoch 28/100\n",
      "1304/1304 [==============================] - ETA: 16s - loss: 0.0489 - accuracy: 0.968 - ETA: 16s - loss: 0.0246 - accuracy: 0.984 - ETA: 15s - loss: 0.0168 - accuracy: 0.989 - ETA: 15s - loss: 0.0131 - accuracy: 0.992 - ETA: 15s - loss: 0.0110 - accuracy: 0.993 - ETA: 14s - loss: 0.0097 - accuracy: 0.994 - ETA: 14s - loss: 0.0177 - accuracy: 0.991 - ETA: 13s - loss: 0.0163 - accuracy: 0.992 - ETA: 13s - loss: 0.0176 - accuracy: 0.993 - ETA: 12s - loss: 0.0160 - accuracy: 0.993 - ETA: 12s - loss: 0.0154 - accuracy: 0.994 - ETA: 11s - loss: 0.0147 - accuracy: 0.994 - ETA: 11s - loss: 0.0139 - accuracy: 0.995 - ETA: 11s - loss: 0.0130 - accuracy: 0.995 - ETA: 10s - loss: 0.0123 - accuracy: 0.995 - ETA: 10s - loss: 0.0116 - accuracy: 0.996 - ETA: 9s - loss: 0.0164 - accuracy: 0.994 - ETA: 9s - loss: 0.0157 - accuracy: 0.99 - ETA: 8s - loss: 0.0150 - accuracy: 0.99 - ETA: 8s - loss: 0.0146 - accuracy: 0.99 - ETA: 8s - loss: 0.0140 - accuracy: 0.99 - ETA: 7s - loss: 0.0136 - accuracy: 0.99 - ETA: 7s - loss: 0.0154 - accuracy: 0.99 - ETA: 6s - loss: 0.0151 - accuracy: 0.99 - ETA: 6s - loss: 0.0148 - accuracy: 0.99 - ETA: 6s - loss: 0.0160 - accuracy: 0.99 - ETA: 5s - loss: 0.0154 - accuracy: 0.99 - ETA: 5s - loss: 0.0149 - accuracy: 0.99 - ETA: 4s - loss: 0.0149 - accuracy: 0.99 - ETA: 4s - loss: 0.0146 - accuracy: 0.99 - ETA: 4s - loss: 0.0142 - accuracy: 0.99 - ETA: 3s - loss: 0.0139 - accuracy: 0.99 - ETA: 3s - loss: 0.0145 - accuracy: 0.99 - ETA: 2s - loss: 0.0142 - accuracy: 0.99 - ETA: 2s - loss: 0.0141 - accuracy: 0.99 - ETA: 1s - loss: 0.0143 - accuracy: 0.99 - ETA: 1s - loss: 0.0142 - accuracy: 0.99 - ETA: 1s - loss: 0.0139 - accuracy: 0.99 - ETA: 0s - loss: 0.0136 - accuracy: 0.99 - ETA: 0s - loss: 0.0134 - accuracy: 0.99 - 18s 14ms/step - loss: 0.0139 - accuracy: 0.9954 - val_loss: 6.6863 - val_accuracy: 0.2844\n",
      "Epoch 29/100\n",
      "1304/1304 [==============================] - ETA: 15s - loss: 0.0026 - accuracy: 1.000 - ETA: 15s - loss: 0.0023 - accuracy: 1.000 - ETA: 15s - loss: 0.0031 - accuracy: 1.000 - ETA: 14s - loss: 0.0070 - accuracy: 1.000 - ETA: 14s - loss: 0.0087 - accuracy: 1.000 - ETA: 13s - loss: 0.0112 - accuracy: 1.000 - ETA: 13s - loss: 0.0117 - accuracy: 1.000 - ETA: 13s - loss: 0.0136 - accuracy: 0.996 - ETA: 12s - loss: 0.0135 - accuracy: 0.996 - ETA: 12s - loss: 0.0124 - accuracy: 0.996 - ETA: 11s - loss: 0.0115 - accuracy: 0.997 - ETA: 11s - loss: 0.0112 - accuracy: 0.997 - ETA: 11s - loss: 0.0113 - accuracy: 0.997 - ETA: 10s - loss: 0.0107 - accuracy: 0.997 - ETA: 10s - loss: 0.0110 - accuracy: 0.997 - ETA: 9s - loss: 0.0105 - accuracy: 0.998 - ETA: 9s - loss: 0.0134 - accuracy: 0.99 - ETA: 9s - loss: 0.0130 - accuracy: 0.99 - ETA: 8s - loss: 0.0124 - accuracy: 0.99 - ETA: 8s - loss: 0.0122 - accuracy: 0.99 - ETA: 7s - loss: 0.0117 - accuracy: 0.99 - ETA: 7s - loss: 0.0122 - accuracy: 0.99 - ETA: 7s - loss: 0.0118 - accuracy: 0.99 - ETA: 6s - loss: 0.0115 - accuracy: 0.99 - ETA: 6s - loss: 0.0111 - accuracy: 0.99 - ETA: 5s - loss: 0.0108 - accuracy: 0.99 - ETA: 5s - loss: 0.0112 - accuracy: 0.99 - ETA: 5s - loss: 0.0115 - accuracy: 0.99 - ETA: 4s - loss: 0.0114 - accuracy: 0.99 - ETA: 4s - loss: 0.0111 - accuracy: 0.99 - ETA: 3s - loss: 0.0108 - accuracy: 0.99 - ETA: 3s - loss: 0.0108 - accuracy: 0.99 - ETA: 3s - loss: 0.0106 - accuracy: 0.99 - ETA: 2s - loss: 0.0112 - accuracy: 0.99 - ETA: 2s - loss: 0.0109 - accuracy: 0.99 - ETA: 1s - loss: 0.0109 - accuracy: 0.99 - ETA: 1s - loss: 0.0106 - accuracy: 0.99 - ETA: 1s - loss: 0.0103 - accuracy: 0.99 - ETA: 0s - loss: 0.0101 - accuracy: 0.99 - ETA: 0s - loss: 0.0098 - accuracy: 0.99 - 17s 13ms/step - loss: 0.0099 - accuracy: 0.9977 - val_loss: 7.4082 - val_accuracy: 0.3089\n",
      "Epoch 30/100\n",
      "1304/1304 [==============================] - ETA: 14s - loss: 2.8608e-04 - accuracy: 1.000 - ETA: 14s - loss: 8.3044e-04 - accuracy: 1.000 - ETA: 14s - loss: 6.4380e-04 - accuracy: 1.000 - ETA: 13s - loss: 0.0133 - accuracy: 0.9922    - ETA: 13s - loss: 0.0158 - accuracy: 0.987 - ETA: 13s - loss: 0.0138 - accuracy: 0.989 - ETA: 12s - loss: 0.0121 - accuracy: 0.991 - ETA: 12s - loss: 0.0112 - accuracy: 0.992 - ETA: 12s - loss: 0.0105 - accuracy: 0.993 - ETA: 11s - loss: 0.0097 - accuracy: 0.993 - ETA: 11s - loss: 0.0089 - accuracy: 0.994 - ETA: 10s - loss: 0.0247 - accuracy: 0.992 - ETA: 10s - loss: 0.0229 - accuracy: 0.992 - ETA: 10s - loss: 0.0216 - accuracy: 0.993 - ETA: 9s - loss: 0.0202 - accuracy: 0.993 - ETA: 9s - loss: 0.0190 - accuracy: 0.99 - ETA: 9s - loss: 0.0201 - accuracy: 0.99 - ETA: 8s - loss: 0.0192 - accuracy: 0.99 - ETA: 8s - loss: 0.0190 - accuracy: 0.99 - ETA: 7s - loss: 0.0181 - accuracy: 0.99 - ETA: 7s - loss: 0.0173 - accuracy: 0.99 - ETA: 7s - loss: 0.0166 - accuracy: 0.99 - ETA: 6s - loss: 0.0160 - accuracy: 0.99 - ETA: 6s - loss: 0.0154 - accuracy: 0.99 - ETA: 6s - loss: 0.0148 - accuracy: 0.99 - ETA: 5s - loss: 0.0154 - accuracy: 0.99 - ETA: 5s - loss: 0.0149 - accuracy: 0.99 - ETA: 4s - loss: 0.0146 - accuracy: 0.99 - ETA: 4s - loss: 0.0141 - accuracy: 0.99 - ETA: 4s - loss: 0.0138 - accuracy: 0.99 - ETA: 3s - loss: 0.0136 - accuracy: 0.99 - ETA: 3s - loss: 0.0158 - accuracy: 0.99 - ETA: 3s - loss: 0.0193 - accuracy: 0.99 - ETA: 2s - loss: 0.0192 - accuracy: 0.99 - ETA: 2s - loss: 0.0192 - accuracy: 0.99 - ETA: 1s - loss: 0.0187 - accuracy: 0.99 - ETA: 1s - loss: 0.0182 - accuracy: 0.99 - ETA: 1s - loss: 0.0180 - accuracy: 0.99 - ETA: 0s - loss: 0.0178 - accuracy: 0.99 - ETA: 0s - loss: 0.0174 - accuracy: 0.99 - 17s 13ms/step - loss: 0.0174 - accuracy: 0.9939 - val_loss: 6.9399 - val_accuracy: 0.3242\n",
      "Epoch 31/100\n",
      "1304/1304 [==============================] - ETA: 15s - loss: 0.0063 - accuracy: 1.000 - ETA: 14s - loss: 0.0072 - accuracy: 1.000 - ETA: 14s - loss: 0.0053 - accuracy: 1.000 - ETA: 13s - loss: 0.0058 - accuracy: 1.000 - ETA: 13s - loss: 0.0159 - accuracy: 0.993 - ETA: 13s - loss: 0.0155 - accuracy: 0.994 - ETA: 12s - loss: 0.0136 - accuracy: 0.995 - ETA: 12s - loss: 0.0162 - accuracy: 0.992 - ETA: 12s - loss: 0.0145 - accuracy: 0.993 - ETA: 11s - loss: 0.0227 - accuracy: 0.990 - ETA: 11s - loss: 0.0208 - accuracy: 0.991 - ETA: 10s - loss: 0.0191 - accuracy: 0.992 - ETA: 10s - loss: 0.0298 - accuracy: 0.988 - ETA: 10s - loss: 0.0282 - accuracy: 0.988 - ETA: 9s - loss: 0.0269 - accuracy: 0.989 - ETA: 9s - loss: 0.0260 - accuracy: 0.99 - ETA: 9s - loss: 0.0246 - accuracy: 0.99 - ETA: 8s - loss: 0.0237 - accuracy: 0.99 - ETA: 8s - loss: 0.0234 - accuracy: 0.99 - ETA: 7s - loss: 0.0223 - accuracy: 0.99 - ETA: 7s - loss: 0.0216 - accuracy: 0.99 - ETA: 7s - loss: 0.0221 - accuracy: 0.99 - ETA: 6s - loss: 0.0218 - accuracy: 0.99 - ETA: 6s - loss: 0.0218 - accuracy: 0.99 - ETA: 6s - loss: 0.0222 - accuracy: 0.99 - ETA: 5s - loss: 0.0215 - accuracy: 0.99 - ETA: 5s - loss: 0.0207 - accuracy: 0.99 - ETA: 4s - loss: 0.0202 - accuracy: 0.99 - ETA: 4s - loss: 0.0196 - accuracy: 0.99 - ETA: 4s - loss: 0.0236 - accuracy: 0.99 - ETA: 3s - loss: 0.0229 - accuracy: 0.99 - ETA: 3s - loss: 0.0222 - accuracy: 0.99 - ETA: 2s - loss: 0.0219 - accuracy: 0.99 - ETA: 2s - loss: 0.0213 - accuracy: 0.99 - ETA: 2s - loss: 0.0208 - accuracy: 0.99 - ETA: 1s - loss: 0.0202 - accuracy: 0.99 - ETA: 1s - loss: 0.0242 - accuracy: 0.99 - ETA: 1s - loss: 0.0236 - accuracy: 0.99 - ETA: 0s - loss: 0.0247 - accuracy: 0.99 - ETA: 0s - loss: 0.0242 - accuracy: 0.99 - 17s 13ms/step - loss: 0.0238 - accuracy: 0.9923 - val_loss: 7.4844 - val_accuracy: 0.3058\n",
      "Epoch 32/100\n",
      "1304/1304 [==============================] - ETA: 15s - loss: 0.0116 - accuracy: 1.000 - ETA: 14s - loss: 0.0066 - accuracy: 1.000 - ETA: 14s - loss: 0.0052 - accuracy: 1.000 - ETA: 13s - loss: 0.0039 - accuracy: 1.000 - ETA: 13s - loss: 0.0049 - accuracy: 1.000 - ETA: 13s - loss: 0.0144 - accuracy: 0.994 - ETA: 12s - loss: 0.0126 - accuracy: 0.995 - ETA: 12s - loss: 0.0111 - accuracy: 0.996 - ETA: 12s - loss: 0.0101 - accuracy: 0.996 - ETA: 11s - loss: 0.0154 - accuracy: 0.993 - ETA: 11s - loss: 0.0144 - accuracy: 0.994 - ETA: 11s - loss: 0.0133 - accuracy: 0.994 - ETA: 10s - loss: 0.0124 - accuracy: 0.995 - ETA: 10s - loss: 0.0118 - accuracy: 0.995 - ETA: 9s - loss: 0.0112 - accuracy: 0.995 - ETA: 9s - loss: 0.0106 - accuracy: 0.99 - ETA: 9s - loss: 0.0104 - accuracy: 0.99 - ETA: 8s - loss: 0.0101 - accuracy: 0.99 - ETA: 8s - loss: 0.0097 - accuracy: 0.99 - ETA: 7s - loss: 0.0093 - accuracy: 0.99 - ETA: 7s - loss: 0.0090 - accuracy: 0.99 - ETA: 7s - loss: 0.0087 - accuracy: 0.99 - ETA: 6s - loss: 0.0085 - accuracy: 0.99 - ETA: 6s - loss: 0.0083 - accuracy: 0.99 - ETA: 6s - loss: 0.0080 - accuracy: 0.99 - ETA: 5s - loss: 0.0092 - accuracy: 0.99 - ETA: 5s - loss: 0.0088 - accuracy: 0.99 - ETA: 4s - loss: 0.0086 - accuracy: 0.99 - ETA: 4s - loss: 0.0084 - accuracy: 0.99 - ETA: 4s - loss: 0.0082 - accuracy: 0.99 - ETA: 3s - loss: 0.0088 - accuracy: 0.99 - ETA: 3s - loss: 0.0096 - accuracy: 0.99 - ETA: 2s - loss: 0.0094 - accuracy: 0.99 - ETA: 2s - loss: 0.0092 - accuracy: 0.99 - ETA: 2s - loss: 0.0097 - accuracy: 0.99 - ETA: 1s - loss: 0.0097 - accuracy: 0.99 - ETA: 1s - loss: 0.0094 - accuracy: 0.99 - ETA: 1s - loss: 0.0100 - accuracy: 0.99 - ETA: 0s - loss: 0.0108 - accuracy: 0.99 - ETA: 0s - loss: 0.0120 - accuracy: 0.99 - 17s 13ms/step - loss: 0.0118 - accuracy: 0.9946 - val_loss: 7.5137 - val_accuracy: 0.2997\n",
      "Epoch 33/100\n",
      "1304/1304 [==============================] - ETA: 15s - loss: 0.0039 - accuracy: 1.000 - ETA: 15s - loss: 0.0052 - accuracy: 1.000 - ETA: 15s - loss: 0.0036 - accuracy: 1.000 - ETA: 14s - loss: 0.0027 - accuracy: 1.000 - ETA: 14s - loss: 0.0023 - accuracy: 1.000 - ETA: 13s - loss: 0.0038 - accuracy: 1.000 - ETA: 13s - loss: 0.0040 - accuracy: 1.000 - ETA: 13s - loss: 0.0161 - accuracy: 0.996 - ETA: 12s - loss: 0.0160 - accuracy: 0.996 - ETA: 12s - loss: 0.0147 - accuracy: 0.996 - ETA: 12s - loss: 0.0141 - accuracy: 0.997 - ETA: 11s - loss: 0.0131 - accuracy: 0.997 - ETA: 11s - loss: 0.0122 - accuracy: 0.997 - ETA: 10s - loss: 0.0113 - accuracy: 0.997 - ETA: 10s - loss: 0.0171 - accuracy: 0.995 - ETA: 10s - loss: 0.0161 - accuracy: 0.996 - ETA: 9s - loss: 0.0154 - accuracy: 0.996 - ETA: 9s - loss: 0.0146 - accuracy: 0.99 - ETA: 8s - loss: 0.0154 - accuracy: 0.99 - ETA: 8s - loss: 0.0312 - accuracy: 0.99 - ETA: 8s - loss: 0.0299 - accuracy: 0.99 - ETA: 7s - loss: 0.0287 - accuracy: 0.99 - ETA: 7s - loss: 0.0286 - accuracy: 0.99 - ETA: 6s - loss: 0.0407 - accuracy: 0.99 - ETA: 6s - loss: 0.0391 - accuracy: 0.99 - ETA: 6s - loss: 0.0376 - accuracy: 0.99 - ETA: 5s - loss: 0.0388 - accuracy: 0.99 - ETA: 5s - loss: 0.0374 - accuracy: 0.99 - ETA: 4s - loss: 0.0363 - accuracy: 0.99 - ETA: 4s - loss: 0.0357 - accuracy: 0.99 - ETA: 3s - loss: 0.0346 - accuracy: 0.99 - ETA: 3s - loss: 0.0401 - accuracy: 0.99 - ETA: 3s - loss: 0.0472 - accuracy: 0.98 - ETA: 2s - loss: 0.0459 - accuracy: 0.98 - ETA: 2s - loss: 0.0454 - accuracy: 0.99 - ETA: 1s - loss: 0.0442 - accuracy: 0.99 - ETA: 1s - loss: 0.0450 - accuracy: 0.98 - ETA: 1s - loss: 0.0439 - accuracy: 0.99 - ETA: 0s - loss: 0.0439 - accuracy: 0.98 - ETA: 0s - loss: 0.0464 - accuracy: 0.98 - 17s 13ms/step - loss: 0.0468 - accuracy: 0.9885 - val_loss: 6.6316 - val_accuracy: 0.3150\n",
      "Epoch 34/100\n",
      "1304/1304 [==============================] - ETA: 16s - loss: 0.2909 - accuracy: 0.906 - ETA: 16s - loss: 0.1459 - accuracy: 0.953 - ETA: 15s - loss: 0.1407 - accuracy: 0.958 - ETA: 15s - loss: 0.1121 - accuracy: 0.968 - ETA: 14s - loss: 0.0918 - accuracy: 0.975 - ETA: 14s - loss: 0.0769 - accuracy: 0.979 - ETA: 14s - loss: 0.0683 - accuracy: 0.982 - ETA: 13s - loss: 0.0638 - accuracy: 0.984 - ETA: 13s - loss: 0.0605 - accuracy: 0.982 - ETA: 12s - loss: 0.0599 - accuracy: 0.981 - ETA: 12s - loss: 0.0596 - accuracy: 0.983 - ETA: 11s - loss: 0.0566 - accuracy: 0.984 - ETA: 11s - loss: 0.0548 - accuracy: 0.983 - ETA: 11s - loss: 0.0516 - accuracy: 0.984 - ETA: 10s - loss: 0.0595 - accuracy: 0.983 - ETA: 10s - loss: 0.0558 - accuracy: 0.984 - ETA: 9s - loss: 0.0529 - accuracy: 0.985 - ETA: 9s - loss: 0.0518 - accuracy: 0.98 - ETA: 8s - loss: 0.0497 - accuracy: 0.98 - ETA: 8s - loss: 0.0542 - accuracy: 0.98 - ETA: 8s - loss: 0.0547 - accuracy: 0.98 - ETA: 7s - loss: 0.0525 - accuracy: 0.98 - ETA: 7s - loss: 0.0532 - accuracy: 0.98 - ETA: 6s - loss: 0.0527 - accuracy: 0.98 - ETA: 6s - loss: 0.0526 - accuracy: 0.98 - ETA: 6s - loss: 0.0601 - accuracy: 0.98 - ETA: 5s - loss: 0.0651 - accuracy: 0.98 - ETA: 5s - loss: 0.0637 - accuracy: 0.98 - ETA: 4s - loss: 0.0621 - accuracy: 0.98 - ETA: 4s - loss: 0.0607 - accuracy: 0.98 - ETA: 4s - loss: 0.0597 - accuracy: 0.98 - ETA: 3s - loss: 0.0584 - accuracy: 0.98 - ETA: 3s - loss: 0.0572 - accuracy: 0.98 - ETA: 2s - loss: 0.0555 - accuracy: 0.98 - ETA: 2s - loss: 0.0579 - accuracy: 0.98 - ETA: 1s - loss: 0.0566 - accuracy: 0.98 - ETA: 1s - loss: 0.0555 - accuracy: 0.98 - ETA: 1s - loss: 0.0542 - accuracy: 0.98 - ETA: 0s - loss: 0.0577 - accuracy: 0.98 - ETA: 0s - loss: 0.0593 - accuracy: 0.98 - 18s 13ms/step - loss: 0.0643 - accuracy: 0.9816 - val_loss: 6.3056 - val_accuracy: 0.3211\n",
      "Epoch 35/100\n",
      "1304/1304 [==============================] - ETA: 15s - loss: 0.0209 - accuracy: 1.000 - ETA: 15s - loss: 0.0951 - accuracy: 0.968 - ETA: 15s - loss: 0.0752 - accuracy: 0.979 - ETA: 15s - loss: 0.0704 - accuracy: 0.976 - ETA: 14s - loss: 0.0604 - accuracy: 0.981 - ETA: 14s - loss: 0.0700 - accuracy: 0.974 - ETA: 13s - loss: 0.0729 - accuracy: 0.968 - ETA: 13s - loss: 0.0889 - accuracy: 0.960 - ETA: 13s - loss: 0.0825 - accuracy: 0.965 - ETA: 12s - loss: 0.0768 - accuracy: 0.968 - ETA: 12s - loss: 0.0700 - accuracy: 0.971 - ETA: 11s - loss: 0.0707 - accuracy: 0.971 - ETA: 11s - loss: 0.0660 - accuracy: 0.973 - ETA: 10s - loss: 0.0622 - accuracy: 0.975 - ETA: 10s - loss: 0.0595 - accuracy: 0.977 - ETA: 10s - loss: 0.0582 - accuracy: 0.976 - ETA: 9s - loss: 0.0648 - accuracy: 0.976 - ETA: 9s - loss: 0.0624 - accuracy: 0.97 - ETA: 8s - loss: 0.0602 - accuracy: 0.97 - ETA: 8s - loss: 0.0597 - accuracy: 0.97 - ETA: 7s - loss: 0.0638 - accuracy: 0.97 - ETA: 7s - loss: 0.0613 - accuracy: 0.98 - ETA: 7s - loss: 0.0590 - accuracy: 0.98 - ETA: 6s - loss: 0.0586 - accuracy: 0.98 - ETA: 6s - loss: 0.0629 - accuracy: 0.97 - ETA: 5s - loss: 0.0606 - accuracy: 0.97 - ETA: 5s - loss: 0.0584 - accuracy: 0.97 - ETA: 5s - loss: 0.0567 - accuracy: 0.97 - ETA: 4s - loss: 0.0575 - accuracy: 0.97 - ETA: 4s - loss: 0.0590 - accuracy: 0.97 - ETA: 3s - loss: 0.0573 - accuracy: 0.97 - ETA: 3s - loss: 0.0593 - accuracy: 0.97 - ETA: 3s - loss: 0.0590 - accuracy: 0.97 - ETA: 2s - loss: 0.0574 - accuracy: 0.97 - ETA: 2s - loss: 0.0559 - accuracy: 0.98 - ETA: 1s - loss: 0.0545 - accuracy: 0.98 - ETA: 1s - loss: 0.0533 - accuracy: 0.98 - ETA: 1s - loss: 0.0528 - accuracy: 0.98 - ETA: 0s - loss: 0.0520 - accuracy: 0.98 - ETA: 0s - loss: 0.0511 - accuracy: 0.98 - 17s 13ms/step - loss: 0.0506 - accuracy: 0.9831 - val_loss: 5.6427 - val_accuracy: 0.2844\n",
      "Epoch 36/100\n",
      "1304/1304 [==============================] - ETA: 14s - loss: 0.0108 - accuracy: 1.000 - ETA: 14s - loss: 0.0120 - accuracy: 1.000 - ETA: 14s - loss: 0.0202 - accuracy: 1.000 - ETA: 13s - loss: 0.0154 - accuracy: 1.000 - ETA: 13s - loss: 0.0176 - accuracy: 1.000 - ETA: 13s - loss: 0.0155 - accuracy: 1.000 - ETA: 12s - loss: 0.0135 - accuracy: 1.000 - ETA: 12s - loss: 0.0121 - accuracy: 1.000 - ETA: 12s - loss: 0.0115 - accuracy: 1.000 - ETA: 11s - loss: 0.0120 - accuracy: 1.000 - ETA: 11s - loss: 0.0114 - accuracy: 1.000 - ETA: 11s - loss: 0.0123 - accuracy: 1.000 - ETA: 10s - loss: 0.0118 - accuracy: 1.000 - ETA: 10s - loss: 0.0114 - accuracy: 1.000 - ETA: 9s - loss: 0.0116 - accuracy: 1.000 - ETA: 9s - loss: 0.0113 - accuracy: 1.00 - ETA: 9s - loss: 0.0107 - accuracy: 1.00 - ETA: 8s - loss: 0.0111 - accuracy: 1.00 - ETA: 8s - loss: 0.0109 - accuracy: 1.00 - ETA: 8s - loss: 0.0111 - accuracy: 1.00 - ETA: 7s - loss: 0.0108 - accuracy: 1.00 - ETA: 7s - loss: 0.0109 - accuracy: 1.00 - ETA: 6s - loss: 0.0120 - accuracy: 1.00 - ETA: 6s - loss: 0.0115 - accuracy: 1.00 - ETA: 6s - loss: 0.0111 - accuracy: 1.00 - ETA: 5s - loss: 0.0108 - accuracy: 1.00 - ETA: 5s - loss: 0.0106 - accuracy: 1.00 - ETA: 4s - loss: 0.0105 - accuracy: 1.00 - ETA: 4s - loss: 0.0110 - accuracy: 0.99 - ETA: 4s - loss: 0.0107 - accuracy: 0.99 - ETA: 3s - loss: 0.0109 - accuracy: 0.99 - ETA: 3s - loss: 0.0105 - accuracy: 0.99 - ETA: 3s - loss: 0.0102 - accuracy: 0.99 - ETA: 2s - loss: 0.0140 - accuracy: 0.99 - ETA: 2s - loss: 0.0137 - accuracy: 0.99 - ETA: 1s - loss: 0.0148 - accuracy: 0.99 - ETA: 1s - loss: 0.0167 - accuracy: 0.99 - ETA: 1s - loss: 0.0165 - accuracy: 0.99 - ETA: 0s - loss: 0.0165 - accuracy: 0.99 - ETA: 0s - loss: 0.0169 - accuracy: 0.99 - 17s 13ms/step - loss: 0.0166 - accuracy: 0.9954 - val_loss: 6.5289 - val_accuracy: 0.3150\n",
      "Epoch 37/100\n",
      "1304/1304 [==============================] - ETA: 14s - loss: 0.0184 - accuracy: 1.000 - ETA: 14s - loss: 0.0104 - accuracy: 1.000 - ETA: 14s - loss: 0.0116 - accuracy: 1.000 - ETA: 13s - loss: 0.0105 - accuracy: 1.000 - ETA: 13s - loss: 0.0110 - accuracy: 1.000 - ETA: 13s - loss: 0.0100 - accuracy: 1.000 - ETA: 13s - loss: 0.0298 - accuracy: 0.991 - ETA: 12s - loss: 0.0263 - accuracy: 0.992 - ETA: 12s - loss: 0.0242 - accuracy: 0.993 - ETA: 11s - loss: 0.0221 - accuracy: 0.993 - ETA: 11s - loss: 0.0208 - accuracy: 0.994 - ETA: 11s - loss: 0.0192 - accuracy: 0.994 - ETA: 10s - loss: 0.0180 - accuracy: 0.995 - ETA: 10s - loss: 0.0179 - accuracy: 0.995 - ETA: 9s - loss: 0.0170 - accuracy: 0.995 - ETA: 9s - loss: 0.0165 - accuracy: 0.99 - ETA: 9s - loss: 0.0172 - accuracy: 0.99 - ETA: 8s - loss: 0.0163 - accuracy: 0.99 - ETA: 8s - loss: 0.0157 - accuracy: 0.99 - ETA: 8s - loss: 0.0168 - accuracy: 0.99 - ETA: 7s - loss: 0.0161 - accuracy: 0.99 - ETA: 7s - loss: 0.0154 - accuracy: 0.99 - ETA: 6s - loss: 0.0257 - accuracy: 0.99 - ETA: 6s - loss: 0.0258 - accuracy: 0.99 - ETA: 6s - loss: 0.0253 - accuracy: 0.99 - ETA: 5s - loss: 0.0244 - accuracy: 0.99 - ETA: 5s - loss: 0.0235 - accuracy: 0.99 - ETA: 4s - loss: 0.0227 - accuracy: 0.99 - ETA: 4s - loss: 0.0228 - accuracy: 0.99 - ETA: 4s - loss: 0.0250 - accuracy: 0.99 - ETA: 3s - loss: 0.0243 - accuracy: 0.99 - ETA: 3s - loss: 0.0243 - accuracy: 0.99 - ETA: 2s - loss: 0.0242 - accuracy: 0.99 - ETA: 2s - loss: 0.0236 - accuracy: 0.99 - ETA: 2s - loss: 0.0230 - accuracy: 0.99 - ETA: 1s - loss: 0.0224 - accuracy: 0.99 - ETA: 1s - loss: 0.0219 - accuracy: 0.99 - ETA: 1s - loss: 0.0214 - accuracy: 0.99 - ETA: 0s - loss: 0.0211 - accuracy: 0.99 - ETA: 0s - loss: 0.0254 - accuracy: 0.99 - 17s 13ms/step - loss: 0.0250 - accuracy: 0.9939 - val_loss: 6.2357 - val_accuracy: 0.2905\n",
      "Epoch 38/100\n",
      "1304/1304 [==============================] - ETA: 14s - loss: 6.9471e-04 - accuracy: 1.000 - ETA: 15s - loss: 0.0359 - accuracy: 0.9844    - ETA: 14s - loss: 0.0258 - accuracy: 0.989 - ETA: 14s - loss: 0.0195 - accuracy: 0.992 - ETA: 14s - loss: 0.0167 - accuracy: 0.993 - ETA: 14s - loss: 0.0141 - accuracy: 0.994 - ETA: 13s - loss: 0.0123 - accuracy: 0.995 - ETA: 13s - loss: 0.0112 - accuracy: 0.996 - ETA: 13s - loss: 0.0252 - accuracy: 0.993 - ETA: 12s - loss: 0.0380 - accuracy: 0.990 - ETA: 12s - loss: 0.0347 - accuracy: 0.991 - ETA: 11s - loss: 0.0324 - accuracy: 0.992 - ETA: 11s - loss: 0.0313 - accuracy: 0.992 - ETA: 10s - loss: 0.0298 - accuracy: 0.993 - ETA: 10s - loss: 0.0346 - accuracy: 0.991 - ETA: 10s - loss: 0.0326 - accuracy: 0.992 - ETA: 9s - loss: 0.0314 - accuracy: 0.992 - ETA: 9s - loss: 0.0298 - accuracy: 0.99 - ETA: 8s - loss: 0.0319 - accuracy: 0.99 - ETA: 8s - loss: 0.0304 - accuracy: 0.99 - ETA: 8s - loss: 0.0408 - accuracy: 0.99 - ETA: 7s - loss: 0.0394 - accuracy: 0.99 - ETA: 7s - loss: 0.0388 - accuracy: 0.99 - ETA: 6s - loss: 0.0397 - accuracy: 0.98 - ETA: 6s - loss: 0.0384 - accuracy: 0.99 - ETA: 5s - loss: 0.0370 - accuracy: 0.99 - ETA: 5s - loss: 0.0363 - accuracy: 0.99 - ETA: 5s - loss: 0.0363 - accuracy: 0.99 - ETA: 4s - loss: 0.0358 - accuracy: 0.99 - ETA: 4s - loss: 0.0362 - accuracy: 0.99 - ETA: 3s - loss: 0.0356 - accuracy: 0.99 - ETA: 3s - loss: 0.0359 - accuracy: 0.99 - ETA: 3s - loss: 0.0349 - accuracy: 0.99 - ETA: 2s - loss: 0.0354 - accuracy: 0.98 - ETA: 2s - loss: 0.0346 - accuracy: 0.99 - ETA: 1s - loss: 0.0337 - accuracy: 0.99 - ETA: 1s - loss: 0.0347 - accuracy: 0.98 - ETA: 1s - loss: 0.0349 - accuracy: 0.98 - ETA: 0s - loss: 0.0341 - accuracy: 0.98 - ETA: 0s - loss: 0.0376 - accuracy: 0.98 - 17s 13ms/step - loss: 0.0373 - accuracy: 0.9893 - val_loss: 6.1897 - val_accuracy: 0.3303\n",
      "Epoch 39/100\n",
      "1304/1304 [==============================] - ETA: 16s - loss: 0.0045 - accuracy: 1.000 - ETA: 16s - loss: 0.0030 - accuracy: 1.000 - ETA: 15s - loss: 0.0044 - accuracy: 1.000 - ETA: 15s - loss: 0.0149 - accuracy: 0.992 - ETA: 14s - loss: 0.0236 - accuracy: 0.987 - ETA: 14s - loss: 0.0211 - accuracy: 0.989 - ETA: 13s - loss: 0.0203 - accuracy: 0.991 - ETA: 13s - loss: 0.0188 - accuracy: 0.992 - ETA: 13s - loss: 0.0192 - accuracy: 0.993 - ETA: 12s - loss: 0.0206 - accuracy: 0.993 - ETA: 12s - loss: 0.0195 - accuracy: 0.994 - ETA: 11s - loss: 0.0186 - accuracy: 0.994 - ETA: 11s - loss: 0.0346 - accuracy: 0.990 - ETA: 10s - loss: 0.0380 - accuracy: 0.988 - ETA: 10s - loss: 0.0386 - accuracy: 0.987 - ETA: 10s - loss: 0.0362 - accuracy: 0.988 - ETA: 9s - loss: 0.0378 - accuracy: 0.987 - ETA: 9s - loss: 0.0364 - accuracy: 0.98 - ETA: 8s - loss: 0.0363 - accuracy: 0.98 - ETA: 8s - loss: 0.0351 - accuracy: 0.98 - ETA: 8s - loss: 0.0340 - accuracy: 0.98 - ETA: 7s - loss: 0.0341 - accuracy: 0.98 - ETA: 7s - loss: 0.0336 - accuracy: 0.98 - ETA: 6s - loss: 0.0334 - accuracy: 0.98 - ETA: 6s - loss: 0.0388 - accuracy: 0.98 - ETA: 6s - loss: 0.0384 - accuracy: 0.98 - ETA: 5s - loss: 0.0373 - accuracy: 0.98 - ETA: 5s - loss: 0.0362 - accuracy: 0.99 - ETA: 4s - loss: 0.0356 - accuracy: 0.99 - ETA: 4s - loss: 0.0363 - accuracy: 0.98 - ETA: 3s - loss: 0.0403 - accuracy: 0.98 - ETA: 3s - loss: 0.0391 - accuracy: 0.98 - ETA: 3s - loss: 0.0391 - accuracy: 0.98 - ETA: 2s - loss: 0.0382 - accuracy: 0.98 - ETA: 2s - loss: 0.0371 - accuracy: 0.98 - ETA: 1s - loss: 0.0379 - accuracy: 0.98 - ETA: 1s - loss: 0.0386 - accuracy: 0.98 - ETA: 1s - loss: 0.0379 - accuracy: 0.98 - ETA: 0s - loss: 0.0370 - accuracy: 0.98 - ETA: 0s - loss: 0.0362 - accuracy: 0.98 - 18s 13ms/step - loss: 0.0356 - accuracy: 0.9877 - val_loss: 7.0976 - val_accuracy: 0.3150\n",
      "Epoch 40/100\n",
      "1304/1304 [==============================] - ETA: 15s - loss: 0.0071 - accuracy: 1.000 - ETA: 15s - loss: 0.0291 - accuracy: 1.000 - ETA: 15s - loss: 0.0213 - accuracy: 1.000 - ETA: 15s - loss: 0.0174 - accuracy: 1.000 - ETA: 14s - loss: 0.0173 - accuracy: 1.000 - ETA: 14s - loss: 0.0156 - accuracy: 1.000 - ETA: 13s - loss: 0.0139 - accuracy: 1.000 - ETA: 13s - loss: 0.0233 - accuracy: 0.992 - ETA: 13s - loss: 0.0209 - accuracy: 0.993 - ETA: 12s - loss: 0.0326 - accuracy: 0.990 - ETA: 12s - loss: 0.0300 - accuracy: 0.991 - ETA: 11s - loss: 0.0282 - accuracy: 0.992 - ETA: 11s - loss: 0.0262 - accuracy: 0.992 - ETA: 11s - loss: 0.0245 - accuracy: 0.993 - ETA: 10s - loss: 0.0248 - accuracy: 0.993 - ETA: 10s - loss: 0.0238 - accuracy: 0.994 - ETA: 9s - loss: 0.0224 - accuracy: 0.994 - ETA: 9s - loss: 0.0234 - accuracy: 0.99 - ETA: 8s - loss: 0.0228 - accuracy: 0.99 - ETA: 8s - loss: 0.0220 - accuracy: 0.99 - ETA: 8s - loss: 0.0224 - accuracy: 0.99 - ETA: 7s - loss: 0.0214 - accuracy: 0.99 - ETA: 7s - loss: 0.0215 - accuracy: 0.99 - ETA: 6s - loss: 0.0215 - accuracy: 0.99 - ETA: 6s - loss: 0.0208 - accuracy: 0.99 - ETA: 6s - loss: 0.0200 - accuracy: 0.99 - ETA: 5s - loss: 0.0206 - accuracy: 0.99 - ETA: 5s - loss: 0.0198 - accuracy: 0.99 - ETA: 4s - loss: 0.0194 - accuracy: 0.99 - ETA: 4s - loss: 0.0189 - accuracy: 0.99 - ETA: 4s - loss: 0.0184 - accuracy: 0.99 - ETA: 3s - loss: 0.0179 - accuracy: 0.99 - ETA: 3s - loss: 0.0176 - accuracy: 0.99 - ETA: 2s - loss: 0.0221 - accuracy: 0.99 - ETA: 2s - loss: 0.0216 - accuracy: 0.99 - ETA: 1s - loss: 0.0211 - accuracy: 0.99 - ETA: 1s - loss: 0.0222 - accuracy: 0.99 - ETA: 1s - loss: 0.0217 - accuracy: 0.99 - ETA: 0s - loss: 0.0212 - accuracy: 0.99 - ETA: 0s - loss: 0.0208 - accuracy: 0.99 - 18s 14ms/step - loss: 0.0204 - accuracy: 0.9946 - val_loss: 6.7063 - val_accuracy: 0.3058\n",
      "Epoch 41/100\n",
      "1304/1304 [==============================] - ETA: 16s - loss: 0.0034 - accuracy: 1.000 - ETA: 16s - loss: 0.0160 - accuracy: 1.000 - ETA: 15s - loss: 0.0130 - accuracy: 1.000 - ETA: 15s - loss: 0.0103 - accuracy: 1.000 - ETA: 14s - loss: 0.0096 - accuracy: 1.000 - ETA: 14s - loss: 0.0097 - accuracy: 1.000 - ETA: 13s - loss: 0.0086 - accuracy: 1.000 - ETA: 13s - loss: 0.0077 - accuracy: 1.000 - ETA: 13s - loss: 0.0091 - accuracy: 1.000 - ETA: 12s - loss: 0.0224 - accuracy: 0.996 - ETA: 12s - loss: 0.0257 - accuracy: 0.994 - ETA: 11s - loss: 0.0237 - accuracy: 0.994 - ETA: 11s - loss: 0.0219 - accuracy: 0.995 - ETA: 10s - loss: 0.0207 - accuracy: 0.995 - ETA: 10s - loss: 0.0209 - accuracy: 0.995 - ETA: 10s - loss: 0.0197 - accuracy: 0.996 - ETA: 9s - loss: 0.0185 - accuracy: 0.996 - ETA: 9s - loss: 0.0181 - accuracy: 0.99 - ETA: 9s - loss: 0.0181 - accuracy: 0.99 - ETA: 8s - loss: 0.0186 - accuracy: 0.99 - ETA: 8s - loss: 0.0178 - accuracy: 0.99 - ETA: 7s - loss: 0.0171 - accuracy: 0.99 - ETA: 7s - loss: 0.0164 - accuracy: 0.99 - ETA: 6s - loss: 0.0158 - accuracy: 0.99 - ETA: 6s - loss: 0.0152 - accuracy: 0.99 - ETA: 6s - loss: 0.0154 - accuracy: 0.99 - ETA: 5s - loss: 0.0158 - accuracy: 0.99 - ETA: 5s - loss: 0.0153 - accuracy: 0.99 - ETA: 4s - loss: 0.0149 - accuracy: 0.99 - ETA: 4s - loss: 0.0172 - accuracy: 0.99 - ETA: 4s - loss: 0.0169 - accuracy: 0.99 - ETA: 3s - loss: 0.0164 - accuracy: 0.99 - ETA: 3s - loss: 0.0159 - accuracy: 0.99 - ETA: 2s - loss: 0.0155 - accuracy: 0.99 - ETA: 2s - loss: 0.0150 - accuracy: 0.99 - ETA: 1s - loss: 0.0146 - accuracy: 0.99 - ETA: 1s - loss: 0.0152 - accuracy: 0.99 - ETA: 1s - loss: 0.0188 - accuracy: 0.99 - ETA: 0s - loss: 0.0186 - accuracy: 0.99 - ETA: 0s - loss: 0.0183 - accuracy: 0.99 - 18s 14ms/step - loss: 0.0180 - accuracy: 0.9954 - val_loss: 6.8848 - val_accuracy: 0.3089\n",
      "Epoch 42/100\n",
      "1304/1304 [==============================] - ETA: 15s - loss: 0.0075 - accuracy: 1.000 - ETA: 15s - loss: 0.0099 - accuracy: 1.000 - ETA: 15s - loss: 0.0070 - accuracy: 1.000 - ETA: 14s - loss: 0.0065 - accuracy: 1.000 - ETA: 14s - loss: 0.0095 - accuracy: 1.000 - ETA: 14s - loss: 0.0553 - accuracy: 0.994 - ETA: 13s - loss: 0.0498 - accuracy: 0.995 - ETA: 13s - loss: 0.0608 - accuracy: 0.992 - ETA: 12s - loss: 0.0579 - accuracy: 0.989 - ETA: 12s - loss: 0.0527 - accuracy: 0.990 - ETA: 12s - loss: 0.0522 - accuracy: 0.988 - ETA: 11s - loss: 0.0480 - accuracy: 0.989 - ETA: 11s - loss: 0.0444 - accuracy: 0.990 - ETA: 10s - loss: 0.0418 - accuracy: 0.991 - ETA: 10s - loss: 0.0392 - accuracy: 0.991 - ETA: 10s - loss: 0.0432 - accuracy: 0.990 - ETA: 9s - loss: 0.0411 - accuracy: 0.990 - ETA: 9s - loss: 0.0414 - accuracy: 0.98 - ETA: 8s - loss: 0.0394 - accuracy: 0.99 - ETA: 8s - loss: 0.0392 - accuracy: 0.99 - ETA: 7s - loss: 0.0379 - accuracy: 0.99 - ETA: 7s - loss: 0.0423 - accuracy: 0.99 - ETA: 7s - loss: 0.0406 - accuracy: 0.99 - ETA: 6s - loss: 0.0428 - accuracy: 0.98 - ETA: 6s - loss: 0.0415 - accuracy: 0.99 - ETA: 5s - loss: 0.0399 - accuracy: 0.99 - ETA: 5s - loss: 0.0385 - accuracy: 0.99 - ETA: 5s - loss: 0.0383 - accuracy: 0.99 - ETA: 4s - loss: 0.0371 - accuracy: 0.99 - ETA: 4s - loss: 0.0392 - accuracy: 0.98 - ETA: 3s - loss: 0.0389 - accuracy: 0.98 - ETA: 3s - loss: 0.0378 - accuracy: 0.99 - ETA: 3s - loss: 0.0372 - accuracy: 0.99 - ETA: 2s - loss: 0.0371 - accuracy: 0.98 - ETA: 2s - loss: 0.0369 - accuracy: 0.98 - ETA: 1s - loss: 0.0359 - accuracy: 0.98 - ETA: 1s - loss: 0.0353 - accuracy: 0.98 - ETA: 1s - loss: 0.0378 - accuracy: 0.98 - ETA: 0s - loss: 0.0372 - accuracy: 0.98 - ETA: 0s - loss: 0.0366 - accuracy: 0.98 - 17s 13ms/step - loss: 0.0362 - accuracy: 0.9900 - val_loss: 6.1046 - val_accuracy: 0.2844\n",
      "Epoch 43/100\n",
      "1304/1304 [==============================] - ETA: 15s - loss: 0.0534 - accuracy: 0.968 - ETA: 15s - loss: 0.0483 - accuracy: 0.968 - ETA: 14s - loss: 0.0497 - accuracy: 0.968 - ETA: 14s - loss: 0.0541 - accuracy: 0.960 - ETA: 14s - loss: 0.0452 - accuracy: 0.968 - ETA: 13s - loss: 0.0395 - accuracy: 0.974 - ETA: 13s - loss: 0.0341 - accuracy: 0.977 - ETA: 13s - loss: 0.0301 - accuracy: 0.980 - ETA: 12s - loss: 0.0271 - accuracy: 0.982 - ETA: 12s - loss: 0.0246 - accuracy: 0.984 - ETA: 11s - loss: 0.0225 - accuracy: 0.985 - ETA: 11s - loss: 0.0208 - accuracy: 0.987 - ETA: 11s - loss: 0.0194 - accuracy: 0.988 - ETA: 10s - loss: 0.0226 - accuracy: 0.984 - ETA: 10s - loss: 0.0219 - accuracy: 0.985 - ETA: 9s - loss: 0.0208 - accuracy: 0.986 - ETA: 9s - loss: 0.0199 - accuracy: 0.98 - ETA: 9s - loss: 0.0196 - accuracy: 0.98 - ETA: 8s - loss: 0.0203 - accuracy: 0.98 - ETA: 8s - loss: 0.0202 - accuracy: 0.98 - ETA: 7s - loss: 0.0195 - accuracy: 0.98 - ETA: 7s - loss: 0.0189 - accuracy: 0.99 - ETA: 7s - loss: 0.0183 - accuracy: 0.99 - ETA: 6s - loss: 0.0177 - accuracy: 0.99 - ETA: 6s - loss: 0.0181 - accuracy: 0.99 - ETA: 6s - loss: 0.0190 - accuracy: 0.98 - ETA: 5s - loss: 0.0184 - accuracy: 0.98 - ETA: 5s - loss: 0.0178 - accuracy: 0.99 - ETA: 4s - loss: 0.0197 - accuracy: 0.98 - ETA: 4s - loss: 0.0193 - accuracy: 0.98 - ETA: 4s - loss: 0.0189 - accuracy: 0.98 - ETA: 3s - loss: 0.0185 - accuracy: 0.99 - ETA: 3s - loss: 0.0183 - accuracy: 0.99 - ETA: 2s - loss: 0.0178 - accuracy: 0.99 - ETA: 2s - loss: 0.0174 - accuracy: 0.99 - ETA: 1s - loss: 0.0172 - accuracy: 0.99 - ETA: 1s - loss: 0.0168 - accuracy: 0.99 - ETA: 1s - loss: 0.0165 - accuracy: 0.99 - ETA: 0s - loss: 0.0162 - accuracy: 0.99 - ETA: 0s - loss: 0.0159 - accuracy: 0.99 - 18s 14ms/step - loss: 0.0156 - accuracy: 0.9923 - val_loss: 7.1900 - val_accuracy: 0.3180\n",
      "Epoch 44/100\n",
      "1304/1304 [==============================] - ETA: 16s - loss: 0.0127 - accuracy: 1.000 - ETA: 16s - loss: 0.0124 - accuracy: 1.000 - ETA: 16s - loss: 0.0093 - accuracy: 1.000 - ETA: 15s - loss: 0.0073 - accuracy: 1.000 - ETA: 15s - loss: 0.0059 - accuracy: 1.000 - ETA: 14s - loss: 0.0100 - accuracy: 1.000 - ETA: 14s - loss: 0.0115 - accuracy: 1.000 - ETA: 13s - loss: 0.0145 - accuracy: 0.996 - ETA: 13s - loss: 0.0167 - accuracy: 0.993 - ETA: 13s - loss: 0.0151 - accuracy: 0.993 - ETA: 12s - loss: 0.0138 - accuracy: 0.994 - ETA: 12s - loss: 0.0127 - accuracy: 0.994 - ETA: 11s - loss: 0.0117 - accuracy: 0.995 - ETA: 11s - loss: 0.0109 - accuracy: 0.995 - ETA: 10s - loss: 0.0118 - accuracy: 0.993 - ETA: 10s - loss: 0.0111 - accuracy: 0.994 - ETA: 10s - loss: 0.0105 - accuracy: 0.994 - ETA: 9s - loss: 0.0102 - accuracy: 0.994 - ETA: 9s - loss: 0.0158 - accuracy: 0.99 - ETA: 8s - loss: 0.0151 - accuracy: 0.99 - ETA: 8s - loss: 0.0153 - accuracy: 0.99 - ETA: 8s - loss: 0.0149 - accuracy: 0.99 - ETA: 7s - loss: 0.0144 - accuracy: 0.99 - ETA: 7s - loss: 0.0143 - accuracy: 0.99 - ETA: 6s - loss: 0.0140 - accuracy: 0.99 - ETA: 6s - loss: 0.0146 - accuracy: 0.99 - ETA: 5s - loss: 0.0141 - accuracy: 0.99 - ETA: 5s - loss: 0.0136 - accuracy: 0.99 - ETA: 5s - loss: 0.0146 - accuracy: 0.99 - ETA: 4s - loss: 0.0147 - accuracy: 0.99 - ETA: 4s - loss: 0.0142 - accuracy: 0.99 - ETA: 3s - loss: 0.0138 - accuracy: 0.99 - ETA: 3s - loss: 0.0134 - accuracy: 0.99 - ETA: 2s - loss: 0.0130 - accuracy: 0.99 - ETA: 2s - loss: 0.0127 - accuracy: 0.99 - ETA: 2s - loss: 0.0123 - accuracy: 0.99 - ETA: 1s - loss: 0.0139 - accuracy: 0.99 - ETA: 1s - loss: 0.0136 - accuracy: 0.99 - ETA: 0s - loss: 0.0133 - accuracy: 0.99 - ETA: 0s - loss: 0.0135 - accuracy: 0.99 - 19s 14ms/step - loss: 0.0133 - accuracy: 0.9946 - val_loss: 8.1179 - val_accuracy: 0.3242\n",
      "Epoch 45/100\n",
      "1304/1304 [==============================] - ETA: 16s - loss: 0.0046 - accuracy: 1.000 - ETA: 16s - loss: 0.0030 - accuracy: 1.000 - ETA: 16s - loss: 0.0070 - accuracy: 1.000 - ETA: 15s - loss: 0.0855 - accuracy: 0.992 - ETA: 15s - loss: 0.0692 - accuracy: 0.993 - ETA: 14s - loss: 0.0579 - accuracy: 0.994 - ETA: 14s - loss: 0.0500 - accuracy: 0.995 - ETA: 13s - loss: 0.0443 - accuracy: 0.996 - ETA: 13s - loss: 0.0425 - accuracy: 0.993 - ETA: 13s - loss: 0.0389 - accuracy: 0.993 - ETA: 12s - loss: 0.0359 - accuracy: 0.994 - ETA: 12s - loss: 0.0338 - accuracy: 0.994 - ETA: 11s - loss: 0.0327 - accuracy: 0.995 - ETA: 11s - loss: 0.0310 - accuracy: 0.995 - ETA: 11s - loss: 0.0308 - accuracy: 0.995 - ETA: 10s - loss: 0.0305 - accuracy: 0.996 - ETA: 10s - loss: 0.0335 - accuracy: 0.994 - ETA: 9s - loss: 0.0317 - accuracy: 0.994 - ETA: 9s - loss: 0.0301 - accuracy: 0.99 - ETA: 8s - loss: 0.0312 - accuracy: 0.99 - ETA: 8s - loss: 0.0311 - accuracy: 0.99 - ETA: 8s - loss: 0.0296 - accuracy: 0.99 - ETA: 7s - loss: 0.0284 - accuracy: 0.99 - ETA: 7s - loss: 0.0272 - accuracy: 0.99 - ETA: 6s - loss: 0.0262 - accuracy: 0.99 - ETA: 6s - loss: 0.0252 - accuracy: 0.99 - ETA: 5s - loss: 0.0247 - accuracy: 0.99 - ETA: 5s - loss: 0.0243 - accuracy: 0.99 - ETA: 5s - loss: 0.0236 - accuracy: 0.99 - ETA: 4s - loss: 0.0230 - accuracy: 0.99 - ETA: 4s - loss: 0.0224 - accuracy: 0.99 - ETA: 3s - loss: 0.0218 - accuracy: 0.99 - ETA: 3s - loss: 0.0219 - accuracy: 0.99 - ETA: 2s - loss: 0.0249 - accuracy: 0.99 - ETA: 2s - loss: 0.0247 - accuracy: 0.99 - ETA: 2s - loss: 0.0245 - accuracy: 0.99 - ETA: 1s - loss: 0.0239 - accuracy: 0.99 - ETA: 1s - loss: 0.0237 - accuracy: 0.99 - ETA: 0s - loss: 0.0245 - accuracy: 0.99 - ETA: 0s - loss: 0.0240 - accuracy: 0.99 - 19s 14ms/step - loss: 0.0236 - accuracy: 0.9939 - val_loss: 7.4782 - val_accuracy: 0.3119\n",
      "Epoch 46/100\n",
      "1304/1304 [==============================] - ETA: 17s - loss: 3.6865e-04 - accuracy: 1.000 - ETA: 16s - loss: 0.0123 - accuracy: 0.9844    - ETA: 16s - loss: 0.0110 - accuracy: 0.989 - ETA: 16s - loss: 0.0171 - accuracy: 0.984 - ETA: 15s - loss: 0.0215 - accuracy: 0.981 - ETA: 15s - loss: 0.0207 - accuracy: 0.984 - ETA: 14s - loss: 0.0233 - accuracy: 0.982 - ETA: 14s - loss: 0.0225 - accuracy: 0.984 - ETA: 14s - loss: 0.0203 - accuracy: 0.986 - ETA: 13s - loss: 0.0183 - accuracy: 0.987 - ETA: 13s - loss: 0.0196 - accuracy: 0.985 - ETA: 12s - loss: 0.0186 - accuracy: 0.987 - ETA: 12s - loss: 0.0181 - accuracy: 0.988 - ETA: 11s - loss: 0.0175 - accuracy: 0.988 - ETA: 11s - loss: 0.0164 - accuracy: 0.989 - ETA: 10s - loss: 0.0206 - accuracy: 0.988 - ETA: 10s - loss: 0.0194 - accuracy: 0.989 - ETA: 10s - loss: 0.0184 - accuracy: 0.989 - ETA: 9s - loss: 0.0178 - accuracy: 0.990 - ETA: 9s - loss: 0.0172 - accuracy: 0.99 - ETA: 8s - loss: 0.0164 - accuracy: 0.99 - ETA: 8s - loss: 0.0157 - accuracy: 0.99 - ETA: 7s - loss: 0.0160 - accuracy: 0.99 - ETA: 7s - loss: 0.0153 - accuracy: 0.99 - ETA: 6s - loss: 0.0148 - accuracy: 0.99 - ETA: 6s - loss: 0.0144 - accuracy: 0.99 - ETA: 6s - loss: 0.0142 - accuracy: 0.99 - ETA: 5s - loss: 0.0137 - accuracy: 0.99 - ETA: 5s - loss: 0.0136 - accuracy: 0.99 - ETA: 4s - loss: 0.0162 - accuracy: 0.99 - ETA: 4s - loss: 0.0157 - accuracy: 0.99 - ETA: 3s - loss: 0.0156 - accuracy: 0.99 - ETA: 3s - loss: 0.0158 - accuracy: 0.99 - ETA: 2s - loss: 0.0156 - accuracy: 0.99 - ETA: 2s - loss: 0.0151 - accuracy: 0.99 - ETA: 2s - loss: 0.0148 - accuracy: 0.99 - ETA: 1s - loss: 0.0145 - accuracy: 0.99 - ETA: 1s - loss: 0.0141 - accuracy: 0.99 - ETA: 0s - loss: 0.0141 - accuracy: 0.99 - ETA: 0s - loss: 0.0140 - accuracy: 0.99 - 19s 14ms/step - loss: 0.0137 - accuracy: 0.9939 - val_loss: 8.2978 - val_accuracy: 0.3028\n",
      "Epoch 47/100\n",
      "1304/1304 [==============================] - ETA: 17s - loss: 7.0652e-04 - accuracy: 1.000 - ETA: 17s - loss: 0.0233 - accuracy: 0.9844    - ETA: 16s - loss: 0.0156 - accuracy: 0.989 - ETA: 16s - loss: 0.0117 - accuracy: 0.992 - ETA: 15s - loss: 0.0113 - accuracy: 0.993 - ETA: 15s - loss: 0.0096 - accuracy: 0.994 - ETA: 14s - loss: 0.0105 - accuracy: 0.995 - ETA: 14s - loss: 0.0099 - accuracy: 0.996 - ETA: 13s - loss: 0.0089 - accuracy: 0.996 - ETA: 13s - loss: 0.0081 - accuracy: 0.996 - ETA: 13s - loss: 0.0077 - accuracy: 0.997 - ETA: 12s - loss: 0.0075 - accuracy: 0.997 - ETA: 12s - loss: 0.0078 - accuracy: 0.997 - ETA: 11s - loss: 0.0074 - accuracy: 0.997 - ETA: 11s - loss: 0.0070 - accuracy: 0.997 - ETA: 10s - loss: 0.0069 - accuracy: 0.998 - ETA: 10s - loss: 0.0225 - accuracy: 0.996 - ETA: 10s - loss: 0.0215 - accuracy: 0.996 - ETA: 9s - loss: 0.0214 - accuracy: 0.996 - ETA: 9s - loss: 0.0204 - accuracy: 0.99 - ETA: 8s - loss: 0.0270 - accuracy: 0.99 - ETA: 8s - loss: 0.0258 - accuracy: 0.99 - ETA: 7s - loss: 0.0295 - accuracy: 0.99 - ETA: 7s - loss: 0.0291 - accuracy: 0.99 - ETA: 6s - loss: 0.0280 - accuracy: 0.99 - ETA: 6s - loss: 0.0270 - accuracy: 0.99 - ETA: 6s - loss: 0.0261 - accuracy: 0.99 - ETA: 5s - loss: 0.0260 - accuracy: 0.99 - ETA: 5s - loss: 0.0309 - accuracy: 0.99 - ETA: 4s - loss: 0.0299 - accuracy: 0.99 - ETA: 4s - loss: 0.0290 - accuracy: 0.99 - ETA: 3s - loss: 0.0283 - accuracy: 0.99 - ETA: 3s - loss: 0.0275 - accuracy: 0.99 - ETA: 2s - loss: 0.0271 - accuracy: 0.99 - ETA: 2s - loss: 0.0263 - accuracy: 0.99 - ETA: 2s - loss: 0.0257 - accuracy: 0.99 - ETA: 1s - loss: 0.0251 - accuracy: 0.99 - ETA: 1s - loss: 0.0245 - accuracy: 0.99 - ETA: 0s - loss: 0.0239 - accuracy: 0.99 - ETA: 0s - loss: 0.0234 - accuracy: 0.99 - 19s 15ms/step - loss: 0.0231 - accuracy: 0.9962 - val_loss: 8.4463 - val_accuracy: 0.3303\n",
      "Epoch 48/100\n",
      "1304/1304 [==============================] - ETA: 16s - loss: 0.0596 - accuracy: 0.968 - ETA: 16s - loss: 0.0340 - accuracy: 0.984 - ETA: 16s - loss: 0.0273 - accuracy: 0.989 - ETA: 16s - loss: 0.2217 - accuracy: 0.976 - ETA: 15s - loss: 0.1942 - accuracy: 0.968 - ETA: 15s - loss: 0.1636 - accuracy: 0.974 - ETA: 14s - loss: 0.1404 - accuracy: 0.977 - ETA: 14s - loss: 0.1270 - accuracy: 0.976 - ETA: 13s - loss: 0.1133 - accuracy: 0.979 - ETA: 13s - loss: 0.1046 - accuracy: 0.981 - ETA: 12s - loss: 0.0953 - accuracy: 0.983 - ETA: 12s - loss: 0.0913 - accuracy: 0.981 - ETA: 12s - loss: 0.0844 - accuracy: 0.983 - ETA: 11s - loss: 0.0804 - accuracy: 0.984 - ETA: 11s - loss: 0.0767 - accuracy: 0.983 - ETA: 10s - loss: 0.0725 - accuracy: 0.984 - ETA: 10s - loss: 0.0684 - accuracy: 0.985 - ETA: 9s - loss: 0.0650 - accuracy: 0.986 - ETA: 9s - loss: 0.0626 - accuracy: 0.98 - ETA: 9s - loss: 0.0663 - accuracy: 0.98 - ETA: 8s - loss: 0.0637 - accuracy: 0.98 - ETA: 8s - loss: 0.0610 - accuracy: 0.98 - ETA: 7s - loss: 0.0585 - accuracy: 0.98 - ETA: 7s - loss: 0.0564 - accuracy: 0.98 - ETA: 6s - loss: 0.0542 - accuracy: 0.98 - ETA: 6s - loss: 0.0523 - accuracy: 0.98 - ETA: 5s - loss: 0.0505 - accuracy: 0.98 - ETA: 5s - loss: 0.0494 - accuracy: 0.99 - ETA: 5s - loss: 0.0543 - accuracy: 0.98 - ETA: 4s - loss: 0.0525 - accuracy: 0.98 - ETA: 4s - loss: 0.0508 - accuracy: 0.98 - ETA: 3s - loss: 0.0493 - accuracy: 0.98 - ETA: 3s - loss: 0.0480 - accuracy: 0.98 - ETA: 2s - loss: 0.0466 - accuracy: 0.98 - ETA: 2s - loss: 0.0458 - accuracy: 0.99 - ETA: 2s - loss: 0.0450 - accuracy: 0.99 - ETA: 1s - loss: 0.0441 - accuracy: 0.99 - ETA: 1s - loss: 0.0431 - accuracy: 0.99 - ETA: 0s - loss: 0.0421 - accuracy: 0.99 - ETA: 0s - loss: 0.0436 - accuracy: 0.99 - 19s 14ms/step - loss: 0.0428 - accuracy: 0.9908 - val_loss: 7.0538 - val_accuracy: 0.2936\n",
      "Epoch 49/100\n",
      "1304/1304 [==============================] - ETA: 17s - loss: 0.0370 - accuracy: 1.000 - ETA: 16s - loss: 0.0472 - accuracy: 0.984 - ETA: 16s - loss: 0.0319 - accuracy: 0.989 - ETA: 15s - loss: 0.0241 - accuracy: 0.992 - ETA: 15s - loss: 0.0203 - accuracy: 0.993 - ETA: 14s - loss: 0.0170 - accuracy: 0.994 - ETA: 14s - loss: 0.0149 - accuracy: 0.995 - ETA: 13s - loss: 0.0239 - accuracy: 0.992 - ETA: 13s - loss: 0.0218 - accuracy: 0.993 - ETA: 13s - loss: 0.0196 - accuracy: 0.993 - ETA: 12s - loss: 0.0183 - accuracy: 0.994 - ETA: 12s - loss: 0.0226 - accuracy: 0.992 - ETA: 11s - loss: 0.0212 - accuracy: 0.992 - ETA: 11s - loss: 0.0217 - accuracy: 0.993 - ETA: 10s - loss: 0.0213 - accuracy: 0.993 - ETA: 10s - loss: 0.0231 - accuracy: 0.992 - ETA: 9s - loss: 0.0221 - accuracy: 0.992 - ETA: 9s - loss: 0.0265 - accuracy: 0.99 - ETA: 9s - loss: 0.0254 - accuracy: 0.99 - ETA: 8s - loss: 0.0273 - accuracy: 0.99 - ETA: 8s - loss: 0.0261 - accuracy: 0.99 - ETA: 7s - loss: 0.0251 - accuracy: 0.99 - ETA: 7s - loss: 0.0246 - accuracy: 0.99 - ETA: 6s - loss: 0.0238 - accuracy: 0.99 - ETA: 6s - loss: 0.0235 - accuracy: 0.99 - ETA: 6s - loss: 0.0230 - accuracy: 0.99 - ETA: 5s - loss: 0.0270 - accuracy: 0.99 - ETA: 5s - loss: 0.0270 - accuracy: 0.99 - ETA: 4s - loss: 0.0266 - accuracy: 0.99 - ETA: 4s - loss: 0.0260 - accuracy: 0.99 - ETA: 4s - loss: 0.0292 - accuracy: 0.99 - ETA: 3s - loss: 0.0283 - accuracy: 0.99 - ETA: 3s - loss: 0.0283 - accuracy: 0.99 - ETA: 2s - loss: 0.0278 - accuracy: 0.99 - ETA: 2s - loss: 0.0274 - accuracy: 0.99 - ETA: 2s - loss: 0.0266 - accuracy: 0.99 - ETA: 1s - loss: 0.0282 - accuracy: 0.99 - ETA: 1s - loss: 0.0275 - accuracy: 0.99 - ETA: 0s - loss: 0.0269 - accuracy: 0.99 - ETA: 0s - loss: 0.0267 - accuracy: 0.99 - 18s 14ms/step - loss: 0.0272 - accuracy: 0.9916 - val_loss: 8.4907 - val_accuracy: 0.2875\n",
      "Epoch 50/100\n",
      "1304/1304 [==============================] - ETA: 17s - loss: 0.5450 - accuracy: 0.968 - ETA: 16s - loss: 0.2728 - accuracy: 0.984 - ETA: 16s - loss: 0.1836 - accuracy: 0.989 - ETA: 16s - loss: 0.1444 - accuracy: 0.992 - ETA: 15s - loss: 0.1166 - accuracy: 0.993 - ETA: 15s - loss: 0.1038 - accuracy: 0.989 - ETA: 14s - loss: 0.1149 - accuracy: 0.982 - ETA: 14s - loss: 0.1298 - accuracy: 0.980 - ETA: 13s - loss: 0.1329 - accuracy: 0.979 - ETA: 13s - loss: 0.1198 - accuracy: 0.981 - ETA: 12s - loss: 0.1094 - accuracy: 0.983 - ETA: 12s - loss: 0.1006 - accuracy: 0.984 - ETA: 12s - loss: 0.1135 - accuracy: 0.983 - ETA: 11s - loss: 0.1287 - accuracy: 0.977 - ETA: 11s - loss: 0.1257 - accuracy: 0.975 - ETA: 10s - loss: 0.1181 - accuracy: 0.976 - ETA: 10s - loss: 0.1232 - accuracy: 0.974 - ETA: 9s - loss: 0.1311 - accuracy: 0.970 - ETA: 9s - loss: 0.1244 - accuracy: 0.97 - ETA: 9s - loss: 0.1241 - accuracy: 0.97 - ETA: 8s - loss: 0.1193 - accuracy: 0.97 - ETA: 8s - loss: 0.1156 - accuracy: 0.97 - ETA: 7s - loss: 0.1123 - accuracy: 0.97 - ETA: 7s - loss: 0.1085 - accuracy: 0.97 - ETA: 6s - loss: 0.1047 - accuracy: 0.97 - ETA: 6s - loss: 0.1058 - accuracy: 0.97 - ETA: 6s - loss: 0.1053 - accuracy: 0.97 - ETA: 5s - loss: 0.1021 - accuracy: 0.97 - ETA: 5s - loss: 0.1012 - accuracy: 0.97 - ETA: 4s - loss: 0.1050 - accuracy: 0.97 - ETA: 4s - loss: 0.1019 - accuracy: 0.97 - ETA: 3s - loss: 0.0988 - accuracy: 0.97 - ETA: 3s - loss: 0.0966 - accuracy: 0.97 - ETA: 2s - loss: 0.0958 - accuracy: 0.97 - ETA: 2s - loss: 0.1017 - accuracy: 0.97 - ETA: 2s - loss: 0.0991 - accuracy: 0.97 - ETA: 1s - loss: 0.0974 - accuracy: 0.97 - ETA: 1s - loss: 0.0950 - accuracy: 0.97 - ETA: 0s - loss: 0.0940 - accuracy: 0.97 - ETA: 0s - loss: 0.0929 - accuracy: 0.97 - 19s 14ms/step - loss: 0.0935 - accuracy: 0.9762 - val_loss: 7.3577 - val_accuracy: 0.2875\n",
      "Epoch 51/100\n",
      "1304/1304 [==============================] - ETA: 16s - loss: 0.0042 - accuracy: 1.000 - ETA: 16s - loss: 0.0222 - accuracy: 1.000 - ETA: 16s - loss: 0.0217 - accuracy: 1.000 - ETA: 15s - loss: 0.0270 - accuracy: 1.000 - ETA: 15s - loss: 0.0222 - accuracy: 1.000 - ETA: 15s - loss: 0.0495 - accuracy: 0.989 - ETA: 14s - loss: 0.0428 - accuracy: 0.991 - ETA: 14s - loss: 0.0512 - accuracy: 0.988 - ETA: 13s - loss: 0.0589 - accuracy: 0.986 - ETA: 13s - loss: 0.0543 - accuracy: 0.987 - ETA: 12s - loss: 0.0550 - accuracy: 0.985 - ETA: 12s - loss: 0.0509 - accuracy: 0.987 - ETA: 12s - loss: 0.0472 - accuracy: 0.988 - ETA: 11s - loss: 0.0454 - accuracy: 0.988 - ETA: 11s - loss: 0.0472 - accuracy: 0.987 - ETA: 10s - loss: 0.0448 - accuracy: 0.988 - ETA: 10s - loss: 0.0426 - accuracy: 0.989 - ETA: 10s - loss: 0.0411 - accuracy: 0.989 - ETA: 9s - loss: 0.0392 - accuracy: 0.990 - ETA: 9s - loss: 0.0374 - accuracy: 0.99 - ETA: 8s - loss: 0.0374 - accuracy: 0.99 - ETA: 8s - loss: 0.0366 - accuracy: 0.99 - ETA: 7s - loss: 0.0368 - accuracy: 0.99 - ETA: 7s - loss: 0.0420 - accuracy: 0.98 - ETA: 6s - loss: 0.0407 - accuracy: 0.99 - ETA: 6s - loss: 0.0402 - accuracy: 0.99 - ETA: 6s - loss: 0.0393 - accuracy: 0.99 - ETA: 5s - loss: 0.0387 - accuracy: 0.99 - ETA: 5s - loss: 0.0447 - accuracy: 0.99 - ETA: 4s - loss: 0.0440 - accuracy: 0.99 - ETA: 4s - loss: 0.0470 - accuracy: 0.98 - ETA: 3s - loss: 0.0482 - accuracy: 0.98 - ETA: 3s - loss: 0.0471 - accuracy: 0.98 - ETA: 2s - loss: 0.0460 - accuracy: 0.98 - ETA: 2s - loss: 0.0450 - accuracy: 0.99 - ETA: 2s - loss: 0.0471 - accuracy: 0.98 - ETA: 1s - loss: 0.0458 - accuracy: 0.98 - ETA: 1s - loss: 0.0460 - accuracy: 0.98 - ETA: 0s - loss: 0.0451 - accuracy: 0.98 - ETA: 0s - loss: 0.0443 - accuracy: 0.98 - 19s 14ms/step - loss: 0.0444 - accuracy: 0.9893 - val_loss: 6.9126 - val_accuracy: 0.3058\n",
      "Epoch 52/100\n",
      "1304/1304 [==============================] - ETA: 16s - loss: 0.0873 - accuracy: 0.968 - ETA: 16s - loss: 0.0457 - accuracy: 0.984 - ETA: 16s - loss: 0.0312 - accuracy: 0.989 - ETA: 15s - loss: 0.0238 - accuracy: 0.992 - ETA: 15s - loss: 0.0195 - accuracy: 0.993 - ETA: 15s - loss: 0.0273 - accuracy: 0.989 - ETA: 14s - loss: 0.0244 - accuracy: 0.991 - ETA: 14s - loss: 0.0786 - accuracy: 0.988 - ETA: 13s - loss: 0.0730 - accuracy: 0.986 - ETA: 13s - loss: 0.0661 - accuracy: 0.987 - ETA: 13s - loss: 0.0606 - accuracy: 0.988 - ETA: 12s - loss: 0.0564 - accuracy: 0.989 - ETA: 12s - loss: 0.0527 - accuracy: 0.990 - ETA: 11s - loss: 0.0517 - accuracy: 0.988 - ETA: 11s - loss: 0.0484 - accuracy: 0.989 - ETA: 10s - loss: 0.0466 - accuracy: 0.990 - ETA: 10s - loss: 0.0454 - accuracy: 0.989 - ETA: 9s - loss: 0.0489 - accuracy: 0.987 - ETA: 9s - loss: 0.0497 - accuracy: 0.98 - ETA: 9s - loss: 0.0615 - accuracy: 0.98 - ETA: 8s - loss: 0.0593 - accuracy: 0.98 - ETA: 8s - loss: 0.0567 - accuracy: 0.98 - ETA: 7s - loss: 0.0620 - accuracy: 0.98 - ETA: 7s - loss: 0.0595 - accuracy: 0.98 - ETA: 6s - loss: 0.0574 - accuracy: 0.98 - ETA: 6s - loss: 0.0587 - accuracy: 0.98 - ETA: 5s - loss: 0.0583 - accuracy: 0.98 - ETA: 5s - loss: 0.0565 - accuracy: 0.98 - ETA: 5s - loss: 0.0637 - accuracy: 0.98 - ETA: 4s - loss: 0.0617 - accuracy: 0.98 - ETA: 4s - loss: 0.0598 - accuracy: 0.98 - ETA: 3s - loss: 0.0603 - accuracy: 0.98 - ETA: 3s - loss: 0.0592 - accuracy: 0.98 - ETA: 2s - loss: 0.0599 - accuracy: 0.98 - ETA: 2s - loss: 0.0583 - accuracy: 0.98 - ETA: 2s - loss: 0.0567 - accuracy: 0.98 - ETA: 1s - loss: 0.0560 - accuracy: 0.98 - ETA: 1s - loss: 0.0557 - accuracy: 0.98 - ETA: 0s - loss: 0.0544 - accuracy: 0.98 - ETA: 0s - loss: 0.0533 - accuracy: 0.98 - 18s 14ms/step - loss: 0.0523 - accuracy: 0.9862 - val_loss: 6.3525 - val_accuracy: 0.2905\n",
      "Epoch 53/100\n",
      "1304/1304 [==============================] - ETA: 17s - loss: 0.0249 - accuracy: 0.968 - ETA: 16s - loss: 0.0135 - accuracy: 0.984 - ETA: 16s - loss: 0.0102 - accuracy: 0.989 - ETA: 15s - loss: 0.0096 - accuracy: 0.992 - ETA: 15s - loss: 0.0128 - accuracy: 0.993 - ETA: 14s - loss: 0.0108 - accuracy: 0.994 - ETA: 14s - loss: 0.0147 - accuracy: 0.995 - ETA: 14s - loss: 0.0144 - accuracy: 0.996 - ETA: 13s - loss: 0.0156 - accuracy: 0.996 - ETA: 13s - loss: 0.0142 - accuracy: 0.996 - ETA: 12s - loss: 0.0139 - accuracy: 0.997 - ETA: 12s - loss: 0.0135 - accuracy: 0.997 - ETA: 11s - loss: 0.0164 - accuracy: 0.995 - ETA: 11s - loss: 0.0172 - accuracy: 0.993 - ETA: 10s - loss: 0.0179 - accuracy: 0.993 - ETA: 10s - loss: 0.0172 - accuracy: 0.994 - ETA: 10s - loss: 0.0164 - accuracy: 0.994 - ETA: 9s - loss: 0.0155 - accuracy: 0.994 - ETA: 9s - loss: 0.0148 - accuracy: 0.99 - ETA: 8s - loss: 0.0145 - accuracy: 0.99 - ETA: 8s - loss: 0.0146 - accuracy: 0.99 - ETA: 7s - loss: 0.0140 - accuracy: 0.99 - ETA: 7s - loss: 0.0135 - accuracy: 0.99 - ETA: 7s - loss: 0.0131 - accuracy: 0.99 - ETA: 6s - loss: 0.0129 - accuracy: 0.99 - ETA: 6s - loss: 0.0136 - accuracy: 0.99 - ETA: 5s - loss: 0.0139 - accuracy: 0.99 - ETA: 5s - loss: 0.0135 - accuracy: 0.99 - ETA: 4s - loss: 0.0140 - accuracy: 0.99 - ETA: 4s - loss: 0.0140 - accuracy: 0.99 - ETA: 4s - loss: 0.0145 - accuracy: 0.99 - ETA: 3s - loss: 0.0143 - accuracy: 0.99 - ETA: 3s - loss: 0.0139 - accuracy: 0.99 - ETA: 2s - loss: 0.0141 - accuracy: 0.99 - ETA: 2s - loss: 0.0139 - accuracy: 0.99 - ETA: 2s - loss: 0.0136 - accuracy: 0.99 - ETA: 1s - loss: 0.0132 - accuracy: 0.99 - ETA: 1s - loss: 0.0135 - accuracy: 0.99 - ETA: 0s - loss: 0.0132 - accuracy: 0.99 - ETA: 0s - loss: 0.0138 - accuracy: 0.99 - 18s 14ms/step - loss: 0.0135 - accuracy: 0.9962 - val_loss: 7.6775 - val_accuracy: 0.2783\n",
      "Epoch 54/100\n",
      "1304/1304 [==============================] - ETA: 16s - loss: 5.4541e-04 - accuracy: 1.000 - ETA: 16s - loss: 0.0050 - accuracy: 1.0000    - ETA: 15s - loss: 0.0040 - accuracy: 1.000 - ETA: 15s - loss: 0.0030 - accuracy: 1.000 - ETA: 15s - loss: 0.0076 - accuracy: 0.993 - ETA: 14s - loss: 0.0068 - accuracy: 0.994 - ETA: 14s - loss: 0.0189 - accuracy: 0.991 - ETA: 13s - loss: 0.0174 - accuracy: 0.992 - ETA: 13s - loss: 0.0160 - accuracy: 0.993 - ETA: 12s - loss: 0.0173 - accuracy: 0.990 - ETA: 12s - loss: 0.0160 - accuracy: 0.991 - ETA: 11s - loss: 0.0147 - accuracy: 0.992 - ETA: 11s - loss: 0.0136 - accuracy: 0.992 - ETA: 11s - loss: 0.0127 - accuracy: 0.993 - ETA: 10s - loss: 0.0121 - accuracy: 0.993 - ETA: 10s - loss: 0.0116 - accuracy: 0.994 - ETA: 9s - loss: 0.0109 - accuracy: 0.994 - ETA: 9s - loss: 0.0105 - accuracy: 0.99 - ETA: 9s - loss: 0.0101 - accuracy: 0.99 - ETA: 8s - loss: 0.0137 - accuracy: 0.99 - ETA: 8s - loss: 0.0138 - accuracy: 0.99 - ETA: 7s - loss: 0.0136 - accuracy: 0.99 - ETA: 7s - loss: 0.0139 - accuracy: 0.99 - ETA: 7s - loss: 0.0134 - accuracy: 0.99 - ETA: 6s - loss: 0.0130 - accuracy: 0.99 - ETA: 6s - loss: 0.0126 - accuracy: 0.99 - ETA: 5s - loss: 0.0121 - accuracy: 0.99 - ETA: 5s - loss: 0.0118 - accuracy: 0.99 - ETA: 4s - loss: 0.0130 - accuracy: 0.99 - ETA: 4s - loss: 0.0126 - accuracy: 0.99 - ETA: 4s - loss: 0.0123 - accuracy: 0.99 - ETA: 3s - loss: 0.0120 - accuracy: 0.99 - ETA: 3s - loss: 0.0130 - accuracy: 0.99 - ETA: 2s - loss: 0.0128 - accuracy: 0.99 - ETA: 2s - loss: 0.0124 - accuracy: 0.99 - ETA: 1s - loss: 0.0122 - accuracy: 0.99 - ETA: 1s - loss: 0.0122 - accuracy: 0.99 - ETA: 1s - loss: 0.0121 - accuracy: 0.99 - ETA: 0s - loss: 0.0118 - accuracy: 0.99 - ETA: 0s - loss: 0.0115 - accuracy: 0.99 - 18s 14ms/step - loss: 0.0113 - accuracy: 0.9954 - val_loss: 6.8308 - val_accuracy: 0.3119\n",
      "Epoch 55/100\n",
      "1304/1304 [==============================] - ETA: 16s - loss: 0.0064 - accuracy: 1.000 - ETA: 16s - loss: 0.0033 - accuracy: 1.000 - ETA: 16s - loss: 0.0030 - accuracy: 1.000 - ETA: 15s - loss: 0.0029 - accuracy: 1.000 - ETA: 15s - loss: 0.0024 - accuracy: 1.000 - ETA: 14s - loss: 0.0021 - accuracy: 1.000 - ETA: 14s - loss: 0.0023 - accuracy: 1.000 - ETA: 13s - loss: 0.0139 - accuracy: 0.996 - ETA: 13s - loss: 0.0125 - accuracy: 0.996 - ETA: 13s - loss: 0.0113 - accuracy: 0.996 - ETA: 12s - loss: 0.0104 - accuracy: 0.997 - ETA: 12s - loss: 0.0097 - accuracy: 0.997 - ETA: 11s - loss: 0.0098 - accuracy: 0.997 - ETA: 11s - loss: 0.0091 - accuracy: 0.997 - ETA: 10s - loss: 0.0086 - accuracy: 0.997 - ETA: 10s - loss: 0.0081 - accuracy: 0.998 - ETA: 10s - loss: 0.0077 - accuracy: 0.998 - ETA: 9s - loss: 0.0074 - accuracy: 0.998 - ETA: 9s - loss: 0.0077 - accuracy: 0.99 - ETA: 8s - loss: 0.0073 - accuracy: 0.99 - ETA: 8s - loss: 0.0070 - accuracy: 0.99 - ETA: 7s - loss: 0.0072 - accuracy: 0.99 - ETA: 7s - loss: 0.0069 - accuracy: 0.99 - ETA: 7s - loss: 0.0077 - accuracy: 0.99 - ETA: 6s - loss: 0.0076 - accuracy: 0.99 - ETA: 6s - loss: 0.0073 - accuracy: 0.99 - ETA: 5s - loss: 0.0072 - accuracy: 0.99 - ETA: 5s - loss: 0.0069 - accuracy: 0.99 - ETA: 4s - loss: 0.0068 - accuracy: 0.99 - ETA: 4s - loss: 0.0066 - accuracy: 0.99 - ETA: 4s - loss: 0.0065 - accuracy: 0.99 - ETA: 3s - loss: 0.0063 - accuracy: 0.99 - ETA: 3s - loss: 0.0062 - accuracy: 0.99 - ETA: 2s - loss: 0.0061 - accuracy: 0.99 - ETA: 2s - loss: 0.0059 - accuracy: 0.99 - ETA: 2s - loss: 0.0059 - accuracy: 0.99 - ETA: 1s - loss: 0.0058 - accuracy: 0.99 - ETA: 1s - loss: 0.0057 - accuracy: 0.99 - ETA: 0s - loss: 0.0056 - accuracy: 0.99 - ETA: 0s - loss: 0.0055 - accuracy: 0.99 - 18s 14ms/step - loss: 0.0055 - accuracy: 0.9992 - val_loss: 6.9954 - val_accuracy: 0.2844\n",
      "Epoch 56/100\n",
      "1304/1304 [==============================] - ETA: 16s - loss: 0.0013 - accuracy: 1.000 - ETA: 15s - loss: 9.5107e-04 - accuracy: 1.000 - ETA: 15s - loss: 0.0013 - accuracy: 1.0000    - ETA: 15s - loss: 0.0010 - accuracy: 1.000 - ETA: 14s - loss: 0.0017 - accuracy: 1.000 - ETA: 14s - loss: 0.0015 - accuracy: 1.000 - ETA: 14s - loss: 0.0014 - accuracy: 1.000 - ETA: 13s - loss: 0.0015 - accuracy: 1.000 - ETA: 13s - loss: 0.0019 - accuracy: 1.000 - ETA: 12s - loss: 0.0019 - accuracy: 1.000 - ETA: 12s - loss: 0.0018 - accuracy: 1.000 - ETA: 11s - loss: 0.0032 - accuracy: 1.000 - ETA: 11s - loss: 0.0030 - accuracy: 1.000 - ETA: 11s - loss: 0.0029 - accuracy: 1.000 - ETA: 10s - loss: 0.0028 - accuracy: 1.000 - ETA: 10s - loss: 0.0026 - accuracy: 1.000 - ETA: 9s - loss: 0.0025 - accuracy: 1.000 - ETA: 9s - loss: 0.0023 - accuracy: 1.00 - ETA: 9s - loss: 0.0022 - accuracy: 1.00 - ETA: 8s - loss: 0.0022 - accuracy: 1.00 - ETA: 8s - loss: 0.0022 - accuracy: 1.00 - ETA: 7s - loss: 0.0021 - accuracy: 1.00 - ETA: 7s - loss: 0.0020 - accuracy: 1.00 - ETA: 7s - loss: 0.0019 - accuracy: 1.00 - ETA: 6s - loss: 0.0019 - accuracy: 1.00 - ETA: 6s - loss: 0.0018 - accuracy: 1.00 - ETA: 5s - loss: 0.0018 - accuracy: 1.00 - ETA: 5s - loss: 0.0018 - accuracy: 1.00 - ETA: 4s - loss: 0.0018 - accuracy: 1.00 - ETA: 4s - loss: 0.0018 - accuracy: 1.00 - ETA: 4s - loss: 0.0018 - accuracy: 1.00 - ETA: 3s - loss: 0.0018 - accuracy: 1.00 - ETA: 3s - loss: 0.0017 - accuracy: 1.00 - ETA: 2s - loss: 0.0017 - accuracy: 1.00 - ETA: 2s - loss: 0.0016 - accuracy: 1.00 - ETA: 1s - loss: 0.0021 - accuracy: 1.00 - ETA: 1s - loss: 0.0020 - accuracy: 1.00 - ETA: 1s - loss: 0.0020 - accuracy: 1.00 - ETA: 0s - loss: 0.0019 - accuracy: 1.00 - ETA: 0s - loss: 0.0019 - accuracy: 1.00 - 18s 14ms/step - loss: 0.0019 - accuracy: 1.0000 - val_loss: 7.3849 - val_accuracy: 0.2966\n",
      "Epoch 57/100\n",
      "1304/1304 [==============================] - ETA: 16s - loss: 2.7092e-04 - accuracy: 1.000 - ETA: 15s - loss: 0.0059 - accuracy: 1.0000    - ETA: 15s - loss: 0.0095 - accuracy: 1.000 - ETA: 15s - loss: 0.0079 - accuracy: 1.000 - ETA: 14s - loss: 0.0115 - accuracy: 1.000 - ETA: 14s - loss: 0.0147 - accuracy: 0.994 - ETA: 14s - loss: 0.0127 - accuracy: 0.995 - ETA: 13s - loss: 0.0123 - accuracy: 0.996 - ETA: 13s - loss: 0.0162 - accuracy: 0.993 - ETA: 12s - loss: 0.0163 - accuracy: 0.993 - ETA: 12s - loss: 0.0151 - accuracy: 0.994 - ETA: 12s - loss: 0.0139 - accuracy: 0.994 - ETA: 11s - loss: 0.0128 - accuracy: 0.995 - ETA: 11s - loss: 0.0122 - accuracy: 0.995 - ETA: 10s - loss: 0.0114 - accuracy: 0.995 - ETA: 10s - loss: 0.0107 - accuracy: 0.996 - ETA: 9s - loss: 0.0101 - accuracy: 0.996 - ETA: 9s - loss: 0.0096 - accuracy: 0.99 - ETA: 9s - loss: 0.0091 - accuracy: 0.99 - ETA: 8s - loss: 0.0087 - accuracy: 0.99 - ETA: 8s - loss: 0.0086 - accuracy: 0.99 - ETA: 7s - loss: 0.0084 - accuracy: 0.99 - ETA: 7s - loss: 0.0080 - accuracy: 0.99 - ETA: 7s - loss: 0.0077 - accuracy: 0.99 - ETA: 6s - loss: 0.0074 - accuracy: 0.99 - ETA: 6s - loss: 0.0071 - accuracy: 0.99 - ETA: 5s - loss: 0.0069 - accuracy: 0.99 - ETA: 5s - loss: 0.0067 - accuracy: 0.99 - ETA: 4s - loss: 0.0066 - accuracy: 0.99 - ETA: 4s - loss: 0.0073 - accuracy: 0.99 - ETA: 4s - loss: 0.0070 - accuracy: 0.99 - ETA: 3s - loss: 0.0069 - accuracy: 0.99 - ETA: 3s - loss: 0.0067 - accuracy: 0.99 - ETA: 2s - loss: 0.0065 - accuracy: 0.99 - ETA: 2s - loss: 0.0075 - accuracy: 0.99 - ETA: 2s - loss: 0.0073 - accuracy: 0.99 - ETA: 1s - loss: 0.0074 - accuracy: 0.99 - ETA: 1s - loss: 0.0072 - accuracy: 0.99 - ETA: 0s - loss: 0.0071 - accuracy: 0.99 - ETA: 0s - loss: 0.0070 - accuracy: 0.99 - 18s 14ms/step - loss: 0.0069 - accuracy: 0.9969 - val_loss: 7.4725 - val_accuracy: 0.3028\n",
      "Epoch 58/100\n",
      "1304/1304 [==============================] - ETA: 16s - loss: 8.2022e-04 - accuracy: 1.000 - ETA: 15s - loss: 0.0012 - accuracy: 1.0000    - ETA: 15s - loss: 0.0010 - accuracy: 1.000 - ETA: 15s - loss: 9.9055e-04 - accuracy: 1.000 - ETA: 14s - loss: 8.0438e-04 - accuracy: 1.000 - ETA: 14s - loss: 0.0010 - accuracy: 1.0000    - ETA: 14s - loss: 0.0011 - accuracy: 1.000 - ETA: 13s - loss: 0.0011 - accuracy: 1.000 - ETA: 13s - loss: 0.0010 - accuracy: 1.000 - ETA: 12s - loss: 9.6498e-04 - accuracy: 1.000 - ETA: 12s - loss: 9.0703e-04 - accuracy: 1.000 - ETA: 12s - loss: 9.4760e-04 - accuracy: 1.000 - ETA: 11s - loss: 9.7134e-04 - accuracy: 1.000 - ETA: 11s - loss: 9.2478e-04 - accuracy: 1.000 - ETA: 10s - loss: 9.2964e-04 - accuracy: 1.000 - ETA: 10s - loss: 9.6698e-04 - accuracy: 1.000 - ETA: 10s - loss: 9.3934e-04 - accuracy: 1.000 - ETA: 9s - loss: 0.0010 - accuracy: 1.0000    - ETA: 9s - loss: 0.0010 - accuracy: 1.00 - ETA: 8s - loss: 0.0010 - accuracy: 1.00 - ETA: 8s - loss: 9.6238e-04 - accuracy: 1.00 - ETA: 7s - loss: 9.3194e-04 - accuracy: 1.00 - ETA: 7s - loss: 9.6836e-04 - accuracy: 1.00 - ETA: 7s - loss: 0.0010 - accuracy: 1.0000   - ETA: 6s - loss: 9.7545e-04 - accuracy: 1.00 - ETA: 6s - loss: 9.7999e-04 - accuracy: 1.00 - ETA: 5s - loss: 9.6824e-04 - accuracy: 1.00 - ETA: 5s - loss: 0.0013 - accuracy: 1.0000   - ETA: 4s - loss: 0.0013 - accuracy: 1.00 - ETA: 4s - loss: 0.0013 - accuracy: 1.00 - ETA: 4s - loss: 0.0018 - accuracy: 1.00 - ETA: 3s - loss: 0.0018 - accuracy: 1.00 - ETA: 3s - loss: 0.0018 - accuracy: 1.00 - ETA: 2s - loss: 0.0018 - accuracy: 1.00 - ETA: 2s - loss: 0.0018 - accuracy: 1.00 - ETA: 2s - loss: 0.0018 - accuracy: 1.00 - ETA: 1s - loss: 0.0021 - accuracy: 1.00 - ETA: 1s - loss: 0.0020 - accuracy: 1.00 - ETA: 0s - loss: 0.0022 - accuracy: 1.00 - ETA: 0s - loss: 0.0022 - accuracy: 1.00 - 18s 14ms/step - loss: 0.0021 - accuracy: 1.0000 - val_loss: 7.6403 - val_accuracy: 0.2966\n",
      "Epoch 59/100\n",
      "1304/1304 [==============================] - ETA: 15s - loss: 7.2012e-05 - accuracy: 1.000 - ETA: 16s - loss: 0.0016 - accuracy: 1.0000    - ETA: 15s - loss: 0.0010 - accuracy: 1.000 - ETA: 15s - loss: 0.0013 - accuracy: 1.000 - ETA: 14s - loss: 0.0027 - accuracy: 1.000 - ETA: 14s - loss: 0.0031 - accuracy: 1.000 - ETA: 14s - loss: 0.0029 - accuracy: 1.000 - ETA: 13s - loss: 0.0028 - accuracy: 1.000 - ETA: 13s - loss: 0.0026 - accuracy: 1.000 - ETA: 13s - loss: 0.0025 - accuracy: 1.000 - ETA: 12s - loss: 0.0023 - accuracy: 1.000 - ETA: 12s - loss: 0.0022 - accuracy: 1.000 - ETA: 11s - loss: 0.0021 - accuracy: 1.000 - ETA: 11s - loss: 0.0020 - accuracy: 1.000 - ETA: 10s - loss: 0.0018 - accuracy: 1.000 - ETA: 10s - loss: 0.0017 - accuracy: 1.000 - ETA: 10s - loss: 0.0017 - accuracy: 1.000 - ETA: 9s - loss: 0.0016 - accuracy: 1.000 - ETA: 9s - loss: 0.0015 - accuracy: 1.00 - ETA: 8s - loss: 0.0015 - accuracy: 1.00 - ETA: 8s - loss: 0.0015 - accuracy: 1.00 - ETA: 7s - loss: 0.0014 - accuracy: 1.00 - ETA: 7s - loss: 0.0014 - accuracy: 1.00 - ETA: 7s - loss: 0.0014 - accuracy: 1.00 - ETA: 6s - loss: 0.0013 - accuracy: 1.00 - ETA: 6s - loss: 0.0015 - accuracy: 1.00 - ETA: 5s - loss: 0.0015 - accuracy: 1.00 - ETA: 5s - loss: 0.0015 - accuracy: 1.00 - ETA: 4s - loss: 0.0014 - accuracy: 1.00 - ETA: 4s - loss: 0.0014 - accuracy: 1.00 - ETA: 4s - loss: 0.0014 - accuracy: 1.00 - ETA: 3s - loss: 0.0013 - accuracy: 1.00 - ETA: 3s - loss: 0.0013 - accuracy: 1.00 - ETA: 2s - loss: 0.0013 - accuracy: 1.00 - ETA: 2s - loss: 0.0013 - accuracy: 1.00 - ETA: 1s - loss: 0.0013 - accuracy: 1.00 - ETA: 1s - loss: 0.0012 - accuracy: 1.00 - ETA: 1s - loss: 0.0012 - accuracy: 1.00 - ETA: 0s - loss: 0.0012 - accuracy: 1.00 - ETA: 0s - loss: 0.0012 - accuracy: 1.00 - 18s 14ms/step - loss: 0.0012 - accuracy: 1.0000 - val_loss: 7.8306 - val_accuracy: 0.3028\n",
      "Epoch 60/100\n",
      "1304/1304 [==============================] - ETA: 16s - loss: 0.0113 - accuracy: 1.000 - ETA: 16s - loss: 0.0058 - accuracy: 1.000 - ETA: 16s - loss: 0.0039 - accuracy: 1.000 - ETA: 15s - loss: 0.0032 - accuracy: 1.000 - ETA: 15s - loss: 0.0026 - accuracy: 1.000 - ETA: 15s - loss: 0.0023 - accuracy: 1.000 - ETA: 14s - loss: 0.0022 - accuracy: 1.000 - ETA: 14s - loss: 0.0020 - accuracy: 1.000 - ETA: 13s - loss: 0.0018 - accuracy: 1.000 - ETA: 13s - loss: 0.0016 - accuracy: 1.000 - ETA: 12s - loss: 0.0015 - accuracy: 1.000 - ETA: 12s - loss: 0.0014 - accuracy: 1.000 - ETA: 11s - loss: 0.0014 - accuracy: 1.000 - ETA: 11s - loss: 0.0027 - accuracy: 1.000 - ETA: 11s - loss: 0.0025 - accuracy: 1.000 - ETA: 10s - loss: 0.0024 - accuracy: 1.000 - ETA: 10s - loss: 0.0023 - accuracy: 1.000 - ETA: 9s - loss: 0.0023 - accuracy: 1.000 - ETA: 9s - loss: 0.0022 - accuracy: 1.00 - ETA: 8s - loss: 0.0021 - accuracy: 1.00 - ETA: 8s - loss: 0.0026 - accuracy: 1.00 - ETA: 7s - loss: 0.0025 - accuracy: 1.00 - ETA: 7s - loss: 0.0024 - accuracy: 1.00 - ETA: 7s - loss: 0.0023 - accuracy: 1.00 - ETA: 6s - loss: 0.0022 - accuracy: 1.00 - ETA: 6s - loss: 0.0022 - accuracy: 1.00 - ETA: 5s - loss: 0.0021 - accuracy: 1.00 - ETA: 5s - loss: 0.0021 - accuracy: 1.00 - ETA: 4s - loss: 0.0021 - accuracy: 1.00 - ETA: 4s - loss: 0.0021 - accuracy: 1.00 - ETA: 4s - loss: 0.0020 - accuracy: 1.00 - ETA: 3s - loss: 0.0020 - accuracy: 1.00 - ETA: 3s - loss: 0.0021 - accuracy: 1.00 - ETA: 2s - loss: 0.0021 - accuracy: 1.00 - ETA: 2s - loss: 0.0020 - accuracy: 1.00 - ETA: 2s - loss: 0.0020 - accuracy: 1.00 - ETA: 1s - loss: 0.0019 - accuracy: 1.00 - ETA: 1s - loss: 0.0019 - accuracy: 1.00 - ETA: 0s - loss: 0.0018 - accuracy: 1.00 - ETA: 0s - loss: 0.0018 - accuracy: 1.00 - 18s 14ms/step - loss: 0.0018 - accuracy: 1.0000 - val_loss: 7.8106 - val_accuracy: 0.3058\n",
      "Epoch 61/100\n",
      "1304/1304 [==============================] - ETA: 16s - loss: 0.0015 - accuracy: 1.000 - ETA: 16s - loss: 9.6673e-04 - accuracy: 1.000 - ETA: 15s - loss: 6.5379e-04 - accuracy: 1.000 - ETA: 15s - loss: 5.1537e-04 - accuracy: 1.000 - ETA: 14s - loss: 5.3365e-04 - accuracy: 1.000 - ETA: 14s - loss: 4.5408e-04 - accuracy: 1.000 - ETA: 14s - loss: 4.0237e-04 - accuracy: 1.000 - ETA: 13s - loss: 3.7006e-04 - accuracy: 1.000 - ETA: 13s - loss: 3.6836e-04 - accuracy: 1.000 - ETA: 12s - loss: 4.6787e-04 - accuracy: 1.000 - ETA: 12s - loss: 4.4366e-04 - accuracy: 1.000 - ETA: 12s - loss: 4.3378e-04 - accuracy: 1.000 - ETA: 11s - loss: 4.5385e-04 - accuracy: 1.000 - ETA: 11s - loss: 4.5380e-04 - accuracy: 1.000 - ETA: 10s - loss: 4.6505e-04 - accuracy: 1.000 - ETA: 10s - loss: 4.6153e-04 - accuracy: 1.000 - ETA: 9s - loss: 4.4200e-04 - accuracy: 1.000 - ETA: 9s - loss: 4.8783e-04 - accuracy: 1.00 - ETA: 9s - loss: 4.7335e-04 - accuracy: 1.00 - ETA: 8s - loss: 4.5903e-04 - accuracy: 1.00 - ETA: 8s - loss: 8.0170e-04 - accuracy: 1.00 - ETA: 7s - loss: 7.7866e-04 - accuracy: 1.00 - ETA: 7s - loss: 7.4635e-04 - accuracy: 1.00 - ETA: 6s - loss: 7.1772e-04 - accuracy: 1.00 - ETA: 6s - loss: 6.9439e-04 - accuracy: 1.00 - ETA: 6s - loss: 6.7037e-04 - accuracy: 1.00 - ETA: 5s - loss: 6.5760e-04 - accuracy: 1.00 - ETA: 5s - loss: 6.4390e-04 - accuracy: 1.00 - ETA: 4s - loss: 6.4423e-04 - accuracy: 1.00 - ETA: 4s - loss: 6.7427e-04 - accuracy: 1.00 - ETA: 4s - loss: 6.5587e-04 - accuracy: 1.00 - ETA: 3s - loss: 6.3986e-04 - accuracy: 1.00 - ETA: 3s - loss: 7.3009e-04 - accuracy: 1.00 - ETA: 2s - loss: 7.3797e-04 - accuracy: 1.00 - ETA: 2s - loss: 7.1899e-04 - accuracy: 1.00 - ETA: 1s - loss: 6.9994e-04 - accuracy: 1.00 - ETA: 1s - loss: 6.9634e-04 - accuracy: 1.00 - ETA: 1s - loss: 6.8070e-04 - accuracy: 1.00 - ETA: 0s - loss: 7.7650e-04 - accuracy: 1.00 - ETA: 0s - loss: 8.0010e-04 - accuracy: 1.00 - 18s 14ms/step - loss: 7.8567e-04 - accuracy: 1.0000 - val_loss: 8.0583 - val_accuracy: 0.3058\n",
      "Epoch 62/100\n",
      "1304/1304 [==============================] - ETA: 16s - loss: 0.0044 - accuracy: 1.000 - ETA: 16s - loss: 0.0038 - accuracy: 1.000 - ETA: 16s - loss: 0.0027 - accuracy: 1.000 - ETA: 15s - loss: 0.0021 - accuracy: 1.000 - ETA: 15s - loss: 0.0020 - accuracy: 1.000 - ETA: 14s - loss: 0.0017 - accuracy: 1.000 - ETA: 14s - loss: 0.0014 - accuracy: 1.000 - ETA: 13s - loss: 0.0013 - accuracy: 1.000 - ETA: 13s - loss: 0.0012 - accuracy: 1.000 - ETA: 12s - loss: 0.0011 - accuracy: 1.000 - ETA: 12s - loss: 9.7771e-04 - accuracy: 1.000 - ETA: 12s - loss: 9.0023e-04 - accuracy: 1.000 - ETA: 11s - loss: 8.3594e-04 - accuracy: 1.000 - ETA: 11s - loss: 7.8094e-04 - accuracy: 1.000 - ETA: 10s - loss: 7.5143e-04 - accuracy: 1.000 - ETA: 10s - loss: 7.8860e-04 - accuracy: 1.000 - ETA: 9s - loss: 7.4257e-04 - accuracy: 1.000 - ETA: 9s - loss: 7.7275e-04 - accuracy: 1.00 - ETA: 9s - loss: 0.0020 - accuracy: 0.9984   - ETA: 8s - loss: 0.0019 - accuracy: 0.99 - ETA: 8s - loss: 0.0018 - accuracy: 0.99 - ETA: 7s - loss: 0.0017 - accuracy: 0.99 - ETA: 7s - loss: 0.0017 - accuracy: 0.99 - ETA: 7s - loss: 0.0016 - accuracy: 0.99 - ETA: 6s - loss: 0.0016 - accuracy: 0.99 - ETA: 6s - loss: 0.0016 - accuracy: 0.99 - ETA: 5s - loss: 0.0015 - accuracy: 0.99 - ETA: 5s - loss: 0.0015 - accuracy: 0.99 - ETA: 4s - loss: 0.0014 - accuracy: 0.99 - ETA: 4s - loss: 0.0014 - accuracy: 0.99 - ETA: 4s - loss: 0.0016 - accuracy: 0.99 - ETA: 3s - loss: 0.0015 - accuracy: 0.99 - ETA: 3s - loss: 0.0015 - accuracy: 0.99 - ETA: 2s - loss: 0.0018 - accuracy: 0.99 - ETA: 2s - loss: 0.0028 - accuracy: 0.99 - ETA: 2s - loss: 0.0027 - accuracy: 0.99 - ETA: 1s - loss: 0.0027 - accuracy: 0.99 - ETA: 1s - loss: 0.0026 - accuracy: 0.99 - ETA: 0s - loss: 0.0026 - accuracy: 0.99 - ETA: 0s - loss: 0.0026 - accuracy: 0.99 - 18s 14ms/step - loss: 0.0025 - accuracy: 0.9985 - val_loss: 7.7043 - val_accuracy: 0.3180\n",
      "Epoch 63/100\n",
      "1304/1304 [==============================] - ETA: 16s - loss: 9.8020e-04 - accuracy: 1.000 - ETA: 16s - loss: 0.0017 - accuracy: 1.0000    - ETA: 15s - loss: 0.0014 - accuracy: 1.000 - ETA: 15s - loss: 0.0011 - accuracy: 1.000 - ETA: 14s - loss: 9.8089e-04 - accuracy: 1.000 - ETA: 14s - loss: 0.0011 - accuracy: 1.0000    - ETA: 14s - loss: 9.4676e-04 - accuracy: 1.000 - ETA: 13s - loss: 8.4344e-04 - accuracy: 1.000 - ETA: 13s - loss: 9.5607e-04 - accuracy: 1.000 - ETA: 12s - loss: 0.0010 - accuracy: 1.0000    - ETA: 12s - loss: 9.9088e-04 - accuracy: 1.000 - ETA: 12s - loss: 0.0012 - accuracy: 1.0000    - ETA: 11s - loss: 0.0011 - accuracy: 1.000 - ETA: 11s - loss: 0.0011 - accuracy: 1.000 - ETA: 10s - loss: 9.9272e-04 - accuracy: 1.000 - ETA: 10s - loss: 9.3911e-04 - accuracy: 1.000 - ETA: 9s - loss: 9.4976e-04 - accuracy: 1.000 - ETA: 9s - loss: 9.0507e-04 - accuracy: 1.00 - ETA: 9s - loss: 9.4677e-04 - accuracy: 1.00 - ETA: 8s - loss: 9.2281e-04 - accuracy: 1.00 - ETA: 8s - loss: 0.0010 - accuracy: 1.0000   - ETA: 7s - loss: 9.6503e-04 - accuracy: 1.00 - ETA: 7s - loss: 9.2783e-04 - accuracy: 1.00 - ETA: 7s - loss: 8.9468e-04 - accuracy: 1.00 - ETA: 6s - loss: 9.0232e-04 - accuracy: 1.00 - ETA: 6s - loss: 8.7630e-04 - accuracy: 1.00 - ETA: 5s - loss: 0.0014 - accuracy: 1.0000   - ETA: 5s - loss: 0.0013 - accuracy: 1.00 - ETA: 4s - loss: 0.0030 - accuracy: 0.99 - ETA: 4s - loss: 0.0029 - accuracy: 0.99 - ETA: 4s - loss: 0.0030 - accuracy: 0.99 - ETA: 3s - loss: 0.0029 - accuracy: 0.99 - ETA: 3s - loss: 0.0028 - accuracy: 0.99 - ETA: 2s - loss: 0.0027 - accuracy: 0.99 - ETA: 2s - loss: 0.0027 - accuracy: 0.99 - ETA: 2s - loss: 0.0027 - accuracy: 0.99 - ETA: 1s - loss: 0.0026 - accuracy: 0.99 - ETA: 1s - loss: 0.0026 - accuracy: 0.99 - ETA: 0s - loss: 0.0033 - accuracy: 0.99 - ETA: 0s - loss: 0.0032 - accuracy: 0.99 - 18s 14ms/step - loss: 0.0032 - accuracy: 0.9985 - val_loss: 8.5857 - val_accuracy: 0.3089\n",
      "Epoch 64/100\n",
      "1304/1304 [==============================] - ETA: 17s - loss: 0.0304 - accuracy: 0.968 - ETA: 17s - loss: 0.0343 - accuracy: 0.968 - ETA: 16s - loss: 0.0235 - accuracy: 0.979 - ETA: 16s - loss: 0.0177 - accuracy: 0.984 - ETA: 15s - loss: 0.0142 - accuracy: 0.987 - ETA: 15s - loss: 0.0124 - accuracy: 0.989 - ETA: 14s - loss: 0.0109 - accuracy: 0.991 - ETA: 14s - loss: 0.0129 - accuracy: 0.988 - ETA: 13s - loss: 0.0115 - accuracy: 0.989 - ETA: 13s - loss: 0.0112 - accuracy: 0.990 - ETA: 12s - loss: 0.0313 - accuracy: 0.988 - ETA: 12s - loss: 0.0287 - accuracy: 0.989 - ETA: 12s - loss: 0.0265 - accuracy: 0.990 - ETA: 11s - loss: 0.0247 - accuracy: 0.991 - ETA: 11s - loss: 0.0239 - accuracy: 0.991 - ETA: 10s - loss: 0.0226 - accuracy: 0.992 - ETA: 10s - loss: 0.0213 - accuracy: 0.992 - ETA: 9s - loss: 0.0212 - accuracy: 0.993 - ETA: 9s - loss: 0.0273 - accuracy: 0.99 - ETA: 8s - loss: 0.0260 - accuracy: 0.99 - ETA: 8s - loss: 0.0250 - accuracy: 0.99 - ETA: 8s - loss: 0.0297 - accuracy: 0.99 - ETA: 7s - loss: 0.0294 - accuracy: 0.99 - ETA: 7s - loss: 0.0344 - accuracy: 0.99 - ETA: 6s - loss: 0.0385 - accuracy: 0.99 - ETA: 6s - loss: 0.0371 - accuracy: 0.99 - ETA: 5s - loss: 0.0395 - accuracy: 0.98 - ETA: 5s - loss: 0.0387 - accuracy: 0.99 - ETA: 5s - loss: 0.0375 - accuracy: 0.99 - ETA: 4s - loss: 0.0364 - accuracy: 0.99 - ETA: 4s - loss: 0.0363 - accuracy: 0.99 - ETA: 3s - loss: 0.0429 - accuracy: 0.98 - ETA: 3s - loss: 0.0419 - accuracy: 0.98 - ETA: 2s - loss: 0.0426 - accuracy: 0.98 - ETA: 2s - loss: 0.0441 - accuracy: 0.98 - ETA: 2s - loss: 0.0465 - accuracy: 0.98 - ETA: 1s - loss: 0.0454 - accuracy: 0.98 - ETA: 1s - loss: 0.0442 - accuracy: 0.98 - ETA: 0s - loss: 0.0431 - accuracy: 0.98 - ETA: 0s - loss: 0.0484 - accuracy: 0.98 - 18s 14ms/step - loss: 0.0482 - accuracy: 0.9885 - val_loss: 7.4069 - val_accuracy: 0.2783\n",
      "Epoch 65/100\n",
      "1304/1304 [==============================] - ETA: 15s - loss: 0.1166 - accuracy: 0.937 - ETA: 15s - loss: 0.1987 - accuracy: 0.937 - ETA: 15s - loss: 0.1611 - accuracy: 0.937 - ETA: 14s - loss: 0.1660 - accuracy: 0.937 - ETA: 14s - loss: 0.1446 - accuracy: 0.943 - ETA: 13s - loss: 0.1247 - accuracy: 0.953 - ETA: 13s - loss: 0.1156 - accuracy: 0.955 - ETA: 13s - loss: 0.1137 - accuracy: 0.953 - ETA: 12s - loss: 0.1024 - accuracy: 0.958 - ETA: 12s - loss: 0.0952 - accuracy: 0.962 - ETA: 11s - loss: 0.0919 - accuracy: 0.965 - ETA: 11s - loss: 0.0872 - accuracy: 0.968 - ETA: 11s - loss: 0.0814 - accuracy: 0.971 - ETA: 10s - loss: 0.0760 - accuracy: 0.973 - ETA: 10s - loss: 0.0800 - accuracy: 0.972 - ETA: 10s - loss: 0.0752 - accuracy: 0.974 - ETA: 9s - loss: 0.0721 - accuracy: 0.976 - ETA: 9s - loss: 0.0713 - accuracy: 0.97 - ETA: 8s - loss: 0.0738 - accuracy: 0.97 - ETA: 8s - loss: 0.0807 - accuracy: 0.97 - ETA: 8s - loss: 0.0777 - accuracy: 0.97 - ETA: 7s - loss: 0.0743 - accuracy: 0.97 - ETA: 7s - loss: 0.0717 - accuracy: 0.97 - ETA: 6s - loss: 0.0692 - accuracy: 0.97 - ETA: 6s - loss: 0.0668 - accuracy: 0.98 - ETA: 6s - loss: 0.0651 - accuracy: 0.98 - ETA: 5s - loss: 0.0693 - accuracy: 0.97 - ETA: 5s - loss: 0.0671 - accuracy: 0.97 - ETA: 4s - loss: 0.0659 - accuracy: 0.97 - ETA: 4s - loss: 0.0641 - accuracy: 0.98 - ETA: 3s - loss: 0.0624 - accuracy: 0.98 - ETA: 3s - loss: 0.0612 - accuracy: 0.98 - ETA: 3s - loss: 0.0597 - accuracy: 0.98 - ETA: 2s - loss: 0.0606 - accuracy: 0.98 - ETA: 2s - loss: 0.0638 - accuracy: 0.98 - ETA: 1s - loss: 0.0626 - accuracy: 0.98 - ETA: 1s - loss: 0.0650 - accuracy: 0.98 - ETA: 1s - loss: 0.0636 - accuracy: 0.98 - ETA: 0s - loss: 0.0634 - accuracy: 0.98 - ETA: 0s - loss: 0.0620 - accuracy: 0.98 - 18s 13ms/step - loss: 0.0609 - accuracy: 0.9816 - val_loss: 7.2009 - val_accuracy: 0.3150\n",
      "Epoch 66/100\n",
      "1304/1304 [==============================] - ETA: 15s - loss: 0.0017 - accuracy: 1.000 - ETA: 15s - loss: 0.0012 - accuracy: 1.000 - ETA: 15s - loss: 0.0057 - accuracy: 1.000 - ETA: 14s - loss: 0.0048 - accuracy: 1.000 - ETA: 14s - loss: 0.0039 - accuracy: 1.000 - ETA: 13s - loss: 0.0035 - accuracy: 1.000 - ETA: 13s - loss: 0.0037 - accuracy: 1.000 - ETA: 13s - loss: 0.0036 - accuracy: 1.000 - ETA: 12s - loss: 0.0126 - accuracy: 0.996 - ETA: 12s - loss: 0.0114 - accuracy: 0.996 - ETA: 11s - loss: 0.0109 - accuracy: 0.997 - ETA: 11s - loss: 0.0100 - accuracy: 0.997 - ETA: 11s - loss: 0.0093 - accuracy: 0.997 - ETA: 10s - loss: 0.0087 - accuracy: 0.997 - ETA: 10s - loss: 0.0083 - accuracy: 0.997 - ETA: 10s - loss: 0.0078 - accuracy: 0.998 - ETA: 9s - loss: 0.0296 - accuracy: 0.994 - ETA: 9s - loss: 0.0280 - accuracy: 0.99 - ETA: 8s - loss: 0.0270 - accuracy: 0.99 - ETA: 8s - loss: 0.0257 - accuracy: 0.99 - ETA: 8s - loss: 0.0271 - accuracy: 0.99 - ETA: 7s - loss: 0.0267 - accuracy: 0.99 - ETA: 7s - loss: 0.0256 - accuracy: 0.99 - ETA: 6s - loss: 0.0274 - accuracy: 0.99 - ETA: 6s - loss: 0.0266 - accuracy: 0.99 - ETA: 6s - loss: 0.0256 - accuracy: 0.99 - ETA: 5s - loss: 0.0276 - accuracy: 0.99 - ETA: 5s - loss: 0.0267 - accuracy: 0.99 - ETA: 4s - loss: 0.0263 - accuracy: 0.99 - ETA: 4s - loss: 0.0334 - accuracy: 0.99 - ETA: 3s - loss: 0.0335 - accuracy: 0.98 - ETA: 3s - loss: 0.0503 - accuracy: 0.98 - ETA: 3s - loss: 0.0601 - accuracy: 0.98 - ETA: 2s - loss: 0.0587 - accuracy: 0.98 - ETA: 2s - loss: 0.0591 - accuracy: 0.98 - ETA: 1s - loss: 0.0575 - accuracy: 0.98 - ETA: 1s - loss: 0.0561 - accuracy: 0.98 - ETA: 1s - loss: 0.0549 - accuracy: 0.98 - ETA: 0s - loss: 0.0538 - accuracy: 0.98 - ETA: 0s - loss: 0.0527 - accuracy: 0.98 - 17s 13ms/step - loss: 0.0535 - accuracy: 0.9870 - val_loss: 6.7742 - val_accuracy: 0.2783\n",
      "Epoch 67/100\n",
      "1304/1304 [==============================] - ETA: 15s - loss: 0.0858 - accuracy: 0.968 - ETA: 15s - loss: 0.0738 - accuracy: 0.953 - ETA: 14s - loss: 0.0524 - accuracy: 0.968 - ETA: 14s - loss: 0.0397 - accuracy: 0.976 - ETA: 14s - loss: 0.0325 - accuracy: 0.981 - ETA: 14s - loss: 0.0296 - accuracy: 0.984 - ETA: 13s - loss: 0.0258 - accuracy: 0.986 - ETA: 13s - loss: 0.0236 - accuracy: 0.988 - ETA: 13s - loss: 0.0227 - accuracy: 0.989 - ETA: 12s - loss: 0.0218 - accuracy: 0.990 - ETA: 12s - loss: 0.0201 - accuracy: 0.991 - ETA: 12s - loss: 0.0272 - accuracy: 0.989 - ETA: 11s - loss: 0.0255 - accuracy: 0.990 - ETA: 11s - loss: 0.0239 - accuracy: 0.991 - ETA: 10s - loss: 0.0226 - accuracy: 0.991 - ETA: 10s - loss: 0.0218 - accuracy: 0.992 - ETA: 9s - loss: 0.0257 - accuracy: 0.990 - ETA: 9s - loss: 0.0245 - accuracy: 0.99 - ETA: 9s - loss: 0.0238 - accuracy: 0.99 - ETA: 8s - loss: 0.0227 - accuracy: 0.99 - ETA: 8s - loss: 0.0220 - accuracy: 0.99 - ETA: 7s - loss: 0.0218 - accuracy: 0.99 - ETA: 7s - loss: 0.0210 - accuracy: 0.99 - ETA: 6s - loss: 0.0238 - accuracy: 0.99 - ETA: 6s - loss: 0.0230 - accuracy: 0.99 - ETA: 6s - loss: 0.0223 - accuracy: 0.99 - ETA: 5s - loss: 0.0228 - accuracy: 0.99 - ETA: 5s - loss: 0.0274 - accuracy: 0.99 - ETA: 4s - loss: 0.0267 - accuracy: 0.99 - ETA: 4s - loss: 0.0264 - accuracy: 0.99 - ETA: 4s - loss: 0.0294 - accuracy: 0.98 - ETA: 3s - loss: 0.0294 - accuracy: 0.98 - ETA: 3s - loss: 0.0292 - accuracy: 0.98 - ETA: 2s - loss: 0.0284 - accuracy: 0.98 - ETA: 2s - loss: 0.0276 - accuracy: 0.99 - ETA: 1s - loss: 0.0270 - accuracy: 0.99 - ETA: 1s - loss: 0.0263 - accuracy: 0.99 - ETA: 1s - loss: 0.0266 - accuracy: 0.99 - ETA: 0s - loss: 0.0260 - accuracy: 0.99 - ETA: 0s - loss: 0.0257 - accuracy: 0.99 - 18s 13ms/step - loss: 0.0253 - accuracy: 0.9908 - val_loss: 7.0309 - val_accuracy: 0.2905\n",
      "Epoch 68/100\n",
      "1304/1304 [==============================] - ETA: 15s - loss: 4.4768e-04 - accuracy: 1.000 - ETA: 15s - loss: 4.6111e-04 - accuracy: 1.000 - ETA: 14s - loss: 9.3403e-04 - accuracy: 1.000 - ETA: 14s - loss: 0.0019 - accuracy: 1.0000    - ETA: 14s - loss: 0.0028 - accuracy: 1.000 - ETA: 14s - loss: 0.0026 - accuracy: 1.000 - ETA: 13s - loss: 0.0039 - accuracy: 1.000 - ETA: 13s - loss: 0.0079 - accuracy: 0.996 - ETA: 13s - loss: 0.0072 - accuracy: 0.996 - ETA: 12s - loss: 0.0118 - accuracy: 0.993 - ETA: 12s - loss: 0.0110 - accuracy: 0.994 - ETA: 11s - loss: 0.0111 - accuracy: 0.994 - ETA: 11s - loss: 0.0214 - accuracy: 0.992 - ETA: 11s - loss: 0.0199 - accuracy: 0.993 - ETA: 10s - loss: 0.0187 - accuracy: 0.993 - ETA: 10s - loss: 0.0175 - accuracy: 0.994 - ETA: 9s - loss: 0.0165 - accuracy: 0.994 - ETA: 9s - loss: 0.0186 - accuracy: 0.99 - ETA: 8s - loss: 0.0177 - accuracy: 0.99 - ETA: 8s - loss: 0.0187 - accuracy: 0.99 - ETA: 8s - loss: 0.0182 - accuracy: 0.99 - ETA: 7s - loss: 0.0218 - accuracy: 0.99 - ETA: 7s - loss: 0.0249 - accuracy: 0.99 - ETA: 6s - loss: 0.0245 - accuracy: 0.99 - ETA: 6s - loss: 0.0238 - accuracy: 0.99 - ETA: 6s - loss: 0.0229 - accuracy: 0.99 - ETA: 5s - loss: 0.0222 - accuracy: 0.99 - ETA: 5s - loss: 0.0216 - accuracy: 0.99 - ETA: 4s - loss: 0.0211 - accuracy: 0.99 - ETA: 4s - loss: 0.0230 - accuracy: 0.99 - ETA: 3s - loss: 0.0223 - accuracy: 0.99 - ETA: 3s - loss: 0.0255 - accuracy: 0.98 - ETA: 3s - loss: 0.0250 - accuracy: 0.98 - ETA: 2s - loss: 0.0245 - accuracy: 0.98 - ETA: 2s - loss: 0.0247 - accuracy: 0.99 - ETA: 1s - loss: 0.0270 - accuracy: 0.98 - ETA: 1s - loss: 0.0263 - accuracy: 0.98 - ETA: 1s - loss: 0.0257 - accuracy: 0.99 - ETA: 0s - loss: 0.0251 - accuracy: 0.99 - ETA: 0s - loss: 0.0245 - accuracy: 0.99 - 18s 13ms/step - loss: 0.0241 - accuracy: 0.9908 - val_loss: 6.4489 - val_accuracy: 0.2875\n",
      "Epoch 69/100\n",
      "1304/1304 [==============================] - ETA: 16s - loss: 0.0051 - accuracy: 1.000 - ETA: 16s - loss: 0.0114 - accuracy: 1.000 - ETA: 15s - loss: 0.0087 - accuracy: 1.000 - ETA: 15s - loss: 0.0118 - accuracy: 1.000 - ETA: 14s - loss: 0.0106 - accuracy: 1.000 - ETA: 14s - loss: 0.0319 - accuracy: 0.994 - ETA: 13s - loss: 0.0276 - accuracy: 0.995 - ETA: 13s - loss: 0.0243 - accuracy: 0.996 - ETA: 13s - loss: 0.0225 - accuracy: 0.996 - ETA: 12s - loss: 0.0204 - accuracy: 0.996 - ETA: 12s - loss: 0.0302 - accuracy: 0.994 - ETA: 11s - loss: 0.0372 - accuracy: 0.989 - ETA: 11s - loss: 0.0347 - accuracy: 0.990 - ETA: 10s - loss: 0.0338 - accuracy: 0.991 - ETA: 10s - loss: 0.0339 - accuracy: 0.991 - ETA: 10s - loss: 0.0423 - accuracy: 0.990 - ETA: 9s - loss: 0.0420 - accuracy: 0.989 - ETA: 9s - loss: 0.0408 - accuracy: 0.98 - ETA: 8s - loss: 0.0390 - accuracy: 0.99 - ETA: 8s - loss: 0.0370 - accuracy: 0.99 - ETA: 8s - loss: 0.0355 - accuracy: 0.99 - ETA: 7s - loss: 0.0339 - accuracy: 0.99 - ETA: 7s - loss: 0.0325 - accuracy: 0.99 - ETA: 6s - loss: 0.0327 - accuracy: 0.99 - ETA: 6s - loss: 0.0333 - accuracy: 0.99 - ETA: 6s - loss: 0.0333 - accuracy: 0.99 - ETA: 5s - loss: 0.0343 - accuracy: 0.98 - ETA: 5s - loss: 0.0337 - accuracy: 0.99 - ETA: 4s - loss: 0.0340 - accuracy: 0.98 - ETA: 4s - loss: 0.0385 - accuracy: 0.98 - ETA: 3s - loss: 0.0375 - accuracy: 0.98 - ETA: 3s - loss: 0.0368 - accuracy: 0.98 - ETA: 3s - loss: 0.0361 - accuracy: 0.98 - ETA: 2s - loss: 0.0363 - accuracy: 0.98 - ETA: 2s - loss: 0.0405 - accuracy: 0.98 - ETA: 1s - loss: 0.0412 - accuracy: 0.98 - ETA: 1s - loss: 0.0404 - accuracy: 0.98 - ETA: 1s - loss: 0.0395 - accuracy: 0.98 - ETA: 0s - loss: 0.0388 - accuracy: 0.98 - ETA: 0s - loss: 0.0394 - accuracy: 0.98 - 18s 13ms/step - loss: 0.0391 - accuracy: 0.9870 - val_loss: 6.8573 - val_accuracy: 0.3058\n",
      "Epoch 70/100\n",
      "1304/1304 [==============================] - ETA: 16s - loss: 0.2787 - accuracy: 0.937 - ETA: 16s - loss: 0.1804 - accuracy: 0.953 - ETA: 15s - loss: 0.1220 - accuracy: 0.968 - ETA: 15s - loss: 0.0922 - accuracy: 0.976 - ETA: 14s - loss: 0.0743 - accuracy: 0.981 - ETA: 14s - loss: 0.0624 - accuracy: 0.984 - ETA: 13s - loss: 0.0547 - accuracy: 0.986 - ETA: 13s - loss: 0.0484 - accuracy: 0.988 - ETA: 13s - loss: 0.0440 - accuracy: 0.989 - ETA: 12s - loss: 0.0398 - accuracy: 0.990 - ETA: 12s - loss: 0.0591 - accuracy: 0.988 - ETA: 11s - loss: 0.0544 - accuracy: 0.989 - ETA: 11s - loss: 0.0531 - accuracy: 0.988 - ETA: 11s - loss: 0.0622 - accuracy: 0.986 - ETA: 10s - loss: 0.0583 - accuracy: 0.987 - ETA: 10s - loss: 0.0606 - accuracy: 0.986 - ETA: 9s - loss: 0.0651 - accuracy: 0.983 - ETA: 9s - loss: 0.0616 - accuracy: 0.98 - ETA: 8s - loss: 0.0591 - accuracy: 0.98 - ETA: 8s - loss: 0.0562 - accuracy: 0.98 - ETA: 8s - loss: 0.0558 - accuracy: 0.98 - ETA: 7s - loss: 0.0614 - accuracy: 0.98 - ETA: 7s - loss: 0.0590 - accuracy: 0.98 - ETA: 6s - loss: 0.0569 - accuracy: 0.98 - ETA: 6s - loss: 0.0573 - accuracy: 0.98 - ETA: 6s - loss: 0.0553 - accuracy: 0.98 - ETA: 5s - loss: 0.0571 - accuracy: 0.98 - ETA: 5s - loss: 0.0592 - accuracy: 0.98 - ETA: 4s - loss: 0.0595 - accuracy: 0.98 - ETA: 4s - loss: 0.0579 - accuracy: 0.98 - ETA: 3s - loss: 0.0563 - accuracy: 0.98 - ETA: 3s - loss: 0.0551 - accuracy: 0.98 - ETA: 3s - loss: 0.0537 - accuracy: 0.98 - ETA: 2s - loss: 0.0522 - accuracy: 0.98 - ETA: 2s - loss: 0.0517 - accuracy: 0.98 - ETA: 1s - loss: 0.0505 - accuracy: 0.98 - ETA: 1s - loss: 0.0494 - accuracy: 0.98 - ETA: 1s - loss: 0.0485 - accuracy: 0.98 - ETA: 0s - loss: 0.0482 - accuracy: 0.98 - ETA: 0s - loss: 0.0471 - accuracy: 0.98 - 18s 14ms/step - loss: 0.0467 - accuracy: 0.9877 - val_loss: 7.1157 - val_accuracy: 0.3333\n",
      "Epoch 71/100\n",
      "1304/1304 [==============================] - ETA: 15s - loss: 0.0882 - accuracy: 0.968 - ETA: 15s - loss: 0.0713 - accuracy: 0.968 - ETA: 15s - loss: 0.0573 - accuracy: 0.979 - ETA: 14s - loss: 0.0438 - accuracy: 0.984 - ETA: 14s - loss: 0.0362 - accuracy: 0.987 - ETA: 14s - loss: 0.0379 - accuracy: 0.984 - ETA: 13s - loss: 0.0341 - accuracy: 0.986 - ETA: 13s - loss: 0.0302 - accuracy: 0.988 - ETA: 12s - loss: 0.0296 - accuracy: 0.989 - ETA: 12s - loss: 0.0268 - accuracy: 0.990 - ETA: 12s - loss: 0.0267 - accuracy: 0.988 - ETA: 11s - loss: 0.0263 - accuracy: 0.989 - ETA: 11s - loss: 0.0395 - accuracy: 0.988 - ETA: 10s - loss: 0.0368 - accuracy: 0.988 - ETA: 10s - loss: 0.0348 - accuracy: 0.989 - ETA: 9s - loss: 0.0328 - accuracy: 0.990 - ETA: 9s - loss: 0.0319 - accuracy: 0.99 - ETA: 9s - loss: 0.0323 - accuracy: 0.98 - ETA: 8s - loss: 0.0321 - accuracy: 0.99 - ETA: 8s - loss: 0.0317 - accuracy: 0.99 - ETA: 7s - loss: 0.0366 - accuracy: 0.98 - ETA: 7s - loss: 0.0424 - accuracy: 0.98 - ETA: 7s - loss: 0.0412 - accuracy: 0.98 - ETA: 6s - loss: 0.0403 - accuracy: 0.98 - ETA: 6s - loss: 0.0403 - accuracy: 0.98 - ETA: 5s - loss: 0.0392 - accuracy: 0.98 - ETA: 5s - loss: 0.0384 - accuracy: 0.98 - ETA: 5s - loss: 0.0373 - accuracy: 0.98 - ETA: 4s - loss: 0.0368 - accuracy: 0.98 - ETA: 4s - loss: 0.0360 - accuracy: 0.98 - ETA: 3s - loss: 0.0373 - accuracy: 0.98 - ETA: 3s - loss: 0.0363 - accuracy: 0.98 - ETA: 3s - loss: 0.0375 - accuracy: 0.98 - ETA: 2s - loss: 0.0391 - accuracy: 0.98 - ETA: 2s - loss: 0.0399 - accuracy: 0.98 - ETA: 1s - loss: 0.0402 - accuracy: 0.98 - ETA: 1s - loss: 0.0441 - accuracy: 0.98 - ETA: 1s - loss: 0.0431 - accuracy: 0.98 - ETA: 0s - loss: 0.0423 - accuracy: 0.98 - ETA: 0s - loss: 0.0419 - accuracy: 0.98 - 17s 13ms/step - loss: 0.0411 - accuracy: 0.9862 - val_loss: 7.0082 - val_accuracy: 0.3150\n",
      "Epoch 72/100\n",
      "1304/1304 [==============================] - ETA: 15s - loss: 0.0185 - accuracy: 1.000 - ETA: 15s - loss: 0.0260 - accuracy: 0.984 - ETA: 14s - loss: 0.0175 - accuracy: 0.989 - ETA: 14s - loss: 0.0144 - accuracy: 0.992 - ETA: 14s - loss: 0.0120 - accuracy: 0.993 - ETA: 13s - loss: 0.0112 - accuracy: 0.994 - ETA: 13s - loss: 0.0101 - accuracy: 0.995 - ETA: 13s - loss: 0.0181 - accuracy: 0.988 - ETA: 12s - loss: 0.0163 - accuracy: 0.989 - ETA: 12s - loss: 0.0201 - accuracy: 0.990 - ETA: 11s - loss: 0.0207 - accuracy: 0.991 - ETA: 11s - loss: 0.0219 - accuracy: 0.992 - ETA: 11s - loss: 0.0246 - accuracy: 0.990 - ETA: 10s - loss: 0.0258 - accuracy: 0.991 - ETA: 10s - loss: 0.0255 - accuracy: 0.991 - ETA: 9s - loss: 0.0243 - accuracy: 0.992 - ETA: 9s - loss: 0.0231 - accuracy: 0.99 - ETA: 9s - loss: 0.0234 - accuracy: 0.99 - ETA: 8s - loss: 0.0222 - accuracy: 0.99 - ETA: 8s - loss: 0.0216 - accuracy: 0.99 - ETA: 7s - loss: 0.0209 - accuracy: 0.99 - ETA: 7s - loss: 0.0201 - accuracy: 0.99 - ETA: 7s - loss: 0.0196 - accuracy: 0.99 - ETA: 6s - loss: 0.0191 - accuracy: 0.99 - ETA: 6s - loss: 0.0196 - accuracy: 0.99 - ETA: 5s - loss: 0.0190 - accuracy: 0.99 - ETA: 5s - loss: 0.0184 - accuracy: 0.99 - ETA: 5s - loss: 0.0191 - accuracy: 0.99 - ETA: 4s - loss: 0.0272 - accuracy: 0.99 - ETA: 4s - loss: 0.0306 - accuracy: 0.98 - ETA: 3s - loss: 0.0297 - accuracy: 0.98 - ETA: 3s - loss: 0.0289 - accuracy: 0.99 - ETA: 3s - loss: 0.0311 - accuracy: 0.98 - ETA: 2s - loss: 0.0364 - accuracy: 0.98 - ETA: 2s - loss: 0.0354 - accuracy: 0.98 - ETA: 1s - loss: 0.0410 - accuracy: 0.98 - ETA: 1s - loss: 0.0433 - accuracy: 0.98 - ETA: 1s - loss: 0.0422 - accuracy: 0.98 - ETA: 0s - loss: 0.0438 - accuracy: 0.98 - ETA: 0s - loss: 0.0433 - accuracy: 0.98 - 17s 13ms/step - loss: 0.0444 - accuracy: 0.9862 - val_loss: 7.1082 - val_accuracy: 0.2936\n",
      "Epoch 73/100\n",
      "1304/1304 [==============================] - ETA: 15s - loss: 0.1330 - accuracy: 0.968 - ETA: 15s - loss: 0.0737 - accuracy: 0.984 - ETA: 15s - loss: 0.0580 - accuracy: 0.989 - ETA: 14s - loss: 0.0516 - accuracy: 0.992 - ETA: 14s - loss: 0.0524 - accuracy: 0.987 - ETA: 13s - loss: 0.0462 - accuracy: 0.989 - ETA: 13s - loss: 0.0458 - accuracy: 0.986 - ETA: 13s - loss: 0.0402 - accuracy: 0.988 - ETA: 12s - loss: 0.0433 - accuracy: 0.986 - ETA: 12s - loss: 0.0421 - accuracy: 0.987 - ETA: 11s - loss: 0.0430 - accuracy: 0.985 - ETA: 11s - loss: 0.0695 - accuracy: 0.979 - ETA: 11s - loss: 0.0676 - accuracy: 0.978 - ETA: 10s - loss: 0.0629 - accuracy: 0.979 - ETA: 10s - loss: 0.0597 - accuracy: 0.981 - ETA: 9s - loss: 0.0612 - accuracy: 0.980 - ETA: 9s - loss: 0.0633 - accuracy: 0.97 - ETA: 9s - loss: 0.0676 - accuracy: 0.97 - ETA: 8s - loss: 0.0645 - accuracy: 0.98 - ETA: 8s - loss: 0.0661 - accuracy: 0.97 - ETA: 7s - loss: 0.0634 - accuracy: 0.98 - ETA: 7s - loss: 0.0660 - accuracy: 0.98 - ETA: 7s - loss: 0.0631 - accuracy: 0.98 - ETA: 6s - loss: 0.0605 - accuracy: 0.98 - ETA: 6s - loss: 0.0617 - accuracy: 0.98 - ETA: 5s - loss: 0.0595 - accuracy: 0.98 - ETA: 5s - loss: 0.0600 - accuracy: 0.98 - ETA: 5s - loss: 0.0581 - accuracy: 0.98 - ETA: 4s - loss: 0.0571 - accuracy: 0.98 - ETA: 4s - loss: 0.0553 - accuracy: 0.98 - ETA: 3s - loss: 0.0547 - accuracy: 0.98 - ETA: 3s - loss: 0.0531 - accuracy: 0.98 - ETA: 3s - loss: 0.0538 - accuracy: 0.98 - ETA: 2s - loss: 0.0567 - accuracy: 0.98 - ETA: 2s - loss: 0.0552 - accuracy: 0.98 - ETA: 1s - loss: 0.0547 - accuracy: 0.98 - ETA: 1s - loss: 0.0545 - accuracy: 0.98 - ETA: 1s - loss: 0.0535 - accuracy: 0.98 - ETA: 0s - loss: 0.0526 - accuracy: 0.98 - ETA: 0s - loss: 0.0533 - accuracy: 0.98 - 17s 13ms/step - loss: 0.0556 - accuracy: 0.9808 - val_loss: 7.0056 - val_accuracy: 0.3150\n",
      "Epoch 74/100\n",
      "1304/1304 [==============================] - ETA: 15s - loss: 0.1884 - accuracy: 0.968 - ETA: 15s - loss: 0.0950 - accuracy: 0.984 - ETA: 15s - loss: 0.0639 - accuracy: 0.989 - ETA: 14s - loss: 0.0490 - accuracy: 0.992 - ETA: 14s - loss: 0.0393 - accuracy: 0.993 - ETA: 13s - loss: 0.0357 - accuracy: 0.994 - ETA: 13s - loss: 0.0463 - accuracy: 0.986 - ETA: 13s - loss: 0.0539 - accuracy: 0.984 - ETA: 12s - loss: 0.0972 - accuracy: 0.979 - ETA: 12s - loss: 0.0883 - accuracy: 0.981 - ETA: 11s - loss: 0.0842 - accuracy: 0.980 - ETA: 11s - loss: 0.0785 - accuracy: 0.981 - ETA: 11s - loss: 0.0725 - accuracy: 0.983 - ETA: 10s - loss: 0.1146 - accuracy: 0.979 - ETA: 10s - loss: 0.1098 - accuracy: 0.981 - ETA: 9s - loss: 0.1298 - accuracy: 0.974 - ETA: 9s - loss: 0.1335 - accuracy: 0.97 - ETA: 9s - loss: 0.1273 - accuracy: 0.97 - ETA: 8s - loss: 0.1212 - accuracy: 0.97 - ETA: 8s - loss: 0.1156 - accuracy: 0.97 - ETA: 7s - loss: 0.1139 - accuracy: 0.97 - ETA: 7s - loss: 0.1089 - accuracy: 0.97 - ETA: 7s - loss: 0.1054 - accuracy: 0.97 - ETA: 6s - loss: 0.1033 - accuracy: 0.97 - ETA: 6s - loss: 0.1040 - accuracy: 0.97 - ETA: 5s - loss: 0.1021 - accuracy: 0.97 - ETA: 5s - loss: 0.0992 - accuracy: 0.97 - ETA: 5s - loss: 0.0959 - accuracy: 0.97 - ETA: 4s - loss: 0.0931 - accuracy: 0.97 - ETA: 4s - loss: 0.0963 - accuracy: 0.97 - ETA: 3s - loss: 0.0933 - accuracy: 0.97 - ETA: 3s - loss: 0.0905 - accuracy: 0.97 - ETA: 3s - loss: 0.0878 - accuracy: 0.97 - ETA: 2s - loss: 0.0859 - accuracy: 0.97 - ETA: 2s - loss: 0.0836 - accuracy: 0.98 - ETA: 1s - loss: 0.0814 - accuracy: 0.98 - ETA: 1s - loss: 0.0800 - accuracy: 0.98 - ETA: 1s - loss: 0.0780 - accuracy: 0.98 - ETA: 0s - loss: 0.0761 - accuracy: 0.98 - ETA: 0s - loss: 0.0743 - accuracy: 0.98 - 17s 13ms/step - loss: 0.0735 - accuracy: 0.9831 - val_loss: 6.5153 - val_accuracy: 0.3180\n",
      "Epoch 75/100\n",
      "1304/1304 [==============================] - ETA: 15s - loss: 0.1795 - accuracy: 0.968 - ETA: 15s - loss: 0.1351 - accuracy: 0.953 - ETA: 15s - loss: 0.0922 - accuracy: 0.968 - ETA: 14s - loss: 0.0700 - accuracy: 0.976 - ETA: 14s - loss: 0.0569 - accuracy: 0.981 - ETA: 13s - loss: 0.0478 - accuracy: 0.984 - ETA: 13s - loss: 0.0542 - accuracy: 0.982 - ETA: 13s - loss: 0.0495 - accuracy: 0.984 - ETA: 12s - loss: 0.0655 - accuracy: 0.982 - ETA: 12s - loss: 0.0651 - accuracy: 0.981 - ETA: 12s - loss: 0.0765 - accuracy: 0.977 - ETA: 11s - loss: 0.0802 - accuracy: 0.974 - ETA: 11s - loss: 0.0741 - accuracy: 0.976 - ETA: 10s - loss: 0.0689 - accuracy: 0.977 - ETA: 10s - loss: 0.0644 - accuracy: 0.979 - ETA: 10s - loss: 0.0611 - accuracy: 0.980 - ETA: 9s - loss: 0.0578 - accuracy: 0.981 - ETA: 9s - loss: 0.0548 - accuracy: 0.98 - ETA: 8s - loss: 0.0526 - accuracy: 0.98 - ETA: 8s - loss: 0.0511 - accuracy: 0.98 - ETA: 8s - loss: 0.0494 - accuracy: 0.98 - ETA: 7s - loss: 0.0492 - accuracy: 0.98 - ETA: 7s - loss: 0.0474 - accuracy: 0.98 - ETA: 6s - loss: 0.0466 - accuracy: 0.98 - ETA: 6s - loss: 0.0449 - accuracy: 0.98 - ETA: 6s - loss: 0.0435 - accuracy: 0.98 - ETA: 5s - loss: 0.0427 - accuracy: 0.98 - ETA: 5s - loss: 0.0433 - accuracy: 0.98 - ETA: 4s - loss: 0.0418 - accuracy: 0.98 - ETA: 4s - loss: 0.0421 - accuracy: 0.98 - ETA: 3s - loss: 0.0421 - accuracy: 0.98 - ETA: 3s - loss: 0.0422 - accuracy: 0.98 - ETA: 3s - loss: 0.0424 - accuracy: 0.98 - ETA: 2s - loss: 0.0421 - accuracy: 0.98 - ETA: 2s - loss: 0.0412 - accuracy: 0.98 - ETA: 1s - loss: 0.0404 - accuracy: 0.98 - ETA: 1s - loss: 0.0396 - accuracy: 0.98 - ETA: 1s - loss: 0.0389 - accuracy: 0.98 - ETA: 0s - loss: 0.0387 - accuracy: 0.98 - ETA: 0s - loss: 0.0395 - accuracy: 0.98 - 18s 13ms/step - loss: 0.0390 - accuracy: 0.9877 - val_loss: 6.5197 - val_accuracy: 0.2905\n",
      "Epoch 76/100\n",
      "1304/1304 [==============================] - ETA: 15s - loss: 0.0070 - accuracy: 1.000 - ETA: 15s - loss: 0.0572 - accuracy: 0.984 - ETA: 15s - loss: 0.0386 - accuracy: 0.989 - ETA: 14s - loss: 0.0310 - accuracy: 0.992 - ETA: 14s - loss: 0.0248 - accuracy: 0.993 - ETA: 13s - loss: 0.0214 - accuracy: 0.994 - ETA: 13s - loss: 0.0187 - accuracy: 0.995 - ETA: 13s - loss: 0.0170 - accuracy: 0.996 - ETA: 12s - loss: 0.0174 - accuracy: 0.996 - ETA: 12s - loss: 0.0157 - accuracy: 0.996 - ETA: 11s - loss: 0.0143 - accuracy: 0.997 - ETA: 11s - loss: 0.0144 - accuracy: 0.997 - ETA: 11s - loss: 0.0415 - accuracy: 0.992 - ETA: 10s - loss: 0.0388 - accuracy: 0.993 - ETA: 10s - loss: 0.0363 - accuracy: 0.993 - ETA: 10s - loss: 0.0350 - accuracy: 0.994 - ETA: 9s - loss: 0.0331 - accuracy: 0.994 - ETA: 9s - loss: 0.0312 - accuracy: 0.99 - ETA: 8s - loss: 0.0401 - accuracy: 0.99 - ETA: 8s - loss: 0.0382 - accuracy: 0.99 - ETA: 8s - loss: 0.0374 - accuracy: 0.99 - ETA: 7s - loss: 0.0357 - accuracy: 0.99 - ETA: 7s - loss: 0.0354 - accuracy: 0.99 - ETA: 6s - loss: 0.0344 - accuracy: 0.99 - ETA: 6s - loss: 0.0370 - accuracy: 0.99 - ETA: 6s - loss: 0.0366 - accuracy: 0.98 - ETA: 5s - loss: 0.0353 - accuracy: 0.98 - ETA: 5s - loss: 0.0341 - accuracy: 0.99 - ETA: 4s - loss: 0.0338 - accuracy: 0.98 - ETA: 4s - loss: 0.0327 - accuracy: 0.98 - ETA: 3s - loss: 0.0318 - accuracy: 0.98 - ETA: 3s - loss: 0.0346 - accuracy: 0.98 - ETA: 3s - loss: 0.0336 - accuracy: 0.98 - ETA: 2s - loss: 0.0329 - accuracy: 0.98 - ETA: 2s - loss: 0.0332 - accuracy: 0.98 - ETA: 1s - loss: 0.0324 - accuracy: 0.98 - ETA: 1s - loss: 0.0321 - accuracy: 0.98 - ETA: 1s - loss: 0.0354 - accuracy: 0.98 - ETA: 0s - loss: 0.0370 - accuracy: 0.98 - ETA: 0s - loss: 0.0376 - accuracy: 0.98 - 17s 13ms/step - loss: 0.0373 - accuracy: 0.9877 - val_loss: 6.9432 - val_accuracy: 0.2813\n",
      "Epoch 77/100\n",
      "1304/1304 [==============================] - ETA: 15s - loss: 0.0032 - accuracy: 1.000 - ETA: 15s - loss: 0.0295 - accuracy: 0.984 - ETA: 14s - loss: 0.0233 - accuracy: 0.989 - ETA: 14s - loss: 0.0179 - accuracy: 0.992 - ETA: 14s - loss: 0.0172 - accuracy: 0.993 - ETA: 13s - loss: 0.0188 - accuracy: 0.989 - ETA: 13s - loss: 0.0162 - accuracy: 0.991 - ETA: 13s - loss: 0.0143 - accuracy: 0.992 - ETA: 12s - loss: 0.0136 - accuracy: 0.993 - ETA: 12s - loss: 0.0124 - accuracy: 0.993 - ETA: 12s - loss: 0.0120 - accuracy: 0.994 - ETA: 11s - loss: 0.0124 - accuracy: 0.994 - ETA: 11s - loss: 0.0130 - accuracy: 0.995 - ETA: 10s - loss: 0.0124 - accuracy: 0.995 - ETA: 10s - loss: 0.0156 - accuracy: 0.993 - ETA: 10s - loss: 0.0176 - accuracy: 0.992 - ETA: 9s - loss: 0.0172 - accuracy: 0.992 - ETA: 9s - loss: 0.0245 - accuracy: 0.98 - ETA: 9s - loss: 0.0232 - accuracy: 0.99 - ETA: 8s - loss: 0.0232 - accuracy: 0.99 - ETA: 8s - loss: 0.0239 - accuracy: 0.98 - ETA: 7s - loss: 0.0228 - accuracy: 0.99 - ETA: 7s - loss: 0.0219 - accuracy: 0.99 - ETA: 6s - loss: 0.0244 - accuracy: 0.98 - ETA: 6s - loss: 0.0234 - accuracy: 0.99 - ETA: 6s - loss: 0.0228 - accuracy: 0.99 - ETA: 5s - loss: 0.0227 - accuracy: 0.99 - ETA: 5s - loss: 0.0272 - accuracy: 0.99 - ETA: 4s - loss: 0.0273 - accuracy: 0.99 - ETA: 4s - loss: 0.0264 - accuracy: 0.99 - ETA: 4s - loss: 0.0258 - accuracy: 0.99 - ETA: 3s - loss: 0.0301 - accuracy: 0.98 - ETA: 3s - loss: 0.0295 - accuracy: 0.98 - ETA: 2s - loss: 0.0373 - accuracy: 0.98 - ETA: 2s - loss: 0.0363 - accuracy: 0.98 - ETA: 1s - loss: 0.0393 - accuracy: 0.98 - ETA: 1s - loss: 0.0411 - accuracy: 0.98 - ETA: 1s - loss: 0.0410 - accuracy: 0.98 - ETA: 0s - loss: 0.0405 - accuracy: 0.98 - ETA: 0s - loss: 0.0402 - accuracy: 0.98 - 18s 14ms/step - loss: 0.0421 - accuracy: 0.9862 - val_loss: 7.3974 - val_accuracy: 0.3028\n",
      "Epoch 78/100\n",
      "1304/1304 [==============================] - ETA: 15s - loss: 0.0765 - accuracy: 0.968 - ETA: 15s - loss: 0.0482 - accuracy: 0.984 - ETA: 15s - loss: 0.0379 - accuracy: 0.989 - ETA: 14s - loss: 0.0500 - accuracy: 0.984 - ETA: 14s - loss: 0.0487 - accuracy: 0.987 - ETA: 13s - loss: 0.0501 - accuracy: 0.984 - ETA: 13s - loss: 0.0467 - accuracy: 0.982 - ETA: 13s - loss: 0.0417 - accuracy: 0.984 - ETA: 13s - loss: 0.0556 - accuracy: 0.979 - ETA: 12s - loss: 0.0574 - accuracy: 0.978 - ETA: 12s - loss: 0.0523 - accuracy: 0.980 - ETA: 11s - loss: 0.0481 - accuracy: 0.981 - ETA: 11s - loss: 0.0445 - accuracy: 0.983 - ETA: 10s - loss: 0.0489 - accuracy: 0.982 - ETA: 10s - loss: 0.0460 - accuracy: 0.983 - ETA: 10s - loss: 0.0431 - accuracy: 0.984 - ETA: 9s - loss: 0.0408 - accuracy: 0.985 - ETA: 9s - loss: 0.0438 - accuracy: 0.98 - ETA: 8s - loss: 0.0467 - accuracy: 0.98 - ETA: 8s - loss: 0.0505 - accuracy: 0.98 - ETA: 8s - loss: 0.0482 - accuracy: 0.98 - ETA: 7s - loss: 0.0480 - accuracy: 0.98 - ETA: 7s - loss: 0.0477 - accuracy: 0.98 - ETA: 6s - loss: 0.0471 - accuracy: 0.98 - ETA: 6s - loss: 0.0465 - accuracy: 0.98 - ETA: 6s - loss: 0.0448 - accuracy: 0.98 - ETA: 5s - loss: 0.0448 - accuracy: 0.98 - ETA: 5s - loss: 0.0438 - accuracy: 0.98 - ETA: 4s - loss: 0.0428 - accuracy: 0.98 - ETA: 4s - loss: 0.0423 - accuracy: 0.98 - ETA: 3s - loss: 0.0431 - accuracy: 0.98 - ETA: 3s - loss: 0.0422 - accuracy: 0.98 - ETA: 3s - loss: 0.0443 - accuracy: 0.98 - ETA: 2s - loss: 0.0514 - accuracy: 0.98 - ETA: 2s - loss: 0.0516 - accuracy: 0.98 - ETA: 1s - loss: 0.0514 - accuracy: 0.98 - ETA: 1s - loss: 0.0519 - accuracy: 0.98 - ETA: 1s - loss: 0.0508 - accuracy: 0.98 - ETA: 0s - loss: 0.0500 - accuracy: 0.98 - ETA: 0s - loss: 0.0492 - accuracy: 0.98 - 17s 13ms/step - loss: 0.0483 - accuracy: 0.9839 - val_loss: 5.3731 - val_accuracy: 0.2997\n",
      "Epoch 79/100\n",
      "1304/1304 [==============================] - ETA: 15s - loss: 0.0278 - accuracy: 0.968 - ETA: 15s - loss: 0.0143 - accuracy: 0.984 - ETA: 15s - loss: 0.0266 - accuracy: 0.979 - ETA: 14s - loss: 0.0251 - accuracy: 0.984 - ETA: 14s - loss: 0.0264 - accuracy: 0.987 - ETA: 14s - loss: 0.0225 - accuracy: 0.989 - ETA: 13s - loss: 0.0383 - accuracy: 0.986 - ETA: 13s - loss: 0.0355 - accuracy: 0.988 - ETA: 12s - loss: 0.0361 - accuracy: 0.989 - ETA: 12s - loss: 0.0337 - accuracy: 0.990 - ETA: 12s - loss: 0.0349 - accuracy: 0.988 - ETA: 11s - loss: 0.0326 - accuracy: 0.989 - ETA: 11s - loss: 0.0332 - accuracy: 0.990 - ETA: 10s - loss: 0.0312 - accuracy: 0.991 - ETA: 10s - loss: 0.0293 - accuracy: 0.991 - ETA: 10s - loss: 0.0275 - accuracy: 0.992 - ETA: 9s - loss: 0.0260 - accuracy: 0.992 - ETA: 9s - loss: 0.0247 - accuracy: 0.99 - ETA: 8s - loss: 0.0235 - accuracy: 0.99 - ETA: 8s - loss: 0.0224 - accuracy: 0.99 - ETA: 8s - loss: 0.0215 - accuracy: 0.99 - ETA: 7s - loss: 0.0219 - accuracy: 0.99 - ETA: 7s - loss: 0.0367 - accuracy: 0.99 - ETA: 6s - loss: 0.0376 - accuracy: 0.99 - ETA: 6s - loss: 0.0362 - accuracy: 0.99 - ETA: 6s - loss: 0.0348 - accuracy: 0.99 - ETA: 5s - loss: 0.0338 - accuracy: 0.99 - ETA: 5s - loss: 0.0326 - accuracy: 0.99 - ETA: 4s - loss: 0.0316 - accuracy: 0.99 - ETA: 4s - loss: 0.0314 - accuracy: 0.99 - ETA: 3s - loss: 0.0338 - accuracy: 0.99 - ETA: 3s - loss: 0.0337 - accuracy: 0.99 - ETA: 3s - loss: 0.0327 - accuracy: 0.99 - ETA: 2s - loss: 0.0431 - accuracy: 0.99 - ETA: 2s - loss: 0.0420 - accuracy: 0.99 - ETA: 1s - loss: 0.0410 - accuracy: 0.99 - ETA: 1s - loss: 0.0399 - accuracy: 0.99 - ETA: 1s - loss: 0.0390 - accuracy: 0.99 - ETA: 0s - loss: 0.0425 - accuracy: 0.99 - ETA: 0s - loss: 0.0418 - accuracy: 0.99 - 17s 13ms/step - loss: 0.0411 - accuracy: 0.9916 - val_loss: 6.9848 - val_accuracy: 0.2905\n",
      "Epoch 80/100\n",
      "1304/1304 [==============================] - ETA: 16s - loss: 0.0013 - accuracy: 1.000 - ETA: 16s - loss: 0.0019 - accuracy: 1.000 - ETA: 15s - loss: 0.0020 - accuracy: 1.000 - ETA: 14s - loss: 0.0079 - accuracy: 0.992 - ETA: 14s - loss: 0.0071 - accuracy: 0.993 - ETA: 14s - loss: 0.0065 - accuracy: 0.994 - ETA: 13s - loss: 0.0061 - accuracy: 0.995 - ETA: 13s - loss: 0.0058 - accuracy: 0.996 - ETA: 12s - loss: 0.0052 - accuracy: 0.996 - ETA: 12s - loss: 0.0054 - accuracy: 0.996 - ETA: 12s - loss: 0.0050 - accuracy: 0.997 - ETA: 11s - loss: 0.0047 - accuracy: 0.997 - ETA: 11s - loss: 0.0084 - accuracy: 0.995 - ETA: 10s - loss: 0.0086 - accuracy: 0.995 - ETA: 10s - loss: 0.0087 - accuracy: 0.995 - ETA: 10s - loss: 0.0138 - accuracy: 0.994 - ETA: 9s - loss: 0.0143 - accuracy: 0.994 - ETA: 9s - loss: 0.0139 - accuracy: 0.99 - ETA: 8s - loss: 0.0134 - accuracy: 0.99 - ETA: 8s - loss: 0.0128 - accuracy: 0.99 - ETA: 7s - loss: 0.0125 - accuracy: 0.99 - ETA: 7s - loss: 0.0124 - accuracy: 0.99 - ETA: 7s - loss: 0.0120 - accuracy: 0.99 - ETA: 6s - loss: 0.0122 - accuracy: 0.99 - ETA: 6s - loss: 0.0118 - accuracy: 0.99 - ETA: 5s - loss: 0.0114 - accuracy: 0.99 - ETA: 5s - loss: 0.0112 - accuracy: 0.99 - ETA: 5s - loss: 0.0109 - accuracy: 0.99 - ETA: 4s - loss: 0.0119 - accuracy: 0.99 - ETA: 4s - loss: 0.0116 - accuracy: 0.99 - ETA: 3s - loss: 0.0114 - accuracy: 0.99 - ETA: 3s - loss: 0.0112 - accuracy: 0.99 - ETA: 3s - loss: 0.0108 - accuracy: 0.99 - ETA: 2s - loss: 0.0113 - accuracy: 0.99 - ETA: 2s - loss: 0.0113 - accuracy: 0.99 - ETA: 1s - loss: 0.0210 - accuracy: 0.99 - ETA: 1s - loss: 0.0205 - accuracy: 0.99 - ETA: 1s - loss: 0.0200 - accuracy: 0.99 - ETA: 0s - loss: 0.0197 - accuracy: 0.99 - ETA: 0s - loss: 0.0210 - accuracy: 0.99 - 17s 13ms/step - loss: 0.0206 - accuracy: 0.9946 - val_loss: 6.3884 - val_accuracy: 0.2936\n",
      "Epoch 81/100\n",
      "1304/1304 [==============================] - ETA: 15s - loss: 0.0058 - accuracy: 1.000 - ETA: 15s - loss: 0.0428 - accuracy: 0.984 - ETA: 15s - loss: 0.0428 - accuracy: 0.979 - ETA: 14s - loss: 0.0363 - accuracy: 0.984 - ETA: 14s - loss: 0.0337 - accuracy: 0.987 - ETA: 14s - loss: 0.0282 - accuracy: 0.989 - ETA: 13s - loss: 0.0263 - accuracy: 0.991 - ETA: 13s - loss: 0.0236 - accuracy: 0.992 - ETA: 12s - loss: 0.0212 - accuracy: 0.993 - ETA: 12s - loss: 0.0195 - accuracy: 0.993 - ETA: 12s - loss: 0.0179 - accuracy: 0.994 - ETA: 11s - loss: 0.0164 - accuracy: 0.994 - ETA: 11s - loss: 0.0155 - accuracy: 0.995 - ETA: 10s - loss: 0.0144 - accuracy: 0.995 - ETA: 10s - loss: 0.0137 - accuracy: 0.995 - ETA: 10s - loss: 0.0130 - accuracy: 0.996 - ETA: 9s - loss: 0.0123 - accuracy: 0.996 - ETA: 9s - loss: 0.0119 - accuracy: 0.99 - ETA: 8s - loss: 0.0115 - accuracy: 0.99 - ETA: 8s - loss: 0.0110 - accuracy: 0.99 - ETA: 8s - loss: 0.0105 - accuracy: 0.99 - ETA: 7s - loss: 0.0115 - accuracy: 0.99 - ETA: 7s - loss: 0.0111 - accuracy: 0.99 - ETA: 6s - loss: 0.0117 - accuracy: 0.99 - ETA: 6s - loss: 0.0113 - accuracy: 0.99 - ETA: 5s - loss: 0.0128 - accuracy: 0.99 - ETA: 5s - loss: 0.0125 - accuracy: 0.99 - ETA: 5s - loss: 0.0121 - accuracy: 0.99 - ETA: 4s - loss: 0.0117 - accuracy: 0.99 - ETA: 4s - loss: 0.0113 - accuracy: 0.99 - ETA: 3s - loss: 0.0111 - accuracy: 0.99 - ETA: 3s - loss: 0.0108 - accuracy: 0.99 - ETA: 3s - loss: 0.0111 - accuracy: 0.99 - ETA: 2s - loss: 0.0109 - accuracy: 0.99 - ETA: 2s - loss: 0.0107 - accuracy: 0.99 - ETA: 1s - loss: 0.0104 - accuracy: 0.99 - ETA: 1s - loss: 0.0102 - accuracy: 0.99 - ETA: 1s - loss: 0.0100 - accuracy: 0.99 - ETA: 0s - loss: 0.0097 - accuracy: 0.99 - ETA: 0s - loss: 0.0097 - accuracy: 0.99 - 17s 13ms/step - loss: 0.0098 - accuracy: 0.9969 - val_loss: 6.5647 - val_accuracy: 0.2905\n",
      "Epoch 82/100\n",
      "1304/1304 [==============================] - ETA: 15s - loss: 8.1380e-04 - accuracy: 1.000 - ETA: 15s - loss: 6.9066e-04 - accuracy: 1.000 - ETA: 15s - loss: 6.4604e-04 - accuracy: 1.000 - ETA: 14s - loss: 0.0012 - accuracy: 1.0000    - ETA: 14s - loss: 0.0034 - accuracy: 1.000 - ETA: 14s - loss: 0.0032 - accuracy: 1.000 - ETA: 13s - loss: 0.0030 - accuracy: 1.000 - ETA: 13s - loss: 0.0036 - accuracy: 1.000 - ETA: 13s - loss: 0.0032 - accuracy: 1.000 - ETA: 12s - loss: 0.0029 - accuracy: 1.000 - ETA: 12s - loss: 0.0031 - accuracy: 1.000 - ETA: 11s - loss: 0.0032 - accuracy: 1.000 - ETA: 11s - loss: 0.0036 - accuracy: 1.000 - ETA: 10s - loss: 0.0043 - accuracy: 1.000 - ETA: 10s - loss: 0.0043 - accuracy: 1.000 - ETA: 10s - loss: 0.0041 - accuracy: 1.000 - ETA: 9s - loss: 0.0038 - accuracy: 1.000 - ETA: 9s - loss: 0.0037 - accuracy: 1.00 - ETA: 8s - loss: 0.0035 - accuracy: 1.00 - ETA: 8s - loss: 0.0034 - accuracy: 1.00 - ETA: 8s - loss: 0.0035 - accuracy: 1.00 - ETA: 7s - loss: 0.0034 - accuracy: 1.00 - ETA: 7s - loss: 0.0033 - accuracy: 1.00 - ETA: 6s - loss: 0.0032 - accuracy: 1.00 - ETA: 6s - loss: 0.0031 - accuracy: 1.00 - ETA: 6s - loss: 0.0031 - accuracy: 1.00 - ETA: 5s - loss: 0.0030 - accuracy: 1.00 - ETA: 5s - loss: 0.0036 - accuracy: 1.00 - ETA: 4s - loss: 0.0035 - accuracy: 1.00 - ETA: 4s - loss: 0.0035 - accuracy: 1.00 - ETA: 3s - loss: 0.0067 - accuracy: 0.99 - ETA: 3s - loss: 0.0065 - accuracy: 0.99 - ETA: 3s - loss: 0.0066 - accuracy: 0.99 - ETA: 2s - loss: 0.0069 - accuracy: 0.99 - ETA: 2s - loss: 0.0069 - accuracy: 0.99 - ETA: 1s - loss: 0.0071 - accuracy: 0.99 - ETA: 1s - loss: 0.0069 - accuracy: 0.99 - ETA: 1s - loss: 0.0067 - accuracy: 0.99 - ETA: 0s - loss: 0.0066 - accuracy: 0.99 - ETA: 0s - loss: 0.0064 - accuracy: 0.99 - 18s 13ms/step - loss: 0.0063 - accuracy: 0.9992 - val_loss: 6.7900 - val_accuracy: 0.2997\n",
      "Epoch 83/100\n",
      "1304/1304 [==============================] - ETA: 15s - loss: 0.0027 - accuracy: 1.000 - ETA: 15s - loss: 0.0071 - accuracy: 1.000 - ETA: 14s - loss: 0.0050 - accuracy: 1.000 - ETA: 14s - loss: 0.0039 - accuracy: 1.000 - ETA: 14s - loss: 0.0032 - accuracy: 1.000 - ETA: 13s - loss: 0.0028 - accuracy: 1.000 - ETA: 13s - loss: 0.0026 - accuracy: 1.000 - ETA: 13s - loss: 0.0023 - accuracy: 1.000 - ETA: 12s - loss: 0.0047 - accuracy: 1.000 - ETA: 12s - loss: 0.0043 - accuracy: 1.000 - ETA: 11s - loss: 0.0039 - accuracy: 1.000 - ETA: 11s - loss: 0.0037 - accuracy: 1.000 - ETA: 11s - loss: 0.0035 - accuracy: 1.000 - ETA: 10s - loss: 0.0032 - accuracy: 1.000 - ETA: 10s - loss: 0.0030 - accuracy: 1.000 - ETA: 9s - loss: 0.0029 - accuracy: 1.000 - ETA: 9s - loss: 0.0029 - accuracy: 1.00 - ETA: 9s - loss: 0.0029 - accuracy: 1.00 - ETA: 8s - loss: 0.0028 - accuracy: 1.00 - ETA: 8s - loss: 0.0027 - accuracy: 1.00 - ETA: 7s - loss: 0.0032 - accuracy: 1.00 - ETA: 7s - loss: 0.0031 - accuracy: 1.00 - ETA: 7s - loss: 0.0030 - accuracy: 1.00 - ETA: 6s - loss: 0.0030 - accuracy: 1.00 - ETA: 6s - loss: 0.0029 - accuracy: 1.00 - ETA: 5s - loss: 0.0028 - accuracy: 1.00 - ETA: 5s - loss: 0.0027 - accuracy: 1.00 - ETA: 5s - loss: 0.0026 - accuracy: 1.00 - ETA: 4s - loss: 0.0025 - accuracy: 1.00 - ETA: 4s - loss: 0.0025 - accuracy: 1.00 - ETA: 3s - loss: 0.0024 - accuracy: 1.00 - ETA: 3s - loss: 0.0023 - accuracy: 1.00 - ETA: 3s - loss: 0.0023 - accuracy: 1.00 - ETA: 2s - loss: 0.0022 - accuracy: 1.00 - ETA: 2s - loss: 0.0022 - accuracy: 1.00 - ETA: 1s - loss: 0.0021 - accuracy: 1.00 - ETA: 1s - loss: 0.0021 - accuracy: 1.00 - ETA: 1s - loss: 0.0020 - accuracy: 1.00 - ETA: 0s - loss: 0.0020 - accuracy: 1.00 - ETA: 0s - loss: 0.0019 - accuracy: 1.00 - 17s 13ms/step - loss: 0.0019 - accuracy: 1.0000 - val_loss: 7.0143 - val_accuracy: 0.2875\n",
      "Epoch 84/100\n",
      "1304/1304 [==============================] - ETA: 15s - loss: 2.1395e-04 - accuracy: 1.000 - ETA: 15s - loss: 1.2136e-04 - accuracy: 1.000 - ETA: 14s - loss: 8.7672e-05 - accuracy: 1.000 - ETA: 14s - loss: 2.4540e-04 - accuracy: 1.000 - ETA: 14s - loss: 2.7071e-04 - accuracy: 1.000 - ETA: 13s - loss: 4.7053e-04 - accuracy: 1.000 - ETA: 13s - loss: 4.1319e-04 - accuracy: 1.000 - ETA: 13s - loss: 0.0019 - accuracy: 1.0000    - ETA: 12s - loss: 0.0017 - accuracy: 1.000 - ETA: 12s - loss: 0.0016 - accuracy: 1.000 - ETA: 11s - loss: 0.0014 - accuracy: 1.000 - ETA: 11s - loss: 0.0013 - accuracy: 1.000 - ETA: 11s - loss: 0.0015 - accuracy: 1.000 - ETA: 10s - loss: 0.0014 - accuracy: 1.000 - ETA: 10s - loss: 0.0013 - accuracy: 1.000 - ETA: 9s - loss: 0.0013 - accuracy: 1.000 - ETA: 9s - loss: 0.0012 - accuracy: 1.00 - ETA: 9s - loss: 0.0012 - accuracy: 1.00 - ETA: 8s - loss: 0.0011 - accuracy: 1.00 - ETA: 8s - loss: 0.0011 - accuracy: 1.00 - ETA: 7s - loss: 0.0010 - accuracy: 1.00 - ETA: 7s - loss: 0.0010 - accuracy: 1.00 - ETA: 7s - loss: 9.8274e-04 - accuracy: 1.00 - ETA: 6s - loss: 0.0019 - accuracy: 0.9987   - ETA: 6s - loss: 0.0019 - accuracy: 0.99 - ETA: 5s - loss: 0.0018 - accuracy: 0.99 - ETA: 5s - loss: 0.0017 - accuracy: 0.99 - ETA: 5s - loss: 0.0017 - accuracy: 0.99 - ETA: 4s - loss: 0.0017 - accuracy: 0.99 - ETA: 4s - loss: 0.0017 - accuracy: 0.99 - ETA: 3s - loss: 0.0017 - accuracy: 0.99 - ETA: 3s - loss: 0.0017 - accuracy: 0.99 - ETA: 3s - loss: 0.0016 - accuracy: 0.99 - ETA: 2s - loss: 0.0016 - accuracy: 0.99 - ETA: 2s - loss: 0.0015 - accuracy: 0.99 - ETA: 1s - loss: 0.0015 - accuracy: 0.99 - ETA: 1s - loss: 0.0015 - accuracy: 0.99 - ETA: 1s - loss: 0.0014 - accuracy: 0.99 - ETA: 0s - loss: 0.0015 - accuracy: 0.99 - ETA: 0s - loss: 0.0014 - accuracy: 0.99 - 17s 13ms/step - loss: 0.0014 - accuracy: 0.9992 - val_loss: 7.1845 - val_accuracy: 0.3028\n",
      "Epoch 85/100\n",
      "1304/1304 [==============================] - ETA: 15s - loss: 3.7274e-04 - accuracy: 1.000 - ETA: 15s - loss: 4.1083e-04 - accuracy: 1.000 - ETA: 15s - loss: 2.8904e-04 - accuracy: 1.000 - ETA: 14s - loss: 5.0030e-04 - accuracy: 1.000 - ETA: 14s - loss: 5.1366e-04 - accuracy: 1.000 - ETA: 13s - loss: 5.2586e-04 - accuracy: 1.000 - ETA: 13s - loss: 4.8678e-04 - accuracy: 1.000 - ETA: 13s - loss: 0.0019 - accuracy: 1.0000    - ETA: 12s - loss: 0.0019 - accuracy: 1.000 - ETA: 12s - loss: 0.0017 - accuracy: 1.000 - ETA: 12s - loss: 0.0018 - accuracy: 1.000 - ETA: 11s - loss: 0.0017 - accuracy: 1.000 - ETA: 11s - loss: 0.0047 - accuracy: 0.997 - ETA: 10s - loss: 0.0044 - accuracy: 0.997 - ETA: 10s - loss: 0.0042 - accuracy: 0.997 - ETA: 9s - loss: 0.0040 - accuracy: 0.998 - ETA: 9s - loss: 0.0037 - accuracy: 0.99 - ETA: 9s - loss: 0.0042 - accuracy: 0.99 - ETA: 8s - loss: 0.0041 - accuracy: 0.99 - ETA: 8s - loss: 0.0043 - accuracy: 0.99 - ETA: 7s - loss: 0.0041 - accuracy: 0.99 - ETA: 7s - loss: 0.0040 - accuracy: 0.99 - ETA: 7s - loss: 0.0038 - accuracy: 0.99 - ETA: 6s - loss: 0.0037 - accuracy: 0.99 - ETA: 6s - loss: 0.0036 - accuracy: 0.99 - ETA: 6s - loss: 0.0036 - accuracy: 0.99 - ETA: 5s - loss: 0.0035 - accuracy: 0.99 - ETA: 5s - loss: 0.0034 - accuracy: 0.99 - ETA: 4s - loss: 0.0033 - accuracy: 0.99 - ETA: 4s - loss: 0.0033 - accuracy: 0.99 - ETA: 3s - loss: 0.0032 - accuracy: 0.99 - ETA: 3s - loss: 0.0045 - accuracy: 0.99 - ETA: 3s - loss: 0.0044 - accuracy: 0.99 - ETA: 2s - loss: 0.0043 - accuracy: 0.99 - ETA: 2s - loss: 0.0043 - accuracy: 0.99 - ETA: 1s - loss: 0.0042 - accuracy: 0.99 - ETA: 1s - loss: 0.0041 - accuracy: 0.99 - ETA: 1s - loss: 0.0040 - accuracy: 0.99 - ETA: 0s - loss: 0.0040 - accuracy: 0.99 - ETA: 0s - loss: 0.0039 - accuracy: 0.99 - 17s 13ms/step - loss: 0.0039 - accuracy: 0.9985 - val_loss: 7.2876 - val_accuracy: 0.2875\n",
      "Epoch 86/100\n",
      "1304/1304 [==============================] - ETA: 15s - loss: 0.0029 - accuracy: 1.000 - ETA: 15s - loss: 0.0072 - accuracy: 1.000 - ETA: 15s - loss: 0.0051 - accuracy: 1.000 - ETA: 14s - loss: 0.0046 - accuracy: 1.000 - ETA: 14s - loss: 0.0037 - accuracy: 1.000 - ETA: 13s - loss: 0.0040 - accuracy: 1.000 - ETA: 13s - loss: 0.0034 - accuracy: 1.000 - ETA: 13s - loss: 0.0035 - accuracy: 1.000 - ETA: 12s - loss: 0.0032 - accuracy: 1.000 - ETA: 12s - loss: 0.0032 - accuracy: 1.000 - ETA: 11s - loss: 0.0033 - accuracy: 1.000 - ETA: 11s - loss: 0.0031 - accuracy: 1.000 - ETA: 11s - loss: 0.0214 - accuracy: 0.995 - ETA: 10s - loss: 0.0200 - accuracy: 0.995 - ETA: 10s - loss: 0.0187 - accuracy: 0.995 - ETA: 9s - loss: 0.0188 - accuracy: 0.996 - ETA: 9s - loss: 0.0197 - accuracy: 0.99 - ETA: 9s - loss: 0.0192 - accuracy: 0.99 - ETA: 8s - loss: 0.0215 - accuracy: 0.99 - ETA: 8s - loss: 0.0216 - accuracy: 0.99 - ETA: 8s - loss: 0.0206 - accuracy: 0.99 - ETA: 7s - loss: 0.0197 - accuracy: 0.99 - ETA: 7s - loss: 0.0191 - accuracy: 0.99 - ETA: 6s - loss: 0.0183 - accuracy: 0.99 - ETA: 6s - loss: 0.0205 - accuracy: 0.99 - ETA: 5s - loss: 0.0201 - accuracy: 0.99 - ETA: 5s - loss: 0.0208 - accuracy: 0.99 - ETA: 5s - loss: 0.0220 - accuracy: 0.99 - ETA: 4s - loss: 0.0216 - accuracy: 0.99 - ETA: 4s - loss: 0.0245 - accuracy: 0.99 - ETA: 3s - loss: 0.0239 - accuracy: 0.99 - ETA: 3s - loss: 0.0233 - accuracy: 0.99 - ETA: 3s - loss: 0.0229 - accuracy: 0.99 - ETA: 2s - loss: 0.0223 - accuracy: 0.99 - ETA: 2s - loss: 0.0225 - accuracy: 0.99 - ETA: 1s - loss: 0.0219 - accuracy: 0.99 - ETA: 1s - loss: 0.0220 - accuracy: 0.99 - ETA: 1s - loss: 0.0234 - accuracy: 0.99 - ETA: 0s - loss: 0.0229 - accuracy: 0.99 - ETA: 0s - loss: 0.0228 - accuracy: 0.99 - 17s 13ms/step - loss: 0.0232 - accuracy: 0.9923 - val_loss: 6.8075 - val_accuracy: 0.2783\n",
      "Epoch 87/100\n",
      "1304/1304 [==============================] - ETA: 15s - loss: 5.3520e-04 - accuracy: 1.000 - ETA: 15s - loss: 0.0025 - accuracy: 1.0000    - ETA: 14s - loss: 0.0122 - accuracy: 1.000 - ETA: 14s - loss: 0.0093 - accuracy: 1.000 - ETA: 14s - loss: 0.0076 - accuracy: 1.000 - ETA: 13s - loss: 0.0187 - accuracy: 0.994 - ETA: 13s - loss: 0.0161 - accuracy: 0.995 - ETA: 13s - loss: 0.0141 - accuracy: 0.996 - ETA: 12s - loss: 0.0127 - accuracy: 0.996 - ETA: 12s - loss: 0.0116 - accuracy: 0.996 - ETA: 11s - loss: 0.0108 - accuracy: 0.997 - ETA: 11s - loss: 0.0100 - accuracy: 0.997 - ETA: 11s - loss: 0.0093 - accuracy: 0.997 - ETA: 10s - loss: 0.0087 - accuracy: 0.997 - ETA: 10s - loss: 0.0082 - accuracy: 0.997 - ETA: 10s - loss: 0.0080 - accuracy: 0.998 - ETA: 9s - loss: 0.0077 - accuracy: 0.998 - ETA: 9s - loss: 0.0081 - accuracy: 0.99 - ETA: 8s - loss: 0.0081 - accuracy: 0.99 - ETA: 8s - loss: 0.0077 - accuracy: 0.99 - ETA: 8s - loss: 0.0074 - accuracy: 0.99 - ETA: 7s - loss: 0.0086 - accuracy: 0.99 - ETA: 7s - loss: 0.0083 - accuracy: 0.99 - ETA: 6s - loss: 0.0083 - accuracy: 0.99 - ETA: 6s - loss: 0.0091 - accuracy: 0.99 - ETA: 6s - loss: 0.0090 - accuracy: 0.99 - ETA: 5s - loss: 0.0087 - accuracy: 0.99 - ETA: 5s - loss: 0.0084 - accuracy: 0.99 - ETA: 4s - loss: 0.0113 - accuracy: 0.99 - ETA: 4s - loss: 0.0109 - accuracy: 0.99 - ETA: 3s - loss: 0.0107 - accuracy: 0.99 - ETA: 3s - loss: 0.0104 - accuracy: 0.99 - ETA: 3s - loss: 0.0101 - accuracy: 0.99 - ETA: 2s - loss: 0.0098 - accuracy: 0.99 - ETA: 2s - loss: 0.0096 - accuracy: 0.99 - ETA: 1s - loss: 0.0094 - accuracy: 0.99 - ETA: 1s - loss: 0.0092 - accuracy: 0.99 - ETA: 1s - loss: 0.0091 - accuracy: 0.99 - ETA: 0s - loss: 0.0091 - accuracy: 0.99 - ETA: 0s - loss: 0.0093 - accuracy: 0.99 - 17s 13ms/step - loss: 0.0093 - accuracy: 0.9969 - val_loss: 6.5838 - val_accuracy: 0.3028\n",
      "Epoch 88/100\n",
      "1304/1304 [==============================] - ETA: 15s - loss: 6.6808e-04 - accuracy: 1.000 - ETA: 15s - loss: 0.0015 - accuracy: 1.0000    - ETA: 14s - loss: 0.0060 - accuracy: 1.000 - ETA: 14s - loss: 0.0047 - accuracy: 1.000 - ETA: 14s - loss: 0.0039 - accuracy: 1.000 - ETA: 13s - loss: 0.0071 - accuracy: 0.994 - ETA: 13s - loss: 0.0062 - accuracy: 0.995 - ETA: 13s - loss: 0.0057 - accuracy: 0.996 - ETA: 12s - loss: 0.0058 - accuracy: 0.996 - ETA: 12s - loss: 0.0070 - accuracy: 0.996 - ETA: 12s - loss: 0.0064 - accuracy: 0.997 - ETA: 11s - loss: 0.0063 - accuracy: 0.997 - ETA: 11s - loss: 0.0058 - accuracy: 0.997 - ETA: 10s - loss: 0.0054 - accuracy: 0.997 - ETA: 10s - loss: 0.0051 - accuracy: 0.997 - ETA: 10s - loss: 0.0049 - accuracy: 0.998 - ETA: 9s - loss: 0.0047 - accuracy: 0.998 - ETA: 9s - loss: 0.0044 - accuracy: 0.99 - ETA: 8s - loss: 0.0042 - accuracy: 0.99 - ETA: 8s - loss: 0.0040 - accuracy: 0.99 - ETA: 8s - loss: 0.0039 - accuracy: 0.99 - ETA: 7s - loss: 0.0038 - accuracy: 0.99 - ETA: 7s - loss: 0.0037 - accuracy: 0.99 - ETA: 6s - loss: 0.0035 - accuracy: 0.99 - ETA: 6s - loss: 0.0035 - accuracy: 0.99 - ETA: 6s - loss: 0.0033 - accuracy: 0.99 - ETA: 5s - loss: 0.0032 - accuracy: 0.99 - ETA: 5s - loss: 0.0031 - accuracy: 0.99 - ETA: 4s - loss: 0.0031 - accuracy: 0.99 - ETA: 4s - loss: 0.0030 - accuracy: 0.99 - ETA: 3s - loss: 0.0029 - accuracy: 0.99 - ETA: 3s - loss: 0.0029 - accuracy: 0.99 - ETA: 3s - loss: 0.0029 - accuracy: 0.99 - ETA: 2s - loss: 0.0033 - accuracy: 0.99 - ETA: 2s - loss: 0.0032 - accuracy: 0.99 - ETA: 1s - loss: 0.0037 - accuracy: 0.99 - ETA: 1s - loss: 0.0037 - accuracy: 0.99 - ETA: 1s - loss: 0.0036 - accuracy: 0.99 - ETA: 0s - loss: 0.0035 - accuracy: 0.99 - ETA: 0s - loss: 0.0035 - accuracy: 0.99 - 17s 13ms/step - loss: 0.0034 - accuracy: 0.9985 - val_loss: 6.5933 - val_accuracy: 0.2936\n",
      "Epoch 89/100\n",
      "1304/1304 [==============================] - ETA: 15s - loss: 5.0466e-04 - accuracy: 1.000 - ETA: 16s - loss: 6.2921e-04 - accuracy: 1.000 - ETA: 15s - loss: 4.3415e-04 - accuracy: 1.000 - ETA: 14s - loss: 6.2973e-04 - accuracy: 1.000 - ETA: 14s - loss: 5.0621e-04 - accuracy: 1.000 - ETA: 14s - loss: 4.9581e-04 - accuracy: 1.000 - ETA: 13s - loss: 6.0169e-04 - accuracy: 1.000 - ETA: 13s - loss: 6.2981e-04 - accuracy: 1.000 - ETA: 13s - loss: 5.8888e-04 - accuracy: 1.000 - ETA: 12s - loss: 0.0079 - accuracy: 0.9969    - ETA: 12s - loss: 0.0072 - accuracy: 0.997 - ETA: 11s - loss: 0.0068 - accuracy: 0.997 - ETA: 11s - loss: 0.0077 - accuracy: 0.997 - ETA: 11s - loss: 0.0071 - accuracy: 0.997 - ETA: 10s - loss: 0.0067 - accuracy: 0.997 - ETA: 10s - loss: 0.0063 - accuracy: 0.998 - ETA: 9s - loss: 0.0060 - accuracy: 0.998 - ETA: 9s - loss: 0.0057 - accuracy: 0.99 - ETA: 8s - loss: 0.0054 - accuracy: 0.99 - ETA: 8s - loss: 0.0052 - accuracy: 0.99 - ETA: 8s - loss: 0.0050 - accuracy: 0.99 - ETA: 7s - loss: 0.0048 - accuracy: 0.99 - ETA: 7s - loss: 0.0046 - accuracy: 0.99 - ETA: 6s - loss: 0.0045 - accuracy: 0.99 - ETA: 6s - loss: 0.0043 - accuracy: 0.99 - ETA: 6s - loss: 0.0044 - accuracy: 0.99 - ETA: 5s - loss: 0.0042 - accuracy: 0.99 - ETA: 5s - loss: 0.0041 - accuracy: 0.99 - ETA: 4s - loss: 0.0040 - accuracy: 0.99 - ETA: 4s - loss: 0.0053 - accuracy: 0.99 - ETA: 3s - loss: 0.0051 - accuracy: 0.99 - ETA: 3s - loss: 0.0050 - accuracy: 0.99 - ETA: 3s - loss: 0.0049 - accuracy: 0.99 - ETA: 2s - loss: 0.0048 - accuracy: 0.99 - ETA: 2s - loss: 0.0046 - accuracy: 0.99 - ETA: 1s - loss: 0.0045 - accuracy: 0.99 - ETA: 1s - loss: 0.0044 - accuracy: 0.99 - ETA: 1s - loss: 0.0043 - accuracy: 0.99 - ETA: 0s - loss: 0.0042 - accuracy: 0.99 - ETA: 0s - loss: 0.0051 - accuracy: 0.99 - 17s 13ms/step - loss: 0.0051 - accuracy: 0.9977 - val_loss: 7.0904 - val_accuracy: 0.3058\n",
      "Epoch 90/100\n",
      "1304/1304 [==============================] - ETA: 15s - loss: 1.8335e-04 - accuracy: 1.000 - ETA: 15s - loss: 1.5781e-04 - accuracy: 1.000 - ETA: 15s - loss: 1.7913e-04 - accuracy: 1.000 - ETA: 14s - loss: 5.9729e-04 - accuracy: 1.000 - ETA: 14s - loss: 9.5473e-04 - accuracy: 1.000 - ETA: 14s - loss: 8.5461e-04 - accuracy: 1.000 - ETA: 13s - loss: 7.5210e-04 - accuracy: 1.000 - ETA: 13s - loss: 0.0022 - accuracy: 1.0000    - ETA: 13s - loss: 0.0079 - accuracy: 0.996 - ETA: 12s - loss: 0.0072 - accuracy: 0.996 - ETA: 12s - loss: 0.0066 - accuracy: 0.997 - ETA: 11s - loss: 0.0061 - accuracy: 0.997 - ETA: 11s - loss: 0.0058 - accuracy: 0.997 - ETA: 10s - loss: 0.0054 - accuracy: 0.997 - ETA: 10s - loss: 0.0054 - accuracy: 0.997 - ETA: 10s - loss: 0.0051 - accuracy: 0.998 - ETA: 9s - loss: 0.0048 - accuracy: 0.998 - ETA: 9s - loss: 0.0141 - accuracy: 0.99 - ETA: 8s - loss: 0.0206 - accuracy: 0.99 - ETA: 8s - loss: 0.0199 - accuracy: 0.99 - ETA: 8s - loss: 0.0191 - accuracy: 0.99 - ETA: 7s - loss: 0.0183 - accuracy: 0.99 - ETA: 7s - loss: 0.0176 - accuracy: 0.99 - ETA: 6s - loss: 0.0169 - accuracy: 0.99 - ETA: 6s - loss: 0.0162 - accuracy: 0.99 - ETA: 5s - loss: 0.0160 - accuracy: 0.99 - ETA: 5s - loss: 0.0154 - accuracy: 0.99 - ETA: 5s - loss: 0.0149 - accuracy: 0.99 - ETA: 4s - loss: 0.0144 - accuracy: 0.99 - ETA: 4s - loss: 0.0146 - accuracy: 0.99 - ETA: 3s - loss: 0.0154 - accuracy: 0.99 - ETA: 3s - loss: 0.0149 - accuracy: 0.99 - ETA: 3s - loss: 0.0146 - accuracy: 0.99 - ETA: 2s - loss: 0.0141 - accuracy: 0.99 - ETA: 2s - loss: 0.0138 - accuracy: 0.99 - ETA: 1s - loss: 0.0134 - accuracy: 0.99 - ETA: 1s - loss: 0.0131 - accuracy: 0.99 - ETA: 1s - loss: 0.0127 - accuracy: 0.99 - ETA: 0s - loss: 0.0124 - accuracy: 0.99 - ETA: 0s - loss: 0.0121 - accuracy: 0.99 - 17s 13ms/step - loss: 0.0119 - accuracy: 0.9962 - val_loss: 8.0316 - val_accuracy: 0.2997\n",
      "Epoch 91/100\n",
      "1304/1304 [==============================] - ETA: 16s - loss: 8.1244e-04 - accuracy: 1.000 - ETA: 15s - loss: 5.0451e-04 - accuracy: 1.000 - ETA: 15s - loss: 6.9812e-04 - accuracy: 1.000 - ETA: 15s - loss: 0.0015 - accuracy: 1.0000    - ETA: 14s - loss: 0.0013 - accuracy: 1.000 - ETA: 14s - loss: 0.0011 - accuracy: 1.000 - ETA: 13s - loss: 9.1699e-04 - accuracy: 1.000 - ETA: 13s - loss: 8.2321e-04 - accuracy: 1.000 - ETA: 13s - loss: 8.7940e-04 - accuracy: 1.000 - ETA: 12s - loss: 0.0015 - accuracy: 1.0000    - ETA: 12s - loss: 0.0015 - accuracy: 1.000 - ETA: 11s - loss: 0.0045 - accuracy: 1.000 - ETA: 11s - loss: 0.0041 - accuracy: 1.000 - ETA: 10s - loss: 0.0039 - accuracy: 1.000 - ETA: 10s - loss: 0.0037 - accuracy: 1.000 - ETA: 10s - loss: 0.0035 - accuracy: 1.000 - ETA: 9s - loss: 0.0033 - accuracy: 1.000 - ETA: 9s - loss: 0.0031 - accuracy: 1.00 - ETA: 8s - loss: 0.0030 - accuracy: 1.00 - ETA: 8s - loss: 0.0028 - accuracy: 1.00 - ETA: 8s - loss: 0.0027 - accuracy: 1.00 - ETA: 7s - loss: 0.0026 - accuracy: 1.00 - ETA: 7s - loss: 0.0025 - accuracy: 1.00 - ETA: 6s - loss: 0.0025 - accuracy: 1.00 - ETA: 6s - loss: 0.0025 - accuracy: 1.00 - ETA: 5s - loss: 0.0024 - accuracy: 1.00 - ETA: 5s - loss: 0.0024 - accuracy: 1.00 - ETA: 5s - loss: 0.0023 - accuracy: 1.00 - ETA: 4s - loss: 0.0048 - accuracy: 0.99 - ETA: 4s - loss: 0.0046 - accuracy: 0.99 - ETA: 3s - loss: 0.0045 - accuracy: 0.99 - ETA: 3s - loss: 0.0052 - accuracy: 0.99 - ETA: 3s - loss: 0.0052 - accuracy: 0.99 - ETA: 2s - loss: 0.0050 - accuracy: 0.99 - ETA: 2s - loss: 0.0049 - accuracy: 0.99 - ETA: 1s - loss: 0.0048 - accuracy: 0.99 - ETA: 1s - loss: 0.0047 - accuracy: 0.99 - ETA: 1s - loss: 0.0046 - accuracy: 0.99 - ETA: 0s - loss: 0.0044 - accuracy: 0.99 - ETA: 0s - loss: 0.0050 - accuracy: 0.99 - 17s 13ms/step - loss: 0.0049 - accuracy: 0.9985 - val_loss: 7.9103 - val_accuracy: 0.3211\n",
      "Epoch 92/100\n",
      "1304/1304 [==============================] - ETA: 15s - loss: 0.0068 - accuracy: 1.000 - ETA: 15s - loss: 0.0152 - accuracy: 0.984 - ETA: 15s - loss: 0.0105 - accuracy: 0.989 - ETA: 14s - loss: 0.0080 - accuracy: 0.992 - ETA: 14s - loss: 0.0064 - accuracy: 0.993 - ETA: 14s - loss: 0.0061 - accuracy: 0.994 - ETA: 13s - loss: 0.0053 - accuracy: 0.995 - ETA: 13s - loss: 0.0047 - accuracy: 0.996 - ETA: 12s - loss: 0.0044 - accuracy: 0.996 - ETA: 12s - loss: 0.0092 - accuracy: 0.993 - ETA: 12s - loss: 0.0084 - accuracy: 0.994 - ETA: 11s - loss: 0.0077 - accuracy: 0.994 - ETA: 11s - loss: 0.0071 - accuracy: 0.995 - ETA: 10s - loss: 0.0070 - accuracy: 0.995 - ETA: 10s - loss: 0.0066 - accuracy: 0.995 - ETA: 9s - loss: 0.0062 - accuracy: 0.996 - ETA: 9s - loss: 0.0062 - accuracy: 0.99 - ETA: 9s - loss: 0.0059 - accuracy: 0.99 - ETA: 8s - loss: 0.0056 - accuracy: 0.99 - ETA: 8s - loss: 0.0055 - accuracy: 0.99 - ETA: 7s - loss: 0.0059 - accuracy: 0.99 - ETA: 7s - loss: 0.0056 - accuracy: 0.99 - ETA: 7s - loss: 0.0054 - accuracy: 0.99 - ETA: 6s - loss: 0.0052 - accuracy: 0.99 - ETA: 6s - loss: 0.0050 - accuracy: 0.99 - ETA: 5s - loss: 0.0049 - accuracy: 0.99 - ETA: 5s - loss: 0.0047 - accuracy: 0.99 - ETA: 5s - loss: 0.0060 - accuracy: 0.99 - ETA: 4s - loss: 0.0058 - accuracy: 0.99 - ETA: 4s - loss: 0.0056 - accuracy: 0.99 - ETA: 3s - loss: 0.0055 - accuracy: 0.99 - ETA: 3s - loss: 0.0053 - accuracy: 0.99 - ETA: 3s - loss: 0.0052 - accuracy: 0.99 - ETA: 2s - loss: 0.0050 - accuracy: 0.99 - ETA: 2s - loss: 0.0049 - accuracy: 0.99 - ETA: 1s - loss: 0.0049 - accuracy: 0.99 - ETA: 1s - loss: 0.0047 - accuracy: 0.99 - ETA: 1s - loss: 0.0046 - accuracy: 0.99 - ETA: 0s - loss: 0.0045 - accuracy: 0.99 - ETA: 0s - loss: 0.0044 - accuracy: 0.99 - 17s 13ms/step - loss: 0.0043 - accuracy: 0.9977 - val_loss: 7.9675 - val_accuracy: 0.3028\n",
      "Epoch 93/100\n",
      "1304/1304 [==============================] - ETA: 16s - loss: 6.3496e-05 - accuracy: 1.000 - ETA: 15s - loss: 7.1834e-05 - accuracy: 1.000 - ETA: 15s - loss: 7.1990e-05 - accuracy: 1.000 - ETA: 15s - loss: 8.8964e-04 - accuracy: 1.000 - ETA: 14s - loss: 7.8630e-04 - accuracy: 1.000 - ETA: 14s - loss: 8.7257e-04 - accuracy: 1.000 - ETA: 13s - loss: 8.0195e-04 - accuracy: 1.000 - ETA: 13s - loss: 7.5434e-04 - accuracy: 1.000 - ETA: 12s - loss: 6.7358e-04 - accuracy: 1.000 - ETA: 12s - loss: 7.2606e-04 - accuracy: 1.000 - ETA: 12s - loss: 8.4082e-04 - accuracy: 1.000 - ETA: 11s - loss: 7.7199e-04 - accuracy: 1.000 - ETA: 11s - loss: 7.4583e-04 - accuracy: 1.000 - ETA: 10s - loss: 0.0017 - accuracy: 1.0000    - ETA: 10s - loss: 0.0017 - accuracy: 1.000 - ETA: 10s - loss: 0.0016 - accuracy: 1.000 - ETA: 9s - loss: 0.0015 - accuracy: 1.000 - ETA: 9s - loss: 0.0014 - accuracy: 1.00 - ETA: 8s - loss: 0.0013 - accuracy: 1.00 - ETA: 8s - loss: 0.0013 - accuracy: 1.00 - ETA: 8s - loss: 0.0012 - accuracy: 1.00 - ETA: 7s - loss: 0.0013 - accuracy: 1.00 - ETA: 7s - loss: 0.0012 - accuracy: 1.00 - ETA: 6s - loss: 0.0012 - accuracy: 1.00 - ETA: 6s - loss: 0.0012 - accuracy: 1.00 - ETA: 5s - loss: 0.0012 - accuracy: 1.00 - ETA: 5s - loss: 0.0012 - accuracy: 1.00 - ETA: 5s - loss: 0.0013 - accuracy: 1.00 - ETA: 4s - loss: 0.0013 - accuracy: 1.00 - ETA: 4s - loss: 0.0012 - accuracy: 1.00 - ETA: 3s - loss: 0.0012 - accuracy: 1.00 - ETA: 3s - loss: 0.0012 - accuracy: 1.00 - ETA: 3s - loss: 0.0013 - accuracy: 1.00 - ETA: 2s - loss: 0.0012 - accuracy: 1.00 - ETA: 2s - loss: 0.0012 - accuracy: 1.00 - ETA: 1s - loss: 0.0012 - accuracy: 1.00 - ETA: 1s - loss: 0.0011 - accuracy: 1.00 - ETA: 1s - loss: 0.0011 - accuracy: 1.00 - ETA: 0s - loss: 0.0011 - accuracy: 1.00 - ETA: 0s - loss: 0.0011 - accuracy: 1.00 - 18s 13ms/step - loss: 0.0011 - accuracy: 1.0000 - val_loss: 8.0515 - val_accuracy: 0.3119\n",
      "Epoch 94/100\n",
      "1304/1304 [==============================] - ETA: 15s - loss: 5.5759e-05 - accuracy: 1.000 - ETA: 15s - loss: 3.1888e-05 - accuracy: 1.000 - ETA: 15s - loss: 1.3106e-04 - accuracy: 1.000 - ETA: 14s - loss: 1.1373e-04 - accuracy: 1.000 - ETA: 14s - loss: 9.7617e-05 - accuracy: 1.000 - ETA: 13s - loss: 1.3130e-04 - accuracy: 1.000 - ETA: 13s - loss: 3.0718e-04 - accuracy: 1.000 - ETA: 13s - loss: 2.8687e-04 - accuracy: 1.000 - ETA: 12s - loss: 2.6366e-04 - accuracy: 1.000 - ETA: 12s - loss: 2.5371e-04 - accuracy: 1.000 - ETA: 11s - loss: 2.4043e-04 - accuracy: 1.000 - ETA: 11s - loss: 0.0035 - accuracy: 0.9974    - ETA: 11s - loss: 0.0033 - accuracy: 0.997 - ETA: 10s - loss: 0.0031 - accuracy: 0.997 - ETA: 10s - loss: 0.0084 - accuracy: 0.995 - ETA: 9s - loss: 0.0079 - accuracy: 0.996 - ETA: 9s - loss: 0.0074 - accuracy: 0.99 - ETA: 9s - loss: 0.0070 - accuracy: 0.99 - ETA: 8s - loss: 0.0082 - accuracy: 0.99 - ETA: 8s - loss: 0.0078 - accuracy: 0.99 - ETA: 7s - loss: 0.0079 - accuracy: 0.99 - ETA: 7s - loss: 0.0078 - accuracy: 0.99 - ETA: 7s - loss: 0.0075 - accuracy: 0.99 - ETA: 6s - loss: 0.0072 - accuracy: 0.99 - ETA: 6s - loss: 0.0069 - accuracy: 0.99 - ETA: 5s - loss: 0.0067 - accuracy: 0.99 - ETA: 5s - loss: 0.0071 - accuracy: 0.99 - ETA: 5s - loss: 0.0070 - accuracy: 0.99 - ETA: 4s - loss: 0.0067 - accuracy: 0.99 - ETA: 4s - loss: 0.0065 - accuracy: 0.99 - ETA: 3s - loss: 0.0063 - accuracy: 0.99 - ETA: 3s - loss: 0.0064 - accuracy: 0.99 - ETA: 3s - loss: 0.0062 - accuracy: 0.99 - ETA: 2s - loss: 0.0060 - accuracy: 0.99 - ETA: 2s - loss: 0.0059 - accuracy: 0.99 - ETA: 1s - loss: 0.0104 - accuracy: 0.99 - ETA: 1s - loss: 0.0101 - accuracy: 0.99 - ETA: 1s - loss: 0.0099 - accuracy: 0.99 - ETA: 0s - loss: 0.0100 - accuracy: 0.99 - ETA: 0s - loss: 0.0097 - accuracy: 0.99 - 17s 13ms/step - loss: 0.0095 - accuracy: 0.9969 - val_loss: 8.2760 - val_accuracy: 0.2875\n",
      "Epoch 95/100\n",
      "1304/1304 [==============================] - ETA: 15s - loss: 0.0177 - accuracy: 1.000 - ETA: 15s - loss: 0.0095 - accuracy: 1.000 - ETA: 14s - loss: 0.0065 - accuracy: 1.000 - ETA: 14s - loss: 0.0049 - accuracy: 1.000 - ETA: 14s - loss: 0.0042 - accuracy: 1.000 - ETA: 13s - loss: 0.0036 - accuracy: 1.000 - ETA: 13s - loss: 0.0031 - accuracy: 1.000 - ETA: 13s - loss: 0.0028 - accuracy: 1.000 - ETA: 12s - loss: 0.0026 - accuracy: 1.000 - ETA: 12s - loss: 0.0025 - accuracy: 1.000 - ETA: 12s - loss: 0.0023 - accuracy: 1.000 - ETA: 11s - loss: 0.0021 - accuracy: 1.000 - ETA: 11s - loss: 0.0020 - accuracy: 1.000 - ETA: 10s - loss: 0.0021 - accuracy: 1.000 - ETA: 10s - loss: 0.0020 - accuracy: 1.000 - ETA: 10s - loss: 0.0019 - accuracy: 1.000 - ETA: 9s - loss: 0.0018 - accuracy: 1.000 - ETA: 9s - loss: 0.0017 - accuracy: 1.00 - ETA: 8s - loss: 0.0017 - accuracy: 1.00 - ETA: 8s - loss: 0.0018 - accuracy: 1.00 - ETA: 8s - loss: 0.0018 - accuracy: 1.00 - ETA: 7s - loss: 0.0017 - accuracy: 1.00 - ETA: 7s - loss: 0.0026 - accuracy: 0.99 - ETA: 6s - loss: 0.0026 - accuracy: 0.99 - ETA: 6s - loss: 0.0025 - accuracy: 0.99 - ETA: 6s - loss: 0.0024 - accuracy: 0.99 - ETA: 5s - loss: 0.0024 - accuracy: 0.99 - ETA: 5s - loss: 0.0030 - accuracy: 0.99 - ETA: 4s - loss: 0.0032 - accuracy: 0.99 - ETA: 4s - loss: 0.0031 - accuracy: 0.99 - ETA: 4s - loss: 0.0031 - accuracy: 0.99 - ETA: 3s - loss: 0.0030 - accuracy: 0.99 - ETA: 3s - loss: 0.0030 - accuracy: 0.99 - ETA: 2s - loss: 0.0029 - accuracy: 0.99 - ETA: 2s - loss: 0.0028 - accuracy: 0.99 - ETA: 1s - loss: 0.0030 - accuracy: 0.99 - ETA: 1s - loss: 0.0030 - accuracy: 0.99 - ETA: 1s - loss: 0.0029 - accuracy: 0.99 - ETA: 0s - loss: 0.0028 - accuracy: 0.99 - ETA: 0s - loss: 0.0028 - accuracy: 0.99 - 18s 14ms/step - loss: 0.0028 - accuracy: 0.9992 - val_loss: 8.1292 - val_accuracy: 0.2905\n",
      "Epoch 96/100\n",
      "1304/1304 [==============================] - ETA: 16s - loss: 1.4278e-04 - accuracy: 1.000 - ETA: 15s - loss: 0.0096 - accuracy: 1.0000    - ETA: 15s - loss: 0.0066 - accuracy: 1.000 - ETA: 14s - loss: 0.0050 - accuracy: 1.000 - ETA: 14s - loss: 0.0048 - accuracy: 1.000 - ETA: 13s - loss: 0.0040 - accuracy: 1.000 - ETA: 13s - loss: 0.0035 - accuracy: 1.000 - ETA: 13s - loss: 0.0031 - accuracy: 1.000 - ETA: 12s - loss: 0.0028 - accuracy: 1.000 - ETA: 12s - loss: 0.0026 - accuracy: 1.000 - ETA: 11s - loss: 0.0029 - accuracy: 1.000 - ETA: 11s - loss: 0.0027 - accuracy: 1.000 - ETA: 11s - loss: 0.0025 - accuracy: 1.000 - ETA: 10s - loss: 0.0024 - accuracy: 1.000 - ETA: 10s - loss: 0.0022 - accuracy: 1.000 - ETA: 9s - loss: 0.0022 - accuracy: 1.000 - ETA: 9s - loss: 0.0021 - accuracy: 1.00 - ETA: 9s - loss: 0.0020 - accuracy: 1.00 - ETA: 8s - loss: 0.0019 - accuracy: 1.00 - ETA: 8s - loss: 0.0018 - accuracy: 1.00 - ETA: 7s - loss: 0.0018 - accuracy: 1.00 - ETA: 7s - loss: 0.0017 - accuracy: 1.00 - ETA: 7s - loss: 0.0016 - accuracy: 1.00 - ETA: 6s - loss: 0.0016 - accuracy: 1.00 - ETA: 6s - loss: 0.0016 - accuracy: 1.00 - ETA: 5s - loss: 0.0016 - accuracy: 1.00 - ETA: 5s - loss: 0.0015 - accuracy: 1.00 - ETA: 5s - loss: 0.0015 - accuracy: 1.00 - ETA: 4s - loss: 0.0014 - accuracy: 1.00 - ETA: 4s - loss: 0.0018 - accuracy: 1.00 - ETA: 3s - loss: 0.0019 - accuracy: 1.00 - ETA: 3s - loss: 0.0018 - accuracy: 1.00 - ETA: 3s - loss: 0.0018 - accuracy: 1.00 - ETA: 2s - loss: 0.0017 - accuracy: 1.00 - ETA: 2s - loss: 0.0025 - accuracy: 0.99 - ETA: 1s - loss: 0.0024 - accuracy: 0.99 - ETA: 1s - loss: 0.0024 - accuracy: 0.99 - ETA: 1s - loss: 0.0028 - accuracy: 0.99 - ETA: 0s - loss: 0.0028 - accuracy: 0.99 - ETA: 0s - loss: 0.0027 - accuracy: 0.99 - 17s 13ms/step - loss: 0.0027 - accuracy: 0.9992 - val_loss: 8.2227 - val_accuracy: 0.3028\n",
      "Epoch 97/100\n",
      "1304/1304 [==============================] - ETA: 15s - loss: 5.2339e-04 - accuracy: 1.000 - ETA: 15s - loss: 0.0024 - accuracy: 1.0000    - ETA: 15s - loss: 0.0017 - accuracy: 1.000 - ETA: 14s - loss: 0.0013 - accuracy: 1.000 - ETA: 14s - loss: 0.0011 - accuracy: 1.000 - ETA: 13s - loss: 0.0011 - accuracy: 1.000 - ETA: 13s - loss: 0.0011 - accuracy: 1.000 - ETA: 13s - loss: 0.0012 - accuracy: 1.000 - ETA: 12s - loss: 0.0011 - accuracy: 1.000 - ETA: 12s - loss: 0.0011 - accuracy: 1.000 - ETA: 11s - loss: 0.0012 - accuracy: 1.000 - ETA: 11s - loss: 0.0012 - accuracy: 1.000 - ETA: 11s - loss: 0.0012 - accuracy: 1.000 - ETA: 10s - loss: 0.0012 - accuracy: 1.000 - ETA: 10s - loss: 0.0016 - accuracy: 1.000 - ETA: 9s - loss: 0.0017 - accuracy: 1.000 - ETA: 9s - loss: 0.0041 - accuracy: 0.99 - ETA: 9s - loss: 0.0039 - accuracy: 0.99 - ETA: 8s - loss: 0.0037 - accuracy: 0.99 - ETA: 8s - loss: 0.0036 - accuracy: 0.99 - ETA: 8s - loss: 0.0034 - accuracy: 0.99 - ETA: 7s - loss: 0.0033 - accuracy: 0.99 - ETA: 7s - loss: 0.0032 - accuracy: 0.99 - ETA: 6s - loss: 0.0030 - accuracy: 0.99 - ETA: 6s - loss: 0.0031 - accuracy: 0.99 - ETA: 5s - loss: 0.0030 - accuracy: 0.99 - ETA: 5s - loss: 0.0029 - accuracy: 0.99 - ETA: 5s - loss: 0.0028 - accuracy: 0.99 - ETA: 4s - loss: 0.0027 - accuracy: 0.99 - ETA: 4s - loss: 0.0027 - accuracy: 0.99 - ETA: 3s - loss: 0.0026 - accuracy: 0.99 - ETA: 3s - loss: 0.0025 - accuracy: 0.99 - ETA: 3s - loss: 0.0024 - accuracy: 0.99 - ETA: 2s - loss: 0.0064 - accuracy: 0.99 - ETA: 2s - loss: 0.0062 - accuracy: 0.99 - ETA: 1s - loss: 0.0096 - accuracy: 0.99 - ETA: 1s - loss: 0.0093 - accuracy: 0.99 - ETA: 1s - loss: 0.0091 - accuracy: 0.99 - ETA: 0s - loss: 0.0089 - accuracy: 0.99 - ETA: 0s - loss: 0.0087 - accuracy: 0.99 - 17s 13ms/step - loss: 0.0085 - accuracy: 0.9977 - val_loss: 7.8633 - val_accuracy: 0.2783\n",
      "Epoch 98/100\n",
      "1304/1304 [==============================] - ETA: 15s - loss: 1.5321e-04 - accuracy: 1.000 - ETA: 15s - loss: 0.0466 - accuracy: 0.9844    - ETA: 15s - loss: 0.0317 - accuracy: 0.989 - ETA: 14s - loss: 0.0245 - accuracy: 0.992 - ETA: 14s - loss: 0.0196 - accuracy: 0.993 - ETA: 13s - loss: 0.0164 - accuracy: 0.994 - ETA: 13s - loss: 0.0142 - accuracy: 0.995 - ETA: 13s - loss: 0.0129 - accuracy: 0.996 - ETA: 12s - loss: 0.0117 - accuracy: 0.996 - ETA: 12s - loss: 0.0110 - accuracy: 0.996 - ETA: 12s - loss: 0.0143 - accuracy: 0.994 - ETA: 11s - loss: 0.0153 - accuracy: 0.994 - ETA: 11s - loss: 0.0197 - accuracy: 0.992 - ETA: 11s - loss: 0.0238 - accuracy: 0.991 - ETA: 10s - loss: 0.0222 - accuracy: 0.991 - ETA: 10s - loss: 0.0216 - accuracy: 0.992 - ETA: 9s - loss: 0.0204 - accuracy: 0.992 - ETA: 9s - loss: 0.0193 - accuracy: 0.99 - ETA: 9s - loss: 0.0280 - accuracy: 0.99 - ETA: 8s - loss: 0.0266 - accuracy: 0.99 - ETA: 8s - loss: 0.0255 - accuracy: 0.99 - ETA: 7s - loss: 0.0243 - accuracy: 0.99 - ETA: 7s - loss: 0.0233 - accuracy: 0.99 - ETA: 6s - loss: 0.0224 - accuracy: 0.99 - ETA: 6s - loss: 0.0219 - accuracy: 0.99 - ETA: 6s - loss: 0.0212 - accuracy: 0.99 - ETA: 5s - loss: 0.0221 - accuracy: 0.99 - ETA: 5s - loss: 0.0222 - accuracy: 0.99 - ETA: 4s - loss: 0.0217 - accuracy: 0.99 - ETA: 4s - loss: 0.0239 - accuracy: 0.99 - ETA: 4s - loss: 0.0263 - accuracy: 0.99 - ETA: 3s - loss: 0.0310 - accuracy: 0.99 - ETA: 3s - loss: 0.0310 - accuracy: 0.99 - ETA: 2s - loss: 0.0307 - accuracy: 0.99 - ETA: 2s - loss: 0.0301 - accuracy: 0.99 - ETA: 1s - loss: 0.0307 - accuracy: 0.99 - ETA: 1s - loss: 0.0316 - accuracy: 0.98 - ETA: 1s - loss: 0.0321 - accuracy: 0.98 - ETA: 0s - loss: 0.0320 - accuracy: 0.98 - ETA: 0s - loss: 0.0324 - accuracy: 0.98 - 18s 14ms/step - loss: 0.0322 - accuracy: 0.9893 - val_loss: 6.4913 - val_accuracy: 0.2630\n",
      "Epoch 99/100\n",
      "1304/1304 [==============================] - ETA: 15s - loss: 0.0909 - accuracy: 0.937 - ETA: 15s - loss: 0.0462 - accuracy: 0.968 - ETA: 15s - loss: 0.0314 - accuracy: 0.979 - ETA: 14s - loss: 0.0366 - accuracy: 0.976 - ETA: 14s - loss: 0.0341 - accuracy: 0.981 - ETA: 13s - loss: 0.0702 - accuracy: 0.974 - ETA: 13s - loss: 0.0631 - accuracy: 0.977 - ETA: 13s - loss: 0.0572 - accuracy: 0.980 - ETA: 12s - loss: 0.0511 - accuracy: 0.982 - ETA: 12s - loss: 0.0464 - accuracy: 0.984 - ETA: 12s - loss: 0.0423 - accuracy: 0.985 - ETA: 11s - loss: 0.0543 - accuracy: 0.984 - ETA: 11s - loss: 0.0502 - accuracy: 0.985 - ETA: 10s - loss: 0.0472 - accuracy: 0.986 - ETA: 10s - loss: 0.0458 - accuracy: 0.985 - ETA: 10s - loss: 0.0433 - accuracy: 0.986 - ETA: 9s - loss: 0.0454 - accuracy: 0.983 - ETA: 9s - loss: 0.0448 - accuracy: 0.98 - ETA: 8s - loss: 0.0426 - accuracy: 0.98 - ETA: 8s - loss: 0.0405 - accuracy: 0.98 - ETA: 8s - loss: 0.0398 - accuracy: 0.98 - ETA: 7s - loss: 0.0407 - accuracy: 0.98 - ETA: 7s - loss: 0.0390 - accuracy: 0.98 - ETA: 6s - loss: 0.0374 - accuracy: 0.98 - ETA: 6s - loss: 0.0360 - accuracy: 0.98 - ETA: 5s - loss: 0.0346 - accuracy: 0.98 - ETA: 5s - loss: 0.0352 - accuracy: 0.98 - ETA: 5s - loss: 0.0340 - accuracy: 0.98 - ETA: 4s - loss: 0.0335 - accuracy: 0.98 - ETA: 4s - loss: 0.0325 - accuracy: 0.98 - ETA: 3s - loss: 0.0352 - accuracy: 0.98 - ETA: 3s - loss: 0.0344 - accuracy: 0.98 - ETA: 3s - loss: 0.0334 - accuracy: 0.98 - ETA: 2s - loss: 0.0327 - accuracy: 0.98 - ETA: 2s - loss: 0.0319 - accuracy: 0.98 - ETA: 1s - loss: 0.0314 - accuracy: 0.98 - ETA: 1s - loss: 0.0306 - accuracy: 0.98 - ETA: 1s - loss: 0.0298 - accuracy: 0.98 - ETA: 0s - loss: 0.0295 - accuracy: 0.98 - ETA: 0s - loss: 0.0287 - accuracy: 0.98 - 17s 13ms/step - loss: 0.0282 - accuracy: 0.9893 - val_loss: 7.1989 - val_accuracy: 0.2844\n",
      "Epoch 100/100\n",
      "1304/1304 [==============================] - ETA: 15s - loss: 0.0032 - accuracy: 1.000 - ETA: 15s - loss: 0.0017 - accuracy: 1.000 - ETA: 15s - loss: 0.0012 - accuracy: 1.000 - ETA: 14s - loss: 9.1376e-04 - accuracy: 1.000 - ETA: 14s - loss: 0.0012 - accuracy: 1.0000    - ETA: 14s - loss: 0.0011 - accuracy: 1.000 - ETA: 13s - loss: 9.3732e-04 - accuracy: 1.000 - ETA: 13s - loss: 9.5283e-04 - accuracy: 1.000 - ETA: 13s - loss: 8.7654e-04 - accuracy: 1.000 - ETA: 12s - loss: 8.2538e-04 - accuracy: 1.000 - ETA: 12s - loss: 0.0016 - accuracy: 1.0000    - ETA: 11s - loss: 0.0015 - accuracy: 1.000 - ETA: 11s - loss: 0.0014 - accuracy: 1.000 - ETA: 10s - loss: 0.0013 - accuracy: 1.000 - ETA: 10s - loss: 0.0012 - accuracy: 1.000 - ETA: 10s - loss: 0.0012 - accuracy: 1.000 - ETA: 9s - loss: 0.0015 - accuracy: 1.000 - ETA: 9s - loss: 0.0015 - accuracy: 1.00 - ETA: 8s - loss: 0.0015 - accuracy: 1.00 - ETA: 8s - loss: 0.0015 - accuracy: 1.00 - ETA: 8s - loss: 0.0014 - accuracy: 1.00 - ETA: 7s - loss: 0.0020 - accuracy: 1.00 - ETA: 7s - loss: 0.0023 - accuracy: 1.00 - ETA: 6s - loss: 0.0024 - accuracy: 1.00 - ETA: 6s - loss: 0.0023 - accuracy: 1.00 - ETA: 5s - loss: 0.0024 - accuracy: 1.00 - ETA: 5s - loss: 0.0024 - accuracy: 1.00 - ETA: 5s - loss: 0.0023 - accuracy: 1.00 - ETA: 4s - loss: 0.0022 - accuracy: 1.00 - ETA: 4s - loss: 0.0023 - accuracy: 1.00 - ETA: 3s - loss: 0.0024 - accuracy: 1.00 - ETA: 3s - loss: 0.0025 - accuracy: 1.00 - ETA: 3s - loss: 0.0026 - accuracy: 1.00 - ETA: 2s - loss: 0.0025 - accuracy: 1.00 - ETA: 2s - loss: 0.0025 - accuracy: 1.00 - ETA: 1s - loss: 0.0026 - accuracy: 1.00 - ETA: 1s - loss: 0.0027 - accuracy: 1.00 - ETA: 1s - loss: 0.0027 - accuracy: 1.00 - ETA: 0s - loss: 0.0026 - accuracy: 1.00 - ETA: 0s - loss: 0.0026 - accuracy: 1.00 - 17s 13ms/step - loss: 0.0025 - accuracy: 1.0000 - val_loss: 7.6907 - val_accuracy: 0.2966\n"
     ]
    },
    {
     "data": {
      "text/plain": [
       "<keras.callbacks.callbacks.History at 0x27f4ca30348>"
      ]
     },
     "execution_count": 147,
     "metadata": {},
     "output_type": "execute_result"
    }
   ],
   "source": [
    "model.fit(final_features,final_labels,epochs=100,batch_size=32,validation_split=0.2)"
   ]
  },
  {
   "cell_type": "code",
   "execution_count": 148,
   "metadata": {},
   "outputs": [
    {
     "name": "stdout",
     "output_type": "stream",
     "text": [
      "1631/1631 [==============================] - ETA:  - ETA:  - ETA:  - ETA:  - ETA:  - ETA:  - ETA:  - ETA:  - ETA:  - ETA:  - ETA:  - ETA:  - ETA:  - ETA:  - ETA:  - ETA:  - ETA:  - ETA:  - ETA:  - ETA:  - ETA:  - ETA:  - ETA:  - ETA:  - ETA:  - ETA:  - ETA:  - ETA:  - ETA:  - ETA:  - ETA:  - ETA:  - ETA:  - ETA:  - ETA:  - ETA:  - ETA:  - ETA:  - ETA:  - ETA:  - ETA:  - ETA:  - ETA:  - ETA:  - ETA:  - ETA:  - ETA:  - ETA:  - ETA:  - ETA:  - 4s 2ms/step\n"
     ]
    },
    {
     "data": {
      "text/plain": [
       "[1.542640356698138, 0.8589822053909302]"
      ]
     },
     "execution_count": 148,
     "metadata": {},
     "output_type": "execute_result"
    }
   ],
   "source": [
    "model.evaluate(final_features,final_labels)"
   ]
  },
  {
   "cell_type": "code",
   "execution_count": 151,
   "metadata": {},
   "outputs": [
    {
     "data": {
      "text/plain": [
       "3"
      ]
     },
     "execution_count": 151,
     "metadata": {},
     "output_type": "execute_result"
    }
   ],
   "source": [
    "test_audio_path=r\"C:\\Users\\Hard Parikh\\Desktop\\Split_audio\\mandarin23-2.wav\"\n",
    "audio,rate=librosa.load(test_audio_path)\n",
    "mfccs=librosa.feature.mfcc(audio,sr=rate)\n",
    "mfccs=mfccs[:13]\n",
    "mfccs=(mfccs-np.min(mfccs))/(np.max(mfccs)-np.min(mfccs))\n",
    "mfccs=mfccs.reshape(1,13,216,1)\n",
    "np.argmax(model.predict(mfccs))"
   ]
  },
  {
   "cell_type": "code",
   "execution_count": 36,
   "metadata": {},
   "outputs": [],
   "source": [
    "x=path.replace('C:\\\\Users\\\\Hard Parikh\\\\Desktop\\\\','')"
   ]
  },
  {
   "cell_type": "code",
   "execution_count": 38,
   "metadata": {},
   "outputs": [
    {
     "data": {
      "text/plain": [
       "'arabic1'"
      ]
     },
     "execution_count": 38,
     "metadata": {},
     "output_type": "execute_result"
    }
   ],
   "source": [
    "x.replace('.wav','')"
   ]
  },
  {
   "cell_type": "code",
   "execution_count": 78,
   "metadata": {},
   "outputs": [],
   "source": [
    "new_labels=[]\n",
    "for i in range(len(converted_files)):\n",
    "    if(converted_files[i].find('arabic')!=-1):\n",
    "        new_labels.append(0)\n",
    "    elif(converted_files[i].find('korean')!=-1):\n",
    "        new_labels.append(1)\n",
    "    elif(converted_files[i].find('french')!=-1):\n",
    "        new_labels.append(2)\n",
    "    elif(converted_files[i].find('mandarin')!=-1):\n",
    "        new_labels.append(3)\n",
    "    elif(converted_files[i].find('english')!=-1):\n",
    "        new_labels.append(4)\n",
    "    elif(converted_files[i].find('spanish')!=-1):\n",
    "        new_labels.append(5)"
   ]
  },
  {
   "cell_type": "code",
   "execution_count": 125,
   "metadata": {},
   "outputs": [
    {
     "data": {
      "text/plain": [
       "array([[0., 0., 0., 0., 1., 0.],\n",
       "       [1., 0., 0., 0., 0., 0.],\n",
       "       [0., 0., 0., 1., 0., 0.],\n",
       "       ...,\n",
       "       [0., 0., 0., 1., 0., 0.],\n",
       "       [0., 0., 0., 1., 0., 0.],\n",
       "       [0., 0., 1., 0., 0., 0.]], dtype=float32)"
      ]
     },
     "execution_count": 125,
     "metadata": {},
     "output_type": "execute_result"
    }
   ],
   "source": [
    "final_labels"
   ]
  },
  {
   "cell_type": "code",
   "execution_count": null,
   "metadata": {},
   "outputs": [],
   "source": []
  },
  {
   "cell_type": "code",
   "execution_count": null,
   "metadata": {},
   "outputs": [],
   "source": []
  },
  {
   "cell_type": "code",
   "execution_count": null,
   "metadata": {},
   "outputs": [],
   "source": []
  }
 ],
 "metadata": {
  "kernelspec": {
   "display_name": "Python 3",
   "language": "python",
   "name": "python3"
  },
  "language_info": {
   "codemirror_mode": {
    "name": "ipython",
    "version": 3
   },
   "file_extension": ".py",
   "mimetype": "text/x-python",
   "name": "python",
   "nbconvert_exporter": "python",
   "pygments_lexer": "ipython3",
   "version": "3.7.7"
  }
 },
 "nbformat": 4,
 "nbformat_minor": 4
}
